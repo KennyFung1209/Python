{
  "cells": [
    {
      "cell_type": "code",
      "execution_count": null,
      "metadata": {
        "colab": {
          "base_uri": "https://localhost:8080/"
        },
        "id": "yDdXRprJxCv4",
        "outputId": "5dec8b45-aaf3-433e-f292-77538f9d2761"
      },
      "outputs": [
        {
          "name": "stdout",
          "output_type": "stream",
          "text": [
            "Requirement already satisfied: catboost in c:\\users\\a1999\\anaconda3\\lib\\site-packages (1.1.1)\n",
            "Requirement already satisfied: pandas>=0.24.0 in c:\\users\\a1999\\anaconda3\\lib\\site-packages (from catboost) (1.4.2)\n",
            "Requirement already satisfied: graphviz in c:\\users\\a1999\\anaconda3\\lib\\site-packages (from catboost) (0.20.1)\n",
            "Requirement already satisfied: six in c:\\users\\a1999\\anaconda3\\lib\\site-packages (from catboost) (1.16.0)\n",
            "Requirement already satisfied: scipy in c:\\users\\a1999\\anaconda3\\lib\\site-packages (from catboost) (1.7.3)\n",
            "Requirement already satisfied: matplotlib in c:\\users\\a1999\\anaconda3\\lib\\site-packages (from catboost) (3.5.1)\n",
            "Requirement already satisfied: plotly in c:\\users\\a1999\\anaconda3\\lib\\site-packages (from catboost) (5.6.0)\n",
            "Requirement already satisfied: numpy>=1.16.0 in c:\\users\\a1999\\anaconda3\\lib\\site-packages (from catboost) (1.21.5)\n",
            "Requirement already satisfied: python-dateutil>=2.8.1 in c:\\users\\a1999\\anaconda3\\lib\\site-packages (from pandas>=0.24.0->catboost) (2.8.2)\n",
            "Requirement already satisfied: pytz>=2020.1 in c:\\users\\a1999\\anaconda3\\lib\\site-packages (from pandas>=0.24.0->catboost) (2021.3)\n",
            "Requirement already satisfied: cycler>=0.10 in c:\\users\\a1999\\anaconda3\\lib\\site-packages (from matplotlib->catboost) (0.11.0)\n",
            "Requirement already satisfied: fonttools>=4.22.0 in c:\\users\\a1999\\anaconda3\\lib\\site-packages (from matplotlib->catboost) (4.25.0)\n",
            "Requirement already satisfied: pillow>=6.2.0 in c:\\users\\a1999\\anaconda3\\lib\\site-packages (from matplotlib->catboost) (9.0.1)\n",
            "Requirement already satisfied: kiwisolver>=1.0.1 in c:\\users\\a1999\\anaconda3\\lib\\site-packages (from matplotlib->catboost) (1.3.2)\n",
            "Requirement already satisfied: pyparsing>=2.2.1 in c:\\users\\a1999\\anaconda3\\lib\\site-packages (from matplotlib->catboost) (3.0.4)\n",
            "Requirement already satisfied: packaging>=20.0 in c:\\users\\a1999\\anaconda3\\lib\\site-packages (from matplotlib->catboost) (21.3)\n",
            "Requirement already satisfied: tenacity>=6.2.0 in c:\\users\\a1999\\anaconda3\\lib\\site-packages (from plotly->catboost) (8.0.1)\n",
            "Note: you may need to restart the kernel to use updated packages.\n"
          ]
        }
      ],
      "source": [
        "pip install catboost"
      ]
    },
    {
      "cell_type": "code",
      "execution_count": null,
      "metadata": {
        "id": "sqf5oh2k9yOJ"
      },
      "outputs": [],
      "source": [
        "import os\n",
        "from operator import itemgetter\n",
        "import numpy as np\n",
        "import pandas as pd\n",
        "import matplotlib.pyplot as plt\n",
        "import warnings\n",
        "warnings.filterwarnings('ignore')\n",
        "get_ipython().magic(u'matplotlib inline')\n",
        "plt.style.use('ggplot')\n",
        "\n",
        "\n",
        "from sklearn.linear_model import LinearRegression\n",
        "from sklearn.tree import DecisionTreeRegressor\n",
        "from sklearn import preprocessing\n",
        "\n",
        "from sklearn.preprocessing import RobustScaler, StandardScaler, LabelEncoder, MinMaxScaler, OneHotEncoder, LabelBinarizer\n",
        "from sklearn.metrics import mean_squared_error, mean_absolute_error\n",
        "from sklearn.model_selection import KFold, cross_val_score\n",
        "from sklearn.model_selection import cross_val_score, GridSearchCV, RandomizedSearchCV, KFold, cross_val_predict, StratifiedKFold, train_test_split, learning_curve, ShuffleSplit\n",
        "from sklearn.linear_model import LinearRegression, Ridge, Lasso, ElasticNet, SGDRegressor, BayesianRidge\n",
        "from sklearn.ensemble import RandomForestRegressor, GradientBoostingRegressor, ExtraTreesRegressor, BaggingRegressor, VotingRegressor\n",
        "from sklearn.ensemble import StackingRegressor\n",
        "from sklearn.neighbors import KNeighborsRegressor\n",
        "from sklearn.svm import SVR, LinearSVR\n",
        "from sklearn.kernel_ridge import KernelRidge\n",
        "import xgboost as xgb\n",
        "from catboost import CatBoostRegressor, Pool, EShapCalcType, EFeaturesSelectionAlgorithm\n",
        "\n",
        "\n"
      ]
    },
    {
      "cell_type": "code",
      "execution_count": null,
      "metadata": {
        "id": "RQVmtFCCN2jz"
      },
      "outputs": [],
      "source": [
        "import pandas as pd\n",
        "import scipy\n",
        "from scipy import stats\n",
        "\n",
        "X_train = pd.read_csv(\"X_train.csv\", index_col=[0], header=[0, 1, 2])\n",
        "X_train=X_train.dropna()\n",
        "\n",
        "y_train = pd.read_csv(\"Y_train2.csv\", index_col=[0])\n",
        "\n",
        "X_valid = pd.read_csv(\"X_valid.csv\", index_col=[0], header=[0, 1, 2])\n",
        "X_valid=X_valid.dropna()\n",
        "\n",
        "y_valid = pd.read_csv(\"Y_valid2.csv\", index_col=[0])\n",
        "\n",
        "X_test = pd.read_csv(\"X_test.csv\", index_col=[0], header=[0, 1, 2])\n",
        "X_test=X_test.dropna()"
      ]
    },
    {
      "cell_type": "markdown",
      "metadata": {
        "id": "V95raP1M2Uc9"
      },
      "source": [
        "## input all the X_variables into CatBoostRegressor to assess the model's RMSE"
      ]
    },
    {
      "cell_type": "code",
      "execution_count": null,
      "metadata": {
        "colab": {
          "base_uri": "https://localhost:8080/",
          "height": 72,
          "referenced_widgets": [
            "27d236d3bd8641e093ce92122456627a",
            "2f9b01e8ed274593b7e4b21b478dc829"
          ]
        },
        "id": "71DNGFeAfvy9",
        "outputId": "40a852b1-b93a-4276-eab2-3b883bce6e51"
      },
      "outputs": [
        {
          "data": {
            "application/vnd.jupyter.widget-view+json": {
              "model_id": "2f9b01e8ed274593b7e4b21b478dc829",
              "version_major": 2,
              "version_minor": 0
            },
            "text/plain": [
              "MetricVisualizer(layout=Layout(align_self='stretch', height='500px'))"
            ]
          },
          "metadata": {},
          "output_type": "display_data"
        },
        {
          "name": "stdout",
          "output_type": "stream",
          "text": [
            "train time: 630.3784785s\n",
            "test time:  0.1533195972s\n",
            "RMSE: {:.2f} 1.7296830158147116\n"
          ]
        }
      ],
      "source": [
        "from catboost import Pool, CatBoostRegressor, cv\n",
        "from sklearn.metrics import mean_squared_error\n",
        "import numpy as np\n",
        "from time import time\n",
        "\n",
        "\n",
        "cbr = CatBoostRegressor(random_state=42,loss_function='RMSE',eval_metric='RMSE',use_best_model=True)\n",
        "ttrain = time()\n",
        "\n",
        "cbr.fit(X_train,y_train, eval_set=(X_valid, y_valid), verbose=0, plot=True)\n",
        "train_time = time() - ttrain\n",
        "print(f\"train time: {train_time:.10}s\")\n",
        "\n",
        "ttest = time()\n",
        "pred = cbr.predict(X_valid)\n",
        "rmse = (np.sqrt(mean_squared_error(y_valid, pred)))\n",
        "\n",
        "test_time = time() - ttest\n",
        "print(f\"test time:  {test_time:.10}s\")\n",
        "print(\"RMSE: {:.2f}\",rmse)"
      ]
    },
    {
      "cell_type": "markdown",
      "metadata": {
        "id": "u4z3xVE424j7"
      },
      "source": [
        "## Given the low RMSE value and fast processing speed of catboost regressor, the below will use the function of feature importances by catboost regressor to filter the important X_variables\n",
        "\n",
        "## The criteria of the filtration is the elimination of variables whose value of feature inportance are below 0."
      ]
    },
    {
      "cell_type": "code",
      "execution_count": null,
      "metadata": {
        "id": "RF4JuJy1ghj7"
      },
      "outputs": [],
      "source": [
        "filtered_X_train=X_train.iloc[:,pd.DataFrame(cbr.get_feature_importance())[pd.DataFrame(cbr.get_feature_importance())[0]>0.1].index]\n",
        "filtered_X_valid=X_valid.iloc[:,pd.DataFrame(cbr.get_feature_importance())[pd.DataFrame(cbr.get_feature_importance())[0]>0.1].index]\n",
        "filtered_X_test=X_test.iloc[:,pd.DataFrame(cbr.get_feature_importance())[pd.DataFrame(cbr.get_feature_importance())[0]>0.1].index]"
      ]
    },
    {
      "cell_type": "markdown",
      "metadata": {
        "id": "aWXEMoaP3Yob"
      },
      "source": [
        "## After choosing the important features, less X_variables requires to input into other models. Therefore, the speed of the remaining model comparison can be boosted up."
      ]
    },
    {
      "cell_type": "code",
      "execution_count": null,
      "metadata": {
        "colab": {
          "base_uri": "https://localhost:8080/"
        },
        "id": "cKzMvcUKFYKb",
        "outputId": "021eb89d-49f1-454c-c3f4-e71f756e3891"
      },
      "outputs": [
        {
          "name": "stdout",
          "output_type": "stream",
          "text": [
            "================================================================================\n",
            "XGBRegressor\n",
            "________________________________________________________________________________\n",
            "Training: \n",
            "XGBRegressor()\n",
            "[03:48:18] WARNING: /workspace/src/objective/regression_obj.cu:152: reg:linear is now deprecated in favor of reg:squarederror.\n",
            "train time: 7.05s\n",
            "test time:  0.0123s\n",
            "RMSE: 1.74\n",
            "\n",
            "================================================================================\n",
            "CatBoostRegressor\n",
            "________________________________________________________________________________\n",
            "Training: \n",
            "<catboost.core.CatBoostRegressor object at 0x7fecf62e5bb0>\n",
            "Learning rate set to 0.063917\n",
            "0:\tlearn: 1.9576516\ttotal: 45.6ms\tremaining: 45.5s\n",
            "1:\tlearn: 1.9404708\ttotal: 81.8ms\tremaining: 40.8s\n",
            "2:\tlearn: 1.9248917\ttotal: 115ms\tremaining: 38.3s\n",
            "3:\tlearn: 1.9099471\ttotal: 152ms\tremaining: 37.9s\n",
            "4:\tlearn: 1.8967102\ttotal: 188ms\tremaining: 37.5s\n",
            "5:\tlearn: 1.8842188\ttotal: 224ms\tremaining: 37.1s\n",
            "6:\tlearn: 1.8728839\ttotal: 265ms\tremaining: 37.6s\n",
            "7:\tlearn: 1.8630879\ttotal: 310ms\tremaining: 38.5s\n",
            "8:\tlearn: 1.8539791\ttotal: 347ms\tremaining: 38.3s\n",
            "9:\tlearn: 1.8451127\ttotal: 385ms\tremaining: 38.1s\n",
            "10:\tlearn: 1.8382264\ttotal: 422ms\tremaining: 37.9s\n",
            "11:\tlearn: 1.8310589\ttotal: 456ms\tremaining: 37.6s\n",
            "12:\tlearn: 1.8249296\ttotal: 497ms\tremaining: 37.7s\n",
            "13:\tlearn: 1.8187209\ttotal: 535ms\tremaining: 37.7s\n",
            "14:\tlearn: 1.8131550\ttotal: 572ms\tremaining: 37.5s\n",
            "15:\tlearn: 1.8077417\ttotal: 615ms\tremaining: 37.8s\n",
            "16:\tlearn: 1.8033090\ttotal: 653ms\tremaining: 37.8s\n",
            "17:\tlearn: 1.7988047\ttotal: 690ms\tremaining: 37.6s\n",
            "18:\tlearn: 1.7949705\ttotal: 729ms\tremaining: 37.6s\n",
            "19:\tlearn: 1.7911173\ttotal: 767ms\tremaining: 37.6s\n",
            "20:\tlearn: 1.7874357\ttotal: 805ms\tremaining: 37.5s\n",
            "21:\tlearn: 1.7841653\ttotal: 841ms\tremaining: 37.4s\n",
            "22:\tlearn: 1.7817568\ttotal: 877ms\tremaining: 37.2s\n",
            "23:\tlearn: 1.7791712\ttotal: 913ms\tremaining: 37.1s\n",
            "24:\tlearn: 1.7759380\ttotal: 961ms\tremaining: 37.5s\n",
            "25:\tlearn: 1.7736201\ttotal: 997ms\tremaining: 37.3s\n",
            "26:\tlearn: 1.7709044\ttotal: 1.03s\tremaining: 37.2s\n",
            "27:\tlearn: 1.7686852\ttotal: 1.07s\tremaining: 37.1s\n",
            "28:\tlearn: 1.7661733\ttotal: 1.1s\tremaining: 37s\n",
            "29:\tlearn: 1.7639820\ttotal: 1.14s\tremaining: 36.9s\n",
            "30:\tlearn: 1.7620131\ttotal: 1.18s\tremaining: 36.9s\n",
            "31:\tlearn: 1.7603112\ttotal: 1.22s\tremaining: 36.8s\n",
            "32:\tlearn: 1.7583327\ttotal: 1.25s\tremaining: 36.7s\n",
            "33:\tlearn: 1.7564953\ttotal: 1.29s\tremaining: 36.8s\n",
            "34:\tlearn: 1.7548846\ttotal: 1.33s\tremaining: 36.6s\n",
            "35:\tlearn: 1.7532264\ttotal: 1.36s\tremaining: 36.5s\n",
            "36:\tlearn: 1.7514886\ttotal: 1.4s\tremaining: 36.5s\n",
            "37:\tlearn: 1.7499117\ttotal: 1.45s\tremaining: 36.7s\n",
            "38:\tlearn: 1.7484449\ttotal: 1.5s\tremaining: 36.9s\n",
            "39:\tlearn: 1.7470809\ttotal: 1.53s\tremaining: 36.8s\n",
            "40:\tlearn: 1.7452774\ttotal: 1.57s\tremaining: 36.7s\n",
            "41:\tlearn: 1.7438242\ttotal: 1.61s\tremaining: 36.8s\n",
            "42:\tlearn: 1.7426316\ttotal: 1.65s\tremaining: 36.6s\n",
            "43:\tlearn: 1.7413459\ttotal: 1.68s\tremaining: 36.5s\n",
            "44:\tlearn: 1.7401748\ttotal: 1.72s\tremaining: 36.4s\n",
            "45:\tlearn: 1.7388136\ttotal: 1.75s\tremaining: 36.3s\n",
            "46:\tlearn: 1.7372702\ttotal: 1.79s\tremaining: 36.2s\n",
            "47:\tlearn: 1.7359646\ttotal: 1.83s\tremaining: 36.3s\n",
            "48:\tlearn: 1.7352097\ttotal: 1.87s\tremaining: 36.3s\n",
            "49:\tlearn: 1.7339534\ttotal: 1.91s\tremaining: 36.3s\n",
            "50:\tlearn: 1.7328951\ttotal: 1.94s\tremaining: 36.2s\n",
            "51:\tlearn: 1.7319641\ttotal: 1.98s\tremaining: 36s\n",
            "52:\tlearn: 1.7306182\ttotal: 2.01s\tremaining: 35.9s\n",
            "53:\tlearn: 1.7296471\ttotal: 2.05s\tremaining: 35.9s\n",
            "54:\tlearn: 1.7284149\ttotal: 2.08s\tremaining: 35.8s\n",
            "55:\tlearn: 1.7268785\ttotal: 2.12s\tremaining: 35.8s\n",
            "56:\tlearn: 1.7261131\ttotal: 2.17s\tremaining: 35.9s\n",
            "57:\tlearn: 1.7250195\ttotal: 2.2s\tremaining: 35.8s\n",
            "58:\tlearn: 1.7240389\ttotal: 2.24s\tremaining: 35.7s\n",
            "59:\tlearn: 1.7226254\ttotal: 2.28s\tremaining: 35.8s\n",
            "60:\tlearn: 1.7214261\ttotal: 2.32s\tremaining: 35.7s\n",
            "61:\tlearn: 1.7202786\ttotal: 2.36s\tremaining: 35.7s\n",
            "62:\tlearn: 1.7191022\ttotal: 2.4s\tremaining: 35.6s\n",
            "63:\tlearn: 1.7180480\ttotal: 2.43s\tremaining: 35.5s\n",
            "64:\tlearn: 1.7171181\ttotal: 2.48s\tremaining: 35.6s\n",
            "65:\tlearn: 1.7160700\ttotal: 2.52s\tremaining: 35.7s\n",
            "66:\tlearn: 1.7150753\ttotal: 2.55s\tremaining: 35.6s\n",
            "67:\tlearn: 1.7143468\ttotal: 2.59s\tremaining: 35.5s\n",
            "68:\tlearn: 1.7131874\ttotal: 2.62s\tremaining: 35.4s\n",
            "69:\tlearn: 1.7123281\ttotal: 2.66s\tremaining: 35.3s\n",
            "70:\tlearn: 1.7116188\ttotal: 2.69s\tremaining: 35.2s\n",
            "71:\tlearn: 1.7109219\ttotal: 2.73s\tremaining: 35.2s\n",
            "72:\tlearn: 1.7099704\ttotal: 2.76s\tremaining: 35.1s\n",
            "73:\tlearn: 1.7094299\ttotal: 2.8s\tremaining: 35s\n",
            "74:\tlearn: 1.7085760\ttotal: 2.83s\tremaining: 34.9s\n",
            "75:\tlearn: 1.7077820\ttotal: 2.87s\tremaining: 34.9s\n",
            "76:\tlearn: 1.7067024\ttotal: 2.91s\tremaining: 34.9s\n",
            "77:\tlearn: 1.7057216\ttotal: 2.94s\tremaining: 34.8s\n",
            "78:\tlearn: 1.7049426\ttotal: 2.98s\tremaining: 34.7s\n",
            "79:\tlearn: 1.7041169\ttotal: 3.01s\tremaining: 34.7s\n",
            "80:\tlearn: 1.7031905\ttotal: 3.05s\tremaining: 34.6s\n",
            "81:\tlearn: 1.7021735\ttotal: 3.09s\tremaining: 34.6s\n",
            "82:\tlearn: 1.7013679\ttotal: 3.12s\tremaining: 34.5s\n",
            "83:\tlearn: 1.7007033\ttotal: 3.16s\tremaining: 34.5s\n",
            "84:\tlearn: 1.7000135\ttotal: 3.2s\tremaining: 34.4s\n",
            "85:\tlearn: 1.6990075\ttotal: 3.23s\tremaining: 34.3s\n",
            "86:\tlearn: 1.6984388\ttotal: 3.27s\tremaining: 34.3s\n",
            "87:\tlearn: 1.6976708\ttotal: 3.31s\tremaining: 34.3s\n",
            "88:\tlearn: 1.6964296\ttotal: 3.34s\tremaining: 34.2s\n",
            "89:\tlearn: 1.6954956\ttotal: 3.38s\tremaining: 34.2s\n",
            "90:\tlearn: 1.6944909\ttotal: 3.42s\tremaining: 34.1s\n",
            "91:\tlearn: 1.6939088\ttotal: 3.45s\tremaining: 34.1s\n",
            "92:\tlearn: 1.6931043\ttotal: 3.48s\tremaining: 34s\n",
            "93:\tlearn: 1.6923189\ttotal: 3.52s\tremaining: 34s\n",
            "94:\tlearn: 1.6914552\ttotal: 3.56s\tremaining: 33.9s\n",
            "95:\tlearn: 1.6907185\ttotal: 3.6s\tremaining: 33.9s\n",
            "96:\tlearn: 1.6899169\ttotal: 3.63s\tremaining: 33.8s\n",
            "97:\tlearn: 1.6889127\ttotal: 3.67s\tremaining: 33.8s\n",
            "98:\tlearn: 1.6880454\ttotal: 3.71s\tremaining: 33.8s\n",
            "99:\tlearn: 1.6875926\ttotal: 3.74s\tremaining: 33.7s\n",
            "100:\tlearn: 1.6869854\ttotal: 3.78s\tremaining: 33.6s\n",
            "101:\tlearn: 1.6863151\ttotal: 3.82s\tremaining: 33.6s\n",
            "102:\tlearn: 1.6855604\ttotal: 3.85s\tremaining: 33.6s\n",
            "103:\tlearn: 1.6847950\ttotal: 3.89s\tremaining: 33.5s\n",
            "104:\tlearn: 1.6841506\ttotal: 3.93s\tremaining: 33.5s\n",
            "105:\tlearn: 1.6833395\ttotal: 3.96s\tremaining: 33.4s\n",
            "106:\tlearn: 1.6828647\ttotal: 4s\tremaining: 33.4s\n",
            "107:\tlearn: 1.6820756\ttotal: 4.04s\tremaining: 33.4s\n",
            "108:\tlearn: 1.6815286\ttotal: 4.08s\tremaining: 33.3s\n",
            "109:\tlearn: 1.6808368\ttotal: 4.11s\tremaining: 33.3s\n",
            "110:\tlearn: 1.6802651\ttotal: 4.15s\tremaining: 33.2s\n",
            "111:\tlearn: 1.6793019\ttotal: 4.18s\tremaining: 33.2s\n",
            "112:\tlearn: 1.6785262\ttotal: 4.22s\tremaining: 33.1s\n",
            "113:\tlearn: 1.6774910\ttotal: 4.25s\tremaining: 33.1s\n",
            "114:\tlearn: 1.6765579\ttotal: 4.3s\tremaining: 33.1s\n",
            "115:\tlearn: 1.6756499\ttotal: 4.34s\tremaining: 33s\n",
            "116:\tlearn: 1.6749631\ttotal: 4.37s\tremaining: 33s\n",
            "117:\tlearn: 1.6743434\ttotal: 4.41s\tremaining: 32.9s\n",
            "118:\tlearn: 1.6734664\ttotal: 4.44s\tremaining: 32.9s\n",
            "119:\tlearn: 1.6732197\ttotal: 4.48s\tremaining: 32.9s\n",
            "120:\tlearn: 1.6724647\ttotal: 4.51s\tremaining: 32.8s\n",
            "121:\tlearn: 1.6722064\ttotal: 4.55s\tremaining: 32.7s\n",
            "122:\tlearn: 1.6716181\ttotal: 4.59s\tremaining: 32.7s\n",
            "123:\tlearn: 1.6708648\ttotal: 4.62s\tremaining: 32.7s\n",
            "124:\tlearn: 1.6701319\ttotal: 4.66s\tremaining: 32.6s\n",
            "125:\tlearn: 1.6690849\ttotal: 4.69s\tremaining: 32.6s\n",
            "126:\tlearn: 1.6683977\ttotal: 4.73s\tremaining: 32.5s\n",
            "127:\tlearn: 1.6676393\ttotal: 4.77s\tremaining: 32.5s\n",
            "128:\tlearn: 1.6672224\ttotal: 4.8s\tremaining: 32.4s\n",
            "129:\tlearn: 1.6665224\ttotal: 4.84s\tremaining: 32.4s\n",
            "130:\tlearn: 1.6660770\ttotal: 4.88s\tremaining: 32.4s\n",
            "131:\tlearn: 1.6654305\ttotal: 4.92s\tremaining: 32.3s\n",
            "132:\tlearn: 1.6645422\ttotal: 4.95s\tremaining: 32.3s\n",
            "133:\tlearn: 1.6637683\ttotal: 4.99s\tremaining: 32.2s\n",
            "134:\tlearn: 1.6631291\ttotal: 5.04s\tremaining: 32.3s\n",
            "135:\tlearn: 1.6626342\ttotal: 5.07s\tremaining: 32.2s\n",
            "136:\tlearn: 1.6625474\ttotal: 5.11s\tremaining: 32.2s\n",
            "137:\tlearn: 1.6620381\ttotal: 5.14s\tremaining: 32.1s\n",
            "138:\tlearn: 1.6612671\ttotal: 5.18s\tremaining: 32.1s\n",
            "139:\tlearn: 1.6605742\ttotal: 5.21s\tremaining: 32s\n",
            "140:\tlearn: 1.6598610\ttotal: 5.25s\tremaining: 32s\n",
            "141:\tlearn: 1.6596880\ttotal: 5.28s\tremaining: 31.9s\n",
            "142:\tlearn: 1.6591496\ttotal: 5.32s\tremaining: 31.9s\n",
            "143:\tlearn: 1.6587833\ttotal: 5.36s\tremaining: 31.9s\n",
            "144:\tlearn: 1.6581253\ttotal: 5.4s\tremaining: 31.8s\n",
            "145:\tlearn: 1.6575761\ttotal: 5.43s\tremaining: 31.8s\n",
            "146:\tlearn: 1.6572387\ttotal: 5.47s\tremaining: 31.7s\n",
            "147:\tlearn: 1.6562588\ttotal: 5.51s\tremaining: 31.7s\n",
            "148:\tlearn: 1.6553278\ttotal: 5.54s\tremaining: 31.7s\n",
            "149:\tlearn: 1.6547160\ttotal: 5.58s\tremaining: 31.6s\n",
            "150:\tlearn: 1.6543536\ttotal: 5.62s\tremaining: 31.6s\n",
            "151:\tlearn: 1.6542392\ttotal: 5.65s\tremaining: 31.5s\n",
            "152:\tlearn: 1.6537107\ttotal: 5.68s\tremaining: 31.5s\n",
            "153:\tlearn: 1.6535589\ttotal: 5.72s\tremaining: 31.4s\n",
            "154:\tlearn: 1.6529739\ttotal: 5.75s\tremaining: 31.4s\n",
            "155:\tlearn: 1.6527576\ttotal: 5.79s\tremaining: 31.3s\n",
            "156:\tlearn: 1.6526545\ttotal: 5.82s\tremaining: 31.3s\n",
            "157:\tlearn: 1.6522471\ttotal: 5.86s\tremaining: 31.2s\n",
            "158:\tlearn: 1.6521673\ttotal: 5.89s\tremaining: 31.2s\n",
            "159:\tlearn: 1.6513401\ttotal: 5.93s\tremaining: 31.1s\n",
            "160:\tlearn: 1.6507367\ttotal: 5.96s\tremaining: 31.1s\n",
            "161:\tlearn: 1.6499153\ttotal: 6s\tremaining: 31s\n",
            "162:\tlearn: 1.6494216\ttotal: 6.03s\tremaining: 31s\n",
            "163:\tlearn: 1.6489221\ttotal: 6.07s\tremaining: 30.9s\n",
            "164:\tlearn: 1.6481058\ttotal: 6.11s\tremaining: 30.9s\n",
            "165:\tlearn: 1.6476370\ttotal: 6.14s\tremaining: 30.9s\n",
            "166:\tlearn: 1.6468610\ttotal: 6.18s\tremaining: 30.8s\n",
            "167:\tlearn: 1.6462009\ttotal: 6.21s\tremaining: 30.8s\n",
            "168:\tlearn: 1.6454887\ttotal: 6.25s\tremaining: 30.7s\n",
            "169:\tlearn: 1.6453507\ttotal: 6.28s\tremaining: 30.7s\n",
            "170:\tlearn: 1.6452153\ttotal: 6.32s\tremaining: 30.6s\n",
            "171:\tlearn: 1.6442041\ttotal: 6.36s\tremaining: 30.6s\n",
            "172:\tlearn: 1.6434055\ttotal: 6.39s\tremaining: 30.6s\n",
            "173:\tlearn: 1.6423780\ttotal: 6.43s\tremaining: 30.5s\n",
            "174:\tlearn: 1.6416069\ttotal: 6.47s\tremaining: 30.5s\n",
            "175:\tlearn: 1.6409066\ttotal: 6.5s\tremaining: 30.4s\n",
            "176:\tlearn: 1.6406688\ttotal: 6.53s\tremaining: 30.4s\n",
            "177:\tlearn: 1.6399513\ttotal: 6.57s\tremaining: 30.3s\n",
            "178:\tlearn: 1.6393007\ttotal: 6.6s\tremaining: 30.3s\n",
            "179:\tlearn: 1.6387313\ttotal: 6.64s\tremaining: 30.2s\n",
            "180:\tlearn: 1.6382007\ttotal: 6.68s\tremaining: 30.2s\n",
            "181:\tlearn: 1.6373705\ttotal: 6.71s\tremaining: 30.2s\n",
            "182:\tlearn: 1.6369141\ttotal: 6.75s\tremaining: 30.1s\n",
            "183:\tlearn: 1.6368388\ttotal: 6.78s\tremaining: 30.1s\n",
            "184:\tlearn: 1.6359016\ttotal: 6.81s\tremaining: 30s\n",
            "185:\tlearn: 1.6352224\ttotal: 6.85s\tremaining: 30s\n",
            "186:\tlearn: 1.6351218\ttotal: 6.89s\tremaining: 29.9s\n",
            "187:\tlearn: 1.6342097\ttotal: 6.92s\tremaining: 29.9s\n",
            "188:\tlearn: 1.6334160\ttotal: 6.96s\tremaining: 29.9s\n",
            "189:\tlearn: 1.6332954\ttotal: 6.99s\tremaining: 29.8s\n",
            "190:\tlearn: 1.6324355\ttotal: 7.03s\tremaining: 29.8s\n",
            "191:\tlearn: 1.6317725\ttotal: 7.06s\tremaining: 29.7s\n",
            "192:\tlearn: 1.6311623\ttotal: 7.1s\tremaining: 29.7s\n",
            "193:\tlearn: 1.6304407\ttotal: 7.14s\tremaining: 29.7s\n",
            "194:\tlearn: 1.6296995\ttotal: 7.17s\tremaining: 29.6s\n",
            "195:\tlearn: 1.6289317\ttotal: 7.21s\tremaining: 29.6s\n",
            "196:\tlearn: 1.6279962\ttotal: 7.25s\tremaining: 29.5s\n",
            "197:\tlearn: 1.6271413\ttotal: 7.29s\tremaining: 29.5s\n",
            "198:\tlearn: 1.6263150\ttotal: 7.32s\tremaining: 29.5s\n",
            "199:\tlearn: 1.6261897\ttotal: 7.36s\tremaining: 29.4s\n",
            "200:\tlearn: 1.6252406\ttotal: 7.39s\tremaining: 29.4s\n",
            "201:\tlearn: 1.6243250\ttotal: 7.44s\tremaining: 29.4s\n",
            "202:\tlearn: 1.6242165\ttotal: 7.47s\tremaining: 29.3s\n",
            "203:\tlearn: 1.6233317\ttotal: 7.51s\tremaining: 29.3s\n",
            "204:\tlearn: 1.6225004\ttotal: 7.56s\tremaining: 29.3s\n",
            "205:\tlearn: 1.6218129\ttotal: 7.59s\tremaining: 29.3s\n",
            "206:\tlearn: 1.6210520\ttotal: 7.63s\tremaining: 29.2s\n",
            "207:\tlearn: 1.6209767\ttotal: 7.66s\tremaining: 29.2s\n",
            "208:\tlearn: 1.6202255\ttotal: 7.7s\tremaining: 29.1s\n",
            "209:\tlearn: 1.6193112\ttotal: 7.74s\tremaining: 29.1s\n",
            "210:\tlearn: 1.6191929\ttotal: 7.77s\tremaining: 29.1s\n",
            "211:\tlearn: 1.6183997\ttotal: 7.81s\tremaining: 29s\n",
            "212:\tlearn: 1.6175684\ttotal: 7.84s\tremaining: 29s\n",
            "213:\tlearn: 1.6167906\ttotal: 7.88s\tremaining: 29s\n",
            "214:\tlearn: 1.6161079\ttotal: 7.92s\tremaining: 28.9s\n",
            "215:\tlearn: 1.6150805\ttotal: 7.96s\tremaining: 28.9s\n",
            "216:\tlearn: 1.6150077\ttotal: 7.99s\tremaining: 28.8s\n",
            "217:\tlearn: 1.6141760\ttotal: 8.02s\tremaining: 28.8s\n",
            "218:\tlearn: 1.6141072\ttotal: 8.05s\tremaining: 28.7s\n",
            "219:\tlearn: 1.6136817\ttotal: 8.09s\tremaining: 28.7s\n",
            "220:\tlearn: 1.6130809\ttotal: 8.12s\tremaining: 28.6s\n",
            "221:\tlearn: 1.6123107\ttotal: 8.16s\tremaining: 28.6s\n",
            "222:\tlearn: 1.6116748\ttotal: 8.2s\tremaining: 28.6s\n",
            "223:\tlearn: 1.6109774\ttotal: 8.23s\tremaining: 28.5s\n",
            "224:\tlearn: 1.6099431\ttotal: 8.27s\tremaining: 28.5s\n",
            "225:\tlearn: 1.6092352\ttotal: 8.3s\tremaining: 28.4s\n",
            "226:\tlearn: 1.6086703\ttotal: 8.35s\tremaining: 28.4s\n",
            "227:\tlearn: 1.6079079\ttotal: 8.39s\tremaining: 28.4s\n",
            "228:\tlearn: 1.6068782\ttotal: 8.43s\tremaining: 28.4s\n",
            "229:\tlearn: 1.6061272\ttotal: 8.47s\tremaining: 28.3s\n",
            "230:\tlearn: 1.6052546\ttotal: 8.51s\tremaining: 28.3s\n",
            "231:\tlearn: 1.6044044\ttotal: 8.54s\tremaining: 28.3s\n",
            "232:\tlearn: 1.6033461\ttotal: 8.58s\tremaining: 28.2s\n",
            "233:\tlearn: 1.6027468\ttotal: 8.62s\tremaining: 28.2s\n",
            "234:\tlearn: 1.6026796\ttotal: 8.65s\tremaining: 28.2s\n",
            "235:\tlearn: 1.6019840\ttotal: 8.69s\tremaining: 28.1s\n",
            "236:\tlearn: 1.6013405\ttotal: 8.72s\tremaining: 28.1s\n",
            "237:\tlearn: 1.6012758\ttotal: 8.76s\tremaining: 28s\n",
            "238:\tlearn: 1.6006238\ttotal: 8.79s\tremaining: 28s\n",
            "239:\tlearn: 1.6005419\ttotal: 8.83s\tremaining: 28s\n",
            "240:\tlearn: 1.5999265\ttotal: 8.87s\tremaining: 27.9s\n",
            "241:\tlearn: 1.5991225\ttotal: 8.92s\tremaining: 27.9s\n",
            "242:\tlearn: 1.5983710\ttotal: 8.95s\tremaining: 27.9s\n",
            "243:\tlearn: 1.5976871\ttotal: 8.99s\tremaining: 27.8s\n",
            "244:\tlearn: 1.5968080\ttotal: 9.02s\tremaining: 27.8s\n",
            "245:\tlearn: 1.5958714\ttotal: 9.06s\tremaining: 27.8s\n",
            "246:\tlearn: 1.5950115\ttotal: 9.1s\tremaining: 27.7s\n",
            "247:\tlearn: 1.5943125\ttotal: 9.13s\tremaining: 27.7s\n",
            "248:\tlearn: 1.5933614\ttotal: 9.17s\tremaining: 27.6s\n",
            "249:\tlearn: 1.5927851\ttotal: 9.2s\tremaining: 27.6s\n",
            "250:\tlearn: 1.5920852\ttotal: 9.23s\tremaining: 27.6s\n",
            "251:\tlearn: 1.5916126\ttotal: 9.27s\tremaining: 27.5s\n",
            "252:\tlearn: 1.5915568\ttotal: 9.3s\tremaining: 27.5s\n",
            "253:\tlearn: 1.5908922\ttotal: 9.35s\tremaining: 27.5s\n",
            "254:\tlearn: 1.5902978\ttotal: 9.39s\tremaining: 27.4s\n",
            "255:\tlearn: 1.5894906\ttotal: 9.43s\tremaining: 27.4s\n",
            "256:\tlearn: 1.5886325\ttotal: 9.46s\tremaining: 27.4s\n",
            "257:\tlearn: 1.5879382\ttotal: 9.5s\tremaining: 27.3s\n",
            "258:\tlearn: 1.5872061\ttotal: 9.53s\tremaining: 27.3s\n",
            "259:\tlearn: 1.5862166\ttotal: 9.57s\tremaining: 27.2s\n",
            "260:\tlearn: 1.5855594\ttotal: 9.61s\tremaining: 27.2s\n",
            "261:\tlearn: 1.5848475\ttotal: 9.64s\tremaining: 27.2s\n",
            "262:\tlearn: 1.5842761\ttotal: 9.68s\tremaining: 27.1s\n",
            "263:\tlearn: 1.5838989\ttotal: 9.71s\tremaining: 27.1s\n",
            "264:\tlearn: 1.5831443\ttotal: 9.75s\tremaining: 27s\n",
            "265:\tlearn: 1.5823234\ttotal: 9.79s\tremaining: 27s\n",
            "266:\tlearn: 1.5815111\ttotal: 9.82s\tremaining: 27s\n",
            "267:\tlearn: 1.5814482\ttotal: 9.86s\tremaining: 26.9s\n",
            "268:\tlearn: 1.5807233\ttotal: 9.89s\tremaining: 26.9s\n",
            "269:\tlearn: 1.5798771\ttotal: 9.93s\tremaining: 26.8s\n",
            "270:\tlearn: 1.5790495\ttotal: 9.97s\tremaining: 26.8s\n",
            "271:\tlearn: 1.5782023\ttotal: 10s\tremaining: 26.8s\n",
            "272:\tlearn: 1.5772725\ttotal: 10s\tremaining: 26.7s\n",
            "273:\tlearn: 1.5768342\ttotal: 10.1s\tremaining: 26.7s\n",
            "274:\tlearn: 1.5759899\ttotal: 10.1s\tremaining: 26.7s\n",
            "275:\tlearn: 1.5755148\ttotal: 10.1s\tremaining: 26.6s\n",
            "276:\tlearn: 1.5749169\ttotal: 10.2s\tremaining: 26.6s\n",
            "277:\tlearn: 1.5748539\ttotal: 10.2s\tremaining: 26.5s\n",
            "278:\tlearn: 1.5743739\ttotal: 10.2s\tremaining: 26.5s\n",
            "279:\tlearn: 1.5733566\ttotal: 10.3s\tremaining: 26.4s\n",
            "280:\tlearn: 1.5727463\ttotal: 10.3s\tremaining: 26.4s\n",
            "281:\tlearn: 1.5720350\ttotal: 10.4s\tremaining: 26.4s\n",
            "282:\tlearn: 1.5711030\ttotal: 10.4s\tremaining: 26.3s\n",
            "283:\tlearn: 1.5705204\ttotal: 10.4s\tremaining: 26.3s\n",
            "284:\tlearn: 1.5700142\ttotal: 10.5s\tremaining: 26.3s\n",
            "285:\tlearn: 1.5693670\ttotal: 10.5s\tremaining: 26.2s\n",
            "286:\tlearn: 1.5685141\ttotal: 10.5s\tremaining: 26.2s\n",
            "287:\tlearn: 1.5676296\ttotal: 10.6s\tremaining: 26.1s\n",
            "288:\tlearn: 1.5670097\ttotal: 10.6s\tremaining: 26.1s\n",
            "289:\tlearn: 1.5662633\ttotal: 10.6s\tremaining: 26.1s\n",
            "290:\tlearn: 1.5662141\ttotal: 10.7s\tremaining: 26s\n",
            "291:\tlearn: 1.5654755\ttotal: 10.7s\tremaining: 26s\n",
            "292:\tlearn: 1.5648883\ttotal: 10.7s\tremaining: 25.9s\n",
            "293:\tlearn: 1.5643527\ttotal: 10.8s\tremaining: 25.9s\n",
            "294:\tlearn: 1.5639341\ttotal: 10.8s\tremaining: 25.9s\n",
            "295:\tlearn: 1.5633936\ttotal: 10.9s\tremaining: 25.8s\n",
            "296:\tlearn: 1.5625879\ttotal: 10.9s\tremaining: 25.8s\n",
            "297:\tlearn: 1.5619099\ttotal: 10.9s\tremaining: 25.7s\n",
            "298:\tlearn: 1.5613227\ttotal: 11s\tremaining: 25.7s\n",
            "299:\tlearn: 1.5607615\ttotal: 11s\tremaining: 25.7s\n",
            "300:\tlearn: 1.5602658\ttotal: 11s\tremaining: 25.6s\n",
            "301:\tlearn: 1.5598088\ttotal: 11.1s\tremaining: 25.6s\n",
            "302:\tlearn: 1.5593138\ttotal: 11.1s\tremaining: 25.5s\n",
            "303:\tlearn: 1.5592320\ttotal: 11.1s\tremaining: 25.5s\n",
            "304:\tlearn: 1.5583528\ttotal: 11.2s\tremaining: 25.5s\n",
            "305:\tlearn: 1.5572776\ttotal: 11.2s\tremaining: 25.5s\n",
            "306:\tlearn: 1.5566710\ttotal: 11.3s\tremaining: 25.4s\n",
            "307:\tlearn: 1.5561265\ttotal: 11.3s\tremaining: 25.4s\n",
            "308:\tlearn: 1.5556432\ttotal: 11.3s\tremaining: 25.3s\n",
            "309:\tlearn: 1.5551667\ttotal: 11.4s\tremaining: 25.3s\n",
            "310:\tlearn: 1.5551233\ttotal: 11.4s\tremaining: 25.3s\n",
            "311:\tlearn: 1.5543633\ttotal: 11.4s\tremaining: 25.2s\n",
            "312:\tlearn: 1.5538566\ttotal: 11.5s\tremaining: 25.2s\n",
            "313:\tlearn: 1.5535910\ttotal: 11.5s\tremaining: 25.2s\n",
            "314:\tlearn: 1.5530782\ttotal: 11.5s\tremaining: 25.1s\n",
            "315:\tlearn: 1.5522657\ttotal: 11.6s\tremaining: 25.1s\n",
            "316:\tlearn: 1.5516946\ttotal: 11.6s\tremaining: 25s\n",
            "317:\tlearn: 1.5509022\ttotal: 11.7s\tremaining: 25s\n",
            "318:\tlearn: 1.5508430\ttotal: 11.7s\tremaining: 25s\n",
            "319:\tlearn: 1.5501472\ttotal: 11.7s\tremaining: 25s\n",
            "320:\tlearn: 1.5495723\ttotal: 11.8s\tremaining: 24.9s\n",
            "321:\tlearn: 1.5488990\ttotal: 11.8s\tremaining: 24.9s\n",
            "322:\tlearn: 1.5486656\ttotal: 11.9s\tremaining: 24.9s\n",
            "323:\tlearn: 1.5482899\ttotal: 11.9s\tremaining: 24.8s\n",
            "324:\tlearn: 1.5477780\ttotal: 11.9s\tremaining: 24.8s\n",
            "325:\tlearn: 1.5470416\ttotal: 12s\tremaining: 24.7s\n",
            "326:\tlearn: 1.5463731\ttotal: 12s\tremaining: 24.7s\n",
            "327:\tlearn: 1.5457275\ttotal: 12s\tremaining: 24.7s\n",
            "328:\tlearn: 1.5450601\ttotal: 12.1s\tremaining: 24.6s\n",
            "329:\tlearn: 1.5444544\ttotal: 12.1s\tremaining: 24.6s\n",
            "330:\tlearn: 1.5440453\ttotal: 12.1s\tremaining: 24.6s\n",
            "331:\tlearn: 1.5434044\ttotal: 12.2s\tremaining: 24.5s\n",
            "332:\tlearn: 1.5427635\ttotal: 12.2s\tremaining: 24.5s\n",
            "333:\tlearn: 1.5421230\ttotal: 12.3s\tremaining: 24.4s\n",
            "334:\tlearn: 1.5420814\ttotal: 12.3s\tremaining: 24.4s\n",
            "335:\tlearn: 1.5414014\ttotal: 12.3s\tremaining: 24.3s\n",
            "336:\tlearn: 1.5408537\ttotal: 12.4s\tremaining: 24.3s\n",
            "337:\tlearn: 1.5402445\ttotal: 12.4s\tremaining: 24.3s\n",
            "338:\tlearn: 1.5396398\ttotal: 12.4s\tremaining: 24.2s\n",
            "339:\tlearn: 1.5395901\ttotal: 12.5s\tremaining: 24.2s\n",
            "340:\tlearn: 1.5390049\ttotal: 12.5s\tremaining: 24.2s\n",
            "341:\tlearn: 1.5385005\ttotal: 12.5s\tremaining: 24.1s\n",
            "342:\tlearn: 1.5374871\ttotal: 12.6s\tremaining: 24.1s\n",
            "343:\tlearn: 1.5368966\ttotal: 12.6s\tremaining: 24s\n",
            "344:\tlearn: 1.5363381\ttotal: 12.6s\tremaining: 24s\n",
            "345:\tlearn: 1.5358100\ttotal: 12.7s\tremaining: 24s\n",
            "346:\tlearn: 1.5351443\ttotal: 12.7s\tremaining: 23.9s\n",
            "347:\tlearn: 1.5344908\ttotal: 12.8s\tremaining: 23.9s\n",
            "348:\tlearn: 1.5344434\ttotal: 12.8s\tremaining: 23.8s\n",
            "349:\tlearn: 1.5336521\ttotal: 12.8s\tremaining: 23.8s\n",
            "350:\tlearn: 1.5332400\ttotal: 12.9s\tremaining: 23.8s\n",
            "351:\tlearn: 1.5331990\ttotal: 12.9s\tremaining: 23.7s\n",
            "352:\tlearn: 1.5326064\ttotal: 12.9s\tremaining: 23.7s\n",
            "353:\tlearn: 1.5320225\ttotal: 13s\tremaining: 23.7s\n",
            "354:\tlearn: 1.5319829\ttotal: 13s\tremaining: 23.6s\n",
            "355:\tlearn: 1.5315309\ttotal: 13s\tremaining: 23.6s\n",
            "356:\tlearn: 1.5311803\ttotal: 13.1s\tremaining: 23.5s\n",
            "357:\tlearn: 1.5304467\ttotal: 13.1s\tremaining: 23.5s\n",
            "358:\tlearn: 1.5304032\ttotal: 13.1s\tremaining: 23.5s\n",
            "359:\tlearn: 1.5298219\ttotal: 13.2s\tremaining: 23.4s\n",
            "360:\tlearn: 1.5292329\ttotal: 13.2s\tremaining: 23.4s\n",
            "361:\tlearn: 1.5287481\ttotal: 13.2s\tremaining: 23.3s\n",
            "362:\tlearn: 1.5287063\ttotal: 13.3s\tremaining: 23.3s\n",
            "363:\tlearn: 1.5286660\ttotal: 13.3s\tremaining: 23.3s\n",
            "364:\tlearn: 1.5284886\ttotal: 13.3s\tremaining: 23.2s\n",
            "365:\tlearn: 1.5277067\ttotal: 13.4s\tremaining: 23.2s\n",
            "366:\tlearn: 1.5276679\ttotal: 13.4s\tremaining: 23.1s\n",
            "367:\tlearn: 1.5271706\ttotal: 13.5s\tremaining: 23.1s\n",
            "368:\tlearn: 1.5267054\ttotal: 13.5s\tremaining: 23.1s\n",
            "369:\tlearn: 1.5262676\ttotal: 13.5s\tremaining: 23s\n",
            "370:\tlearn: 1.5256560\ttotal: 13.6s\tremaining: 23s\n",
            "371:\tlearn: 1.5256205\ttotal: 13.6s\tremaining: 23s\n",
            "372:\tlearn: 1.5249048\ttotal: 13.6s\tremaining: 22.9s\n",
            "373:\tlearn: 1.5244164\ttotal: 13.7s\tremaining: 22.9s\n",
            "374:\tlearn: 1.5238899\ttotal: 13.7s\tremaining: 22.8s\n",
            "375:\tlearn: 1.5238233\ttotal: 13.7s\tremaining: 22.8s\n",
            "376:\tlearn: 1.5233181\ttotal: 13.8s\tremaining: 22.8s\n",
            "377:\tlearn: 1.5232787\ttotal: 13.8s\tremaining: 22.7s\n",
            "378:\tlearn: 1.5223965\ttotal: 13.8s\tremaining: 22.7s\n",
            "379:\tlearn: 1.5217366\ttotal: 13.9s\tremaining: 22.7s\n",
            "380:\tlearn: 1.5212335\ttotal: 13.9s\tremaining: 22.6s\n",
            "381:\tlearn: 1.5207068\ttotal: 14s\tremaining: 22.6s\n",
            "382:\tlearn: 1.5201813\ttotal: 14s\tremaining: 22.5s\n",
            "383:\tlearn: 1.5194354\ttotal: 14s\tremaining: 22.5s\n",
            "384:\tlearn: 1.5186774\ttotal: 14.1s\tremaining: 22.5s\n",
            "385:\tlearn: 1.5179905\ttotal: 14.1s\tremaining: 22.4s\n",
            "386:\tlearn: 1.5171847\ttotal: 14.1s\tremaining: 22.4s\n",
            "387:\tlearn: 1.5161126\ttotal: 14.2s\tremaining: 22.4s\n",
            "388:\tlearn: 1.5160800\ttotal: 14.2s\tremaining: 22.3s\n",
            "389:\tlearn: 1.5160436\ttotal: 14.3s\tremaining: 22.3s\n",
            "390:\tlearn: 1.5156182\ttotal: 14.3s\tremaining: 22.2s\n",
            "391:\tlearn: 1.5151321\ttotal: 14.3s\tremaining: 22.2s\n",
            "392:\tlearn: 1.5144245\ttotal: 14.4s\tremaining: 22.2s\n",
            "393:\tlearn: 1.5139775\ttotal: 14.4s\tremaining: 22.2s\n",
            "394:\tlearn: 1.5133753\ttotal: 14.4s\tremaining: 22.1s\n",
            "395:\tlearn: 1.5133454\ttotal: 14.5s\tremaining: 22.1s\n",
            "396:\tlearn: 1.5133181\ttotal: 14.5s\tremaining: 22s\n",
            "397:\tlearn: 1.5129139\ttotal: 14.5s\tremaining: 22s\n",
            "398:\tlearn: 1.5120989\ttotal: 14.6s\tremaining: 22s\n",
            "399:\tlearn: 1.5113598\ttotal: 14.6s\tremaining: 21.9s\n",
            "400:\tlearn: 1.5106535\ttotal: 14.6s\tremaining: 21.9s\n",
            "401:\tlearn: 1.5105818\ttotal: 14.7s\tremaining: 21.9s\n",
            "402:\tlearn: 1.5099155\ttotal: 14.7s\tremaining: 21.8s\n",
            "403:\tlearn: 1.5092317\ttotal: 14.8s\tremaining: 21.8s\n",
            "404:\tlearn: 1.5085213\ttotal: 14.8s\tremaining: 21.7s\n",
            "405:\tlearn: 1.5074727\ttotal: 14.8s\tremaining: 21.7s\n",
            "406:\tlearn: 1.5066498\ttotal: 14.9s\tremaining: 21.7s\n",
            "407:\tlearn: 1.5060729\ttotal: 14.9s\tremaining: 21.6s\n",
            "408:\tlearn: 1.5055538\ttotal: 14.9s\tremaining: 21.6s\n",
            "409:\tlearn: 1.5049591\ttotal: 15s\tremaining: 21.6s\n",
            "410:\tlearn: 1.5041960\ttotal: 15s\tremaining: 21.5s\n",
            "411:\tlearn: 1.5035623\ttotal: 15.1s\tremaining: 21.5s\n",
            "412:\tlearn: 1.5029304\ttotal: 15.1s\tremaining: 21.4s\n",
            "413:\tlearn: 1.5023525\ttotal: 15.1s\tremaining: 21.4s\n",
            "414:\tlearn: 1.5023255\ttotal: 15.2s\tremaining: 21.4s\n",
            "415:\tlearn: 1.5019556\ttotal: 15.2s\tremaining: 21.3s\n",
            "416:\tlearn: 1.5015484\ttotal: 15.2s\tremaining: 21.3s\n",
            "417:\tlearn: 1.5011373\ttotal: 15.3s\tremaining: 21.2s\n",
            "418:\tlearn: 1.5006010\ttotal: 15.3s\tremaining: 21.2s\n",
            "419:\tlearn: 1.4999812\ttotal: 15.3s\tremaining: 21.2s\n",
            "420:\tlearn: 1.4994501\ttotal: 15.4s\tremaining: 21.1s\n",
            "421:\tlearn: 1.4986566\ttotal: 15.4s\tremaining: 21.1s\n",
            "422:\tlearn: 1.4980422\ttotal: 15.5s\tremaining: 21.1s\n",
            "423:\tlearn: 1.4976746\ttotal: 15.5s\tremaining: 21s\n",
            "424:\tlearn: 1.4970307\ttotal: 15.5s\tremaining: 21s\n",
            "425:\tlearn: 1.4965239\ttotal: 15.6s\tremaining: 21s\n",
            "426:\tlearn: 1.4958783\ttotal: 15.6s\tremaining: 20.9s\n",
            "427:\tlearn: 1.4951320\ttotal: 15.6s\tremaining: 20.9s\n",
            "428:\tlearn: 1.4944257\ttotal: 15.7s\tremaining: 20.9s\n",
            "429:\tlearn: 1.4938678\ttotal: 15.7s\tremaining: 20.8s\n",
            "430:\tlearn: 1.4933559\ttotal: 15.7s\tremaining: 20.8s\n",
            "431:\tlearn: 1.4932819\ttotal: 15.8s\tremaining: 20.8s\n",
            "432:\tlearn: 1.4928227\ttotal: 15.8s\tremaining: 20.7s\n",
            "433:\tlearn: 1.4924307\ttotal: 15.9s\tremaining: 20.7s\n",
            "434:\tlearn: 1.4920654\ttotal: 15.9s\tremaining: 20.6s\n",
            "435:\tlearn: 1.4915189\ttotal: 15.9s\tremaining: 20.6s\n",
            "436:\tlearn: 1.4907005\ttotal: 16s\tremaining: 20.6s\n",
            "437:\tlearn: 1.4900839\ttotal: 16s\tremaining: 20.5s\n",
            "438:\tlearn: 1.4895190\ttotal: 16s\tremaining: 20.5s\n",
            "439:\tlearn: 1.4894818\ttotal: 16.1s\tremaining: 20.4s\n",
            "440:\tlearn: 1.4894548\ttotal: 16.1s\tremaining: 20.4s\n",
            "441:\tlearn: 1.4888398\ttotal: 16.1s\tremaining: 20.4s\n",
            "442:\tlearn: 1.4881840\ttotal: 16.2s\tremaining: 20.3s\n",
            "443:\tlearn: 1.4875241\ttotal: 16.2s\tremaining: 20.3s\n",
            "444:\tlearn: 1.4867927\ttotal: 16.2s\tremaining: 20.3s\n",
            "445:\tlearn: 1.4864489\ttotal: 16.3s\tremaining: 20.2s\n",
            "446:\tlearn: 1.4857050\ttotal: 16.3s\tremaining: 20.2s\n",
            "447:\tlearn: 1.4851452\ttotal: 16.4s\tremaining: 20.2s\n",
            "448:\tlearn: 1.4846049\ttotal: 16.4s\tremaining: 20.1s\n",
            "449:\tlearn: 1.4840791\ttotal: 16.4s\tremaining: 20.1s\n",
            "450:\tlearn: 1.4837157\ttotal: 16.5s\tremaining: 20.1s\n",
            "451:\tlearn: 1.4828065\ttotal: 16.5s\tremaining: 20s\n",
            "452:\tlearn: 1.4822615\ttotal: 16.6s\tremaining: 20s\n",
            "453:\tlearn: 1.4816197\ttotal: 16.6s\tremaining: 20s\n",
            "454:\tlearn: 1.4807370\ttotal: 16.6s\tremaining: 19.9s\n",
            "455:\tlearn: 1.4801187\ttotal: 16.7s\tremaining: 19.9s\n",
            "456:\tlearn: 1.4794036\ttotal: 16.7s\tremaining: 19.9s\n",
            "457:\tlearn: 1.4786699\ttotal: 16.8s\tremaining: 19.8s\n",
            "458:\tlearn: 1.4782890\ttotal: 16.8s\tremaining: 19.8s\n",
            "459:\tlearn: 1.4777202\ttotal: 16.9s\tremaining: 19.8s\n",
            "460:\tlearn: 1.4769050\ttotal: 16.9s\tremaining: 19.8s\n",
            "461:\tlearn: 1.4768780\ttotal: 17s\tremaining: 19.8s\n",
            "462:\tlearn: 1.4764015\ttotal: 17.1s\tremaining: 19.8s\n",
            "463:\tlearn: 1.4760091\ttotal: 17.1s\tremaining: 19.8s\n",
            "464:\tlearn: 1.4754403\ttotal: 17.2s\tremaining: 19.7s\n",
            "465:\tlearn: 1.4748490\ttotal: 17.2s\tremaining: 19.7s\n",
            "466:\tlearn: 1.4741766\ttotal: 17.3s\tremaining: 19.7s\n",
            "467:\tlearn: 1.4734433\ttotal: 17.4s\tremaining: 19.8s\n",
            "468:\tlearn: 1.4728887\ttotal: 17.5s\tremaining: 19.8s\n",
            "469:\tlearn: 1.4722724\ttotal: 17.5s\tremaining: 19.8s\n",
            "470:\tlearn: 1.4718192\ttotal: 17.6s\tremaining: 19.7s\n",
            "471:\tlearn: 1.4713041\ttotal: 17.7s\tremaining: 19.8s\n",
            "472:\tlearn: 1.4709576\ttotal: 17.7s\tremaining: 19.8s\n",
            "473:\tlearn: 1.4700419\ttotal: 17.8s\tremaining: 19.8s\n",
            "474:\tlearn: 1.4694410\ttotal: 17.9s\tremaining: 19.8s\n",
            "475:\tlearn: 1.4688637\ttotal: 17.9s\tremaining: 19.8s\n",
            "476:\tlearn: 1.4683585\ttotal: 18s\tremaining: 19.7s\n",
            "477:\tlearn: 1.4676410\ttotal: 18s\tremaining: 19.7s\n",
            "478:\tlearn: 1.4671590\ttotal: 18.1s\tremaining: 19.7s\n",
            "479:\tlearn: 1.4665670\ttotal: 18.2s\tremaining: 19.7s\n",
            "480:\tlearn: 1.4661271\ttotal: 18.2s\tremaining: 19.7s\n",
            "481:\tlearn: 1.4656609\ttotal: 18.3s\tremaining: 19.7s\n",
            "482:\tlearn: 1.4656106\ttotal: 18.4s\tremaining: 19.7s\n",
            "483:\tlearn: 1.4653078\ttotal: 18.4s\tremaining: 19.7s\n",
            "484:\tlearn: 1.4651152\ttotal: 18.5s\tremaining: 19.6s\n",
            "485:\tlearn: 1.4645266\ttotal: 18.6s\tremaining: 19.6s\n",
            "486:\tlearn: 1.4644587\ttotal: 18.6s\tremaining: 19.6s\n",
            "487:\tlearn: 1.4636231\ttotal: 18.7s\tremaining: 19.6s\n",
            "488:\tlearn: 1.4633353\ttotal: 18.8s\tremaining: 19.6s\n",
            "489:\tlearn: 1.4627157\ttotal: 18.8s\tremaining: 19.6s\n",
            "490:\tlearn: 1.4620970\ttotal: 18.9s\tremaining: 19.6s\n",
            "491:\tlearn: 1.4614961\ttotal: 18.9s\tremaining: 19.5s\n",
            "492:\tlearn: 1.4608224\ttotal: 18.9s\tremaining: 19.5s\n",
            "493:\tlearn: 1.4602972\ttotal: 19s\tremaining: 19.4s\n",
            "494:\tlearn: 1.4597161\ttotal: 19s\tremaining: 19.4s\n",
            "495:\tlearn: 1.4593660\ttotal: 19s\tremaining: 19.3s\n",
            "496:\tlearn: 1.4589632\ttotal: 19.1s\tremaining: 19.3s\n",
            "497:\tlearn: 1.4586216\ttotal: 19.1s\tremaining: 19.3s\n",
            "498:\tlearn: 1.4581006\ttotal: 19.1s\tremaining: 19.2s\n",
            "499:\tlearn: 1.4576378\ttotal: 19.2s\tremaining: 19.2s\n",
            "500:\tlearn: 1.4573298\ttotal: 19.2s\tremaining: 19.1s\n",
            "501:\tlearn: 1.4568078\ttotal: 19.3s\tremaining: 19.1s\n",
            "502:\tlearn: 1.4563355\ttotal: 19.3s\tremaining: 19.1s\n",
            "503:\tlearn: 1.4557085\ttotal: 19.3s\tremaining: 19s\n",
            "504:\tlearn: 1.4551932\ttotal: 19.4s\tremaining: 19s\n",
            "505:\tlearn: 1.4545070\ttotal: 19.4s\tremaining: 18.9s\n",
            "506:\tlearn: 1.4539105\ttotal: 19.4s\tremaining: 18.9s\n",
            "507:\tlearn: 1.4534219\ttotal: 19.5s\tremaining: 18.9s\n",
            "508:\tlearn: 1.4529666\ttotal: 19.5s\tremaining: 18.8s\n",
            "509:\tlearn: 1.4522897\ttotal: 19.6s\tremaining: 18.8s\n",
            "510:\tlearn: 1.4516710\ttotal: 19.6s\tremaining: 18.7s\n",
            "511:\tlearn: 1.4512596\ttotal: 19.6s\tremaining: 18.7s\n",
            "512:\tlearn: 1.4508457\ttotal: 19.7s\tremaining: 18.7s\n",
            "513:\tlearn: 1.4501532\ttotal: 19.7s\tremaining: 18.6s\n",
            "514:\tlearn: 1.4497887\ttotal: 19.7s\tremaining: 18.6s\n",
            "515:\tlearn: 1.4491058\ttotal: 19.8s\tremaining: 18.5s\n",
            "516:\tlearn: 1.4485685\ttotal: 19.8s\tremaining: 18.5s\n",
            "517:\tlearn: 1.4482572\ttotal: 19.8s\tremaining: 18.5s\n",
            "518:\tlearn: 1.4477175\ttotal: 19.9s\tremaining: 18.4s\n",
            "519:\tlearn: 1.4476608\ttotal: 19.9s\tremaining: 18.4s\n",
            "520:\tlearn: 1.4471483\ttotal: 20s\tremaining: 18.3s\n",
            "521:\tlearn: 1.4463532\ttotal: 20s\tremaining: 18.3s\n",
            "522:\tlearn: 1.4457517\ttotal: 20s\tremaining: 18.3s\n",
            "523:\tlearn: 1.4452260\ttotal: 20.1s\tremaining: 18.2s\n",
            "524:\tlearn: 1.4447712\ttotal: 20.1s\tremaining: 18.2s\n",
            "525:\tlearn: 1.4443288\ttotal: 20.1s\tremaining: 18.1s\n",
            "526:\tlearn: 1.4437950\ttotal: 20.2s\tremaining: 18.1s\n",
            "527:\tlearn: 1.4431230\ttotal: 20.2s\tremaining: 18.1s\n",
            "528:\tlearn: 1.4426235\ttotal: 20.2s\tremaining: 18s\n",
            "529:\tlearn: 1.4422223\ttotal: 20.3s\tremaining: 18s\n",
            "530:\tlearn: 1.4421907\ttotal: 20.3s\tremaining: 17.9s\n",
            "531:\tlearn: 1.4421234\ttotal: 20.3s\tremaining: 17.9s\n",
            "532:\tlearn: 1.4416328\ttotal: 20.4s\tremaining: 17.9s\n",
            "533:\tlearn: 1.4411941\ttotal: 20.4s\tremaining: 17.8s\n",
            "534:\tlearn: 1.4405666\ttotal: 20.5s\tremaining: 17.8s\n",
            "535:\tlearn: 1.4400799\ttotal: 20.5s\tremaining: 17.7s\n",
            "536:\tlearn: 1.4395361\ttotal: 20.5s\tremaining: 17.7s\n",
            "537:\tlearn: 1.4391061\ttotal: 20.6s\tremaining: 17.7s\n",
            "538:\tlearn: 1.4389309\ttotal: 20.6s\tremaining: 17.6s\n",
            "539:\tlearn: 1.4385997\ttotal: 20.6s\tremaining: 17.6s\n",
            "540:\tlearn: 1.4379977\ttotal: 20.7s\tremaining: 17.5s\n",
            "541:\tlearn: 1.4372467\ttotal: 20.7s\tremaining: 17.5s\n",
            "542:\tlearn: 1.4366891\ttotal: 20.8s\tremaining: 17.5s\n",
            "543:\tlearn: 1.4362403\ttotal: 20.8s\tremaining: 17.4s\n",
            "544:\tlearn: 1.4359253\ttotal: 20.8s\tremaining: 17.4s\n",
            "545:\tlearn: 1.4352768\ttotal: 20.9s\tremaining: 17.4s\n",
            "546:\tlearn: 1.4348382\ttotal: 20.9s\tremaining: 17.3s\n",
            "547:\tlearn: 1.4343917\ttotal: 20.9s\tremaining: 17.3s\n",
            "548:\tlearn: 1.4339104\ttotal: 21s\tremaining: 17.2s\n",
            "549:\tlearn: 1.4333610\ttotal: 21s\tremaining: 17.2s\n",
            "550:\tlearn: 1.4330384\ttotal: 21s\tremaining: 17.1s\n",
            "551:\tlearn: 1.4324711\ttotal: 21.1s\tremaining: 17.1s\n",
            "552:\tlearn: 1.4320264\ttotal: 21.1s\tremaining: 17.1s\n",
            "553:\tlearn: 1.4313752\ttotal: 21.1s\tremaining: 17s\n",
            "554:\tlearn: 1.4307930\ttotal: 21.2s\tremaining: 17s\n",
            "555:\tlearn: 1.4302347\ttotal: 21.2s\tremaining: 16.9s\n",
            "556:\tlearn: 1.4295950\ttotal: 21.3s\tremaining: 16.9s\n",
            "557:\tlearn: 1.4291635\ttotal: 21.3s\tremaining: 16.9s\n",
            "558:\tlearn: 1.4287375\ttotal: 21.3s\tremaining: 16.8s\n",
            "559:\tlearn: 1.4280771\ttotal: 21.4s\tremaining: 16.8s\n",
            "560:\tlearn: 1.4276261\ttotal: 21.4s\tremaining: 16.7s\n",
            "561:\tlearn: 1.4273963\ttotal: 21.4s\tremaining: 16.7s\n",
            "562:\tlearn: 1.4270975\ttotal: 21.5s\tremaining: 16.7s\n",
            "563:\tlearn: 1.4265422\ttotal: 21.5s\tremaining: 16.6s\n",
            "564:\tlearn: 1.4260040\ttotal: 21.5s\tremaining: 16.6s\n",
            "565:\tlearn: 1.4255672\ttotal: 21.6s\tremaining: 16.5s\n",
            "566:\tlearn: 1.4251446\ttotal: 21.6s\tremaining: 16.5s\n",
            "567:\tlearn: 1.4251048\ttotal: 21.7s\tremaining: 16.5s\n",
            "568:\tlearn: 1.4246750\ttotal: 21.7s\tremaining: 16.4s\n",
            "569:\tlearn: 1.4240640\ttotal: 21.7s\tremaining: 16.4s\n",
            "570:\tlearn: 1.4236538\ttotal: 21.8s\tremaining: 16.3s\n",
            "571:\tlearn: 1.4229085\ttotal: 21.8s\tremaining: 16.3s\n",
            "572:\tlearn: 1.4224413\ttotal: 21.8s\tremaining: 16.3s\n",
            "573:\tlearn: 1.4218932\ttotal: 21.9s\tremaining: 16.2s\n",
            "574:\tlearn: 1.4214817\ttotal: 21.9s\tremaining: 16.2s\n",
            "575:\tlearn: 1.4211179\ttotal: 21.9s\tremaining: 16.1s\n",
            "576:\tlearn: 1.4208070\ttotal: 22s\tremaining: 16.1s\n",
            "577:\tlearn: 1.4203962\ttotal: 22s\tremaining: 16.1s\n",
            "578:\tlearn: 1.4197408\ttotal: 22.1s\tremaining: 16.1s\n",
            "579:\tlearn: 1.4191779\ttotal: 22.1s\tremaining: 16s\n",
            "580:\tlearn: 1.4186550\ttotal: 22.1s\tremaining: 16s\n",
            "581:\tlearn: 1.4180142\ttotal: 22.2s\tremaining: 15.9s\n",
            "582:\tlearn: 1.4179444\ttotal: 22.2s\tremaining: 15.9s\n",
            "583:\tlearn: 1.4172971\ttotal: 22.2s\tremaining: 15.8s\n",
            "584:\tlearn: 1.4169992\ttotal: 22.3s\tremaining: 15.8s\n",
            "585:\tlearn: 1.4165504\ttotal: 22.3s\tremaining: 15.8s\n",
            "586:\tlearn: 1.4159332\ttotal: 22.4s\tremaining: 15.7s\n",
            "587:\tlearn: 1.4154918\ttotal: 22.4s\tremaining: 15.7s\n",
            "588:\tlearn: 1.4150496\ttotal: 22.4s\tremaining: 15.6s\n",
            "589:\tlearn: 1.4144789\ttotal: 22.5s\tremaining: 15.6s\n",
            "590:\tlearn: 1.4139690\ttotal: 22.5s\tremaining: 15.6s\n",
            "591:\tlearn: 1.4136812\ttotal: 22.5s\tremaining: 15.5s\n",
            "592:\tlearn: 1.4136506\ttotal: 22.6s\tremaining: 15.5s\n",
            "593:\tlearn: 1.4132261\ttotal: 22.6s\tremaining: 15.5s\n",
            "594:\tlearn: 1.4128107\ttotal: 22.6s\tremaining: 15.4s\n",
            "595:\tlearn: 1.4124839\ttotal: 22.7s\tremaining: 15.4s\n",
            "596:\tlearn: 1.4120388\ttotal: 22.7s\tremaining: 15.3s\n",
            "597:\tlearn: 1.4114269\ttotal: 22.8s\tremaining: 15.3s\n",
            "598:\tlearn: 1.4113913\ttotal: 22.8s\tremaining: 15.3s\n",
            "599:\tlearn: 1.4110540\ttotal: 22.8s\tremaining: 15.2s\n",
            "600:\tlearn: 1.4104730\ttotal: 22.9s\tremaining: 15.2s\n",
            "601:\tlearn: 1.4097005\ttotal: 22.9s\tremaining: 15.1s\n",
            "602:\tlearn: 1.4096427\ttotal: 22.9s\tremaining: 15.1s\n",
            "603:\tlearn: 1.4092943\ttotal: 23s\tremaining: 15.1s\n",
            "604:\tlearn: 1.4090620\ttotal: 23s\tremaining: 15s\n",
            "605:\tlearn: 1.4083348\ttotal: 23s\tremaining: 15s\n",
            "606:\tlearn: 1.4080623\ttotal: 23.1s\tremaining: 14.9s\n",
            "607:\tlearn: 1.4075212\ttotal: 23.1s\tremaining: 14.9s\n",
            "608:\tlearn: 1.4071600\ttotal: 23.1s\tremaining: 14.9s\n",
            "609:\tlearn: 1.4066704\ttotal: 23.2s\tremaining: 14.8s\n",
            "610:\tlearn: 1.4063002\ttotal: 23.2s\tremaining: 14.8s\n",
            "611:\tlearn: 1.4057126\ttotal: 23.3s\tremaining: 14.7s\n",
            "612:\tlearn: 1.4053510\ttotal: 23.3s\tremaining: 14.7s\n",
            "613:\tlearn: 1.4047725\ttotal: 23.3s\tremaining: 14.7s\n",
            "614:\tlearn: 1.4043103\ttotal: 23.4s\tremaining: 14.6s\n",
            "615:\tlearn: 1.4038924\ttotal: 23.4s\tremaining: 14.6s\n",
            "616:\tlearn: 1.4034336\ttotal: 23.4s\tremaining: 14.5s\n",
            "617:\tlearn: 1.4030584\ttotal: 23.5s\tremaining: 14.5s\n",
            "618:\tlearn: 1.4026678\ttotal: 23.5s\tremaining: 14.5s\n",
            "619:\tlearn: 1.4021349\ttotal: 23.6s\tremaining: 14.4s\n",
            "620:\tlearn: 1.4016669\ttotal: 23.6s\tremaining: 14.4s\n",
            "621:\tlearn: 1.4010018\ttotal: 23.6s\tremaining: 14.4s\n",
            "622:\tlearn: 1.4004918\ttotal: 23.7s\tremaining: 14.3s\n",
            "623:\tlearn: 1.4001065\ttotal: 23.7s\tremaining: 14.3s\n",
            "624:\tlearn: 1.4000756\ttotal: 23.7s\tremaining: 14.2s\n",
            "625:\tlearn: 1.3997029\ttotal: 23.8s\tremaining: 14.2s\n",
            "626:\tlearn: 1.3992207\ttotal: 23.8s\tremaining: 14.2s\n",
            "627:\tlearn: 1.3990289\ttotal: 23.8s\tremaining: 14.1s\n",
            "628:\tlearn: 1.3986634\ttotal: 23.9s\tremaining: 14.1s\n",
            "629:\tlearn: 1.3980533\ttotal: 23.9s\tremaining: 14.1s\n",
            "630:\tlearn: 1.3974875\ttotal: 24s\tremaining: 14s\n",
            "631:\tlearn: 1.3972809\ttotal: 24s\tremaining: 14s\n",
            "632:\tlearn: 1.3968308\ttotal: 24s\tremaining: 13.9s\n",
            "633:\tlearn: 1.3963915\ttotal: 24.1s\tremaining: 13.9s\n",
            "634:\tlearn: 1.3956668\ttotal: 24.1s\tremaining: 13.9s\n",
            "635:\tlearn: 1.3949148\ttotal: 24.1s\tremaining: 13.8s\n",
            "636:\tlearn: 1.3945646\ttotal: 24.2s\tremaining: 13.8s\n",
            "637:\tlearn: 1.3938752\ttotal: 24.2s\tremaining: 13.7s\n",
            "638:\tlearn: 1.3934040\ttotal: 24.3s\tremaining: 13.7s\n",
            "639:\tlearn: 1.3928073\ttotal: 24.3s\tremaining: 13.7s\n",
            "640:\tlearn: 1.3925096\ttotal: 24.3s\tremaining: 13.6s\n",
            "641:\tlearn: 1.3921304\ttotal: 24.4s\tremaining: 13.6s\n",
            "642:\tlearn: 1.3916267\ttotal: 24.4s\tremaining: 13.6s\n",
            "643:\tlearn: 1.3914849\ttotal: 24.4s\tremaining: 13.5s\n",
            "644:\tlearn: 1.3909780\ttotal: 24.5s\tremaining: 13.5s\n",
            "645:\tlearn: 1.3905649\ttotal: 24.5s\tremaining: 13.4s\n",
            "646:\tlearn: 1.3900188\ttotal: 24.6s\tremaining: 13.4s\n",
            "647:\tlearn: 1.3895495\ttotal: 24.6s\tremaining: 13.4s\n",
            "648:\tlearn: 1.3890346\ttotal: 24.6s\tremaining: 13.3s\n",
            "649:\tlearn: 1.3884885\ttotal: 24.7s\tremaining: 13.3s\n",
            "650:\tlearn: 1.3879471\ttotal: 24.7s\tremaining: 13.2s\n",
            "651:\tlearn: 1.3873307\ttotal: 24.7s\tremaining: 13.2s\n",
            "652:\tlearn: 1.3868379\ttotal: 24.8s\tremaining: 13.2s\n",
            "653:\tlearn: 1.3864343\ttotal: 24.8s\tremaining: 13.1s\n",
            "654:\tlearn: 1.3863715\ttotal: 24.9s\tremaining: 13.1s\n",
            "655:\tlearn: 1.3860611\ttotal: 24.9s\tremaining: 13.1s\n",
            "656:\tlearn: 1.3857069\ttotal: 24.9s\tremaining: 13s\n",
            "657:\tlearn: 1.3852428\ttotal: 25s\tremaining: 13s\n",
            "658:\tlearn: 1.3845750\ttotal: 25s\tremaining: 12.9s\n",
            "659:\tlearn: 1.3839520\ttotal: 25s\tremaining: 12.9s\n",
            "660:\tlearn: 1.3834511\ttotal: 25.1s\tremaining: 12.9s\n",
            "661:\tlearn: 1.3828828\ttotal: 25.1s\tremaining: 12.8s\n",
            "662:\tlearn: 1.3825392\ttotal: 25.2s\tremaining: 12.8s\n",
            "663:\tlearn: 1.3823245\ttotal: 25.2s\tremaining: 12.7s\n",
            "664:\tlearn: 1.3822996\ttotal: 25.2s\tremaining: 12.7s\n",
            "665:\tlearn: 1.3818073\ttotal: 25.3s\tremaining: 12.7s\n",
            "666:\tlearn: 1.3813258\ttotal: 25.3s\tremaining: 12.6s\n",
            "667:\tlearn: 1.3806425\ttotal: 25.3s\tremaining: 12.6s\n",
            "668:\tlearn: 1.3800374\ttotal: 25.4s\tremaining: 12.6s\n",
            "669:\tlearn: 1.3794432\ttotal: 25.4s\tremaining: 12.5s\n",
            "670:\tlearn: 1.3790901\ttotal: 25.5s\tremaining: 12.5s\n",
            "671:\tlearn: 1.3790392\ttotal: 25.5s\tremaining: 12.4s\n",
            "672:\tlearn: 1.3784487\ttotal: 25.5s\tremaining: 12.4s\n",
            "673:\tlearn: 1.3780086\ttotal: 25.6s\tremaining: 12.4s\n",
            "674:\tlearn: 1.3777204\ttotal: 25.6s\tremaining: 12.3s\n",
            "675:\tlearn: 1.3773114\ttotal: 25.6s\tremaining: 12.3s\n",
            "676:\tlearn: 1.3769664\ttotal: 25.7s\tremaining: 12.3s\n",
            "677:\tlearn: 1.3764017\ttotal: 25.7s\tremaining: 12.2s\n",
            "678:\tlearn: 1.3760523\ttotal: 25.8s\tremaining: 12.2s\n",
            "679:\tlearn: 1.3755279\ttotal: 25.8s\tremaining: 12.1s\n",
            "680:\tlearn: 1.3751026\ttotal: 25.8s\tremaining: 12.1s\n",
            "681:\tlearn: 1.3748435\ttotal: 25.9s\tremaining: 12.1s\n",
            "682:\tlearn: 1.3743507\ttotal: 25.9s\tremaining: 12s\n",
            "683:\tlearn: 1.3739186\ttotal: 25.9s\tremaining: 12s\n",
            "684:\tlearn: 1.3734049\ttotal: 26s\tremaining: 11.9s\n",
            "685:\tlearn: 1.3728035\ttotal: 26s\tremaining: 11.9s\n",
            "686:\tlearn: 1.3724106\ttotal: 26s\tremaining: 11.9s\n",
            "687:\tlearn: 1.3718794\ttotal: 26.1s\tremaining: 11.8s\n",
            "688:\tlearn: 1.3713000\ttotal: 26.1s\tremaining: 11.8s\n",
            "689:\tlearn: 1.3709118\ttotal: 26.1s\tremaining: 11.7s\n",
            "690:\tlearn: 1.3705288\ttotal: 26.2s\tremaining: 11.7s\n",
            "691:\tlearn: 1.3705058\ttotal: 26.2s\tremaining: 11.7s\n",
            "692:\tlearn: 1.3701937\ttotal: 26.3s\tremaining: 11.6s\n",
            "693:\tlearn: 1.3699229\ttotal: 26.3s\tremaining: 11.6s\n",
            "694:\tlearn: 1.3694983\ttotal: 26.3s\tremaining: 11.6s\n",
            "695:\tlearn: 1.3689662\ttotal: 26.4s\tremaining: 11.5s\n",
            "696:\tlearn: 1.3684316\ttotal: 26.4s\tremaining: 11.5s\n",
            "697:\tlearn: 1.3678478\ttotal: 26.4s\tremaining: 11.4s\n",
            "698:\tlearn: 1.3676120\ttotal: 26.5s\tremaining: 11.4s\n",
            "699:\tlearn: 1.3672087\ttotal: 26.5s\tremaining: 11.4s\n",
            "700:\tlearn: 1.3666984\ttotal: 26.5s\tremaining: 11.3s\n",
            "701:\tlearn: 1.3662937\ttotal: 26.6s\tremaining: 11.3s\n",
            "702:\tlearn: 1.3658150\ttotal: 26.6s\tremaining: 11.2s\n",
            "703:\tlearn: 1.3652573\ttotal: 26.6s\tremaining: 11.2s\n",
            "704:\tlearn: 1.3648043\ttotal: 26.7s\tremaining: 11.2s\n",
            "705:\tlearn: 1.3647467\ttotal: 26.7s\tremaining: 11.1s\n",
            "706:\tlearn: 1.3645082\ttotal: 26.8s\tremaining: 11.1s\n",
            "707:\tlearn: 1.3642977\ttotal: 26.8s\tremaining: 11.1s\n",
            "708:\tlearn: 1.3638744\ttotal: 26.8s\tremaining: 11s\n",
            "709:\tlearn: 1.3636480\ttotal: 26.9s\tremaining: 11s\n",
            "710:\tlearn: 1.3633428\ttotal: 26.9s\tremaining: 10.9s\n",
            "711:\tlearn: 1.3630754\ttotal: 26.9s\tremaining: 10.9s\n",
            "712:\tlearn: 1.3630304\ttotal: 27s\tremaining: 10.9s\n",
            "713:\tlearn: 1.3624884\ttotal: 27s\tremaining: 10.8s\n",
            "714:\tlearn: 1.3620195\ttotal: 27s\tremaining: 10.8s\n",
            "715:\tlearn: 1.3615088\ttotal: 27.1s\tremaining: 10.7s\n",
            "716:\tlearn: 1.3610973\ttotal: 27.1s\tremaining: 10.7s\n",
            "717:\tlearn: 1.3605218\ttotal: 27.2s\tremaining: 10.7s\n",
            "718:\tlearn: 1.3600376\ttotal: 27.2s\tremaining: 10.6s\n",
            "719:\tlearn: 1.3595136\ttotal: 27.2s\tremaining: 10.6s\n",
            "720:\tlearn: 1.3590257\ttotal: 27.3s\tremaining: 10.6s\n",
            "721:\tlearn: 1.3585125\ttotal: 27.3s\tremaining: 10.5s\n",
            "722:\tlearn: 1.3579082\ttotal: 27.4s\tremaining: 10.5s\n",
            "723:\tlearn: 1.3573689\ttotal: 27.4s\tremaining: 10.4s\n",
            "724:\tlearn: 1.3567822\ttotal: 27.4s\tremaining: 10.4s\n",
            "725:\tlearn: 1.3562791\ttotal: 27.5s\tremaining: 10.4s\n",
            "726:\tlearn: 1.3558931\ttotal: 27.5s\tremaining: 10.3s\n",
            "727:\tlearn: 1.3554908\ttotal: 27.6s\tremaining: 10.3s\n",
            "728:\tlearn: 1.3551244\ttotal: 27.6s\tremaining: 10.3s\n",
            "729:\tlearn: 1.3544828\ttotal: 27.6s\tremaining: 10.2s\n",
            "730:\tlearn: 1.3539513\ttotal: 27.7s\tremaining: 10.2s\n",
            "731:\tlearn: 1.3533723\ttotal: 27.7s\tremaining: 10.2s\n",
            "732:\tlearn: 1.3530137\ttotal: 27.8s\tremaining: 10.1s\n",
            "733:\tlearn: 1.3524434\ttotal: 27.8s\tremaining: 10.1s\n",
            "734:\tlearn: 1.3520363\ttotal: 27.8s\tremaining: 10s\n",
            "735:\tlearn: 1.3514701\ttotal: 27.9s\tremaining: 10s\n",
            "736:\tlearn: 1.3507630\ttotal: 27.9s\tremaining: 9.97s\n",
            "737:\tlearn: 1.3504627\ttotal: 28s\tremaining: 9.93s\n",
            "738:\tlearn: 1.3497537\ttotal: 28s\tremaining: 9.89s\n",
            "739:\tlearn: 1.3495249\ttotal: 28s\tremaining: 9.85s\n",
            "740:\tlearn: 1.3490911\ttotal: 28.1s\tremaining: 9.81s\n",
            "741:\tlearn: 1.3490598\ttotal: 28.1s\tremaining: 9.77s\n",
            "742:\tlearn: 1.3489743\ttotal: 28.1s\tremaining: 9.73s\n",
            "743:\tlearn: 1.3487282\ttotal: 28.2s\tremaining: 9.69s\n",
            "744:\tlearn: 1.3481208\ttotal: 28.2s\tremaining: 9.65s\n",
            "745:\tlearn: 1.3476919\ttotal: 28.2s\tremaining: 9.62s\n",
            "746:\tlearn: 1.3473024\ttotal: 28.3s\tremaining: 9.58s\n",
            "747:\tlearn: 1.3471599\ttotal: 28.3s\tremaining: 9.54s\n",
            "748:\tlearn: 1.3467161\ttotal: 28.4s\tremaining: 9.5s\n",
            "749:\tlearn: 1.3464836\ttotal: 28.4s\tremaining: 9.46s\n",
            "750:\tlearn: 1.3458701\ttotal: 28.4s\tremaining: 9.42s\n",
            "751:\tlearn: 1.3454856\ttotal: 28.5s\tremaining: 9.39s\n",
            "752:\tlearn: 1.3454536\ttotal: 28.5s\tremaining: 9.35s\n",
            "753:\tlearn: 1.3453219\ttotal: 28.5s\tremaining: 9.31s\n",
            "754:\tlearn: 1.3451363\ttotal: 28.6s\tremaining: 9.27s\n",
            "755:\tlearn: 1.3446433\ttotal: 28.6s\tremaining: 9.23s\n",
            "756:\tlearn: 1.3440546\ttotal: 28.6s\tremaining: 9.19s\n",
            "757:\tlearn: 1.3438876\ttotal: 28.7s\tremaining: 9.15s\n",
            "758:\tlearn: 1.3433781\ttotal: 28.7s\tremaining: 9.12s\n",
            "759:\tlearn: 1.3430210\ttotal: 28.8s\tremaining: 9.08s\n",
            "760:\tlearn: 1.3424967\ttotal: 28.8s\tremaining: 9.04s\n",
            "761:\tlearn: 1.3420722\ttotal: 28.8s\tremaining: 9.01s\n",
            "762:\tlearn: 1.3413275\ttotal: 28.9s\tremaining: 8.97s\n",
            "763:\tlearn: 1.3410186\ttotal: 28.9s\tremaining: 8.93s\n",
            "764:\tlearn: 1.3406503\ttotal: 28.9s\tremaining: 8.89s\n",
            "765:\tlearn: 1.3404197\ttotal: 29s\tremaining: 8.85s\n",
            "766:\tlearn: 1.3399250\ttotal: 29s\tremaining: 8.81s\n",
            "767:\tlearn: 1.3395055\ttotal: 29.1s\tremaining: 8.78s\n",
            "768:\tlearn: 1.3387915\ttotal: 29.1s\tremaining: 8.74s\n",
            "769:\tlearn: 1.3385995\ttotal: 29.1s\tremaining: 8.7s\n",
            "770:\tlearn: 1.3383097\ttotal: 29.2s\tremaining: 8.66s\n",
            "771:\tlearn: 1.3378250\ttotal: 29.2s\tremaining: 8.63s\n",
            "772:\tlearn: 1.3372823\ttotal: 29.3s\tremaining: 8.59s\n",
            "773:\tlearn: 1.3370948\ttotal: 29.3s\tremaining: 8.55s\n",
            "774:\tlearn: 1.3365781\ttotal: 29.3s\tremaining: 8.51s\n",
            "775:\tlearn: 1.3361527\ttotal: 29.4s\tremaining: 8.47s\n",
            "776:\tlearn: 1.3357166\ttotal: 29.4s\tremaining: 8.44s\n",
            "777:\tlearn: 1.3352312\ttotal: 29.4s\tremaining: 8.4s\n",
            "778:\tlearn: 1.3350682\ttotal: 29.5s\tremaining: 8.36s\n",
            "779:\tlearn: 1.3347456\ttotal: 29.5s\tremaining: 8.32s\n",
            "780:\tlearn: 1.3343493\ttotal: 29.5s\tremaining: 8.28s\n",
            "781:\tlearn: 1.3338455\ttotal: 29.6s\tremaining: 8.25s\n",
            "782:\tlearn: 1.3331898\ttotal: 29.6s\tremaining: 8.21s\n",
            "783:\tlearn: 1.3326216\ttotal: 29.7s\tremaining: 8.17s\n",
            "784:\tlearn: 1.3323051\ttotal: 29.7s\tremaining: 8.13s\n",
            "785:\tlearn: 1.3322155\ttotal: 29.7s\tremaining: 8.1s\n",
            "786:\tlearn: 1.3319452\ttotal: 29.8s\tremaining: 8.06s\n",
            "787:\tlearn: 1.3314096\ttotal: 29.8s\tremaining: 8.02s\n",
            "788:\tlearn: 1.3310146\ttotal: 29.8s\tremaining: 7.98s\n",
            "789:\tlearn: 1.3304522\ttotal: 29.9s\tremaining: 7.94s\n",
            "790:\tlearn: 1.3303861\ttotal: 29.9s\tremaining: 7.9s\n",
            "791:\tlearn: 1.3299318\ttotal: 29.9s\tremaining: 7.87s\n",
            "792:\tlearn: 1.3297269\ttotal: 30s\tremaining: 7.83s\n",
            "793:\tlearn: 1.3290845\ttotal: 30s\tremaining: 7.79s\n",
            "794:\tlearn: 1.3290658\ttotal: 30.1s\tremaining: 7.75s\n",
            "795:\tlearn: 1.3287403\ttotal: 30.1s\tremaining: 7.71s\n",
            "796:\tlearn: 1.3283206\ttotal: 30.2s\tremaining: 7.68s\n",
            "797:\tlearn: 1.3278825\ttotal: 30.2s\tremaining: 7.64s\n",
            "798:\tlearn: 1.3275252\ttotal: 30.2s\tremaining: 7.61s\n",
            "799:\tlearn: 1.3270604\ttotal: 30.3s\tremaining: 7.57s\n",
            "800:\tlearn: 1.3267572\ttotal: 30.3s\tremaining: 7.53s\n",
            "801:\tlearn: 1.3259905\ttotal: 30.3s\tremaining: 7.49s\n",
            "802:\tlearn: 1.3255345\ttotal: 30.4s\tremaining: 7.45s\n",
            "803:\tlearn: 1.3250645\ttotal: 30.4s\tremaining: 7.41s\n",
            "804:\tlearn: 1.3250129\ttotal: 30.5s\tremaining: 7.38s\n",
            "805:\tlearn: 1.3245783\ttotal: 30.5s\tremaining: 7.34s\n",
            "806:\tlearn: 1.3238676\ttotal: 30.5s\tremaining: 7.3s\n",
            "807:\tlearn: 1.3234487\ttotal: 30.6s\tremaining: 7.26s\n",
            "808:\tlearn: 1.3230075\ttotal: 30.6s\tremaining: 7.22s\n",
            "809:\tlearn: 1.3225902\ttotal: 30.6s\tremaining: 7.19s\n",
            "810:\tlearn: 1.3222000\ttotal: 30.7s\tremaining: 7.15s\n",
            "811:\tlearn: 1.3217705\ttotal: 30.7s\tremaining: 7.11s\n",
            "812:\tlearn: 1.3213306\ttotal: 30.7s\tremaining: 7.07s\n",
            "813:\tlearn: 1.3209092\ttotal: 30.8s\tremaining: 7.03s\n",
            "814:\tlearn: 1.3204866\ttotal: 30.8s\tremaining: 7s\n",
            "815:\tlearn: 1.3201403\ttotal: 30.9s\tremaining: 6.96s\n",
            "816:\tlearn: 1.3197959\ttotal: 30.9s\tremaining: 6.92s\n",
            "817:\tlearn: 1.3194655\ttotal: 30.9s\tremaining: 6.88s\n",
            "818:\tlearn: 1.3192249\ttotal: 31s\tremaining: 6.84s\n",
            "819:\tlearn: 1.3186223\ttotal: 31s\tremaining: 6.8s\n",
            "820:\tlearn: 1.3182736\ttotal: 31s\tremaining: 6.77s\n",
            "821:\tlearn: 1.3178083\ttotal: 31.1s\tremaining: 6.73s\n",
            "822:\tlearn: 1.3177481\ttotal: 31.1s\tremaining: 6.69s\n",
            "823:\tlearn: 1.3173294\ttotal: 31.1s\tremaining: 6.65s\n",
            "824:\tlearn: 1.3167715\ttotal: 31.2s\tremaining: 6.61s\n",
            "825:\tlearn: 1.3161504\ttotal: 31.2s\tremaining: 6.58s\n",
            "826:\tlearn: 1.3157018\ttotal: 31.3s\tremaining: 6.54s\n",
            "827:\tlearn: 1.3153505\ttotal: 31.3s\tremaining: 6.5s\n",
            "828:\tlearn: 1.3148697\ttotal: 31.3s\tremaining: 6.46s\n",
            "829:\tlearn: 1.3144372\ttotal: 31.4s\tremaining: 6.42s\n",
            "830:\tlearn: 1.3138724\ttotal: 31.4s\tremaining: 6.39s\n",
            "831:\tlearn: 1.3134921\ttotal: 31.4s\tremaining: 6.35s\n",
            "832:\tlearn: 1.3132015\ttotal: 31.5s\tremaining: 6.31s\n",
            "833:\tlearn: 1.3126282\ttotal: 31.5s\tremaining: 6.27s\n",
            "834:\tlearn: 1.3120161\ttotal: 31.6s\tremaining: 6.24s\n",
            "835:\tlearn: 1.3116256\ttotal: 31.6s\tremaining: 6.2s\n",
            "836:\tlearn: 1.3112852\ttotal: 31.6s\tremaining: 6.16s\n",
            "837:\tlearn: 1.3108177\ttotal: 31.7s\tremaining: 6.12s\n",
            "838:\tlearn: 1.3103214\ttotal: 31.7s\tremaining: 6.08s\n",
            "839:\tlearn: 1.3099123\ttotal: 31.7s\tremaining: 6.04s\n",
            "840:\tlearn: 1.3097846\ttotal: 31.8s\tremaining: 6.01s\n",
            "841:\tlearn: 1.3093336\ttotal: 31.8s\tremaining: 5.97s\n",
            "842:\tlearn: 1.3091956\ttotal: 31.8s\tremaining: 5.93s\n",
            "843:\tlearn: 1.3088355\ttotal: 31.9s\tremaining: 5.89s\n",
            "844:\tlearn: 1.3084533\ttotal: 31.9s\tremaining: 5.85s\n",
            "845:\tlearn: 1.3080286\ttotal: 31.9s\tremaining: 5.82s\n",
            "846:\tlearn: 1.3074446\ttotal: 32s\tremaining: 5.78s\n",
            "847:\tlearn: 1.3069953\ttotal: 32s\tremaining: 5.74s\n",
            "848:\tlearn: 1.3066428\ttotal: 32.1s\tremaining: 5.7s\n",
            "849:\tlearn: 1.3064711\ttotal: 32.1s\tremaining: 5.66s\n",
            "850:\tlearn: 1.3057206\ttotal: 32.1s\tremaining: 5.63s\n",
            "851:\tlearn: 1.3052230\ttotal: 32.2s\tremaining: 5.59s\n",
            "852:\tlearn: 1.3050393\ttotal: 32.2s\tremaining: 5.55s\n",
            "853:\tlearn: 1.3046914\ttotal: 32.3s\tremaining: 5.51s\n",
            "854:\tlearn: 1.3043236\ttotal: 32.3s\tremaining: 5.48s\n",
            "855:\tlearn: 1.3040011\ttotal: 32.3s\tremaining: 5.44s\n",
            "856:\tlearn: 1.3039624\ttotal: 32.4s\tremaining: 5.4s\n",
            "857:\tlearn: 1.3037745\ttotal: 32.4s\tremaining: 5.36s\n",
            "858:\tlearn: 1.3034602\ttotal: 32.4s\tremaining: 5.33s\n",
            "859:\tlearn: 1.3029529\ttotal: 32.5s\tremaining: 5.29s\n",
            "860:\tlearn: 1.3024650\ttotal: 32.5s\tremaining: 5.25s\n",
            "861:\tlearn: 1.3021850\ttotal: 32.5s\tremaining: 5.21s\n",
            "862:\tlearn: 1.3018864\ttotal: 32.6s\tremaining: 5.17s\n",
            "863:\tlearn: 1.3012909\ttotal: 32.6s\tremaining: 5.13s\n",
            "864:\tlearn: 1.3010519\ttotal: 32.7s\tremaining: 5.1s\n",
            "865:\tlearn: 1.3007268\ttotal: 32.7s\tremaining: 5.06s\n",
            "866:\tlearn: 1.3002952\ttotal: 32.7s\tremaining: 5.02s\n",
            "867:\tlearn: 1.2998587\ttotal: 32.8s\tremaining: 4.98s\n",
            "868:\tlearn: 1.2995059\ttotal: 32.8s\tremaining: 4.95s\n",
            "869:\tlearn: 1.2990478\ttotal: 32.8s\tremaining: 4.91s\n",
            "870:\tlearn: 1.2985606\ttotal: 32.9s\tremaining: 4.87s\n",
            "871:\tlearn: 1.2980319\ttotal: 32.9s\tremaining: 4.83s\n",
            "872:\tlearn: 1.2975023\ttotal: 33s\tremaining: 4.79s\n",
            "873:\tlearn: 1.2972415\ttotal: 33s\tremaining: 4.75s\n",
            "874:\tlearn: 1.2969050\ttotal: 33s\tremaining: 4.72s\n",
            "875:\tlearn: 1.2961760\ttotal: 33.1s\tremaining: 4.68s\n",
            "876:\tlearn: 1.2958573\ttotal: 33.1s\tremaining: 4.64s\n",
            "877:\tlearn: 1.2954695\ttotal: 33.1s\tremaining: 4.61s\n",
            "878:\tlearn: 1.2950682\ttotal: 33.2s\tremaining: 4.57s\n",
            "879:\tlearn: 1.2947734\ttotal: 33.2s\tremaining: 4.53s\n",
            "880:\tlearn: 1.2942222\ttotal: 33.3s\tremaining: 4.49s\n",
            "881:\tlearn: 1.2937967\ttotal: 33.3s\tremaining: 4.45s\n",
            "882:\tlearn: 1.2932075\ttotal: 33.3s\tremaining: 4.42s\n",
            "883:\tlearn: 1.2928788\ttotal: 33.4s\tremaining: 4.38s\n",
            "884:\tlearn: 1.2927274\ttotal: 33.4s\tremaining: 4.34s\n",
            "885:\tlearn: 1.2923276\ttotal: 33.4s\tremaining: 4.3s\n",
            "886:\tlearn: 1.2919865\ttotal: 33.5s\tremaining: 4.26s\n",
            "887:\tlearn: 1.2915797\ttotal: 33.5s\tremaining: 4.23s\n",
            "888:\tlearn: 1.2912365\ttotal: 33.6s\tremaining: 4.19s\n",
            "889:\tlearn: 1.2907954\ttotal: 33.6s\tremaining: 4.15s\n",
            "890:\tlearn: 1.2904003\ttotal: 33.6s\tremaining: 4.11s\n",
            "891:\tlearn: 1.2901090\ttotal: 33.7s\tremaining: 4.08s\n",
            "892:\tlearn: 1.2896679\ttotal: 33.7s\tremaining: 4.04s\n",
            "893:\tlearn: 1.2891098\ttotal: 33.7s\tremaining: 4s\n",
            "894:\tlearn: 1.2886147\ttotal: 33.8s\tremaining: 3.96s\n",
            "895:\tlearn: 1.2881081\ttotal: 33.8s\tremaining: 3.92s\n",
            "896:\tlearn: 1.2877100\ttotal: 33.8s\tremaining: 3.89s\n",
            "897:\tlearn: 1.2871917\ttotal: 33.9s\tremaining: 3.85s\n",
            "898:\tlearn: 1.2867436\ttotal: 33.9s\tremaining: 3.81s\n",
            "899:\tlearn: 1.2863245\ttotal: 34s\tremaining: 3.77s\n",
            "900:\tlearn: 1.2862844\ttotal: 34s\tremaining: 3.74s\n",
            "901:\tlearn: 1.2858104\ttotal: 34s\tremaining: 3.7s\n",
            "902:\tlearn: 1.2855140\ttotal: 34.1s\tremaining: 3.66s\n",
            "903:\tlearn: 1.2850002\ttotal: 34.1s\tremaining: 3.62s\n",
            "904:\tlearn: 1.2845719\ttotal: 34.2s\tremaining: 3.58s\n",
            "905:\tlearn: 1.2840537\ttotal: 34.2s\tremaining: 3.55s\n",
            "906:\tlearn: 1.2838162\ttotal: 34.2s\tremaining: 3.51s\n",
            "907:\tlearn: 1.2834344\ttotal: 34.3s\tremaining: 3.47s\n",
            "908:\tlearn: 1.2833046\ttotal: 34.3s\tremaining: 3.44s\n",
            "909:\tlearn: 1.2827792\ttotal: 34.4s\tremaining: 3.4s\n",
            "910:\tlearn: 1.2824606\ttotal: 34.4s\tremaining: 3.36s\n",
            "911:\tlearn: 1.2821334\ttotal: 34.5s\tremaining: 3.33s\n",
            "912:\tlearn: 1.2816316\ttotal: 34.5s\tremaining: 3.29s\n",
            "913:\tlearn: 1.2810929\ttotal: 34.5s\tremaining: 3.25s\n",
            "914:\tlearn: 1.2806416\ttotal: 34.6s\tremaining: 3.21s\n",
            "915:\tlearn: 1.2802687\ttotal: 34.6s\tremaining: 3.17s\n",
            "916:\tlearn: 1.2798606\ttotal: 34.7s\tremaining: 3.14s\n",
            "917:\tlearn: 1.2794864\ttotal: 34.7s\tremaining: 3.1s\n",
            "918:\tlearn: 1.2790668\ttotal: 34.8s\tremaining: 3.07s\n",
            "919:\tlearn: 1.2789196\ttotal: 34.9s\tremaining: 3.03s\n",
            "920:\tlearn: 1.2786209\ttotal: 34.9s\tremaining: 3s\n",
            "921:\tlearn: 1.2782376\ttotal: 35s\tremaining: 2.96s\n",
            "922:\tlearn: 1.2779055\ttotal: 35.1s\tremaining: 2.93s\n",
            "923:\tlearn: 1.2774829\ttotal: 35.2s\tremaining: 2.9s\n",
            "924:\tlearn: 1.2772285\ttotal: 35.3s\tremaining: 2.86s\n",
            "925:\tlearn: 1.2769290\ttotal: 35.4s\tremaining: 2.83s\n",
            "926:\tlearn: 1.2764899\ttotal: 35.5s\tremaining: 2.79s\n",
            "927:\tlearn: 1.2759547\ttotal: 35.6s\tremaining: 2.76s\n",
            "928:\tlearn: 1.2756238\ttotal: 35.7s\tremaining: 2.73s\n",
            "929:\tlearn: 1.2753210\ttotal: 35.8s\tremaining: 2.69s\n",
            "930:\tlearn: 1.2748377\ttotal: 35.9s\tremaining: 2.66s\n",
            "931:\tlearn: 1.2743204\ttotal: 36s\tremaining: 2.63s\n",
            "932:\tlearn: 1.2740841\ttotal: 36.1s\tremaining: 2.59s\n",
            "933:\tlearn: 1.2738155\ttotal: 36.1s\tremaining: 2.55s\n",
            "934:\tlearn: 1.2733316\ttotal: 36.2s\tremaining: 2.52s\n",
            "935:\tlearn: 1.2729614\ttotal: 36.3s\tremaining: 2.48s\n",
            "936:\tlearn: 1.2726459\ttotal: 36.4s\tremaining: 2.45s\n",
            "937:\tlearn: 1.2725470\ttotal: 36.5s\tremaining: 2.41s\n",
            "938:\tlearn: 1.2723058\ttotal: 36.6s\tremaining: 2.38s\n",
            "939:\tlearn: 1.2721472\ttotal: 36.7s\tremaining: 2.34s\n",
            "940:\tlearn: 1.2717636\ttotal: 36.8s\tremaining: 2.31s\n",
            "941:\tlearn: 1.2713706\ttotal: 36.9s\tremaining: 2.27s\n",
            "942:\tlearn: 1.2710020\ttotal: 36.9s\tremaining: 2.23s\n",
            "943:\tlearn: 1.2706351\ttotal: 37s\tremaining: 2.19s\n",
            "944:\tlearn: 1.2701495\ttotal: 37.1s\tremaining: 2.16s\n",
            "945:\tlearn: 1.2698472\ttotal: 37.1s\tremaining: 2.12s\n",
            "946:\tlearn: 1.2695431\ttotal: 37.2s\tremaining: 2.08s\n",
            "947:\tlearn: 1.2692902\ttotal: 37.3s\tremaining: 2.04s\n",
            "948:\tlearn: 1.2692306\ttotal: 37.3s\tremaining: 2.01s\n",
            "949:\tlearn: 1.2686566\ttotal: 37.4s\tremaining: 1.97s\n",
            "950:\tlearn: 1.2681073\ttotal: 37.5s\tremaining: 1.93s\n",
            "951:\tlearn: 1.2677697\ttotal: 37.5s\tremaining: 1.89s\n",
            "952:\tlearn: 1.2673164\ttotal: 37.5s\tremaining: 1.85s\n",
            "953:\tlearn: 1.2669397\ttotal: 37.6s\tremaining: 1.81s\n",
            "954:\tlearn: 1.2664923\ttotal: 37.6s\tremaining: 1.77s\n",
            "955:\tlearn: 1.2660651\ttotal: 37.7s\tremaining: 1.73s\n",
            "956:\tlearn: 1.2660299\ttotal: 37.7s\tremaining: 1.69s\n",
            "957:\tlearn: 1.2657935\ttotal: 37.7s\tremaining: 1.65s\n",
            "958:\tlearn: 1.2654582\ttotal: 37.8s\tremaining: 1.61s\n",
            "959:\tlearn: 1.2651226\ttotal: 37.8s\tremaining: 1.57s\n",
            "960:\tlearn: 1.2646463\ttotal: 37.8s\tremaining: 1.53s\n",
            "961:\tlearn: 1.2643243\ttotal: 37.9s\tremaining: 1.5s\n",
            "962:\tlearn: 1.2639146\ttotal: 37.9s\tremaining: 1.46s\n",
            "963:\tlearn: 1.2635484\ttotal: 37.9s\tremaining: 1.42s\n",
            "964:\tlearn: 1.2633394\ttotal: 38s\tremaining: 1.38s\n",
            "965:\tlearn: 1.2630526\ttotal: 38s\tremaining: 1.34s\n",
            "966:\tlearn: 1.2624261\ttotal: 38.1s\tremaining: 1.3s\n",
            "967:\tlearn: 1.2618601\ttotal: 38.1s\tremaining: 1.26s\n",
            "968:\tlearn: 1.2613759\ttotal: 38.2s\tremaining: 1.22s\n",
            "969:\tlearn: 1.2609220\ttotal: 38.2s\tremaining: 1.18s\n",
            "970:\tlearn: 1.2606537\ttotal: 38.2s\tremaining: 1.14s\n",
            "971:\tlearn: 1.2603553\ttotal: 38.3s\tremaining: 1.1s\n",
            "972:\tlearn: 1.2601419\ttotal: 38.3s\tremaining: 1.06s\n",
            "973:\tlearn: 1.2597358\ttotal: 38.3s\tremaining: 1.02s\n",
            "974:\tlearn: 1.2592488\ttotal: 38.4s\tremaining: 984ms\n",
            "975:\tlearn: 1.2587329\ttotal: 38.4s\tremaining: 944ms\n",
            "976:\tlearn: 1.2582006\ttotal: 38.4s\tremaining: 905ms\n",
            "977:\tlearn: 1.2578017\ttotal: 38.5s\tremaining: 866ms\n",
            "978:\tlearn: 1.2573599\ttotal: 38.5s\tremaining: 826ms\n",
            "979:\tlearn: 1.2569522\ttotal: 38.6s\tremaining: 787ms\n",
            "980:\tlearn: 1.2564874\ttotal: 38.6s\tremaining: 748ms\n",
            "981:\tlearn: 1.2560968\ttotal: 38.7s\tremaining: 709ms\n",
            "982:\tlearn: 1.2560734\ttotal: 38.7s\tremaining: 669ms\n",
            "983:\tlearn: 1.2557433\ttotal: 38.7s\tremaining: 630ms\n",
            "984:\tlearn: 1.2555446\ttotal: 38.8s\tremaining: 590ms\n",
            "985:\tlearn: 1.2551095\ttotal: 38.8s\tremaining: 551ms\n",
            "986:\tlearn: 1.2550682\ttotal: 38.8s\tremaining: 511ms\n",
            "987:\tlearn: 1.2544522\ttotal: 38.9s\tremaining: 472ms\n",
            "988:\tlearn: 1.2542727\ttotal: 38.9s\tremaining: 433ms\n",
            "989:\tlearn: 1.2537857\ttotal: 38.9s\tremaining: 393ms\n",
            "990:\tlearn: 1.2531709\ttotal: 39s\tremaining: 354ms\n",
            "991:\tlearn: 1.2525292\ttotal: 39s\tremaining: 315ms\n",
            "992:\tlearn: 1.2520920\ttotal: 39.1s\tremaining: 275ms\n",
            "993:\tlearn: 1.2518133\ttotal: 39.1s\tremaining: 236ms\n",
            "994:\tlearn: 1.2514940\ttotal: 39.1s\tremaining: 197ms\n",
            "995:\tlearn: 1.2511765\ttotal: 39.2s\tremaining: 157ms\n",
            "996:\tlearn: 1.2508033\ttotal: 39.2s\tremaining: 118ms\n",
            "997:\tlearn: 1.2507791\ttotal: 39.2s\tremaining: 78.6ms\n",
            "998:\tlearn: 1.2502580\ttotal: 39.3s\tremaining: 39.3ms\n",
            "999:\tlearn: 1.2498658\ttotal: 39.3s\tremaining: 0us\n",
            "train time: 39.9s\n",
            "test time:  0.00931s\n",
            "RMSE: 1.74\n",
            "\n",
            "================================================================================\n",
            "ExtraTreesRegressor\n",
            "________________________________________________________________________________\n",
            "Training: \n",
            "ExtraTreesRegressor()\n",
            "train time: 83.6s\n",
            "test time:  0.116s\n",
            "RMSE: 1.76\n",
            "\n",
            "================================================================================\n",
            "RandomForestRegressor\n",
            "________________________________________________________________________________\n",
            "Training: \n",
            "RandomForestRegressor()\n",
            "train time: 2.32e+02s\n",
            "test time:  0.107s\n",
            "RMSE: 1.75\n",
            "\n",
            "================================================================================\n",
            "KNeighborsRegressor\n",
            "________________________________________________________________________________\n",
            "Training: \n",
            "KNeighborsRegressor()\n",
            "train time: 0.00534s\n",
            "test time:  0.892s\n",
            "RMSE: 2.12\n",
            "\n",
            "================================================================================\n",
            "Ridge\n",
            "________________________________________________________________________________\n",
            "Training: \n",
            "Ridge()\n",
            "train time: 0.0367s\n",
            "test time:  0.00321s\n",
            "RMSE: 1.83\n",
            "\n",
            "================================================================================\n",
            "BaggingRegressor\n",
            "________________________________________________________________________________\n",
            "Training: \n",
            "BaggingRegressor()\n",
            "train time: 23.3s\n",
            "test time:  0.0203s\n",
            "RMSE: 1.83\n",
            "\n",
            "================================================================================\n",
            "BayesianRidge\n",
            "________________________________________________________________________________\n",
            "Training: \n",
            "BayesianRidge()\n",
            "train time: 0.293s\n",
            "test time:  0.00336s\n",
            "RMSE: 1.83\n",
            "\n",
            "================================================================================\n",
            "ElasticNet\n",
            "________________________________________________________________________________\n",
            "Training: \n",
            "ElasticNet()\n",
            "train time: 1.29s\n",
            "test time:  0.00364s\n",
            "RMSE: 1.90\n",
            "\n",
            "================================================================================\n",
            "Lasso\n",
            "________________________________________________________________________________\n",
            "Training: \n",
            "Lasso()\n",
            "train time: 1.26s\n",
            "test time:  0.0075s\n",
            "RMSE: 1.91\n",
            "\n",
            "================================================================================\n",
            "GradientBoostingRegressor\n",
            "________________________________________________________________________________\n",
            "Training: \n",
            "GradientBoostingRegressor()\n",
            "train time: 39.6s\n",
            "test time:  0.0078s\n",
            "RMSE: 1.74\n",
            "\n",
            "================================================================================\n",
            "SGDRegressor\n",
            "________________________________________________________________________________\n",
            "Training: \n",
            "SGDRegressor()\n",
            "train time: 1.66s\n",
            "test time:  0.00374s\n",
            "RMSE: 423654748955697728.00\n",
            "\n"
          ]
        }
      ],
      "source": [
        "from time import time\n",
        "\n",
        "def comparison(model, custom_name=False):\n",
        "    print(\"_\" * 80)\n",
        "    print(\"Training: \")\n",
        "    print(model)\n",
        "    t0 = time()\n",
        "    model.fit(filtered_X_train, y_train)\n",
        "    train_time = time() - t0\n",
        "    print(f\"train time: {train_time:.3}s\")\n",
        "\n",
        "    t0 = time()\n",
        "    prediction = model.predict(filtered_X_valid)\n",
        "    test_time = time() - t0\n",
        "    print(f\"test time:  {test_time:.3}s\")\n",
        "\n",
        "    rmse = (np.sqrt(mean_squared_error(y_valid, prediction)))\n",
        "    print(\"RMSE: {:.2f}\".format(rmse))\n",
        "\n",
        "    print()\n",
        "\n",
        "    if custom_name:\n",
        "        model_descr = str(custom_name)\n",
        "    else:\n",
        "        model_descr = model.__class__.__name__\n",
        "    return model_descr, rmse\n",
        "\n",
        "\n",
        "\n",
        "results = []\n",
        "for model, name in (\n",
        "    (xgb.XGBRegressor(),\"XGBRegressor\"),\n",
        "    (CatBoostRegressor(random_state=42,loss_function='RMSE'),'CatBoostRegressor'),\n",
        "    (ExtraTreesRegressor(),\"ExtraTreesRegressor\"),\n",
        "    (RandomForestRegressor(),\"RandomForestRegressor\"),\n",
        "    (KNeighborsRegressor(),'KNeighborsRegressor'),\n",
        "    (Ridge(),\"Ridge\"),\n",
        "    (BaggingRegressor(),\"BaggingRegressor\"),\n",
        "    (BayesianRidge(),'BayesianRidge'),\n",
        "    (ElasticNet(),'ElasticNet'),\n",
        "    (Lasso(),'Lasso'),\n",
        "    (GradientBoostingRegressor(),'GradientBoostingRegressor'),\n",
        "    (SGDRegressor(),\"SGDRegressor\")\n",
        "):\n",
        "\n",
        "    print(\"=\" * 80)\n",
        "    print(name)\n",
        "    results.append(comparison(model, name))"
      ]
    },
    {
      "cell_type": "markdown",
      "metadata": {
        "id": "wtpBLibG2Fso"
      },
      "source": [
        "## Based on the above result, there are 5 regressors (XGB regressor, catboost regressor, extra tree regressor, random forest regressor, gradient boosting regressor) in total whiose RMSE value are between 1.74 to 1.76.\n",
        "\n",
        "\n",
        "##Although the RMSE value of Random forest regressor is 1.75, it costs very lengthy of training time and 3 regressors have lower RMSE value than it based on the above result. Therefore, it will be eliminated to speed up the process. of best model selection  \n",
        "\n",
        "\n"
      ]
    },
    {
      "cell_type": "code",
      "execution_count": null,
      "metadata": {
        "colab": {
          "base_uri": "https://localhost:8080/"
        },
        "id": "ZNkpY3Rb3K_x",
        "outputId": "fae5234b-b99d-4cd1-ef3e-3284322205db"
      },
      "outputs": [
        {
          "name": "stdout",
          "output_type": "stream",
          "text": [
            "================================================================================\n",
            "CatBoostRegressor\n",
            "________________________________________________________________________________\n",
            "Training: \n",
            "<catboost.core.CatBoostRegressor object at 0x7fdec8a0a820>\n",
            "train time: 52.082757234573364s\n",
            "test time:  0.013726234436035156s\n",
            "Mean squared error for cross validation=   1.8099072312074118\n",
            "RMSE: 1.7308065824494308\n",
            "average between Mean squared error for cross validation and RMSE 1.7703569068284213\n",
            "\n",
            "================================================================================\n",
            "XGBRegressor\n",
            "________________________________________________________________________________\n",
            "Training: \n",
            "XGBRegressor()\n",
            "[12:09:17] WARNING: /workspace/src/objective/regression_obj.cu:152: reg:linear is now deprecated in favor of reg:squarederror.\n",
            "train time: 8.293984413146973s\n",
            "test time:  0.02015233039855957s\n",
            "[12:09:25] WARNING: /workspace/src/objective/regression_obj.cu:152: reg:linear is now deprecated in favor of reg:squarederror.\n",
            "[12:09:26] WARNING: /workspace/src/objective/regression_obj.cu:152: reg:linear is now deprecated in favor of reg:squarederror.\n",
            "[12:09:27] WARNING: /workspace/src/objective/regression_obj.cu:152: reg:linear is now deprecated in favor of reg:squarederror.\n",
            "[12:09:28] WARNING: /workspace/src/objective/regression_obj.cu:152: reg:linear is now deprecated in favor of reg:squarederror.\n",
            "[12:09:29] WARNING: /workspace/src/objective/regression_obj.cu:152: reg:linear is now deprecated in favor of reg:squarederror.\n",
            "Mean squared error for cross validation=   1.8185505298902818\n",
            "RMSE: 1.7361349416053888\n",
            "average between Mean squared error for cross validation and RMSE 1.7773427357478353\n",
            "\n",
            "================================================================================\n",
            "ExtraTreesRegressor\n",
            "________________________________________________________________________________\n",
            "Training: \n",
            "ExtraTreesRegressor()\n",
            "train time: 95.51846051216125s\n",
            "test time:  0.1659388542175293s\n",
            "Mean squared error for cross validation=   1.8008798398291632\n",
            "RMSE: 1.7569025398843257\n",
            "average between Mean squared error for cross validation and RMSE 1.7788911898567443\n",
            "\n",
            "================================================================================\n",
            "GradientBoostingRegressor\n",
            "________________________________________________________________________________\n",
            "Training: \n",
            "GradientBoostingRegressor()\n",
            "train time: 38.456345319747925s\n",
            "test time:  0.012906789779663086s\n",
            "Mean squared error for cross validation=   1.863263488986813\n",
            "RMSE: 1.7385585310396097\n",
            "average between Mean squared error for cross validation and RMSE 1.8009110100132113\n",
            "\n"
          ]
        }
      ],
      "source": [
        "from time import time\n",
        "\n",
        "def comparison(model, custom_name=False):\n",
        "    print(\"_\" * 80)\n",
        "    print(\"Training: \")\n",
        "    print(model)\n",
        "    t0 = time()\n",
        "    model.fit(filtered_X_train, y_train)\n",
        "    train_time = time() - t0\n",
        "    print(f\"train time: {train_time:}s\")\n",
        "\n",
        "    t0 = time()\n",
        "    prediction = model.predict(filtered_X_valid)\n",
        "    test_time = time() - t0\n",
        "    print(f\"test time:  {test_time:}s\")\n",
        "\n",
        "    cross_rmse = np.sqrt(-cross_val_score(model, filtered_X_valid, y_valid, scoring=\"neg_mean_squared_error\", cv=5))\n",
        "    mean_of_cross_rmse=cross_rmse.mean()\n",
        "    print(\"Mean squared error for cross validation=  \",mean_of_cross_rmse)\n",
        "\n",
        "    rmse = (np.sqrt(mean_squared_error(y_valid, prediction)))\n",
        "    print(\"RMSE:\",rmse)\n",
        "    avg_rmse=(mean_of_cross_rmse+rmse)/2\n",
        "    print(\"average between Mean squared error for cross validation and RMSE\",avg_rmse)\n",
        "    print()\n",
        "\n",
        "    if custom_name:\n",
        "        model_descr = str(custom_name)\n",
        "    else:\n",
        "        model_descr = model.__class__.__name__\n",
        "    return model_descr, mean_of_cross_rmse, rmse\n",
        "\n",
        "\n",
        "\n",
        "results = []\n",
        "for model, name in (\n",
        "    (CatBoostRegressor(loss_function='RMSE',verbose=0,eval_metric='RMSE'),'CatBoostRegressor'),\n",
        "    (xgb.XGBRegressor(),\"XGBRegressor\"),\n",
        "    (ExtraTreesRegressor(),\"ExtraTreesRegressor\"),\n",
        "    (GradientBoostingRegressor(),'GradientBoostingRegressor'),\n",
        "):\n",
        "\n",
        "    print(\"=\" * 80)\n",
        "    print(name)\n",
        "    results.append(comparison(model, name))\n",
        "\n",
        "\n"
      ]
    },
    {
      "cell_type": "markdown",
      "metadata": {
        "id": "CU626fCCgl6R"
      },
      "source": [
        "## Based on the above results, the CatBoostRegressor gains the highest score in comparision with the other 3 regression models, so the other 3 model regressors will be eliminated. For the following step, hyperparameters optimization will only focus on the catBoost regression model due to lengthy of time to optimize all the models' hyperparameters.  "
      ]
    },
    {
      "cell_type": "code",
      "execution_count": null,
      "metadata": {
        "colab": {
          "base_uri": "https://localhost:8080/",
          "height": 72,
          "referenced_widgets": [
            "adf02cd82f144e048e902423034af67a",
            "d29033b67cb84ab495a07ad7b7a9784c"
          ]
        },
        "id": "rUV0ISAubomF",
        "outputId": "4efdf74a-0241-412d-e9ba-1386af0717e7"
      },
      "outputs": [
        {
          "data": {
            "application/vnd.jupyter.widget-view+json": {
              "model_id": "d29033b67cb84ab495a07ad7b7a9784c",
              "version_major": 2,
              "version_minor": 0
            },
            "text/plain": [
              "MetricVisualizer(layout=Layout(align_self='stretch', height='500px'))"
            ]
          },
          "metadata": {},
          "output_type": "display_data"
        },
        {
          "name": "stdout",
          "output_type": "stream",
          "text": [
            "train time: 5.97188735s\n",
            "test time:  0.008969545364s\n",
            "RMSE: 1.7341680627337894\n"
          ]
        }
      ],
      "source": [
        "new_cbr = CatBoostRegressor(random_state=42,loss_function='RMSE',eval_metric='RMSE',use_best_model=True, depth=6,l2_leaf_reg=3,iterations=200,learning_rate=0.1)\n",
        "ttrain = time()\n",
        "\n",
        "new_cbr.fit(filtered_X_train,y_train, eval_set=(filtered_X_valid, y_valid), verbose=0, plot=True)\n",
        "train_time = time() - ttrain\n",
        "print(f\"train time: {train_time:.10}s\")\n",
        "\n",
        "ttest = time()\n",
        "pred = new_cbr.predict(filtered_X_valid)\n",
        "rmse = (np.sqrt(mean_squared_error(y_valid, pred)))\n",
        "\n",
        "test_time = time() - ttest\n",
        "print(f\"test time:  {test_time:.10}s\")\n",
        "print(\"RMSE:\",rmse)\n"
      ]
    },
    {
      "cell_type": "code",
      "execution_count": null,
      "metadata": {
        "colab": {
          "base_uri": "https://localhost:8080/",
          "height": 460
        },
        "id": "-czPGszXrnit",
        "outputId": "3f42f7ba-ca02-495e-848f-e56a6859be49"
      },
      "outputs": [
        {
          "data": {
            "text/plain": [
              "<matplotlib.legend.Legend at 0x7fdece664dc0>"
            ]
          },
          "execution_count": 92,
          "metadata": {},
          "output_type": "execute_result"
        },
        {
          "data": {
            "image/png": "[encoded data removed]",
            "text/plain": [
              "<Figure size 720x504 with 1 Axes>"
            ]
          },
          "metadata": {},
          "output_type": "display_data"
        }
      ],
      "source": [
        "plt.figure(figsize=(10,7))\n",
        "plt.plot(new_cbr.evals_result_[\"learn\"][\"RMSE\"], label=\"Training RMSE\")\n",
        "plt.plot(new_cbr.evals_result_[\"validation\"][\"RMSE\"], label=\"Validation RMSE\")\n",
        "plt.xlabel(\"variables\")\n",
        "plt.ylabel(\"RMSE rate\")\n",
        "plt.legend()"
      ]
    },
    {
      "cell_type": "code",
      "execution_count": null,
      "metadata": {
        "colab": {
          "base_uri": "https://localhost:8080/",
          "height": 516,
          "referenced_widgets": [
            "ef403a13406443a4bb68317d337bc1eb"
          ]
        },
        "id": "NPQ1nWSxvYsl",
        "outputId": "8b89d5ec-3453-465c-8246-745cf675e457"
      },
      "outputs": [
        {
          "data": {
            "application/vnd.jupyter.widget-view+json": {
              "model_id": "ef403a13406443a4bb68317d337bc1eb",
              "version_major": 2,
              "version_minor": 0
            },
            "text/plain": [
              "MetricVisualizer(layout=Layout(align_self='stretch', height='500px'))"
            ]
          },
          "metadata": {},
          "output_type": "display_data"
        },
        {
          "name": "stdout",
          "output_type": "stream",
          "text": [
            "train time: 10.98407078s\n",
            "test time:  0.01548886299s\n",
            "RMSE: 1.7931058129475912\n"
          ]
        },
        {
          "data": {
            "text/plain": [
              "<matplotlib.legend.Legend at 0x7fdecc011d30>"
            ]
          },
          "execution_count": 117,
          "metadata": {},
          "output_type": "execute_result"
        },
        {
          "data": {
            "image/png": "[encoded data removed]",
            "text/plain": [
              "<Figure size 720x504 with 1 Axes>"
            ]
          },
          "metadata": {},
          "output_type": "display_data"
        }
      ],
      "source": [
        "other_new_cbr = CatBoostRegressor(random_state=42,loss_function='MAE',eval_metric='MAE',use_best_model=True, depth=6,l2_leaf_reg=3,iterations=200,learning_rate=0.1)\n",
        "ttrain = time()\n",
        "\n",
        "\n",
        "other_new_cbr.fit(filtered_X_train,y_train, eval_set=(filtered_X_valid, y_valid), verbose=0, plot=True)\n",
        "train_time = time() - ttrain\n",
        "print(f\"train time: {train_time:.10}s\")\n",
        "\n",
        "ttest = time()\n",
        "pred = other_new_cbr.predict(filtered_X_valid)\n",
        "rmse = (np.sqrt(mean_squared_error(y_valid, pred)))\n",
        "\n",
        "test_time = time() - ttest\n",
        "print(f\"test time:  {test_time:.10}s\")\n",
        "print(\"RMSE:\",rmse)\n",
        "\n",
        "\n",
        "plt.figure(figsize=(10,7))\n",
        "plt.plot(other_new_cbr.evals_result_[\"learn\"][\"MAE\"], label=\"Training MAE\")\n",
        "plt.plot(other_new_cbr.evals_result_[\"validation\"][\"MAE\"], label=\"Validation MAE\")\n",
        "plt.xlabel(\"variables\")\n",
        "plt.ylabel(\"MAE rate\")\n",
        "plt.legend()\n",
        "\n"
      ]
    },
    {
      "cell_type": "code",
      "execution_count": null,
      "metadata": {
        "colab": {
          "base_uri": "https://localhost:8080/",
          "height": 498
        },
        "id": "ngxJzVBDc7x7",
        "outputId": "39d180df-1c08-40d7-de35-6c59005ed3cb"
      },
      "outputs": [
        {
          "data": {
            "image/png": "[encoded data removed]",
            "text/plain": [
              "<Figure size 720x576 with 1 Axes>"
            ]
          },
          "metadata": {},
          "output_type": "display_data"
        }
      ],
      "source": [
        "import seaborn as sns\n",
        "\n",
        "pred = other_new_cbr.predict(filtered_X_valid)\n",
        "xChart = [np.array(y_valid)]\n",
        "yChart = [np.array(pred)]\n",
        "\n",
        "plt.figure(figsize=(10,8))\n",
        "sns.regplot(x=xChart, y=yChart,\n",
        "            ci=None, line_kws={\"color\": \"blue\"},order=2)\n",
        "plt.title(\"Cat Boosting Regresssion for Validation Dataset\")\n",
        "plt.show()"
      ]
    },
    {
      "cell_type": "code",
      "execution_count": null,
      "metadata": {
        "id": "TcbFiLRj5CU5"
      },
      "outputs": [],
      "source": []
    }
  ],
  "metadata": {
    "colab": {
      "provenance": []
    },
    "kernelspec": {
      "display_name": "Python 3 (ipykernel)",
      "language": "python",
      "name": "python3"
    },
    "language_info": {
      "codemirror_mode": {
        "name": "ipython",
        "version": 3
      },
      "file_extension": ".py",
      "mimetype": "text/x-python",
      "name": "python",
      "nbconvert_exporter": "python",
      "pygments_lexer": "ipython3",
      "version": "3.9.12"
    },
    "widgets": {
      "application/vnd.jupyter.widget-state+json": {
        "27d236d3bd8641e093ce92122456627a": {
          "model_module": "catboost-widget",
          "model_module_version": "^1.0.0",
          "model_name": "CatboostWidgetModel",
          "state": {
            "_dom_classes": [],
            "_model_module": "catboost-widget",
            "_model_module_version": "^1.0.0",
            "_model_name": "CatboostWidgetModel",
            "_view_count": null,
            "_view_module": "catboost-widget",
            "_view_module_version": "^1.0.0",
            "_view_name": "CatboostWidgetView",
            "data": {
              "catboost_info": {
                "content": {
                  "data": {
                    "iterations": [
                      {
                        "iteration": 0,
                        "learn": [
                          1.95401695
                        ],
                        "passed_time": 1.876351356,
                        "remaining_time": 1874.475004,
                        "test": [
                          1.970987031
                        ]
                      },
                      {
                        "iteration": 1,
                        "learn": [
                          1.935041628
                        ],
                        "passed_time": 3.099433442,
                        "remaining_time": 1546.617287,
                        "test": [
                          1.950611135
                        ]
                      },
                      {
                        "iteration": 2,
                        "learn": [
                          1.916514364
                        ],
                        "passed_time": 4.374778039,
                        "remaining_time": 1453.884568,
                        "test": [
                          1.930089153
                        ]
                      },
                      {
                        "iteration": 3,
                        "learn": [
                          1.899640644
                        ],
                        "passed_time": 5.589100029,
                        "remaining_time": 1391.685907,
                        "test": [
                          1.911831313
                        ]
                      },
                      {
                        "iteration": 4,
                        "learn": [
                          1.885439151
                        ],
                        "passed_time": 6.926483141,
                        "remaining_time": 1378.370145,
                        "test": [
                          1.897154305
                        ]
                      },
                      {
                        "iteration": 5,
                        "learn": [
                          1.872298939
                        ],
                        "passed_time": 8.087038525,
                        "remaining_time": 1339.752716,
                        "test": [
                          1.883624163
                        ]
                      },
                      {
                        "iteration": 6,
                        "learn": [
                          1.860745333
                        ],
                        "passed_time": 9.297608559,
                        "remaining_time": 1318.932186,
                        "test": [
                          1.870783684
                        ]
                      },
                      {
                        "iteration": 7,
                        "learn": [
                          1.849739099
                        ],
                        "passed_time": 10.51904357,
                        "remaining_time": 1304.361403,
                        "test": [
                          1.859768439
                        ]
                      },
                      {
                        "iteration": 8,
                        "learn": [
                          1.840130303
                        ],
                        "passed_time": 11.7865272,
                        "remaining_time": 1297.827606,
                        "test": [
                          1.848802114
                        ]
                      },
                      {
                        "iteration": 9,
                        "learn": [
                          1.831802386
                        ],
                        "passed_time": 13.01832454,
                        "remaining_time": 1288.81413,
                        "test": [
                          1.839821088
                        ]
                      },
                      {
                        "iteration": 10,
                        "learn": [
                          1.824864406
                        ],
                        "passed_time": 14.19658487,
                        "remaining_time": 1276.402039,
                        "test": [
                          1.832053742
                        ]
                      },
                      {
                        "iteration": 11,
                        "learn": [
                          1.818342227
                        ],
                        "passed_time": 15.46251164,
                        "remaining_time": 1273.080125,
                        "test": [
                          1.826216235
                        ]
                      },
                      {
                        "iteration": 12,
                        "learn": [
                          1.812762653
                        ],
                        "passed_time": 16.70601362,
                        "remaining_time": 1268.371957,
                        "test": [
                          1.820220434
                        ]
                      },
                      {
                        "iteration": 13,
                        "learn": [
                          1.80736173
                        ],
                        "passed_time": 17.92631013,
                        "remaining_time": 1262.524414,
                        "test": [
                          1.814960433
                        ]
                      },
                      {
                        "iteration": 14,
                        "learn": [
                          1.802124896
                        ],
                        "passed_time": 19.19620033,
                        "remaining_time": 1260.550489,
                        "test": [
                          1.809948296
                        ]
                      },
                      {
                        "iteration": 15,
                        "learn": [
                          1.797133112
                        ],
                        "passed_time": 20.47570244,
                        "remaining_time": 1259.2557,
                        "test": [
                          1.804815343
                        ]
                      },
                      {
                        "iteration": 16,
                        "learn": [
                          1.792399168
                        ],
                        "passed_time": 21.81095999,
                        "remaining_time": 1261.186687,
                        "test": [
                          1.799757408
                        ]
                      },
                      {
                        "iteration": 17,
                        "learn": [
                          1.788616405
                        ],
                        "passed_time": 23.0547488,
                        "remaining_time": 1257.764629,
                        "test": [
                          1.795642388
                        ]
                      },
                      {
                        "iteration": 18,
                        "learn": [
                          1.784411136
                        ],
                        "passed_time": 24.31822523,
                        "remaining_time": 1255.588366,
                        "test": [
                          1.793379205
                        ]
                      },
                      {
                        "iteration": 19,
                        "learn": [
                          1.781204023
                        ],
                        "passed_time": 25.51818182,
                        "remaining_time": 1250.390909,
                        "test": [
                          1.790244405
                        ]
                      },
                      {
                        "iteration": 20,
                        "learn": [
                          1.778071539
                        ],
                        "passed_time": 27.56625741,
                        "remaining_time": 1285.112667,
                        "test": [
                          1.787895678
                        ]
                      },
                      {
                        "iteration": 21,
                        "learn": [
                          1.774915561
                        ],
                        "passed_time": 29.12695123,
                        "remaining_time": 1294.825377,
                        "test": [
                          1.784774815
                        ]
                      },
                      {
                        "iteration": 22,
                        "learn": [
                          1.771963478
                        ],
                        "passed_time": 30.77621706,
                        "remaining_time": 1307.320177,
                        "test": [
                          1.782554369
                        ]
                      },
                      {
                        "iteration": 23,
                        "learn": [
                          1.769266151
                        ],
                        "passed_time": 32.5558623,
                        "remaining_time": 1323.9384,
                        "test": [
                          1.780633253
                        ]
                      },
                      {
                        "iteration": 24,
                        "learn": [
                          1.766787394
                        ],
                        "passed_time": 35.20929906,
                        "remaining_time": 1373.162663,
                        "test": [
                          1.778622075
                        ]
                      },
                      {
                        "iteration": 25,
                        "learn": [
                          1.764202535
                        ],
                        "passed_time": 36.55352413,
                        "remaining_time": 1369.35125,
                        "test": [
                          1.77619162
                        ]
                      },
                      {
                        "iteration": 26,
                        "learn": [
                          1.761834528
                        ],
                        "passed_time": 37.75274618,
                        "remaining_time": 1360.497112,
                        "test": [
                          1.774375094
                        ]
                      },
                      {
                        "iteration": 27,
                        "learn": [
                          1.759385179
                        ],
                        "passed_time": 38.95987661,
                        "remaining_time": 1352.464288,
                        "test": [
                          1.773036753
                        ]
                      },
                      {
                        "iteration": 28,
                        "learn": [
                          1.7570889
                        ],
                        "passed_time": 40.24444824,
                        "remaining_time": 1347.495146,
                        "test": [
                          1.771355492
                        ]
                      },
                      {
                        "iteration": 29,
                        "learn": [
                          1.755042154
                        ],
                        "passed_time": 41.49941391,
                        "remaining_time": 1341.814383,
                        "test": [
                          1.770370423
                        ]
                      },
                      {
                        "iteration": 30,
                        "learn": [
                          1.753238087
                        ],
                        "passed_time": 42.67665403,
                        "remaining_time": 1333.989605,
                        "test": [
                          1.768793924
                        ]
                      },
                      {
                        "iteration": 31,
                        "learn": [
                          1.750886654
                        ],
                        "passed_time": 43.96043832,
                        "remaining_time": 1329.803259,
                        "test": [
                          1.766768554
                        ]
                      },
                      {
                        "iteration": 32,
                        "learn": [
                          1.749184575
                        ],
                        "passed_time": 45.1463673,
                        "remaining_time": 1322.925369,
                        "test": [
                          1.765168333
                        ]
                      },
                      {
                        "iteration": 33,
                        "learn": [
                          1.747560004
                        ],
                        "passed_time": 46.37302179,
                        "remaining_time": 1317.539384,
                        "test": [
                          1.764306833
                        ]
                      },
                      {
                        "iteration": 34,
                        "learn": [
                          1.74588684
                        ],
                        "passed_time": 47.64848911,
                        "remaining_time": 1313.736914,
                        "test": [
                          1.762683809
                        ]
                      },
                      {
                        "iteration": 35,
                        "learn": [
                          1.744448784
                        ],
                        "passed_time": 48.86509097,
                        "remaining_time": 1308.498547,
                        "test": [
                          1.761299325
                        ]
                      },
                      {
                        "iteration": 36,
                        "learn": [
                          1.742876946
                        ],
                        "passed_time": 50.12341262,
                        "remaining_time": 1304.563415,
                        "test": [
                          1.760422558
                        ]
                      },
                      {
                        "iteration": 37,
                        "learn": [
                          1.741509832
                        ],
                        "passed_time": 51.2488326,
                        "remaining_time": 1297.404657,
                        "test": [
                          1.75966894
                        ]
                      },
                      {
                        "iteration": 38,
                        "learn": [
                          1.740211842
                        ],
                        "passed_time": 52.40897311,
                        "remaining_time": 1291.41085,
                        "test": [
                          1.759328937
                        ]
                      },
                      {
                        "iteration": 39,
                        "learn": [
                          1.738464069
                        ],
                        "passed_time": 53.58386865,
                        "remaining_time": 1286.012848,
                        "test": [
                          1.757896861
                        ]
                      },
                      {
                        "iteration": 40,
                        "learn": [
                          1.73697697
                        ],
                        "passed_time": 54.76585076,
                        "remaining_time": 1280.986607,
                        "test": [
                          1.757736577
                        ]
                      },
                      {
                        "iteration": 41,
                        "learn": [
                          1.735331284
                        ],
                        "passed_time": 56.02238895,
                        "remaining_time": 1277.844015,
                        "test": [
                          1.756842174
                        ]
                      },
                      {
                        "iteration": 42,
                        "learn": [
                          1.73368354
                        ],
                        "passed_time": 57.25054222,
                        "remaining_time": 1274.157416,
                        "test": [
                          1.756340854
                        ]
                      },
                      {
                        "iteration": 43,
                        "learn": [
                          1.732459524
                        ],
                        "passed_time": 58.41320176,
                        "remaining_time": 1269.159566,
                        "test": [
                          1.755963124
                        ]
                      },
                      {
                        "iteration": 44,
                        "learn": [
                          1.7311253
                        ],
                        "passed_time": 59.67318216,
                        "remaining_time": 1266.397533,
                        "test": [
                          1.755302552
                        ]
                      },
                      {
                        "iteration": 45,
                        "learn": [
                          1.730004872
                        ],
                        "passed_time": 60.90518122,
                        "remaining_time": 1263.120497,
                        "test": [
                          1.754681122
                        ]
                      },
                      {
                        "iteration": 46,
                        "learn": [
                          1.728835056
                        ],
                        "passed_time": 62.0930884,
                        "remaining_time": 1259.036452,
                        "test": [
                          1.754160216
                        ]
                      },
                      {
                        "iteration": 47,
                        "learn": [
                          1.727857114
                        ],
                        "passed_time": 63.36962738,
                        "remaining_time": 1256.830943,
                        "test": [
                          1.753735134
                        ]
                      },
                      {
                        "iteration": 48,
                        "learn": [
                          1.727163145
                        ],
                        "passed_time": 64.89663572,
                        "remaining_time": 1259.524501,
                        "test": [
                          1.75312124
                        ]
                      },
                      {
                        "iteration": 49,
                        "learn": [
                          1.726014977
                        ],
                        "passed_time": 66.74480882,
                        "remaining_time": 1268.151368,
                        "test": [
                          1.75247503
                        ]
                      },
                      {
                        "iteration": 50,
                        "learn": [
                          1.724775289
                        ],
                        "passed_time": 68.28140567,
                        "remaining_time": 1270.569686,
                        "test": [
                          1.751966006
                        ]
                      },
                      {
                        "iteration": 51,
                        "learn": [
                          1.723754952
                        ],
                        "passed_time": 69.52170222,
                        "remaining_time": 1267.43411,
                        "test": [
                          1.751272513
                        ]
                      },
                      {
                        "iteration": 52,
                        "learn": [
                          1.722489967
                        ],
                        "passed_time": 70.72574852,
                        "remaining_time": 1263.722337,
                        "test": [
                          1.75103751
                        ]
                      },
                      {
                        "iteration": 53,
                        "learn": [
                          1.721372522
                        ],
                        "passed_time": 72.01274138,
                        "remaining_time": 1261.556543,
                        "test": [
                          1.75091731
                        ]
                      },
                      {
                        "iteration": 54,
                        "learn": [
                          1.720368929
                        ],
                        "passed_time": 73.18333572,
                        "remaining_time": 1257.422768,
                        "test": [
                          1.750457305
                        ]
                      },
                      {
                        "iteration": 55,
                        "learn": [
                          1.719152732
                        ],
                        "passed_time": 74.39211824,
                        "remaining_time": 1254.038565,
                        "test": [
                          1.75014151
                        ]
                      },
                      {
                        "iteration": 56,
                        "learn": [
                          1.718567775
                        ],
                        "passed_time": 75.49850012,
                        "remaining_time": 1249.03659,
                        "test": [
                          1.749890956
                        ]
                      },
                      {
                        "iteration": 57,
                        "learn": [
                          1.71778666
                        ],
                        "passed_time": 77.00521478,
                        "remaining_time": 1250.670902,
                        "test": [
                          1.749814816
                        ]
                      },
                      {
                        "iteration": 58,
                        "learn": [
                          1.716523845
                        ],
                        "passed_time": 78.59273343,
                        "remaining_time": 1253.487494,
                        "test": [
                          1.749848843
                        ]
                      },
                      {
                        "iteration": 59,
                        "learn": [
                          1.71532721
                        ],
                        "passed_time": 80.41381999,
                        "remaining_time": 1259.816513,
                        "test": [
                          1.74910278
                        ]
                      },
                      {
                        "iteration": 60,
                        "learn": [
                          1.714501379
                        ],
                        "passed_time": 81.99625384,
                        "remaining_time": 1262.204629,
                        "test": [
                          1.748753258
                        ]
                      },
                      {
                        "iteration": 61,
                        "learn": [
                          1.713476198
                        ],
                        "passed_time": 83.63786541,
                        "remaining_time": 1265.359964,
                        "test": [
                          1.748264471
                        ]
                      },
                      {
                        "iteration": 62,
                        "learn": [
                          1.712105619
                        ],
                        "passed_time": 85.10057397,
                        "remaining_time": 1265.702187,
                        "test": [
                          1.748070126
                        ]
                      },
                      {
                        "iteration": 63,
                        "learn": [
                          1.710993265
                        ],
                        "passed_time": 86.62921611,
                        "remaining_time": 1266.952286,
                        "test": [
                          1.747533924
                        ]
                      },
                      {
                        "iteration": 64,
                        "learn": [
                          1.710155849
                        ],
                        "passed_time": 88.16224146,
                        "remaining_time": 1268.179935,
                        "test": [
                          1.747271247
                        ]
                      },
                      {
                        "iteration": 65,
                        "learn": [
                          1.708857887
                        ],
                        "passed_time": 89.68732113,
                        "remaining_time": 1269.211484,
                        "test": [
                          1.746541768
                        ]
                      },
                      {
                        "iteration": 66,
                        "learn": [
                          1.707873872
                        ],
                        "passed_time": 91.48032054,
                        "remaining_time": 1273.897598,
                        "test": [
                          1.746172744
                        ]
                      },
                      {
                        "iteration": 67,
                        "learn": [
                          1.706757428
                        ],
                        "passed_time": 93.00809717,
                        "remaining_time": 1274.758038,
                        "test": [
                          1.746393474
                        ]
                      },
                      {
                        "iteration": 68,
                        "learn": [
                          1.706027966
                        ],
                        "passed_time": 94.22179022,
                        "remaining_time": 1271.311401,
                        "test": [
                          1.746170103
                        ]
                      },
                      {
                        "iteration": 69,
                        "learn": [
                          1.705003282
                        ],
                        "passed_time": 95.3755815,
                        "remaining_time": 1267.132726,
                        "test": [
                          1.746425009
                        ]
                      },
                      {
                        "iteration": 70,
                        "learn": [
                          1.70385841
                        ],
                        "passed_time": 96.65012682,
                        "remaining_time": 1264.619265,
                        "test": [
                          1.7455815
                        ]
                      },
                      {
                        "iteration": 71,
                        "learn": [
                          1.702147181
                        ],
                        "passed_time": 97.84231209,
                        "remaining_time": 1261.078689,
                        "test": [
                          1.744668392
                        ]
                      },
                      {
                        "iteration": 72,
                        "learn": [
                          1.702042283
                        ],
                        "passed_time": 98.88489174,
                        "remaining_time": 1255.702666,
                        "test": [
                          1.744713688
                        ]
                      },
                      {
                        "iteration": 73,
                        "learn": [
                          1.701714651
                        ],
                        "passed_time": 99.9919981,
                        "remaining_time": 1251.251219,
                        "test": [
                          1.744591043
                        ]
                      },
                      {
                        "iteration": 74,
                        "learn": [
                          1.700669698
                        ],
                        "passed_time": 101.095455,
                        "remaining_time": 1246.843945,
                        "test": [
                          1.744033724
                        ]
                      },
                      {
                        "iteration": 75,
                        "learn": [
                          1.69941714
                        ],
                        "passed_time": 102.2314621,
                        "remaining_time": 1242.919355,
                        "test": [
                          1.743447749
                        ]
                      },
                      {
                        "iteration": 76,
                        "learn": [
                          1.69809085
                        ],
                        "passed_time": 103.517219,
                        "remaining_time": 1240.862249,
                        "test": [
                          1.742485933
                        ]
                      },
                      {
                        "iteration": 77,
                        "learn": [
                          1.697382307
                        ],
                        "passed_time": 104.7081871,
                        "remaining_time": 1237.704468,
                        "test": [
                          1.741809527
                        ]
                      },
                      {
                        "iteration": 78,
                        "learn": [
                          1.696433719
                        ],
                        "passed_time": 105.9044187,
                        "remaining_time": 1234.657843,
                        "test": [
                          1.741863027
                        ]
                      },
                      {
                        "iteration": 79,
                        "learn": [
                          1.695213833
                        ],
                        "passed_time": 107.1871837,
                        "remaining_time": 1232.652612,
                        "test": [
                          1.741573879
                        ]
                      },
                      {
                        "iteration": 80,
                        "learn": [
                          1.694198395
                        ],
                        "passed_time": 108.7939865,
                        "remaining_time": 1234.341649,
                        "test": [
                          1.741620239
                        ]
                      },
                      {
                        "iteration": 81,
                        "learn": [
                          1.693238261
                        ],
                        "passed_time": 111.4890901,
                        "remaining_time": 1248.13396,
                        "test": [
                          1.741085297
                        ]
                      },
                      {
                        "iteration": 82,
                        "learn": [
                          1.692349492
                        ],
                        "passed_time": 114.350071,
                        "remaining_time": 1263.361628,
                        "test": [
                          1.741075096
                        ]
                      },
                      {
                        "iteration": 83,
                        "learn": [
                          1.69159296
                        ],
                        "passed_time": 115.9434674,
                        "remaining_time": 1264.335906,
                        "test": [
                          1.740804679
                        ]
                      },
                      {
                        "iteration": 84,
                        "learn": [
                          1.690522003
                        ],
                        "passed_time": 117.5946886,
                        "remaining_time": 1265.872236,
                        "test": [
                          1.740403421
                        ]
                      },
                      {
                        "iteration": 85,
                        "learn": [
                          1.689517974
                        ],
                        "passed_time": 119.3277582,
                        "remaining_time": 1268.204314,
                        "test": [
                          1.740197052
                        ]
                      },
                      {
                        "iteration": 86,
                        "learn": [
                          1.688189838
                        ],
                        "passed_time": 121.2661208,
                        "remaining_time": 1272.597337,
                        "test": [
                          1.7394743
                        ]
                      },
                      {
                        "iteration": 87,
                        "learn": [
                          1.687674209
                        ],
                        "passed_time": 122.8348295,
                        "remaining_time": 1273.015506,
                        "test": [
                          1.739481665
                        ]
                      },
                      {
                        "iteration": 88,
                        "learn": [
                          1.686525507
                        ],
                        "passed_time": 124.3113787,
                        "remaining_time": 1272.445685,
                        "test": [
                          1.738917085
                        ]
                      },
                      {
                        "iteration": 89,
                        "learn": [
                          1.685601119
                        ],
                        "passed_time": 126.0432334,
                        "remaining_time": 1274.437138,
                        "test": [
                          1.739193138
                        ]
                      },
                      {
                        "iteration": 90,
                        "learn": [
                          1.684460848
                        ],
                        "passed_time": 127.7324287,
                        "remaining_time": 1275.920633,
                        "test": [
                          1.738959926
                        ]
                      },
                      {
                        "iteration": 91,
                        "learn": [
                          1.683840372
                        ],
                        "passed_time": 129.3630623,
                        "remaining_time": 1276.75718,
                        "test": [
                          1.738934101
                        ]
                      },
                      {
                        "iteration": 92,
                        "learn": [
                          1.683268604
                        ],
                        "passed_time": 131.1904513,
                        "remaining_time": 1279.459562,
                        "test": [
                          1.738836119
                        ]
                      },
                      {
                        "iteration": 93,
                        "learn": [
                          1.682566465
                        ],
                        "passed_time": 133.0807618,
                        "remaining_time": 1282.672023,
                        "test": [
                          1.738927906
                        ]
                      },
                      {
                        "iteration": 94,
                        "learn": [
                          1.681933988
                        ],
                        "passed_time": 134.2193744,
                        "remaining_time": 1278.616146,
                        "test": [
                          1.738878352
                        ]
                      },
                      {
                        "iteration": 95,
                        "learn": [
                          1.681199593
                        ],
                        "passed_time": 135.572621,
                        "remaining_time": 1276.642181,
                        "test": [
                          1.738700311
                        ]
                      },
                      {
                        "iteration": 96,
                        "learn": [
                          1.680441044
                        ],
                        "passed_time": 137.1492314,
                        "remaining_time": 1276.760371,
                        "test": [
                          1.738261049
                        ]
                      },
                      {
                        "iteration": 97,
                        "learn": [
                          1.679538766
                        ],
                        "passed_time": 138.7924056,
                        "remaining_time": 1277.456631,
                        "test": [
                          1.738482251
                        ]
                      },
                      {
                        "iteration": 98,
                        "learn": [
                          1.678903216
                        ],
                        "passed_time": 140.3743063,
                        "remaining_time": 1277.54798,
                        "test": [
                          1.738407604
                        ]
                      },
                      {
                        "iteration": 99,
                        "learn": [
                          1.678410634
                        ],
                        "passed_time": 142.1154285,
                        "remaining_time": 1279.038856,
                        "test": [
                          1.7381103
                        ]
                      },
                      {
                        "iteration": 100,
                        "learn": [
                          1.678250404
                        ],
                        "passed_time": 144.6682484,
                        "remaining_time": 1287.690647,
                        "test": [
                          1.73806263
                        ]
                      },
                      {
                        "iteration": 101,
                        "learn": [
                          1.677701081
                        ],
                        "passed_time": 145.9778182,
                        "remaining_time": 1285.177262,
                        "test": [
                          1.738108846
                        ]
                      },
                      {
                        "iteration": 102,
                        "learn": [
                          1.677454824
                        ],
                        "passed_time": 147.1031311,
                        "remaining_time": 1281.082608,
                        "test": [
                          1.738217948
                        ]
                      },
                      {
                        "iteration": 103,
                        "learn": [
                          1.676597733
                        ],
                        "passed_time": 148.3549389,
                        "remaining_time": 1278.134858,
                        "test": [
                          1.737568475
                        ]
                      },
                      {
                        "iteration": 104,
                        "learn": [
                          1.675671478
                        ],
                        "passed_time": 149.5045792,
                        "remaining_time": 1274.348556,
                        "test": [
                          1.73745218
                        ]
                      },
                      {
                        "iteration": 105,
                        "learn": [
                          1.675009508
                        ],
                        "passed_time": 150.8494855,
                        "remaining_time": 1272.258868,
                        "test": [
                          1.737367274
                        ]
                      },
                      {
                        "iteration": 106,
                        "learn": [
                          1.674358643
                        ],
                        "passed_time": 152.6630013,
                        "remaining_time": 1274.094021,
                        "test": [
                          1.737268149
                        ]
                      },
                      {
                        "iteration": 107,
                        "learn": [
                          1.673800336
                        ],
                        "passed_time": 154.3209403,
                        "remaining_time": 1274.576655,
                        "test": [
                          1.73730663
                        ]
                      },
                      {
                        "iteration": 108,
                        "learn": [
                          1.673055163
                        ],
                        "passed_time": 156.1861772,
                        "remaining_time": 1276.714531,
                        "test": [
                          1.737511866
                        ]
                      },
                      {
                        "iteration": 109,
                        "learn": [
                          1.672057413
                        ],
                        "passed_time": 157.7496898,
                        "remaining_time": 1276.3384,
                        "test": [
                          1.737489026
                        ]
                      },
                      {
                        "iteration": 110,
                        "learn": [
                          1.671465961
                        ],
                        "passed_time": 158.8783579,
                        "remaining_time": 1272.4582,
                        "test": [
                          1.737470904
                        ]
                      },
                      {
                        "iteration": 111,
                        "learn": [
                          1.6707701
                        ],
                        "passed_time": 160.0256905,
                        "remaining_time": 1268.775118,
                        "test": [
                          1.737216914
                        ]
                      },
                      {
                        "iteration": 112,
                        "learn": [
                          1.669823
                        ],
                        "passed_time": 161.1911358,
                        "remaining_time": 1265.279093,
                        "test": [
                          1.737324465
                        ]
                      },
                      {
                        "iteration": 113,
                        "learn": [
                          1.668865468
                        ],
                        "passed_time": 162.318807,
                        "remaining_time": 1261.530378,
                        "test": [
                          1.737200552
                        ]
                      },
                      {
                        "iteration": 114,
                        "learn": [
                          1.667894963
                        ],
                        "passed_time": 164.0093956,
                        "remaining_time": 1262.159262,
                        "test": [
                          1.737284212
                        ]
                      },
                      {
                        "iteration": 115,
                        "learn": [
                          1.667346126
                        ],
                        "passed_time": 165.8559441,
                        "remaining_time": 1263.936677,
                        "test": [
                          1.737234765
                        ]
                      },
                      {
                        "iteration": 116,
                        "learn": [
                          1.667219584
                        ],
                        "passed_time": 167.3770109,
                        "remaining_time": 1263.195732,
                        "test": [
                          1.737286284
                        ]
                      },
                      {
                        "iteration": 117,
                        "learn": [
                          1.666313888
                        ],
                        "passed_time": 169.1339011,
                        "remaining_time": 1264.204244,
                        "test": [
                          1.737102789
                        ]
                      },
                      {
                        "iteration": 118,
                        "learn": [
                          1.666235402
                        ],
                        "passed_time": 170.7543198,
                        "remaining_time": 1264.155931,
                        "test": [
                          1.737105346
                        ]
                      },
                      {
                        "iteration": 119,
                        "learn": [
                          1.665390014
                        ],
                        "passed_time": 172.6453481,
                        "remaining_time": 1266.065886,
                        "test": [
                          1.736775749
                        ]
                      },
                      {
                        "iteration": 120,
                        "learn": [
                          1.664436112
                        ],
                        "passed_time": 173.7973412,
                        "remaining_time": 1262.544321,
                        "test": [
                          1.736504749
                        ]
                      },
                      {
                        "iteration": 121,
                        "learn": [
                          1.66317531
                        ],
                        "passed_time": 175.0829204,
                        "remaining_time": 1260.022985,
                        "test": [
                          1.736813427
                        ]
                      },
                      {
                        "iteration": 122,
                        "learn": [
                          1.661901151
                        ],
                        "passed_time": 176.2112629,
                        "remaining_time": 1256.40063,
                        "test": [
                          1.736469863
                        ]
                      },
                      {
                        "iteration": 123,
                        "learn": [
                          1.661036411
                        ],
                        "passed_time": 177.3905923,
                        "remaining_time": 1253.1787,
                        "test": [
                          1.736381264
                        ]
                      },
                      {
                        "iteration": 124,
                        "learn": [
                          1.660660741
                        ],
                        "passed_time": 178.5346601,
                        "remaining_time": 1249.74262,
                        "test": [
                          1.736389419
                        ]
                      },
                      {
                        "iteration": 125,
                        "learn": [
                          1.660484239
                        ],
                        "passed_time": 179.6530935,
                        "remaining_time": 1246.165109,
                        "test": [
                          1.736436001
                        ]
                      },
                      {
                        "iteration": 126,
                        "learn": [
                          1.659721373
                        ],
                        "passed_time": 180.8819906,
                        "remaining_time": 1243.385652,
                        "test": [
                          1.736914966
                        ]
                      },
                      {
                        "iteration": 127,
                        "learn": [
                          1.659187199
                        ],
                        "passed_time": 181.9594763,
                        "remaining_time": 1239.598932,
                        "test": [
                          1.736679701
                        ]
                      },
                      {
                        "iteration": 128,
                        "learn": [
                          1.658391679
                        ],
                        "passed_time": 183.0530273,
                        "remaining_time": 1235.962688,
                        "test": [
                          1.736510562
                        ]
                      },
                      {
                        "iteration": 129,
                        "learn": [
                          1.656607494
                        ],
                        "passed_time": 184.3178739,
                        "remaining_time": 1233.511925,
                        "test": [
                          1.735556975
                        ]
                      },
                      {
                        "iteration": 130,
                        "learn": [
                          1.65543836
                        ],
                        "passed_time": 185.4466952,
                        "remaining_time": 1230.176932,
                        "test": [
                          1.735757526
                        ]
                      },
                      {
                        "iteration": 131,
                        "learn": [
                          1.655023555
                        ],
                        "passed_time": 186.5357712,
                        "remaining_time": 1226.614011,
                        "test": [
                          1.735882158
                        ]
                      },
                      {
                        "iteration": 132,
                        "learn": [
                          1.654795508
                        ],
                        "passed_time": 187.5692209,
                        "remaining_time": 1222.725673,
                        "test": [
                          1.73596583
                        ]
                      },
                      {
                        "iteration": 133,
                        "learn": [
                          1.653745638
                        ],
                        "passed_time": 188.9728928,
                        "remaining_time": 1221.272576,
                        "test": [
                          1.736009708
                        ]
                      },
                      {
                        "iteration": 134,
                        "learn": [
                          1.652425072
                        ],
                        "passed_time": 191.4780883,
                        "remaining_time": 1226.878121,
                        "test": [
                          1.736019453
                        ]
                      },
                      {
                        "iteration": 135,
                        "learn": [
                          1.651395922
                        ],
                        "passed_time": 193.4721429,
                        "remaining_time": 1229.117143,
                        "test": [
                          1.735980638
                        ]
                      },
                      {
                        "iteration": 136,
                        "learn": [
                          1.650147115
                        ],
                        "passed_time": 196.2755831,
                        "remaining_time": 1236.392907,
                        "test": [
                          1.735830202
                        ]
                      },
                      {
                        "iteration": 137,
                        "learn": [
                          1.648488127
                        ],
                        "passed_time": 198.2530283,
                        "remaining_time": 1238.363119,
                        "test": [
                          1.735645098
                        ]
                      },
                      {
                        "iteration": 138,
                        "learn": [
                          1.648029035
                        ],
                        "passed_time": 199.6641669,
                        "remaining_time": 1236.768688,
                        "test": [
                          1.735623757
                        ]
                      },
                      {
                        "iteration": 139,
                        "learn": [
                          1.646725244
                        ],
                        "passed_time": 200.8478558,
                        "remaining_time": 1233.779686,
                        "test": [
                          1.735237351
                        ]
                      },
                      {
                        "iteration": 140,
                        "learn": [
                          1.645310789
                        ],
                        "passed_time": 202.1140692,
                        "remaining_time": 1231.319046,
                        "test": [
                          1.735306546
                        ]
                      },
                      {
                        "iteration": 141,
                        "learn": [
                          1.643732526
                        ],
                        "passed_time": 203.3503058,
                        "remaining_time": 1228.694101,
                        "test": [
                          1.734896754
                        ]
                      },
                      {
                        "iteration": 142,
                        "learn": [
                          1.642286615
                        ],
                        "passed_time": 204.5333252,
                        "remaining_time": 1225.769648,
                        "test": [
                          1.734606824
                        ]
                      },
                      {
                        "iteration": 143,
                        "learn": [
                          1.640463198
                        ],
                        "passed_time": 205.9749524,
                        "remaining_time": 1224.406661,
                        "test": [
                          1.734480148
                        ]
                      },
                      {
                        "iteration": 144,
                        "learn": [
                          1.63938355
                        ],
                        "passed_time": 208.2343668,
                        "remaining_time": 1227.864715,
                        "test": [
                          1.734461361
                        ]
                      },
                      {
                        "iteration": 145,
                        "learn": [
                          1.638473143
                        ],
                        "passed_time": 210.1119818,
                        "remaining_time": 1229.011181,
                        "test": [
                          1.73520636
                        ]
                      },
                      {
                        "iteration": 146,
                        "learn": [
                          1.637478409
                        ],
                        "passed_time": 212.0353033,
                        "remaining_time": 1230.381726,
                        "test": [
                          1.735231422
                        ]
                      },
                      {
                        "iteration": 147,
                        "learn": [
                          1.635893533
                        ],
                        "passed_time": 214.0384054,
                        "remaining_time": 1232.167036,
                        "test": [
                          1.735015457
                        ]
                      },
                      {
                        "iteration": 148,
                        "learn": [
                          1.635588994
                        ],
                        "passed_time": 215.6311854,
                        "remaining_time": 1231.557978,
                        "test": [
                          1.735098421
                        ]
                      },
                      {
                        "iteration": 149,
                        "learn": [
                          1.634865785
                        ],
                        "passed_time": 216.7302293,
                        "remaining_time": 1228.137966,
                        "test": [
                          1.734705656
                        ]
                      },
                      {
                        "iteration": 150,
                        "learn": [
                          1.633707358
                        ],
                        "passed_time": 217.8880411,
                        "remaining_time": 1225.079118,
                        "test": [
                          1.734175576
                        ]
                      },
                      {
                        "iteration": 151,
                        "learn": [
                          1.6325408
                        ],
                        "passed_time": 219.0466259,
                        "remaining_time": 1222.049597,
                        "test": [
                          1.73427891
                        ]
                      },
                      {
                        "iteration": 152,
                        "learn": [
                          1.631473412
                        ],
                        "passed_time": 220.2107138,
                        "remaining_time": 1219.074997,
                        "test": [
                          1.734092675
                        ]
                      },
                      {
                        "iteration": 153,
                        "learn": [
                          1.630744601
                        ],
                        "passed_time": 221.3982935,
                        "remaining_time": 1216.252963,
                        "test": [
                          1.733915769
                        ]
                      },
                      {
                        "iteration": 154,
                        "learn": [
                          1.6299013
                        ],
                        "passed_time": 222.5438024,
                        "remaining_time": 1213.222665,
                        "test": [
                          1.733797883
                        ]
                      },
                      {
                        "iteration": 155,
                        "learn": [
                          1.629049536
                        ],
                        "passed_time": 223.7027515,
                        "remaining_time": 1210.289245,
                        "test": [
                          1.733869083
                        ]
                      },
                      {
                        "iteration": 156,
                        "learn": [
                          1.627879048
                        ],
                        "passed_time": 224.9114625,
                        "remaining_time": 1207.645624,
                        "test": [
                          1.733526291
                        ]
                      },
                      {
                        "iteration": 157,
                        "learn": [
                          1.626658956
                        ],
                        "passed_time": 226.5421163,
                        "remaining_time": 1207.268746,
                        "test": [
                          1.733762866
                        ]
                      },
                      {
                        "iteration": 158,
                        "learn": [
                          1.625747994
                        ],
                        "passed_time": 228.359235,
                        "remaining_time": 1207.862369,
                        "test": [
                          1.733889056
                        ]
                      },
                      {
                        "iteration": 159,
                        "learn": [
                          1.625024591
                        ],
                        "passed_time": 229.4675055,
                        "remaining_time": 1204.704404,
                        "test": [
                          1.733695453
                        ]
                      },
                      {
                        "iteration": 160,
                        "learn": [
                          1.623789106
                        ],
                        "passed_time": 230.7362208,
                        "remaining_time": 1202.408008,
                        "test": [
                          1.73358193
                        ]
                      },
                      {
                        "iteration": 161,
                        "learn": [
                          1.623573143
                        ],
                        "passed_time": 232.4133855,
                        "remaining_time": 1202.237142,
                        "test": [
                          1.733675142
                        ]
                      },
                      {
                        "iteration": 162,
                        "learn": [
                          1.623388036
                        ],
                        "passed_time": 234.1275533,
                        "remaining_time": 1202.237804,
                        "test": [
                          1.733785668
                        ]
                      },
                      {
                        "iteration": 163,
                        "learn": [
                          1.622018212
                        ],
                        "passed_time": 235.6204524,
                        "remaining_time": 1201.089623,
                        "test": [
                          1.733538972
                        ]
                      },
                      {
                        "iteration": 164,
                        "learn": [
                          1.620956514
                        ],
                        "passed_time": 236.7885507,
                        "remaining_time": 1198.293575,
                        "test": [
                          1.733511686
                        ]
                      },
                      {
                        "iteration": 165,
                        "learn": [
                          1.620111279
                        ],
                        "passed_time": 237.8900967,
                        "remaining_time": 1195.182775,
                        "test": [
                          1.733320265
                        ]
                      },
                      {
                        "iteration": 166,
                        "learn": [
                          1.618928957
                        ],
                        "passed_time": 239.0526692,
                        "remaining_time": 1192.40044,
                        "test": [
                          1.732862844
                        ]
                      },
                      {
                        "iteration": 167,
                        "learn": [
                          1.618006064
                        ],
                        "passed_time": 240.2165946,
                        "remaining_time": 1189.644087,
                        "test": [
                          1.732450405
                        ]
                      },
                      {
                        "iteration": 168,
                        "learn": [
                          1.617222397
                        ],
                        "passed_time": 241.3233873,
                        "remaining_time": 1186.62565,
                        "test": [
                          1.732417459
                        ]
                      },
                      {
                        "iteration": 169,
                        "learn": [
                          1.615910699
                        ],
                        "passed_time": 242.5922831,
                        "remaining_time": 1184.421147,
                        "test": [
                          1.73205441
                        ]
                      },
                      {
                        "iteration": 170,
                        "learn": [
                          1.615687283
                        ],
                        "passed_time": 243.6437542,
                        "remaining_time": 1181.173522,
                        "test": [
                          1.732129507
                        ]
                      },
                      {
                        "iteration": 171,
                        "learn": [
                          1.614462394
                        ],
                        "passed_time": 244.8792089,
                        "remaining_time": 1178.837122,
                        "test": [
                          1.731799455
                        ]
                      },
                      {
                        "iteration": 172,
                        "learn": [
                          1.61341944
                        ],
                        "passed_time": 246.1337696,
                        "remaining_time": 1176.604783,
                        "test": [
                          1.731623305
                        ]
                      },
                      {
                        "iteration": 173,
                        "learn": [
                          1.612385204
                        ],
                        "passed_time": 247.2707663,
                        "remaining_time": 1173.825592,
                        "test": [
                          1.731566072
                        ]
                      },
                      {
                        "iteration": 174,
                        "learn": [
                          1.611536765
                        ],
                        "passed_time": 248.4737493,
                        "remaining_time": 1171.376246,
                        "test": [
                          1.731443464
                        ]
                      },
                      {
                        "iteration": 175,
                        "learn": [
                          1.610364918
                        ],
                        "passed_time": 249.6820899,
                        "remaining_time": 1168.966148,
                        "test": [
                          1.731789257
                        ]
                      },
                      {
                        "iteration": 176,
                        "learn": [
                          1.609397452
                        ],
                        "passed_time": 250.8528293,
                        "remaining_time": 1166.394794,
                        "test": [
                          1.731627749
                        ]
                      },
                      {
                        "iteration": 177,
                        "learn": [
                          1.608394061
                        ],
                        "passed_time": 252.0986298,
                        "remaining_time": 1164.185807,
                        "test": [
                          1.731370846
                        ]
                      },
                      {
                        "iteration": 178,
                        "learn": [
                          1.60704094
                        ],
                        "passed_time": 253.2844567,
                        "remaining_time": 1161.712508,
                        "test": [
                          1.731264399
                        ]
                      },
                      {
                        "iteration": 179,
                        "learn": [
                          1.606065195
                        ],
                        "passed_time": 254.4170851,
                        "remaining_time": 1159.011165,
                        "test": [
                          1.731129862
                        ]
                      },
                      {
                        "iteration": 180,
                        "learn": [
                          1.605283057
                        ],
                        "passed_time": 255.6324062,
                        "remaining_time": 1156.70133,
                        "test": [
                          1.730846089
                        ]
                      },
                      {
                        "iteration": 181,
                        "learn": [
                          1.604066562
                        ],
                        "passed_time": 256.8669227,
                        "remaining_time": 1154.489795,
                        "test": [
                          1.731070744
                        ]
                      },
                      {
                        "iteration": 182,
                        "learn": [
                          1.602685128
                        ],
                        "passed_time": 258.3327458,
                        "remaining_time": 1153.321603,
                        "test": [
                          1.730980912
                        ]
                      },
                      {
                        "iteration": 183,
                        "learn": [
                          1.601710138
                        ],
                        "passed_time": 260.2929235,
                        "remaining_time": 1154.342531,
                        "test": [
                          1.731258567
                        ]
                      },
                      {
                        "iteration": 184,
                        "learn": [
                          1.601550853
                        ],
                        "passed_time": 261.9586271,
                        "remaining_time": 1154.033952,
                        "test": [
                          1.731326541
                        ]
                      },
                      {
                        "iteration": 185,
                        "learn": [
                          1.600455149
                        ],
                        "passed_time": 263.2373807,
                        "remaining_time": 1152.017354,
                        "test": [
                          1.731427243
                        ]
                      },
                      {
                        "iteration": 186,
                        "learn": [
                          1.599929316
                        ],
                        "passed_time": 264.4390605,
                        "remaining_time": 1149.673562,
                        "test": [
                          1.731400759
                        ]
                      },
                      {
                        "iteration": 187,
                        "learn": [
                          1.598987086
                        ],
                        "passed_time": 265.6421233,
                        "remaining_time": 1147.347894,
                        "test": [
                          1.731359412
                        ]
                      },
                      {
                        "iteration": 188,
                        "learn": [
                          1.598011601
                        ],
                        "passed_time": 266.8738299,
                        "remaining_time": 1145.157016,
                        "test": [
                          1.7317371
                        ]
                      },
                      {
                        "iteration": 189,
                        "learn": [
                          1.596854986
                        ],
                        "passed_time": 268.1010068,
                        "remaining_time": 1142.956924,
                        "test": [
                          1.731864656
                        ]
                      },
                      {
                        "iteration": 190,
                        "learn": [
                          1.596663842
                        ],
                        "passed_time": 269.1705582,
                        "remaining_time": 1140.09938,
                        "test": [
                          1.731955678
                        ]
                      },
                      {
                        "iteration": 191,
                        "learn": [
                          1.59575928
                        ],
                        "passed_time": 270.3119316,
                        "remaining_time": 1137.562712,
                        "test": [
                          1.732005501
                        ]
                      },
                      {
                        "iteration": 192,
                        "learn": [
                          1.594640826
                        ],
                        "passed_time": 271.4980313,
                        "remaining_time": 1135.227519,
                        "test": [
                          1.731950677
                        ]
                      },
                      {
                        "iteration": 193,
                        "learn": [
                          1.59357363
                        ],
                        "passed_time": 272.6658652,
                        "remaining_time": 1132.828285,
                        "test": [
                          1.73180769
                        ]
                      },
                      {
                        "iteration": 194,
                        "learn": [
                          1.592573974
                        ],
                        "passed_time": 273.9168644,
                        "remaining_time": 1130.785004,
                        "test": [
                          1.731978964
                        ]
                      },
                      {
                        "iteration": 195,
                        "learn": [
                          1.591759228
                        ],
                        "passed_time": 275.0578471,
                        "remaining_time": 1128.298516,
                        "test": [
                          1.732303656
                        ]
                      },
                      {
                        "iteration": 196,
                        "learn": [
                          1.591008915
                        ],
                        "passed_time": 276.2373455,
                        "remaining_time": 1125.982682,
                        "test": [
                          1.73238897
                        ]
                      },
                      {
                        "iteration": 197,
                        "learn": [
                          1.589968975
                        ],
                        "passed_time": 277.3872967,
                        "remaining_time": 1123.558646,
                        "test": [
                          1.732122968
                        ]
                      },
                      {
                        "iteration": 198,
                        "learn": [
                          1.589053263
                        ],
                        "passed_time": 278.6373733,
                        "remaining_time": 1121.550432,
                        "test": [
                          1.731863713
                        ]
                      },
                      {
                        "iteration": 199,
                        "learn": [
                          1.587612014
                        ],
                        "passed_time": 279.9368119,
                        "remaining_time": 1119.747248,
                        "test": [
                          1.731548735
                        ]
                      },
                      {
                        "iteration": 200,
                        "learn": [
                          1.586340304
                        ],
                        "passed_time": 281.1985065,
                        "remaining_time": 1117.799038,
                        "test": [
                          1.731330176
                        ]
                      },
                      {
                        "iteration": 201,
                        "learn": [
                          1.585490223
                        ],
                        "passed_time": 283.15043,
                        "remaining_time": 1118.584372,
                        "test": [
                          1.731330417
                        ]
                      },
                      {
                        "iteration": 202,
                        "learn": [
                          1.584100431
                        ],
                        "passed_time": 285.0117737,
                        "remaining_time": 1118.987111,
                        "test": [
                          1.731047514
                        ]
                      },
                      {
                        "iteration": 203,
                        "learn": [
                          1.582919781
                        ],
                        "passed_time": 286.2469693,
                        "remaining_time": 1116.924449,
                        "test": [
                          1.730892528
                        ]
                      },
                      {
                        "iteration": 204,
                        "learn": [
                          1.582786044
                        ],
                        "passed_time": 287.3203551,
                        "remaining_time": 1114.242353,
                        "test": [
                          1.730923381
                        ]
                      },
                      {
                        "iteration": 205,
                        "learn": [
                          1.581935458
                        ],
                        "passed_time": 288.4681993,
                        "remaining_time": 1111.862865,
                        "test": [
                          1.73084924
                        ]
                      },
                      {
                        "iteration": 206,
                        "learn": [
                          1.580218069
                        ],
                        "passed_time": 289.7542927,
                        "remaining_time": 1110.024899,
                        "test": [
                          1.730777736
                        ]
                      },
                      {
                        "iteration": 207,
                        "learn": [
                          1.579268622
                        ],
                        "passed_time": 290.9015959,
                        "remaining_time": 1107.663769,
                        "test": [
                          1.730767203
                        ]
                      },
                      {
                        "iteration": 208,
                        "learn": [
                          1.57806955
                        ],
                        "passed_time": 292.1179375,
                        "remaining_time": 1105.575543,
                        "test": [
                          1.73118073
                        ]
                      },
                      {
                        "iteration": 209,
                        "learn": [
                          1.577045198
                        ],
                        "passed_time": 293.3002099,
                        "remaining_time": 1103.367456,
                        "test": [
                          1.731452103
                        ]
                      },
                      {
                        "iteration": 210,
                        "learn": [
                          1.575785789
                        ],
                        "passed_time": 294.5098777,
                        "remaining_time": 1101.271533,
                        "test": [
                          1.731384887
                        ]
                      },
                      {
                        "iteration": 211,
                        "learn": [
                          1.574857834
                        ],
                        "passed_time": 296.5429665,
                        "remaining_time": 1102.244611,
                        "test": [
                          1.731141231
                        ]
                      },
                      {
                        "iteration": 212,
                        "learn": [
                          1.574312964
                        ],
                        "passed_time": 297.7948145,
                        "remaining_time": 1100.302906,
                        "test": [
                          1.73103564
                        ]
                      },
                      {
                        "iteration": 213,
                        "learn": [
                          1.573385526
                        ],
                        "passed_time": 299.0094216,
                        "remaining_time": 1098.230866,
                        "test": [
                          1.731093764
                        ]
                      },
                      {
                        "iteration": 214,
                        "learn": [
                          1.572611598
                        ],
                        "passed_time": 300.2359837,
                        "remaining_time": 1096.210452,
                        "test": [
                          1.730861301
                        ]
                      },
                      {
                        "iteration": 215,
                        "learn": [
                          1.571784937
                        ],
                        "passed_time": 301.4276929,
                        "remaining_time": 1094.070885,
                        "test": [
                          1.73089084
                        ]
                      },
                      {
                        "iteration": 216,
                        "learn": [
                          1.570753289
                        ],
                        "passed_time": 302.6529596,
                        "remaining_time": 1092.06114,
                        "test": [
                          1.730463828
                        ]
                      },
                      {
                        "iteration": 217,
                        "learn": [
                          1.569975974
                        ],
                        "passed_time": 303.8411766,
                        "remaining_time": 1089.925689,
                        "test": [
                          1.730607762
                        ]
                      },
                      {
                        "iteration": 218,
                        "learn": [
                          1.569808307
                        ],
                        "passed_time": 304.896756,
                        "remaining_time": 1087.325874,
                        "test": [
                          1.73065976
                        ]
                      },
                      {
                        "iteration": 219,
                        "learn": [
                          1.568883161
                        ],
                        "passed_time": 306.0811068,
                        "remaining_time": 1085.196651,
                        "test": [
                          1.730572458
                        ]
                      },
                      {
                        "iteration": 220,
                        "learn": [
                          1.568751678
                        ],
                        "passed_time": 307.1552501,
                        "remaining_time": 1082.687511,
                        "test": [
                          1.730611091
                        ]
                      },
                      {
                        "iteration": 221,
                        "learn": [
                          1.567562906
                        ],
                        "passed_time": 308.3252917,
                        "remaining_time": 1080.527374,
                        "test": [
                          1.730566561
                        ]
                      },
                      {
                        "iteration": 222,
                        "learn": [
                          1.567417953
                        ],
                        "passed_time": 309.4216961,
                        "remaining_time": 1078.119542,
                        "test": [
                          1.730685086
                        ]
                      },
                      {
                        "iteration": 223,
                        "learn": [
                          1.566314492
                        ],
                        "passed_time": 310.6026028,
                        "remaining_time": 1076.01616,
                        "test": [
                          1.730522222
                        ]
                      },
                      {
                        "iteration": 224,
                        "learn": [
                          1.565198275
                        ],
                        "passed_time": 311.8128571,
                        "remaining_time": 1074.022063,
                        "test": [
                          1.731935148
                        ]
                      },
                      {
                        "iteration": 225,
                        "learn": [
                          1.564518798
                        ],
                        "passed_time": 312.926577,
                        "remaining_time": 1071.704295,
                        "test": [
                          1.731815949
                        ]
                      },
                      {
                        "iteration": 226,
                        "learn": [
                          1.563760106
                        ],
                        "passed_time": 314.1068413,
                        "remaining_time": 1069.623737,
                        "test": [
                          1.731802622
                        ]
                      },
                      {
                        "iteration": 227,
                        "learn": [
                          1.562880278
                        ],
                        "passed_time": 315.2982394,
                        "remaining_time": 1067.588775,
                        "test": [
                          1.731934251
                        ]
                      },
                      {
                        "iteration": 228,
                        "learn": [
                          1.561827854
                        ],
                        "passed_time": 316.5325584,
                        "remaining_time": 1065.705688,
                        "test": [
                          1.7314024
                        ]
                      },
                      {
                        "iteration": 229,
                        "learn": [
                          1.561133687
                        ],
                        "passed_time": 317.6656142,
                        "remaining_time": 1063.48923,
                        "test": [
                          1.731507534
                        ]
                      },
                      {
                        "iteration": 230,
                        "learn": [
                          1.560079691
                        ],
                        "passed_time": 318.8512822,
                        "remaining_time": 1061.457299,
                        "test": [
                          1.731442866
                        ]
                      },
                      {
                        "iteration": 231,
                        "learn": [
                          1.559085748
                        ],
                        "passed_time": 320.0259651,
                        "remaining_time": 1059.396298,
                        "test": [
                          1.731330135
                        ]
                      },
                      {
                        "iteration": 232,
                        "learn": [
                          1.558271671
                        ],
                        "passed_time": 321.2258337,
                        "remaining_time": 1057.425813,
                        "test": [
                          1.731561472
                        ]
                      },
                      {
                        "iteration": 233,
                        "learn": [
                          1.557150985
                        ],
                        "passed_time": 322.3827861,
                        "remaining_time": 1055.321428,
                        "test": [
                          1.731384381
                        ]
                      },
                      {
                        "iteration": 234,
                        "learn": [
                          1.556157439
                        ],
                        "passed_time": 323.5714836,
                        "remaining_time": 1053.328447,
                        "test": [
                          1.731697286
                        ]
                      },
                      {
                        "iteration": 235,
                        "learn": [
                          1.555253676
                        ],
                        "passed_time": 324.7072567,
                        "remaining_time": 1051.17095,
                        "test": [
                          1.731616901
                        ]
                      },
                      {
                        "iteration": 236,
                        "learn": [
                          1.555138447
                        ],
                        "passed_time": 325.7691369,
                        "remaining_time": 1048.784183,
                        "test": [
                          1.731657622
                        ]
                      },
                      {
                        "iteration": 237,
                        "learn": [
                          1.554295171
                        ],
                        "passed_time": 326.8948621,
                        "remaining_time": 1046.612962,
                        "test": [
                          1.731795434
                        ]
                      },
                      {
                        "iteration": 238,
                        "learn": [
                          1.553517024
                        ],
                        "passed_time": 328.0558896,
                        "remaining_time": 1044.562895,
                        "test": [
                          1.731592957
                        ]
                      },
                      {
                        "iteration": 239,
                        "learn": [
                          1.552640274
                        ],
                        "passed_time": 329.2122645,
                        "remaining_time": 1042.505504,
                        "test": [
                          1.731682867
                        ]
                      },
                      {
                        "iteration": 240,
                        "learn": [
                          1.55191954
                        ],
                        "passed_time": 330.4444129,
                        "remaining_time": 1040.69423,
                        "test": [
                          1.731807908
                        ]
                      },
                      {
                        "iteration": 241,
                        "learn": [
                          1.550679008
                        ],
                        "passed_time": 331.6681683,
                        "remaining_time": 1038.861453,
                        "test": [
                          1.731444953
                        ]
                      },
                      {
                        "iteration": 242,
                        "learn": [
                          1.550067432
                        ],
                        "passed_time": 332.8832025,
                        "remaining_time": 1037.00652,
                        "test": [
                          1.731572449
                        ]
                      },
                      {
                        "iteration": 243,
                        "learn": [
                          1.549213857
                        ],
                        "passed_time": 334.0340705,
                        "remaining_time": 1034.958022,
                        "test": [
                          1.731721061
                        ]
                      },
                      {
                        "iteration": 244,
                        "learn": [
                          1.548492539
                        ],
                        "passed_time": 335.5799173,
                        "remaining_time": 1034.134031,
                        "test": [
                          1.731724979
                        ]
                      },
                      {
                        "iteration": 245,
                        "learn": [
                          1.547549894
                        ],
                        "passed_time": 337.0709867,
                        "remaining_time": 1033.136276,
                        "test": [
                          1.7314082
                        ]
                      },
                      {
                        "iteration": 246,
                        "learn": [
                          1.546886212
                        ],
                        "passed_time": 338.2458604,
                        "remaining_time": 1031.170579,
                        "test": [
                          1.731450207
                        ]
                      },
                      {
                        "iteration": 247,
                        "learn": [
                          1.546303026
                        ],
                        "passed_time": 339.3830071,
                        "remaining_time": 1029.09686,
                        "test": [
                          1.731618354
                        ]
                      },
                      {
                        "iteration": 248,
                        "learn": [
                          1.546101196
                        ],
                        "passed_time": 340.4392334,
                        "remaining_time": 1026.786603,
                        "test": [
                          1.73167134
                        ]
                      },
                      {
                        "iteration": 249,
                        "learn": [
                          1.545344183
                        ],
                        "passed_time": 341.6134131,
                        "remaining_time": 1024.840239,
                        "test": [
                          1.73142652
                        ]
                      },
                      {
                        "iteration": 250,
                        "learn": [
                          1.544500899
                        ],
                        "passed_time": 342.8408677,
                        "remaining_time": 1023.059004,
                        "test": [
                          1.73194161
                        ]
                      },
                      {
                        "iteration": 251,
                        "learn": [
                          1.543595328
                        ],
                        "passed_time": 344.5052168,
                        "remaining_time": 1022.578977,
                        "test": [
                          1.732034455
                        ]
                      },
                      {
                        "iteration": 252,
                        "learn": [
                          1.542784227
                        ],
                        "passed_time": 346.3464051,
                        "remaining_time": 1022.611718,
                        "test": [
                          1.732248616
                        ]
                      },
                      {
                        "iteration": 253,
                        "learn": [
                          1.542175804
                        ],
                        "passed_time": 348.3362081,
                        "remaining_time": 1023.066186,
                        "test": [
                          1.73220081
                        ]
                      },
                      {
                        "iteration": 254,
                        "learn": [
                          1.541248562
                        ],
                        "passed_time": 349.562546,
                        "remaining_time": 1021.270968,
                        "test": [
                          1.732345878
                        ]
                      },
                      {
                        "iteration": 255,
                        "learn": [
                          1.54043386
                        ],
                        "passed_time": 350.7390834,
                        "remaining_time": 1019.335461,
                        "test": [
                          1.732580382
                        ]
                      },
                      {
                        "iteration": 256,
                        "learn": [
                          1.539840918
                        ],
                        "passed_time": 351.8776499,
                        "remaining_time": 1017.296085,
                        "test": [
                          1.732518826
                        ]
                      },
                      {
                        "iteration": 257,
                        "learn": [
                          1.539154104
                        ],
                        "passed_time": 353.0432139,
                        "remaining_time": 1015.341336,
                        "test": [
                          1.73277347
                        ]
                      },
                      {
                        "iteration": 258,
                        "learn": [
                          1.538296031
                        ],
                        "passed_time": 354.2347727,
                        "remaining_time": 1013.467052,
                        "test": [
                          1.732670518
                        ]
                      },
                      {
                        "iteration": 259,
                        "learn": [
                          1.53816842
                        ],
                        "passed_time": 355.3825351,
                        "remaining_time": 1011.473369,
                        "test": [
                          1.732669322
                        ]
                      },
                      {
                        "iteration": 260,
                        "learn": [
                          1.53808102
                        ],
                        "passed_time": 356.4580588,
                        "remaining_time": 1009.28163,
                        "test": [
                          1.732685524
                        ]
                      },
                      {
                        "iteration": 261,
                        "learn": [
                          1.537061629
                        ],
                        "passed_time": 357.6567077,
                        "remaining_time": 1007.44523,
                        "test": [
                          1.732516242
                        ]
                      },
                      {
                        "iteration": 262,
                        "learn": [
                          1.536087655
                        ],
                        "passed_time": 359.1135775,
                        "remaining_time": 1006.337288,
                        "test": [
                          1.732337093
                        ]
                      },
                      {
                        "iteration": 263,
                        "learn": [
                          1.536010134
                        ],
                        "passed_time": 360.6213381,
                        "remaining_time": 1005.368579,
                        "test": [
                          1.732407776
                        ]
                      },
                      {
                        "iteration": 264,
                        "learn": [
                          1.535913415
                        ],
                        "passed_time": 362.3237843,
                        "remaining_time": 1004.935779,
                        "test": [
                          1.732470075
                        ]
                      },
                      {
                        "iteration": 265,
                        "learn": [
                          1.534980924
                        ],
                        "passed_time": 363.7824478,
                        "remaining_time": 1003.82074,
                        "test": [
                          1.732411479
                        ]
                      },
                      {
                        "iteration": 266,
                        "learn": [
                          1.534109682
                        ],
                        "passed_time": 364.9829763,
                        "remaining_time": 1001.994463,
                        "test": [
                          1.73253252
                        ]
                      },
                      {
                        "iteration": 267,
                        "learn": [
                          1.533089478
                        ],
                        "passed_time": 366.1716115,
                        "remaining_time": 1000.140372,
                        "test": [
                          1.732476402
                        ]
                      },
                      {
                        "iteration": 268,
                        "learn": [
                          1.532118727
                        ],
                        "passed_time": 367.3653361,
                        "remaining_time": 998.3050584,
                        "test": [
                          1.732310834
                        ]
                      },
                      {
                        "iteration": 269,
                        "learn": [
                          1.531340753
                        ],
                        "passed_time": 368.5391977,
                        "remaining_time": 996.4207937,
                        "test": [
                          1.732061628
                        ]
                      },
                      {
                        "iteration": 270,
                        "learn": [
                          1.530571035
                        ],
                        "passed_time": 369.7225088,
                        "remaining_time": 994.5671915,
                        "test": [
                          1.731606323
                        ]
                      },
                      {
                        "iteration": 271,
                        "learn": [
                          1.530003801
                        ],
                        "passed_time": 370.8253204,
                        "remaining_time": 992.5030635,
                        "test": [
                          1.731884624
                        ]
                      },
                      {
                        "iteration": 272,
                        "learn": [
                          1.528932108
                        ],
                        "passed_time": 372.0477994,
                        "remaining_time": 990.7646527,
                        "test": [
                          1.731664983
                        ]
                      },
                      {
                        "iteration": 273,
                        "learn": [
                          1.52807418
                        ],
                        "passed_time": 373.2211531,
                        "remaining_time": 988.8998437,
                        "test": [
                          1.731717937
                        ]
                      },
                      {
                        "iteration": 274,
                        "learn": [
                          1.527085122
                        ],
                        "passed_time": 374.6274489,
                        "remaining_time": 987.6541836,
                        "test": [
                          1.731626338
                        ]
                      },
                      {
                        "iteration": 275,
                        "learn": [
                          1.526187358
                        ],
                        "passed_time": 376.5662148,
                        "remaining_time": 987.8041288,
                        "test": [
                          1.731433716
                        ]
                      },
                      {
                        "iteration": 276,
                        "learn": [
                          1.525034049
                        ],
                        "passed_time": 378.4225928,
                        "remaining_time": 987.7239516,
                        "test": [
                          1.731170826
                        ]
                      },
                      {
                        "iteration": 277,
                        "learn": [
                          1.524261483
                        ],
                        "passed_time": 380.663774,
                        "remaining_time": 988.630377,
                        "test": [
                          1.73129707
                        ]
                      },
                      {
                        "iteration": 278,
                        "learn": [
                          1.523308479
                        ],
                        "passed_time": 381.8916198,
                        "remaining_time": 986.8955479,
                        "test": [
                          1.731314412
                        ]
                      },
                      {
                        "iteration": 279,
                        "learn": [
                          1.522680127
                        ],
                        "passed_time": 383.0897751,
                        "remaining_time": 985.087993,
                        "test": [
                          1.731263661
                        ]
                      },
                      {
                        "iteration": 280,
                        "learn": [
                          1.521808996
                        ],
                        "passed_time": 384.2518221,
                        "remaining_time": 983.1923846,
                        "test": [
                          1.731065051
                        ]
                      },
                      {
                        "iteration": 281,
                        "learn": [
                          1.520855369
                        ],
                        "passed_time": 385.4932402,
                        "remaining_time": 981.5040654,
                        "test": [
                          1.73118978
                        ]
                      },
                      {
                        "iteration": 282,
                        "learn": [
                          1.520348849
                        ],
                        "passed_time": 386.6006839,
                        "remaining_time": 979.4794712,
                        "test": [
                          1.731399598
                        ]
                      },
                      {
                        "iteration": 283,
                        "learn": [
                          1.519785241
                        ],
                        "passed_time": 387.7430298,
                        "remaining_time": 977.5493288,
                        "test": [
                          1.731323987
                        ]
                      },
                      {
                        "iteration": 284,
                        "learn": [
                          1.519186697
                        ],
                        "passed_time": 388.9332012,
                        "remaining_time": 975.7446977,
                        "test": [
                          1.731300916
                        ]
                      },
                      {
                        "iteration": 285,
                        "learn": [
                          1.518499609
                        ],
                        "passed_time": 390.057108,
                        "remaining_time": 973.7789339,
                        "test": [
                          1.731285568
                        ]
                      },
                      {
                        "iteration": 286,
                        "learn": [
                          1.517644527
                        ],
                        "passed_time": 391.6146243,
                        "remaining_time": 972.8962617,
                        "test": [
                          1.731408126
                        ]
                      },
                      {
                        "iteration": 287,
                        "learn": [
                          1.516573795
                        ],
                        "passed_time": 392.8691408,
                        "remaining_time": 971.2598204,
                        "test": [
                          1.73192249
                        ]
                      },
                      {
                        "iteration": 288,
                        "learn": [
                          1.5158178
                        ],
                        "passed_time": 394.0207156,
                        "remaining_time": 969.372764,
                        "test": [
                          1.732393266
                        ]
                      },
                      {
                        "iteration": 289,
                        "learn": [
                          1.515223109
                        ],
                        "passed_time": 395.6554197,
                        "remaining_time": 968.6736138,
                        "test": [
                          1.732413927
                        ]
                      },
                      {
                        "iteration": 290,
                        "learn": [
                          1.514593248
                        ],
                        "passed_time": 397.9244294,
                        "remaining_time": 969.5134723,
                        "test": [
                          1.732332825
                        ]
                      },
                      {
                        "iteration": 291,
                        "learn": [
                          1.513674573
                        ],
                        "passed_time": 399.8461848,
                        "remaining_time": 969.4900646,
                        "test": [
                          1.731752422
                        ]
                      },
                      {
                        "iteration": 292,
                        "learn": [
                          1.513044787
                        ],
                        "passed_time": 401.484639,
                        "remaining_time": 968.7701015,
                        "test": [
                          1.731758276
                        ]
                      },
                      {
                        "iteration": 293,
                        "learn": [
                          1.512273955
                        ],
                        "passed_time": 404.1156081,
                        "remaining_time": 970.4272766,
                        "test": [
                          1.731790593
                        ]
                      },
                      {
                        "iteration": 294,
                        "learn": [
                          1.511673864
                        ],
                        "passed_time": 405.5292134,
                        "remaining_time": 969.1460863,
                        "test": [
                          1.731791064
                        ]
                      },
                      {
                        "iteration": 295,
                        "learn": [
                          1.510887483
                        ],
                        "passed_time": 406.7152429,
                        "remaining_time": 967.3227399,
                        "test": [
                          1.732120098
                        ]
                      },
                      {
                        "iteration": 296,
                        "learn": [
                          1.509420107
                        ],
                        "passed_time": 408.0927971,
                        "remaining_time": 965.9570247,
                        "test": [
                          1.731840648
                        ]
                      },
                      {
                        "iteration": 297,
                        "learn": [
                          1.508201223
                        ],
                        "passed_time": 409.321989,
                        "remaining_time": 964.2417325,
                        "test": [
                          1.732048279
                        ]
                      },
                      {
                        "iteration": 298,
                        "learn": [
                          1.507887969
                        ],
                        "passed_time": 410.4470798,
                        "remaining_time": 962.2856285,
                        "test": [
                          1.732043494
                        ]
                      },
                      {
                        "iteration": 299,
                        "learn": [
                          1.506597768
                        ],
                        "passed_time": 411.8502354,
                        "remaining_time": 960.9838826,
                        "test": [
                          1.732216396
                        ]
                      },
                      {
                        "iteration": 300,
                        "learn": [
                          1.505657426
                        ],
                        "passed_time": 413.0782527,
                        "remaining_time": 959.2747462,
                        "test": [
                          1.732186136
                        ]
                      },
                      {
                        "iteration": 301,
                        "learn": [
                          1.504733434
                        ],
                        "passed_time": 414.2385238,
                        "remaining_time": 957.4122172,
                        "test": [
                          1.732484511
                        ]
                      },
                      {
                        "iteration": 302,
                        "learn": [
                          1.503713513
                        ],
                        "passed_time": 415.8894264,
                        "remaining_time": 956.6829379,
                        "test": [
                          1.732451396
                        ]
                      },
                      {
                        "iteration": 303,
                        "learn": [
                          1.502626831
                        ],
                        "passed_time": 417.2447201,
                        "remaining_time": 955.2708064,
                        "test": [
                          1.732361444
                        ]
                      },
                      {
                        "iteration": 304,
                        "learn": [
                          1.502079489
                        ],
                        "passed_time": 418.3677103,
                        "remaining_time": 953.3297006,
                        "test": [
                          1.732473102
                        ]
                      },
                      {
                        "iteration": 305,
                        "learn": [
                          1.501131312
                        ],
                        "passed_time": 419.5606502,
                        "remaining_time": 951.5525857,
                        "test": [
                          1.73256094
                        ]
                      },
                      {
                        "iteration": 306,
                        "learn": [
                          1.500494723
                        ],
                        "passed_time": 421.4261856,
                        "remaining_time": 951.2975461,
                        "test": [
                          1.732518522
                        ]
                      },
                      {
                        "iteration": 307,
                        "learn": [
                          1.500420024
                        ],
                        "passed_time": 422.5344865,
                        "remaining_time": 949.3307294,
                        "test": [
                          1.732571819
                        ]
                      },
                      {
                        "iteration": 308,
                        "learn": [
                          1.499421533
                        ],
                        "passed_time": 423.7665555,
                        "remaining_time": 947.6462454,
                        "test": [
                          1.732598316
                        ]
                      },
                      {
                        "iteration": 309,
                        "learn": [
                          1.498519384
                        ],
                        "passed_time": 424.9694421,
                        "remaining_time": 945.899726,
                        "test": [
                          1.732583368
                        ]
                      },
                      {
                        "iteration": 310,
                        "learn": [
                          1.497721196
                        ],
                        "passed_time": 426.1685955,
                        "remaining_time": 944.1484318,
                        "test": [
                          1.732608199
                        ]
                      },
                      {
                        "iteration": 311,
                        "learn": [
                          1.497649148
                        ],
                        "passed_time": 427.2300857,
                        "remaining_time": 942.0971121,
                        "test": [
                          1.732579206
                        ]
                      },
                      {
                        "iteration": 312,
                        "learn": [
                          1.497030032
                        ],
                        "passed_time": 428.3898522,
                        "remaining_time": 940.2678225,
                        "test": [
                          1.732494133
                        ]
                      },
                      {
                        "iteration": 313,
                        "learn": [
                          1.496531393
                        ],
                        "passed_time": 429.4995786,
                        "remaining_time": 938.3334744,
                        "test": [
                          1.732422758
                        ]
                      },
                      {
                        "iteration": 314,
                        "learn": [
                          1.495714082
                        ],
                        "passed_time": 430.6849125,
                        "remaining_time": 936.568778,
                        "test": [
                          1.732523108
                        ]
                      },
                      {
                        "iteration": 315,
                        "learn": [
                          1.494720209
                        ],
                        "passed_time": 431.9231421,
                        "remaining_time": 934.9222444,
                        "test": [
                          1.732346011
                        ]
                      },
                      {
                        "iteration": 316,
                        "learn": [
                          1.493340291
                        ],
                        "passed_time": 433.1219131,
                        "remaining_time": 933.1932702,
                        "test": [
                          1.733007534
                        ]
                      },
                      {
                        "iteration": 317,
                        "learn": [
                          1.492402775
                        ],
                        "passed_time": 434.3267151,
                        "remaining_time": 931.4805651,
                        "test": [
                          1.732856925
                        ]
                      },
                      {
                        "iteration": 318,
                        "learn": [
                          1.491456017
                        ],
                        "passed_time": 435.5091193,
                        "remaining_time": 929.7232295,
                        "test": [
                          1.73283166
                        ]
                      },
                      {
                        "iteration": 319,
                        "learn": [
                          1.490808211
                        ],
                        "passed_time": 436.6560925,
                        "remaining_time": 927.8941966,
                        "test": [
                          1.732746811
                        ]
                      },
                      {
                        "iteration": 320,
                        "learn": [
                          1.489918043
                        ],
                        "passed_time": 437.8394752,
                        "remaining_time": 926.1464288,
                        "test": [
                          1.732968357
                        ]
                      },
                      {
                        "iteration": 321,
                        "learn": [
                          1.489848995
                        ],
                        "passed_time": 438.8947172,
                        "remaining_time": 924.1323548,
                        "test": [
                          1.732961803
                        ]
                      },
                      {
                        "iteration": 322,
                        "learn": [
                          1.489785933
                        ],
                        "passed_time": 439.9860479,
                        "remaining_time": 922.1998588,
                        "test": [
                          1.732966754
                        ]
                      },
                      {
                        "iteration": 323,
                        "learn": [
                          1.488969327
                        ],
                        "passed_time": 441.1719226,
                        "remaining_time": 920.4698138,
                        "test": [
                          1.733023476
                        ]
                      },
                      {
                        "iteration": 324,
                        "learn": [
                          1.488457863
                        ],
                        "passed_time": 442.8582128,
                        "remaining_time": 919.782442,
                        "test": [
                          1.733155345
                        ]
                      },
                      {
                        "iteration": 325,
                        "learn": [
                          1.487913049
                        ],
                        "passed_time": 444.1402912,
                        "remaining_time": 918.25324,
                        "test": [
                          1.733326567
                        ]
                      },
                      {
                        "iteration": 326,
                        "learn": [
                          1.48681726
                        ],
                        "passed_time": 445.4109468,
                        "remaining_time": 916.7020404,
                        "test": [
                          1.733720881
                        ]
                      },
                      {
                        "iteration": 327,
                        "learn": [
                          1.485901533
                        ],
                        "passed_time": 446.6126352,
                        "remaining_time": 915.0112525,
                        "test": [
                          1.73372839
                        ]
                      },
                      {
                        "iteration": 328,
                        "learn": [
                          1.48519292
                        ],
                        "passed_time": 447.7394069,
                        "remaining_time": 913.1706445,
                        "test": [
                          1.733571317
                        ]
                      },
                      {
                        "iteration": 329,
                        "learn": [
                          1.484378093
                        ],
                        "passed_time": 448.9030242,
                        "remaining_time": 911.4091703,
                        "test": [
                          1.733617267
                        ]
                      },
                      {
                        "iteration": 330,
                        "learn": [
                          1.483877537
                        ],
                        "passed_time": 450.0404662,
                        "remaining_time": 909.5984046,
                        "test": [
                          1.733445047
                        ]
                      },
                      {
                        "iteration": 331,
                        "learn": [
                          1.483204505
                        ],
                        "passed_time": 451.649384,
                        "remaining_time": 908.7403269,
                        "test": [
                          1.733690601
                        ]
                      },
                      {
                        "iteration": 332,
                        "learn": [
                          1.482290801
                        ],
                        "passed_time": 453.377411,
                        "remaining_time": 908.1163157,
                        "test": [
                          1.733570629
                        ]
                      },
                      {
                        "iteration": 333,
                        "learn": [
                          1.481545097
                        ],
                        "passed_time": 455.3024943,
                        "remaining_time": 907.8786263,
                        "test": [
                          1.733417544
                        ]
                      },
                      {
                        "iteration": 334,
                        "learn": [
                          1.480453652
                        ],
                        "passed_time": 457.0304175,
                        "remaining_time": 907.2394855,
                        "test": [
                          1.733459322
                        ]
                      },
                      {
                        "iteration": 335,
                        "learn": [
                          1.480008101
                        ],
                        "passed_time": 458.5566622,
                        "remaining_time": 906.1953087,
                        "test": [
                          1.733300884
                        ]
                      },
                      {
                        "iteration": 336,
                        "learn": [
                          1.479517485
                        ],
                        "passed_time": 460.809381,
                        "remaining_time": 906.5775063,
                        "test": [
                          1.733067484
                        ]
                      },
                      {
                        "iteration": 337,
                        "learn": [
                          1.479393574
                        ],
                        "passed_time": 463.011373,
                        "remaining_time": 906.8447601,
                        "test": [
                          1.733164531
                        ]
                      },
                      {
                        "iteration": 338,
                        "learn": [
                          1.479025871
                        ],
                        "passed_time": 464.5569152,
                        "remaining_time": 905.8174659,
                        "test": [
                          1.733135671
                        ]
                      },
                      {
                        "iteration": 339,
                        "learn": [
                          1.478036284
                        ],
                        "passed_time": 465.8012881,
                        "remaining_time": 904.2025004,
                        "test": [
                          1.733057884
                        ]
                      },
                      {
                        "iteration": 340,
                        "learn": [
                          1.477976182
                        ],
                        "passed_time": 466.9366289,
                        "remaining_time": 902.3789984,
                        "test": [
                          1.733097933
                        ]
                      },
                      {
                        "iteration": 341,
                        "learn": [
                          1.477314243
                        ],
                        "passed_time": 468.1070102,
                        "remaining_time": 900.6269378,
                        "test": [
                          1.733047484
                        ]
                      },
                      {
                        "iteration": 342,
                        "learn": [
                          1.476284444
                        ],
                        "passed_time": 469.2814097,
                        "remaining_time": 898.8859654,
                        "test": [
                          1.732800696
                        ]
                      },
                      {
                        "iteration": 343,
                        "learn": [
                          1.475426214
                        ],
                        "passed_time": 470.9669657,
                        "remaining_time": 898.1230509,
                        "test": [
                          1.732780647
                        ]
                      },
                      {
                        "iteration": 344,
                        "learn": [
                          1.474586023
                        ],
                        "passed_time": 473.1502264,
                        "remaining_time": 898.2997053,
                        "test": [
                          1.732901127
                        ]
                      },
                      {
                        "iteration": 345,
                        "learn": [
                          1.473614599
                        ],
                        "passed_time": 475.1761271,
                        "remaining_time": 898.1652806,
                        "test": [
                          1.732775957
                        ]
                      },
                      {
                        "iteration": 346,
                        "learn": [
                          1.473151267
                        ],
                        "passed_time": 477.4346406,
                        "remaining_time": 898.4576954,
                        "test": [
                          1.732672507
                        ]
                      },
                      {
                        "iteration": 347,
                        "learn": [
                          1.472716841
                        ],
                        "passed_time": 478.9907865,
                        "remaining_time": 897.4195196,
                        "test": [
                          1.732556893
                        ]
                      },
                      {
                        "iteration": 348,
                        "learn": [
                          1.472342902
                        ],
                        "passed_time": 480.7743222,
                        "remaining_time": 896.8025323,
                        "test": [
                          1.732395043
                        ]
                      },
                      {
                        "iteration": 349,
                        "learn": [
                          1.471626349
                        ],
                        "passed_time": 483.07164,
                        "remaining_time": 897.1330457,
                        "test": [
                          1.732245577
                        ]
                      },
                      {
                        "iteration": 350,
                        "learn": [
                          1.470842438
                        ],
                        "passed_time": 484.4816276,
                        "remaining_time": 895.8079096,
                        "test": [
                          1.732440543
                        ]
                      },
                      {
                        "iteration": 351,
                        "learn": [
                          1.469805374
                        ],
                        "passed_time": 485.8378552,
                        "remaining_time": 894.3833244,
                        "test": [
                          1.732525088
                        ]
                      },
                      {
                        "iteration": 352,
                        "learn": [
                          1.469014619
                        ],
                        "passed_time": 486.9599079,
                        "remaining_time": 892.5299163,
                        "test": [
                          1.732869876
                        ]
                      },
                      {
                        "iteration": 353,
                        "learn": [
                          1.468257347
                        ],
                        "passed_time": 488.1700971,
                        "remaining_time": 890.8414766,
                        "test": [
                          1.733062889
                        ]
                      },
                      {
                        "iteration": 354,
                        "learn": [
                          1.467538706
                        ],
                        "passed_time": 489.3422577,
                        "remaining_time": 889.0866372,
                        "test": [
                          1.733195315
                        ]
                      },
                      {
                        "iteration": 355,
                        "learn": [
                          1.466636756
                        ],
                        "passed_time": 490.5836472,
                        "remaining_time": 887.4603056,
                        "test": [
                          1.733434877
                        ]
                      },
                      {
                        "iteration": 356,
                        "learn": [
                          1.465661559
                        ],
                        "passed_time": 491.8553506,
                        "remaining_time": 885.8907296,
                        "test": [
                          1.733385123
                        ]
                      },
                      {
                        "iteration": 357,
                        "learn": [
                          1.464995788
                        ],
                        "passed_time": 493.4732726,
                        "remaining_time": 884.9436899,
                        "test": [
                          1.733415989
                        ]
                      },
                      {
                        "iteration": 358,
                        "learn": [
                          1.464111284
                        ],
                        "passed_time": 495.0548723,
                        "remaining_time": 883.9280589,
                        "test": [
                          1.733435873
                        ]
                      },
                      {
                        "iteration": 359,
                        "learn": [
                          1.463326035
                        ],
                        "passed_time": 496.9061688,
                        "remaining_time": 883.3887444,
                        "test": [
                          1.733594814
                        ]
                      },
                      {
                        "iteration": 360,
                        "learn": [
                          1.462490755
                        ],
                        "passed_time": 498.4557436,
                        "remaining_time": 882.3080891,
                        "test": [
                          1.733666864
                        ]
                      },
                      {
                        "iteration": 361,
                        "learn": [
                          1.462432932
                        ],
                        "passed_time": 499.5254282,
                        "remaining_time": 880.3790697,
                        "test": [
                          1.73364843
                        ]
                      },
                      {
                        "iteration": 362,
                        "learn": [
                          1.461795645
                        ],
                        "passed_time": 500.6675714,
                        "remaining_time": 878.5819366,
                        "test": [
                          1.73385842
                        ]
                      },
                      {
                        "iteration": 363,
                        "learn": [
                          1.460935897
                        ],
                        "passed_time": 501.8465119,
                        "remaining_time": 876.8526966,
                        "test": [
                          1.73408544
                        ]
                      },
                      {
                        "iteration": 364,
                        "learn": [
                          1.46029685
                        ],
                        "passed_time": 502.9673695,
                        "remaining_time": 875.0254236,
                        "test": [
                          1.734274801
                        ]
                      },
                      {
                        "iteration": 365,
                        "learn": [
                          1.459621975
                        ],
                        "passed_time": 504.2000996,
                        "remaining_time": 873.3958009,
                        "test": [
                          1.734592098
                        ]
                      },
                      {
                        "iteration": 366,
                        "learn": [
                          1.458596686
                        ],
                        "passed_time": 505.492382,
                        "remaining_time": 871.8710567,
                        "test": [
                          1.7345818
                        ]
                      },
                      {
                        "iteration": 367,
                        "learn": [
                          1.457845683
                        ],
                        "passed_time": 506.8869485,
                        "remaining_time": 870.5232376,
                        "test": [
                          1.734495494
                        ]
                      },
                      {
                        "iteration": 368,
                        "learn": [
                          1.457759017
                        ],
                        "passed_time": 508.5649875,
                        "remaining_time": 869.6599109,
                        "test": [
                          1.734437657
                        ]
                      },
                      {
                        "iteration": 369,
                        "learn": [
                          1.457093546
                        ],
                        "passed_time": 510.3756407,
                        "remaining_time": 869.0179828,
                        "test": [
                          1.734646099
                        ]
                      },
                      {
                        "iteration": 370,
                        "learn": [
                          1.456269208
                        ],
                        "passed_time": 512.3156123,
                        "remaining_time": 868.589003,
                        "test": [
                          1.734321873
                        ]
                      },
                      {
                        "iteration": 371,
                        "learn": [
                          1.455605735
                        ],
                        "passed_time": 514.133006,
                        "remaining_time": 867.9449671,
                        "test": [
                          1.733976306
                        ]
                      },
                      {
                        "iteration": 372,
                        "learn": [
                          1.454768396
                        ],
                        "passed_time": 516.8140293,
                        "remaining_time": 868.746371,
                        "test": [
                          1.73403277
                        ]
                      },
                      {
                        "iteration": 373,
                        "learn": [
                          1.454275635
                        ],
                        "passed_time": 518.4561812,
                        "remaining_time": 867.7902926,
                        "test": [
                          1.734195507
                        ]
                      },
                      {
                        "iteration": 374,
                        "learn": [
                          1.453560713
                        ],
                        "passed_time": 519.9498251,
                        "remaining_time": 866.5830419,
                        "test": [
                          1.734059559
                        ]
                      },
                      {
                        "iteration": 375,
                        "learn": [
                          1.452832853
                        ],
                        "passed_time": 522.261857,
                        "remaining_time": 866.7324435,
                        "test": [
                          1.733575061
                        ]
                      },
                      {
                        "iteration": 376,
                        "learn": [
                          1.452465744
                        ],
                        "passed_time": 524.2693515,
                        "remaining_time": 866.3655332,
                        "test": [
                          1.733741037
                        ]
                      },
                      {
                        "iteration": 377,
                        "learn": [
                          1.451623685
                        ],
                        "passed_time": 525.5893309,
                        "remaining_time": 864.8586344,
                        "test": [
                          1.73344824
                        ]
                      },
                      {
                        "iteration": 378,
                        "learn": [
                          1.450725688
                        ],
                        "passed_time": 526.7874491,
                        "remaining_time": 863.1530498,
                        "test": [
                          1.733974806
                        ]
                      },
                      {
                        "iteration": 379,
                        "learn": [
                          1.449964411
                        ],
                        "passed_time": 528.0119081,
                        "remaining_time": 861.4931132,
                        "test": [
                          1.733636936
                        ]
                      },
                      {
                        "iteration": 380,
                        "learn": [
                          1.44991084
                        ],
                        "passed_time": 529.0829125,
                        "remaining_time": 859.5861492,
                        "test": [
                          1.733643758
                        ]
                      },
                      {
                        "iteration": 381,
                        "learn": [
                          1.448677072
                        ],
                        "passed_time": 530.328308,
                        "remaining_time": 857.965692,
                        "test": [
                          1.733737516
                        ]
                      },
                      {
                        "iteration": 382,
                        "learn": [
                          1.44762417
                        ],
                        "passed_time": 531.5929875,
                        "remaining_time": 856.3782592,
                        "test": [
                          1.734032098
                        ]
                      },
                      {
                        "iteration": 383,
                        "learn": [
                          1.4470354
                        ],
                        "passed_time": 532.7884568,
                        "remaining_time": 854.6814828,
                        "test": [
                          1.733997448
                        ]
                      },
                      {
                        "iteration": 384,
                        "learn": [
                          1.44568152
                        ],
                        "passed_time": 534.0077016,
                        "remaining_time": 853.0252896,
                        "test": [
                          1.734072052
                        ]
                      },
                      {
                        "iteration": 385,
                        "learn": [
                          1.444926938
                        ],
                        "passed_time": 535.1646016,
                        "remaining_time": 851.2721901,
                        "test": [
                          1.73382303
                        ]
                      },
                      {
                        "iteration": 386,
                        "learn": [
                          1.44484552
                        ],
                        "passed_time": 536.2283558,
                        "remaining_time": 849.3746308,
                        "test": [
                          1.733839171
                        ]
                      },
                      {
                        "iteration": 387,
                        "learn": [
                          1.444159719
                        ],
                        "passed_time": 537.4488052,
                        "remaining_time": 847.7285278,
                        "test": [
                          1.73375489
                        ]
                      },
                      {
                        "iteration": 388,
                        "learn": [
                          1.443394514
                        ],
                        "passed_time": 538.65284,
                        "remaining_time": 846.058831,
                        "test": [
                          1.733542471
                        ]
                      },
                      {
                        "iteration": 389,
                        "learn": [
                          1.442287161
                        ],
                        "passed_time": 539.9918288,
                        "remaining_time": 844.602604,
                        "test": [
                          1.733340965
                        ]
                      },
                      {
                        "iteration": 390,
                        "learn": [
                          1.441702213
                        ],
                        "passed_time": 541.1107923,
                        "remaining_time": 842.8042775,
                        "test": [
                          1.733435885
                        ]
                      },
                      {
                        "iteration": 391,
                        "learn": [
                          1.441072035
                        ],
                        "passed_time": 542.2776574,
                        "remaining_time": 841.0837135,
                        "test": [
                          1.733345555
                        ]
                      },
                      {
                        "iteration": 392,
                        "learn": [
                          1.440295311
                        ],
                        "passed_time": 543.426675,
                        "remaining_time": 839.3384013,
                        "test": [
                          1.733254361
                        ]
                      },
                      {
                        "iteration": 393,
                        "learn": [
                          1.439183023
                        ],
                        "passed_time": 544.7007131,
                        "remaining_time": 837.7884064,
                        "test": [
                          1.733032666
                        ]
                      },
                      {
                        "iteration": 394,
                        "learn": [
                          1.438615387
                        ],
                        "passed_time": 545.8452448,
                        "remaining_time": 836.0414509,
                        "test": [
                          1.73286568
                        ]
                      },
                      {
                        "iteration": 395,
                        "learn": [
                          1.437852103
                        ],
                        "passed_time": 547.0565757,
                        "remaining_time": 834.3994235,
                        "test": [
                          1.732914917
                        ]
                      },
                      {
                        "iteration": 396,
                        "learn": [
                          1.436733345
                        ],
                        "passed_time": 548.226426,
                        "remaining_time": 832.6965614,
                        "test": [
                          1.733028118
                        ]
                      },
                      {
                        "iteration": 397,
                        "learn": [
                          1.435988485
                        ],
                        "passed_time": 549.4188524,
                        "remaining_time": 831.0305255,
                        "test": [
                          1.733034109
                        ]
                      },
                      {
                        "iteration": 398,
                        "learn": [
                          1.435565357
                        ],
                        "passed_time": 550.5490268,
                        "remaining_time": 829.2730956,
                        "test": [
                          1.733146315
                        ]
                      },
                      {
                        "iteration": 399,
                        "learn": [
                          1.434838801
                        ],
                        "passed_time": 552.3017427,
                        "remaining_time": 828.452614,
                        "test": [
                          1.733081969
                        ]
                      },
                      {
                        "iteration": 400,
                        "learn": [
                          1.434216423
                        ],
                        "passed_time": 553.4949186,
                        "remaining_time": 826.7916614,
                        "test": [
                          1.733335115
                        ]
                      },
                      {
                        "iteration": 401,
                        "learn": [
                          1.432966131
                        ],
                        "passed_time": 554.8269478,
                        "remaining_time": 825.3395891,
                        "test": [
                          1.733323241
                        ]
                      },
                      {
                        "iteration": 402,
                        "learn": [
                          1.432908979
                        ],
                        "passed_time": 555.8980893,
                        "remaining_time": 823.501636,
                        "test": [
                          1.7333313
                        ]
                      },
                      {
                        "iteration": 403,
                        "learn": [
                          1.432850052
                        ],
                        "passed_time": 556.9722925,
                        "remaining_time": 821.6719958,
                        "test": [
                          1.733322711
                        ]
                      },
                      {
                        "iteration": 404,
                        "learn": [
                          1.431970258
                        ],
                        "passed_time": 558.1941608,
                        "remaining_time": 820.0630264,
                        "test": [
                          1.733110477
                        ]
                      },
                      {
                        "iteration": 405,
                        "learn": [
                          1.431251357
                        ],
                        "passed_time": 559.3731061,
                        "remaining_time": 818.393165,
                        "test": [
                          1.733152841
                        ]
                      },
                      {
                        "iteration": 406,
                        "learn": [
                          1.430687917
                        ],
                        "passed_time": 560.572145,
                        "remaining_time": 816.7549927,
                        "test": [
                          1.733002555
                        ]
                      },
                      {
                        "iteration": 407,
                        "learn": [
                          1.430630889
                        ],
                        "passed_time": 561.6289156,
                        "remaining_time": 814.9125443,
                        "test": [
                          1.733022691
                        ]
                      },
                      {
                        "iteration": 408,
                        "learn": [
                          1.429691635
                        ],
                        "passed_time": 562.805028,
                        "remaining_time": 813.2463853,
                        "test": [
                          1.733012596
                        ]
                      },
                      {
                        "iteration": 409,
                        "learn": [
                          1.428833937
                        ],
                        "passed_time": 563.9954733,
                        "remaining_time": 811.6032421,
                        "test": [
                          1.733216845
                        ]
                      },
                      {
                        "iteration": 410,
                        "learn": [
                          1.427980282
                        ],
                        "passed_time": 565.2158878,
                        "remaining_time": 810.0052504,
                        "test": [
                          1.733242891
                        ]
                      },
                      {
                        "iteration": 411,
                        "learn": [
                          1.427117481
                        ],
                        "passed_time": 566.493714,
                        "remaining_time": 808.4910287,
                        "test": [
                          1.733209686
                        ]
                      },
                      {
                        "iteration": 412,
                        "learn": [
                          1.426405049
                        ],
                        "passed_time": 567.6822614,
                        "remaining_time": 806.8510592,
                        "test": [
                          1.733181184
                        ]
                      },
                      {
                        "iteration": 413,
                        "learn": [
                          1.425201782
                        ],
                        "passed_time": 568.8926906,
                        "remaining_time": 805.2442432,
                        "test": [
                          1.733358893
                        ]
                      },
                      {
                        "iteration": 414,
                        "learn": [
                          1.425162254
                        ],
                        "passed_time": 569.9452953,
                        "remaining_time": 803.4168621,
                        "test": [
                          1.733310387
                        ]
                      },
                      {
                        "iteration": 415,
                        "learn": [
                          1.424279088
                        ],
                        "passed_time": 571.2128505,
                        "remaining_time": 801.8949631,
                        "test": [
                          1.733102429
                        ]
                      },
                      {
                        "iteration": 416,
                        "learn": [
                          1.423461758
                        ],
                        "passed_time": 572.4183623,
                        "remaining_time": 800.2875425,
                        "test": [
                          1.732857063
                        ]
                      },
                      {
                        "iteration": 417,
                        "learn": [
                          1.422774863
                        ],
                        "passed_time": 573.618121,
                        "remaining_time": 798.6740346,
                        "test": [
                          1.732597001
                        ]
                      },
                      {
                        "iteration": 418,
                        "learn": [
                          1.421472421
                        ],
                        "passed_time": 574.79225,
                        "remaining_time": 797.0269624,
                        "test": [
                          1.73292506
                        ]
                      },
                      {
                        "iteration": 419,
                        "learn": [
                          1.420690509
                        ],
                        "passed_time": 575.953619,
                        "remaining_time": 795.3645215,
                        "test": [
                          1.732985025
                        ]
                      },
                      {
                        "iteration": 420,
                        "learn": [
                          1.419861855
                        ],
                        "passed_time": 577.1564487,
                        "remaining_time": 793.7614817,
                        "test": [
                          1.733100034
                        ]
                      },
                      {
                        "iteration": 421,
                        "learn": [
                          1.419191201
                        ],
                        "passed_time": 578.34022,
                        "remaining_time": 792.134235,
                        "test": [
                          1.733024896
                        ]
                      },
                      {
                        "iteration": 422,
                        "learn": [
                          1.418284886
                        ],
                        "passed_time": 580.1247698,
                        "remaining_time": 791.3285866,
                        "test": [
                          1.733023552
                        ]
                      },
                      {
                        "iteration": 423,
                        "learn": [
                          1.417761315
                        ],
                        "passed_time": 582.1291452,
                        "remaining_time": 790.816952,
                        "test": [
                          1.732895173
                        ]
                      },
                      {
                        "iteration": 424,
                        "learn": [
                          1.416813147
                        ],
                        "passed_time": 583.8482872,
                        "remaining_time": 789.9123885,
                        "test": [
                          1.733015293
                        ]
                      },
                      {
                        "iteration": 425,
                        "learn": [
                          1.416312315
                        ],
                        "passed_time": 585.0146117,
                        "remaining_time": 788.2591247,
                        "test": [
                          1.732859728
                        ]
                      },
                      {
                        "iteration": 426,
                        "learn": [
                          1.415915999
                        ],
                        "passed_time": 586.1180517,
                        "remaining_time": 786.5237555,
                        "test": [
                          1.732800121
                        ]
                      },
                      {
                        "iteration": 427,
                        "learn": [
                          1.41556755
                        ],
                        "passed_time": 587.243985,
                        "remaining_time": 784.8214005,
                        "test": [
                          1.732883397
                        ]
                      },
                      {
                        "iteration": 428,
                        "learn": [
                          1.414528886
                        ],
                        "passed_time": 588.4331947,
                        "remaining_time": 783.2059538,
                        "test": [
                          1.733016069
                        ]
                      },
                      {
                        "iteration": 429,
                        "learn": [
                          1.413795829
                        ],
                        "passed_time": 589.6240243,
                        "remaining_time": 781.5946368,
                        "test": [
                          1.732981591
                        ]
                      },
                      {
                        "iteration": 430,
                        "learn": [
                          1.413014597
                        ],
                        "passed_time": 590.8143373,
                        "remaining_time": 779.9845891,
                        "test": [
                          1.732461289
                        ]
                      },
                      {
                        "iteration": 431,
                        "learn": [
                          1.412424639
                        ],
                        "passed_time": 591.9932581,
                        "remaining_time": 778.361506,
                        "test": [
                          1.732436213
                        ]
                      },
                      {
                        "iteration": 432,
                        "learn": [
                          1.411849859
                        ],
                        "passed_time": 593.1387966,
                        "remaining_time": 776.6967613,
                        "test": [
                          1.732145867
                        ]
                      },
                      {
                        "iteration": 433,
                        "learn": [
                          1.411062075
                        ],
                        "passed_time": 594.3088378,
                        "remaining_time": 775.0663645,
                        "test": [
                          1.731922919
                        ]
                      },
                      {
                        "iteration": 434,
                        "learn": [
                          1.410376376
                        ],
                        "passed_time": 595.4676675,
                        "remaining_time": 773.4235221,
                        "test": [
                          1.731785201
                        ]
                      },
                      {
                        "iteration": 435,
                        "learn": [
                          1.409819951
                        ],
                        "passed_time": 596.6169801,
                        "remaining_time": 771.7705889,
                        "test": [
                          1.731933902
                        ]
                      },
                      {
                        "iteration": 436,
                        "learn": [
                          1.409438012
                        ],
                        "passed_time": 597.7425019,
                        "remaining_time": 770.0893102,
                        "test": [
                          1.731769619
                        ]
                      },
                      {
                        "iteration": 437,
                        "learn": [
                          1.408477771
                        ],
                        "passed_time": 598.991398,
                        "remaining_time": 768.5688714,
                        "test": [
                          1.731645803
                        ]
                      },
                      {
                        "iteration": 438,
                        "learn": [
                          1.407677571
                        ],
                        "passed_time": 600.1791387,
                        "remaining_time": 766.971519,
                        "test": [
                          1.731386985
                        ]
                      },
                      {
                        "iteration": 439,
                        "learn": [
                          1.407153649
                        ],
                        "passed_time": 601.3839512,
                        "remaining_time": 765.3977561,
                        "test": [
                          1.731165784
                        ]
                      },
                      {
                        "iteration": 440,
                        "learn": [
                          1.406180905
                        ],
                        "passed_time": 602.5713368,
                        "remaining_time": 763.8035766,
                        "test": [
                          1.731318035
                        ]
                      },
                      {
                        "iteration": 441,
                        "learn": [
                          1.405524267
                        ],
                        "passed_time": 603.7058826,
                        "remaining_time": 762.1445305,
                        "test": [
                          1.731487064
                        ]
                      },
                      {
                        "iteration": 442,
                        "learn": [
                          1.404813331
                        ],
                        "passed_time": 604.8953467,
                        "remaining_time": 760.5569032,
                        "test": [
                          1.731427784
                        ]
                      },
                      {
                        "iteration": 443,
                        "learn": [
                          1.404147768
                        ],
                        "passed_time": 606.0581742,
                        "remaining_time": 758.9377136,
                        "test": [
                          1.731134023
                        ]
                      },
                      {
                        "iteration": 444,
                        "learn": [
                          1.403317818
                        ],
                        "passed_time": 607.2334319,
                        "remaining_time": 757.336078,
                        "test": [
                          1.731047285
                        ]
                      },
                      {
                        "iteration": 445,
                        "learn": [
                          1.402812985
                        ],
                        "passed_time": 608.4479639,
                        "remaining_time": 755.785139,
                        "test": [
                          1.730932007
                        ]
                      },
                      {
                        "iteration": 446,
                        "learn": [
                          1.402744184
                        ],
                        "passed_time": 609.6130203,
                        "remaining_time": 754.1744972,
                        "test": [
                          1.730929849
                        ]
                      },
                      {
                        "iteration": 447,
                        "learn": [
                          1.402092008
                        ],
                        "passed_time": 610.7870791,
                        "remaining_time": 752.5769367,
                        "test": [
                          1.73080772
                        ]
                      },
                      {
                        "iteration": 448,
                        "learn": [
                          1.401361965
                        ],
                        "passed_time": 611.9980655,
                        "remaining_time": 751.0265793,
                        "test": [
                          1.730932892
                        ]
                      },
                      {
                        "iteration": 449,
                        "learn": [
                          1.400261695
                        ],
                        "passed_time": 613.2680473,
                        "remaining_time": 749.5498356,
                        "test": [
                          1.73102017
                        ]
                      },
                      {
                        "iteration": 450,
                        "learn": [
                          1.399714793
                        ],
                        "passed_time": 614.3885437,
                        "remaining_time": 747.892041,
                        "test": [
                          1.730935714
                        ]
                      },
                      {
                        "iteration": 451,
                        "learn": [
                          1.399376911
                        ],
                        "passed_time": 615.5157404,
                        "remaining_time": 746.2447472,
                        "test": [
                          1.73117525
                        ]
                      },
                      {
                        "iteration": 452,
                        "learn": [
                          1.398588537
                        ],
                        "passed_time": 616.7103858,
                        "remaining_time": 744.6811944,
                        "test": [
                          1.731114261
                        ]
                      },
                      {
                        "iteration": 453,
                        "learn": [
                          1.397632548
                        ],
                        "passed_time": 617.8952134,
                        "remaining_time": 743.1074593,
                        "test": [
                          1.731036879
                        ]
                      },
                      {
                        "iteration": 454,
                        "learn": [
                          1.397346758
                        ],
                        "passed_time": 619.0658941,
                        "remaining_time": 741.5184885,
                        "test": [
                          1.731064499
                        ]
                      },
                      {
                        "iteration": 455,
                        "learn": [
                          1.396549369
                        ],
                        "passed_time": 620.2863253,
                        "remaining_time": 739.9907039,
                        "test": [
                          1.730982047
                        ]
                      },
                      {
                        "iteration": 456,
                        "learn": [
                          1.395936896
                        ],
                        "passed_time": 621.4802094,
                        "remaining_time": 738.4327215,
                        "test": [
                          1.730774727
                        ]
                      },
                      {
                        "iteration": 457,
                        "learn": [
                          1.395369214
                        ],
                        "passed_time": 623.2290694,
                        "remaining_time": 737.5330909,
                        "test": [
                          1.730708622
                        ]
                      },
                      {
                        "iteration": 458,
                        "learn": [
                          1.394720002
                        ],
                        "passed_time": 624.4190722,
                        "remaining_time": 735.9710633,
                        "test": [
                          1.730561421
                        ]
                      },
                      {
                        "iteration": 459,
                        "learn": [
                          1.393879417
                        ],
                        "passed_time": 625.6675674,
                        "remaining_time": 734.4793182,
                        "test": [
                          1.730646462
                        ]
                      },
                      {
                        "iteration": 460,
                        "learn": [
                          1.392988035
                        ],
                        "passed_time": 626.8930607,
                        "remaining_time": 732.9617347,
                        "test": [
                          1.730633106
                        ]
                      },
                      {
                        "iteration": 461,
                        "learn": [
                          1.392419681
                        ],
                        "passed_time": 628.1110865,
                        "remaining_time": 731.4367198,
                        "test": [
                          1.730691635
                        ]
                      },
                      {
                        "iteration": 462,
                        "learn": [
                          1.391327929
                        ],
                        "passed_time": 629.3432673,
                        "remaining_time": 729.9294482,
                        "test": [
                          1.730754732
                        ]
                      },
                      {
                        "iteration": 463,
                        "learn": [
                          1.390590323
                        ],
                        "passed_time": 630.5087038,
                        "remaining_time": 728.3462613,
                        "test": [
                          1.730628389
                        ]
                      },
                      {
                        "iteration": 464,
                        "learn": [
                          1.389635544
                        ],
                        "passed_time": 631.7233382,
                        "remaining_time": 726.8214752,
                        "test": [
                          1.730525535
                        ]
                      },
                      {
                        "iteration": 465,
                        "learn": [
                          1.389541669
                        ],
                        "passed_time": 632.7855493,
                        "remaining_time": 725.1233548,
                        "test": [
                          1.730601576
                        ]
                      },
                      {
                        "iteration": 466,
                        "learn": [
                          1.388829812
                        ],
                        "passed_time": 633.9556269,
                        "remaining_time": 723.5510689,
                        "test": [
                          1.730783232
                        ]
                      },
                      {
                        "iteration": 467,
                        "learn": [
                          1.388552491
                        ],
                        "passed_time": 635.0901345,
                        "remaining_time": 721.9400675,
                        "test": [
                          1.730657522
                        ]
                      },
                      {
                        "iteration": 468,
                        "learn": [
                          1.387559606
                        ],
                        "passed_time": 636.283147,
                        "remaining_time": 720.397337,
                        "test": [
                          1.730617998
                        ]
                      },
                      {
                        "iteration": 469,
                        "learn": [
                          1.387129142
                        ],
                        "passed_time": 637.3918155,
                        "remaining_time": 718.7609834,
                        "test": [
                          1.730630422
                        ]
                      },
                      {
                        "iteration": 470,
                        "learn": [
                          1.38619767
                        ],
                        "passed_time": 638.5969241,
                        "remaining_time": 717.2351865,
                        "test": [
                          1.730934181
                        ]
                      },
                      {
                        "iteration": 471,
                        "learn": [
                          1.385423963
                        ],
                        "passed_time": 639.7763012,
                        "remaining_time": 715.6819641,
                        "test": [
                          1.730548911
                        ]
                      },
                      {
                        "iteration": 472,
                        "learn": [
                          1.384727426
                        ],
                        "passed_time": 640.958037,
                        "remaining_time": 714.1329504,
                        "test": [
                          1.730608108
                        ]
                      },
                      {
                        "iteration": 473,
                        "learn": [
                          1.383880986
                        ],
                        "passed_time": 642.1635303,
                        "remaining_time": 712.6118501,
                        "test": [
                          1.730749011
                        ]
                      },
                      {
                        "iteration": 474,
                        "learn": [
                          1.383393742
                        ],
                        "passed_time": 643.3255077,
                        "remaining_time": 711.0439822,
                        "test": [
                          1.731093369
                        ]
                      },
                      {
                        "iteration": 475,
                        "learn": [
                          1.382604066
                        ],
                        "passed_time": 644.5330685,
                        "remaining_time": 709.5279998,
                        "test": [
                          1.730755472
                        ]
                      },
                      {
                        "iteration": 476,
                        "learn": [
                          1.38255139
                        ],
                        "passed_time": 645.5892228,
                        "remaining_time": 707.847303,
                        "test": [
                          1.730760077
                        ]
                      },
                      {
                        "iteration": 477,
                        "learn": [
                          1.381515655
                        ],
                        "passed_time": 646.8464201,
                        "remaining_time": 706.3887684,
                        "test": [
                          1.730920566
                        ]
                      },
                      {
                        "iteration": 478,
                        "learn": [
                          1.380595716
                        ],
                        "passed_time": 648.0776975,
                        "remaining_time": 704.9028819,
                        "test": [
                          1.730620782
                        ]
                      },
                      {
                        "iteration": 479,
                        "learn": [
                          1.379983673
                        ],
                        "passed_time": 649.2472296,
                        "remaining_time": 703.3511654,
                        "test": [
                          1.730918645
                        ]
                      },
                      {
                        "iteration": 480,
                        "learn": [
                          1.379621798
                        ],
                        "passed_time": 650.3703486,
                        "remaining_time": 701.7509582,
                        "test": [
                          1.730905172
                        ]
                      },
                      {
                        "iteration": 481,
                        "learn": [
                          1.379529758
                        ],
                        "passed_time": 651.4476384,
                        "remaining_time": 700.1034786,
                        "test": [
                          1.730940707
                        ]
                      },
                      {
                        "iteration": 482,
                        "learn": [
                          1.378859773
                        ],
                        "passed_time": 652.6727303,
                        "remaining_time": 698.6165664,
                        "test": [
                          1.731022742
                        ]
                      },
                      {
                        "iteration": 483,
                        "learn": [
                          1.378225929
                        ],
                        "passed_time": 653.7982517,
                        "remaining_time": 697.0245824,
                        "test": [
                          1.730747078
                        ]
                      },
                      {
                        "iteration": 484,
                        "learn": [
                          1.378102003
                        ],
                        "passed_time": 654.8822307,
                        "remaining_time": 695.39041,
                        "test": [
                          1.730802111
                        ]
                      },
                      {
                        "iteration": 485,
                        "learn": [
                          1.377494588
                        ],
                        "passed_time": 656.0555614,
                        "remaining_time": 693.8530011,
                        "test": [
                          1.730711957
                        ]
                      },
                      {
                        "iteration": 486,
                        "learn": [
                          1.3768622
                        ],
                        "passed_time": 657.2197526,
                        "remaining_time": 692.3074602,
                        "test": [
                          1.730751918
                        ]
                      },
                      {
                        "iteration": 487,
                        "learn": [
                          1.376503576
                        ],
                        "passed_time": 658.350513,
                        "remaining_time": 690.728407,
                        "test": [
                          1.730641063
                        ]
                      },
                      {
                        "iteration": 488,
                        "learn": [
                          1.376147968
                        ],
                        "passed_time": 659.4774598,
                        "remaining_time": 689.1472023,
                        "test": [
                          1.730691898
                        ]
                      },
                      {
                        "iteration": 489,
                        "learn": [
                          1.375438838
                        ],
                        "passed_time": 660.6769193,
                        "remaining_time": 687.6433242,
                        "test": [
                          1.730757313
                        ]
                      },
                      {
                        "iteration": 490,
                        "learn": [
                          1.375114127
                        ],
                        "passed_time": 661.8042486,
                        "remaining_time": 686.0659115,
                        "test": [
                          1.730836942
                        ]
                      },
                      {
                        "iteration": 491,
                        "learn": [
                          1.374407532
                        ],
                        "passed_time": 663.0071637,
                        "remaining_time": 684.5683723,
                        "test": [
                          1.730863914
                        ]
                      },
                      {
                        "iteration": 492,
                        "learn": [
                          1.373870888
                        ],
                        "passed_time": 664.1368429,
                        "remaining_time": 682.9967127,
                        "test": [
                          1.730876665
                        ]
                      },
                      {
                        "iteration": 493,
                        "learn": [
                          1.372977063
                        ],
                        "passed_time": 665.3590539,
                        "remaining_time": 681.5216221,
                        "test": [
                          1.730801945
                        ]
                      },
                      {
                        "iteration": 494,
                        "learn": [
                          1.372346666
                        ],
                        "passed_time": 666.4861615,
                        "remaining_time": 679.9505284,
                        "test": [
                          1.73083679
                        ]
                      },
                      {
                        "iteration": 495,
                        "learn": [
                          1.371397354
                        ],
                        "passed_time": 667.6656875,
                        "remaining_time": 678.4344889,
                        "test": [
                          1.730749533
                        ]
                      },
                      {
                        "iteration": 496,
                        "learn": [
                          1.370664606
                        ],
                        "passed_time": 668.8262809,
                        "remaining_time": 676.9006424,
                        "test": [
                          1.730683735
                        ]
                      },
                      {
                        "iteration": 497,
                        "learn": [
                          1.370164671
                        ],
                        "passed_time": 670.0892996,
                        "remaining_time": 675.471543,
                        "test": [
                          1.730696695
                        ]
                      },
                      {
                        "iteration": 498,
                        "learn": [
                          1.369136103
                        ],
                        "passed_time": 671.3528566,
                        "remaining_time": 674.0436496,
                        "test": [
                          1.730474754
                        ]
                      },
                      {
                        "iteration": 499,
                        "learn": [
                          1.36824363
                        ],
                        "passed_time": 673.6114874,
                        "remaining_time": 673.6114874,
                        "test": [
                          1.730610133
                        ]
                      },
                      {
                        "iteration": 500,
                        "learn": [
                          1.367922738
                        ],
                        "passed_time": 674.8161393,
                        "remaining_time": 672.1222625,
                        "test": [
                          1.730713577
                        ]
                      },
                      {
                        "iteration": 501,
                        "learn": [
                          1.367220063
                        ],
                        "passed_time": 676.0056348,
                        "remaining_time": 670.6191357,
                        "test": [
                          1.73086502
                        ]
                      },
                      {
                        "iteration": 502,
                        "learn": [
                          1.366481068
                        ],
                        "passed_time": 677.2781847,
                        "remaining_time": 669.1993197,
                        "test": [
                          1.731066375
                        ]
                      },
                      {
                        "iteration": 503,
                        "learn": [
                          1.365669282
                        ],
                        "passed_time": 678.4220717,
                        "remaining_time": 667.6534674,
                        "test": [
                          1.730871212
                        ]
                      },
                      {
                        "iteration": 504,
                        "learn": [
                          1.365233697
                        ],
                        "passed_time": 679.5988915,
                        "remaining_time": 666.1414877,
                        "test": [
                          1.730797948
                        ]
                      },
                      {
                        "iteration": 505,
                        "learn": [
                          1.364295667
                        ],
                        "passed_time": 680.8220902,
                        "remaining_time": 664.6761118,
                        "test": [
                          1.730428237
                        ]
                      },
                      {
                        "iteration": 506,
                        "learn": [
                          1.363689474
                        ],
                        "passed_time": 682.0462901,
                        "remaining_time": 663.2126647,
                        "test": [
                          1.730300236
                        ]
                      },
                      {
                        "iteration": 507,
                        "learn": [
                          1.3631329
                        ],
                        "passed_time": 683.2268896,
                        "remaining_time": 661.7079324,
                        "test": [
                          1.730396594
                        ]
                      },
                      {
                        "iteration": 508,
                        "learn": [
                          1.36261721
                        ],
                        "passed_time": 684.3967649,
                        "remaining_time": 660.1941288,
                        "test": [
                          1.730056928
                        ]
                      },
                      {
                        "iteration": 509,
                        "learn": [
                          1.362040061
                        ],
                        "passed_time": 685.5482233,
                        "remaining_time": 658.6639793,
                        "test": [
                          1.729778263
                        ]
                      },
                      {
                        "iteration": 510,
                        "learn": [
                          1.360917961
                        ],
                        "passed_time": 686.8255498,
                        "remaining_time": 657.255761,
                        "test": [
                          1.730332198
                        ]
                      },
                      {
                        "iteration": 511,
                        "learn": [
                          1.360257129
                        ],
                        "passed_time": 687.9964861,
                        "remaining_time": 655.7466508,
                        "test": [
                          1.730363693
                        ]
                      },
                      {
                        "iteration": 512,
                        "learn": [
                          1.35956422
                        ],
                        "passed_time": 689.1629985,
                        "remaining_time": 654.2346594,
                        "test": [
                          1.730378299
                        ]
                      },
                      {
                        "iteration": 513,
                        "learn": [
                          1.358409595
                        ],
                        "passed_time": 690.3980492,
                        "remaining_time": 652.788817,
                        "test": [
                          1.730203121
                        ]
                      },
                      {
                        "iteration": 514,
                        "learn": [
                          1.357659784
                        ],
                        "passed_time": 691.6233585,
                        "remaining_time": 651.3346191,
                        "test": [
                          1.730386094
                        ]
                      },
                      {
                        "iteration": 515,
                        "learn": [
                          1.357141336
                        ],
                        "passed_time": 692.7775728,
                        "remaining_time": 649.8146226,
                        "test": [
                          1.730350421
                        ]
                      },
                      {
                        "iteration": 516,
                        "learn": [
                          1.356648922
                        ],
                        "passed_time": 693.9220736,
                        "remaining_time": 648.2869663,
                        "test": [
                          1.730247757
                        ]
                      },
                      {
                        "iteration": 517,
                        "learn": [
                          1.355842392
                        ],
                        "passed_time": 695.0789743,
                        "remaining_time": 646.7723274,
                        "test": [
                          1.729753286
                        ]
                      },
                      {
                        "iteration": 518,
                        "learn": [
                          1.355042914
                        ],
                        "passed_time": 696.3073348,
                        "remaining_time": 645.3252949,
                        "test": [
                          1.729683018
                        ]
                      },
                      {
                        "iteration": 519,
                        "learn": [
                          1.354036907
                        ],
                        "passed_time": 697.5304204,
                        "remaining_time": 643.8742342,
                        "test": [
                          1.730131933
                        ]
                      },
                      {
                        "iteration": 520,
                        "learn": [
                          1.353181291
                        ],
                        "passed_time": 698.7541396,
                        "remaining_time": 642.4246312,
                        "test": [
                          1.73041053
                        ]
                      },
                      {
                        "iteration": 521,
                        "learn": [
                          1.352530409
                        ],
                        "passed_time": 700.0109712,
                        "remaining_time": 641.006215,
                        "test": [
                          1.730541501
                        ]
                      },
                      {
                        "iteration": 522,
                        "learn": [
                          1.351799239
                        ],
                        "passed_time": 701.2187592,
                        "remaining_time": 639.5436866,
                        "test": [
                          1.730606376
                        ]
                      },
                      {
                        "iteration": 523,
                        "learn": [
                          1.351201061
                        ],
                        "passed_time": 702.3896726,
                        "remaining_time": 638.0486339,
                        "test": [
                          1.730697505
                        ]
                      },
                      {
                        "iteration": 524,
                        "learn": [
                          1.350301436
                        ],
                        "passed_time": 703.5907532,
                        "remaining_time": 636.58211,
                        "test": [
                          1.730917222
                        ]
                      },
                      {
                        "iteration": 525,
                        "learn": [
                          1.349518227
                        ],
                        "passed_time": 704.8311511,
                        "remaining_time": 635.1520259,
                        "test": [
                          1.730995662
                        ]
                      },
                      {
                        "iteration": 526,
                        "learn": [
                          1.34872834
                        ],
                        "passed_time": 706.0524797,
                        "remaining_time": 633.7055463,
                        "test": [
                          1.731230277
                        ]
                      },
                      {
                        "iteration": 527,
                        "learn": [
                          1.347837073
                        ],
                        "passed_time": 707.2623769,
                        "remaining_time": 632.2497005,
                        "test": [
                          1.731157155
                        ]
                      },
                      {
                        "iteration": 528,
                        "learn": [
                          1.347443347
                        ],
                        "passed_time": 708.4000095,
                        "remaining_time": 630.7304433,
                        "test": [
                          1.731055664
                        ]
                      },
                      {
                        "iteration": 529,
                        "learn": [
                          1.347114438
                        ],
                        "passed_time": 709.5443751,
                        "remaining_time": 629.2185968,
                        "test": [
                          1.731182749
                        ]
                      },
                      {
                        "iteration": 530,
                        "learn": [
                          1.346254335
                        ],
                        "passed_time": 710.7720878,
                        "remaining_time": 627.7817498,
                        "test": [
                          1.730923181
                        ]
                      },
                      {
                        "iteration": 531,
                        "learn": [
                          1.345713251
                        ],
                        "passed_time": 711.9289007,
                        "remaining_time": 626.2833187,
                        "test": [
                          1.73097415
                        ]
                      },
                      {
                        "iteration": 532,
                        "learn": [
                          1.345230249
                        ],
                        "passed_time": 713.1476513,
                        "remaining_time": 624.8404374,
                        "test": [
                          1.731086827
                        ]
                      },
                      {
                        "iteration": 533,
                        "learn": [
                          1.344519854
                        ],
                        "passed_time": 714.3395844,
                        "remaining_time": 623.3749931,
                        "test": [
                          1.731166477
                        ]
                      },
                      {
                        "iteration": 534,
                        "learn": [
                          1.343711568
                        ],
                        "passed_time": 715.546941,
                        "remaining_time": 621.9239768,
                        "test": [
                          1.731215728
                        ]
                      },
                      {
                        "iteration": 535,
                        "learn": [
                          1.342574406
                        ],
                        "passed_time": 716.7479413,
                        "remaining_time": 620.4683671,
                        "test": [
                          1.731185041
                        ]
                      },
                      {
                        "iteration": 536,
                        "learn": [
                          1.341823631
                        ],
                        "passed_time": 717.9666733,
                        "remaining_time": 619.0289939,
                        "test": [
                          1.731545869
                        ]
                      },
                      {
                        "iteration": 537,
                        "learn": [
                          1.341340503
                        ],
                        "passed_time": 719.0877415,
                        "remaining_time": 617.5065736,
                        "test": [
                          1.731616115
                        ]
                      },
                      {
                        "iteration": 538,
                        "learn": [
                          1.340672403
                        ],
                        "passed_time": 720.297758,
                        "remaining_time": 616.0617188,
                        "test": [
                          1.731776248
                        ]
                      },
                      {
                        "iteration": 539,
                        "learn": [
                          1.339758136
                        ],
                        "passed_time": 721.5253749,
                        "remaining_time": 614.6327268,
                        "test": [
                          1.731685888
                        ]
                      },
                      {
                        "iteration": 540,
                        "learn": [
                          1.338860082
                        ],
                        "passed_time": 722.7782427,
                        "remaining_time": 613.2259028,
                        "test": [
                          1.731943712
                        ]
                      },
                      {
                        "iteration": 541,
                        "learn": [
                          1.338319969
                        ],
                        "passed_time": 724.0276105,
                        "remaining_time": 611.8166893,
                        "test": [
                          1.732117459
                        ]
                      },
                      {
                        "iteration": 542,
                        "learn": [
                          1.337650877
                        ],
                        "passed_time": 725.1972901,
                        "remaining_time": 610.3409974,
                        "test": [
                          1.732200976
                        ]
                      },
                      {
                        "iteration": 543,
                        "learn": [
                          1.336962283
                        ],
                        "passed_time": 726.3706161,
                        "remaining_time": 608.869487,
                        "test": [
                          1.732460953
                        ]
                      },
                      {
                        "iteration": 544,
                        "learn": [
                          1.336355848
                        ],
                        "passed_time": 727.5677219,
                        "remaining_time": 607.4189238,
                        "test": [
                          1.732424958
                        ]
                      },
                      {
                        "iteration": 545,
                        "learn": [
                          1.335675381
                        ],
                        "passed_time": 728.7679736,
                        "remaining_time": 605.9719048,
                        "test": [
                          1.732243106
                        ]
                      },
                      {
                        "iteration": 546,
                        "learn": [
                          1.334919429
                        ],
                        "passed_time": 730.0399055,
                        "remaining_time": 604.5851502,
                        "test": [
                          1.732400674
                        ]
                      },
                      {
                        "iteration": 547,
                        "learn": [
                          1.334139718
                        ],
                        "passed_time": 731.2987738,
                        "remaining_time": 603.1880397,
                        "test": [
                          1.732745728
                        ]
                      },
                      {
                        "iteration": 548,
                        "learn": [
                          1.333228092
                        ],
                        "passed_time": 732.5364349,
                        "remaining_time": 601.7740111,
                        "test": [
                          1.732498128
                        ]
                      },
                      {
                        "iteration": 549,
                        "learn": [
                          1.332704839
                        ],
                        "passed_time": 733.7176298,
                        "remaining_time": 600.3144244,
                        "test": [
                          1.732328723
                        ]
                      },
                      {
                        "iteration": 550,
                        "learn": [
                          1.332113418
                        ],
                        "passed_time": 734.9088893,
                        "remaining_time": 598.8640496,
                        "test": [
                          1.73232136
                        ]
                      },
                      {
                        "iteration": 551,
                        "learn": [
                          1.331431826
                        ],
                        "passed_time": 736.0727601,
                        "remaining_time": 597.392385,
                        "test": [
                          1.732449542
                        ]
                      },
                      {
                        "iteration": 552,
                        "learn": [
                          1.331378043
                        ],
                        "passed_time": 737.140753,
                        "remaining_time": 595.8443338,
                        "test": [
                          1.732476386
                        ]
                      },
                      {
                        "iteration": 553,
                        "learn": [
                          1.33057766
                        ],
                        "passed_time": 738.2884692,
                        "remaining_time": 594.3621972,
                        "test": [
                          1.73230211
                        ]
                      },
                      {
                        "iteration": 554,
                        "learn": [
                          1.330102674
                        ],
                        "passed_time": 739.4539679,
                        "remaining_time": 592.8955238,
                        "test": [
                          1.732526081
                        ]
                      },
                      {
                        "iteration": 555,
                        "learn": [
                          1.329515531
                        ],
                        "passed_time": 740.6496158,
                        "remaining_time": 591.4540098,
                        "test": [
                          1.732695789
                        ]
                      },
                      {
                        "iteration": 556,
                        "learn": [
                          1.329060802
                        ],
                        "passed_time": 741.815226,
                        "remaining_time": 589.9894885,
                        "test": [
                          1.732598919
                        ]
                      },
                      {
                        "iteration": 557,
                        "learn": [
                          1.328294
                        ],
                        "passed_time": 742.9939725,
                        "remaining_time": 588.5364442,
                        "test": [
                          1.732628164
                        ]
                      },
                      {
                        "iteration": 558,
                        "learn": [
                          1.327671413
                        ],
                        "passed_time": 744.210088,
                        "remaining_time": 587.1138619,
                        "test": [
                          1.732656543
                        ]
                      },
                      {
                        "iteration": 559,
                        "learn": [
                          1.327202089
                        ],
                        "passed_time": 745.3911373,
                        "remaining_time": 585.664465,
                        "test": [
                          1.732807203
                        ]
                      },
                      {
                        "iteration": 560,
                        "learn": [
                          1.32641533
                        ],
                        "passed_time": 746.61673,
                        "remaining_time": 584.2508814,
                        "test": [
                          1.732818089
                        ]
                      },
                      {
                        "iteration": 561,
                        "learn": [
                          1.32544926
                        ],
                        "passed_time": 747.8355932,
                        "remaining_time": 582.8327221,
                        "test": [
                          1.732915856
                        ]
                      },
                      {
                        "iteration": 562,
                        "learn": [
                          1.324863582
                        ],
                        "passed_time": 749.0268752,
                        "remaining_time": 581.3938622,
                        "test": [
                          1.732899017
                        ]
                      },
                      {
                        "iteration": 563,
                        "learn": [
                          1.324162555
                        ],
                        "passed_time": 750.271792,
                        "remaining_time": 579.9973427,
                        "test": [
                          1.732948988
                        ]
                      },
                      {
                        "iteration": 564,
                        "learn": [
                          1.323500389
                        ],
                        "passed_time": 751.4149761,
                        "remaining_time": 578.5230347,
                        "test": [
                          1.732490251
                        ]
                      },
                      {
                        "iteration": 565,
                        "learn": [
                          1.323137264
                        ],
                        "passed_time": 752.5729159,
                        "remaining_time": 577.0612111,
                        "test": [
                          1.732575808
                        ]
                      },
                      {
                        "iteration": 566,
                        "learn": [
                          1.322480862
                        ],
                        "passed_time": 753.7098255,
                        "remaining_time": 575.5843994,
                        "test": [
                          1.732520839
                        ]
                      },
                      {
                        "iteration": 567,
                        "learn": [
                          1.321555296
                        ],
                        "passed_time": 754.9750943,
                        "remaining_time": 574.2064098,
                        "test": [
                          1.732406264
                        ]
                      },
                      {
                        "iteration": 568,
                        "learn": [
                          1.320935069
                        ],
                        "passed_time": 756.1493791,
                        "remaining_time": 572.7598987,
                        "test": [
                          1.732562371
                        ]
                      },
                      {
                        "iteration": 569,
                        "learn": [
                          1.320405214
                        ],
                        "passed_time": 757.3276468,
                        "remaining_time": 571.3173476,
                        "test": [
                          1.732373518
                        ]
                      },
                      {
                        "iteration": 570,
                        "learn": [
                          1.319809183
                        ],
                        "passed_time": 758.5120728,
                        "remaining_time": 569.8803489,
                        "test": [
                          1.732332957
                        ]
                      },
                      {
                        "iteration": 571,
                        "learn": [
                          1.319722082
                        ],
                        "passed_time": 759.5808431,
                        "remaining_time": 568.3576938,
                        "test": [
                          1.732381791
                        ]
                      },
                      {
                        "iteration": 572,
                        "learn": [
                          1.319013475
                        ],
                        "passed_time": 760.8044688,
                        "remaining_time": 566.9520212,
                        "test": [
                          1.732366468
                        ]
                      },
                      {
                        "iteration": 573,
                        "learn": [
                          1.318422524
                        ],
                        "passed_time": 762.010273,
                        "remaining_time": 565.5337566,
                        "test": [
                          1.732236437
                        ]
                      },
                      {
                        "iteration": 574,
                        "learn": [
                          1.317798243
                        ],
                        "passed_time": 763.2591613,
                        "remaining_time": 564.1480757,
                        "test": [
                          1.732227597
                        ]
                      },
                      {
                        "iteration": 575,
                        "learn": [
                          1.317053763
                        ],
                        "passed_time": 764.4800266,
                        "remaining_time": 562.7422418,
                        "test": [
                          1.732363924
                        ]
                      },
                      {
                        "iteration": 576,
                        "learn": [
                          1.316422553
                        ],
                        "passed_time": 765.6860366,
                        "remaining_time": 561.3261586,
                        "test": [
                          1.732412073
                        ]
                      },
                      {
                        "iteration": 577,
                        "learn": [
                          1.315848361
                        ],
                        "passed_time": 766.9080974,
                        "remaining_time": 559.922521,
                        "test": [
                          1.732598056
                        ]
                      },
                      {
                        "iteration": 578,
                        "learn": [
                          1.315371174
                        ],
                        "passed_time": 768.0600462,
                        "remaining_time": 558.468531,
                        "test": [
                          1.732246291
                        ]
                      },
                      {
                        "iteration": 579,
                        "learn": [
                          1.31446829
                        ],
                        "passed_time": 769.3006644,
                        "remaining_time": 557.0797915,
                        "test": [
                          1.731938254
                        ]
                      },
                      {
                        "iteration": 580,
                        "learn": [
                          1.31368775
                        ],
                        "passed_time": 770.5843071,
                        "remaining_time": 555.7225898,
                        "test": [
                          1.732193888
                        ]
                      },
                      {
                        "iteration": 581,
                        "learn": [
                          1.31289591
                        ],
                        "passed_time": 771.8065798,
                        "remaining_time": 554.3215642,
                        "test": [
                          1.73228526
                        ]
                      },
                      {
                        "iteration": 582,
                        "learn": [
                          1.311949881
                        ],
                        "passed_time": 773.058417,
                        "remaining_time": 552.9422983,
                        "test": [
                          1.732097428
                        ]
                      },
                      {
                        "iteration": 583,
                        "learn": [
                          1.311562532
                        ],
                        "passed_time": 774.2274412,
                        "remaining_time": 551.5044787,
                        "test": [
                          1.732261567
                        ]
                      },
                      {
                        "iteration": 584,
                        "learn": [
                          1.311149206
                        ],
                        "passed_time": 775.3443649,
                        "remaining_time": 550.0306178,
                        "test": [
                          1.732357211
                        ]
                      },
                      {
                        "iteration": 585,
                        "learn": [
                          1.310713858
                        ],
                        "passed_time": 776.4801177,
                        "remaining_time": 548.5712777,
                        "test": [
                          1.732440126
                        ]
                      },
                      {
                        "iteration": 586,
                        "learn": [
                          1.31030607
                        ],
                        "passed_time": 777.6271925,
                        "remaining_time": 547.121006,
                        "test": [
                          1.732388265
                        ]
                      },
                      {
                        "iteration": 587,
                        "learn": [
                          1.30946737
                        ],
                        "passed_time": 778.8214041,
                        "remaining_time": 545.7047933,
                        "test": [
                          1.732157168
                        ]
                      },
                      {
                        "iteration": 588,
                        "learn": [
                          1.308780282
                        ],
                        "passed_time": 780.0650688,
                        "remaining_time": 544.3238426,
                        "test": [
                          1.732490975
                        ]
                      },
                      {
                        "iteration": 589,
                        "learn": [
                          1.308109103
                        ],
                        "passed_time": 781.2182342,
                        "remaining_time": 542.8804678,
                        "test": [
                          1.732420405
                        ]
                      },
                      {
                        "iteration": 590,
                        "learn": [
                          1.307359408
                        ],
                        "passed_time": 782.5258992,
                        "remaining_time": 541.5449962,
                        "test": [
                          1.732934959
                        ]
                      },
                      {
                        "iteration": 591,
                        "learn": [
                          1.306957324
                        ],
                        "passed_time": 783.6648422,
                        "remaining_time": 540.0933372,
                        "test": [
                          1.733121127
                        ]
                      },
                      {
                        "iteration": 592,
                        "learn": [
                          1.306435324
                        ],
                        "passed_time": 784.8591386,
                        "remaining_time": 538.6807241,
                        "test": [
                          1.733104281
                        ]
                      },
                      {
                        "iteration": 593,
                        "learn": [
                          1.305649997
                        ],
                        "passed_time": 786.0632702,
                        "remaining_time": 537.2755685,
                        "test": [
                          1.73331523
                        ]
                      },
                      {
                        "iteration": 594,
                        "learn": [
                          1.305057562
                        ],
                        "passed_time": 787.2099254,
                        "remaining_time": 535.831966,
                        "test": [
                          1.733191414
                        ]
                      },
                      {
                        "iteration": 595,
                        "learn": [
                          1.304386616
                        ],
                        "passed_time": 788.477826,
                        "remaining_time": 534.4715465,
                        "test": [
                          1.732926792
                        ]
                      },
                      {
                        "iteration": 596,
                        "learn": [
                          1.303752734
                        ],
                        "passed_time": 789.6605648,
                        "remaining_time": 533.0539491,
                        "test": [
                          1.733180096
                        ]
                      },
                      {
                        "iteration": 597,
                        "learn": [
                          1.303114279
                        ],
                        "passed_time": 790.8926173,
                        "remaining_time": 531.6702879,
                        "test": [
                          1.733132849
                        ]
                      },
                      {
                        "iteration": 598,
                        "learn": [
                          1.303064226
                        ],
                        "passed_time": 791.9508952,
                        "remaining_time": 530.1707996,
                        "test": [
                          1.733179423
                        ]
                      },
                      {
                        "iteration": 599,
                        "learn": [
                          1.302220024
                        ],
                        "passed_time": 793.2082091,
                        "remaining_time": 528.8054727,
                        "test": [
                          1.733370574
                        ]
                      },
                      {
                        "iteration": 600,
                        "learn": [
                          1.30142891
                        ],
                        "passed_time": 794.4370915,
                        "remaining_time": 527.4216298,
                        "test": [
                          1.7332844
                        ]
                      },
                      {
                        "iteration": 601,
                        "learn": [
                          1.300958503
                        ],
                        "passed_time": 795.6062502,
                        "remaining_time": 525.9988166,
                        "test": [
                          1.733205403
                        ]
                      },
                      {
                        "iteration": 602,
                        "learn": [
                          1.300358054
                        ],
                        "passed_time": 796.8059894,
                        "remaining_time": 524.5969781,
                        "test": [
                          1.733191951
                        ]
                      },
                      {
                        "iteration": 603,
                        "learn": [
                          1.300060391
                        ],
                        "passed_time": 797.9298801,
                        "remaining_time": 523.1460803,
                        "test": [
                          1.733153232
                        ]
                      },
                      {
                        "iteration": 604,
                        "learn": [
                          1.29904848
                        ],
                        "passed_time": 799.1436473,
                        "remaining_time": 521.7549432,
                        "test": [
                          1.733187209
                        ]
                      },
                      {
                        "iteration": 605,
                        "learn": [
                          1.298963534
                        ],
                        "passed_time": 800.2137057,
                        "remaining_time": 520.2709572,
                        "test": [
                          1.733186594
                        ]
                      },
                      {
                        "iteration": 606,
                        "learn": [
                          1.298189319
                        ],
                        "passed_time": 801.3883984,
                        "remaining_time": 518.85608,
                        "test": [
                          1.732923562
                        ]
                      },
                      {
                        "iteration": 607,
                        "learn": [
                          1.297599372
                        ],
                        "passed_time": 802.5807318,
                        "remaining_time": 517.4533665,
                        "test": [
                          1.732893047
                        ]
                      },
                      {
                        "iteration": 608,
                        "learn": [
                          1.297031439
                        ],
                        "passed_time": 803.7825737,
                        "remaining_time": 516.0574488,
                        "test": [
                          1.732846841
                        ]
                      },
                      {
                        "iteration": 609,
                        "learn": [
                          1.296557327
                        ],
                        "passed_time": 804.9867495,
                        "remaining_time": 514.6636595,
                        "test": [
                          1.732990643
                        ]
                      },
                      {
                        "iteration": 610,
                        "learn": [
                          1.295742339
                        ],
                        "passed_time": 806.2314589,
                        "remaining_time": 513.2962971,
                        "test": [
                          1.732603931
                        ]
                      },
                      {
                        "iteration": 611,
                        "learn": [
                          1.294980352
                        ],
                        "passed_time": 807.5013686,
                        "remaining_time": 511.9453121,
                        "test": [
                          1.732736367
                        ]
                      },
                      {
                        "iteration": 612,
                        "learn": [
                          1.294514542
                        ],
                        "passed_time": 808.6481001,
                        "remaining_time": 510.5168267,
                        "test": [
                          1.732870449
                        ]
                      },
                      {
                        "iteration": 613,
                        "learn": [
                          1.293607092
                        ],
                        "passed_time": 809.8602817,
                        "remaining_time": 509.1304051,
                        "test": [
                          1.733076136
                        ]
                      },
                      {
                        "iteration": 614,
                        "learn": [
                          1.292692895
                        ],
                        "passed_time": 811.1755539,
                        "remaining_time": 507.8090866,
                        "test": [
                          1.733139568
                        ]
                      },
                      {
                        "iteration": 615,
                        "learn": [
                          1.292551498
                        ],
                        "passed_time": 813.0997435,
                        "remaining_time": 506.8673726,
                        "test": [
                          1.733259121
                        ]
                      },
                      {
                        "iteration": 616,
                        "learn": [
                          1.291709657
                        ],
                        "passed_time": 815.2450084,
                        "remaining_time": 506.0597054,
                        "test": [
                          1.73328169
                        ]
                      },
                      {
                        "iteration": 617,
                        "learn": [
                          1.291146772
                        ],
                        "passed_time": 816.6672974,
                        "remaining_time": 504.8008214,
                        "test": [
                          1.733098087
                        ]
                      },
                      {
                        "iteration": 618,
                        "learn": [
                          1.290644474
                        ],
                        "passed_time": 817.8817994,
                        "remaining_time": 503.4135146,
                        "test": [
                          1.733040543
                        ]
                      },
                      {
                        "iteration": 619,
                        "learn": [
                          1.289888227
                        ],
                        "passed_time": 819.0749404,
                        "remaining_time": 502.0136732,
                        "test": [
                          1.733031484
                        ]
                      },
                      {
                        "iteration": 620,
                        "learn": [
                          1.289441348
                        ],
                        "passed_time": 820.1789133,
                        "remaining_time": 500.5600775,
                        "test": [
                          1.733320727
                        ]
                      },
                      {
                        "iteration": 621,
                        "learn": [
                          1.288973733
                        ],
                        "passed_time": 821.3051419,
                        "remaining_time": 499.1211313,
                        "test": [
                          1.733247915
                        ]
                      },
                      {
                        "iteration": 622,
                        "learn": [
                          1.288288279
                        ],
                        "passed_time": 822.4745667,
                        "remaining_time": 497.7093285,
                        "test": [
                          1.73341343
                        ]
                      },
                      {
                        "iteration": 623,
                        "learn": [
                          1.28788507
                        ],
                        "passed_time": 823.6853914,
                        "remaining_time": 496.3232487,
                        "test": [
                          1.733311337
                        ]
                      },
                      {
                        "iteration": 624,
                        "learn": [
                          1.287297927
                        ],
                        "passed_time": 824.8621123,
                        "remaining_time": 494.9172674,
                        "test": [
                          1.733245594
                        ]
                      },
                      {
                        "iteration": 625,
                        "learn": [
                          1.286646682
                        ],
                        "passed_time": 826.1591851,
                        "remaining_time": 493.5839221,
                        "test": [
                          1.733389447
                        ]
                      },
                      {
                        "iteration": 626,
                        "learn": [
                          1.285863085
                        ],
                        "passed_time": 827.4026665,
                        "remaining_time": 492.2188112,
                        "test": [
                          1.733409069
                        ]
                      },
                      {
                        "iteration": 627,
                        "learn": [
                          1.285076351
                        ],
                        "passed_time": 828.6338616,
                        "remaining_time": 490.8468097,
                        "test": [
                          1.733490476
                        ]
                      },
                      {
                        "iteration": 628,
                        "learn": [
                          1.284512449
                        ],
                        "passed_time": 829.8658738,
                        "remaining_time": 489.475738,
                        "test": [
                          1.73323978
                        ]
                      },
                      {
                        "iteration": 629,
                        "learn": [
                          1.283970332
                        ],
                        "passed_time": 831.041896,
                        "remaining_time": 488.0722247,
                        "test": [
                          1.73325073
                        ]
                      },
                      {
                        "iteration": 630,
                        "learn": [
                          1.283247302
                        ],
                        "passed_time": 832.2836203,
                        "remaining_time": 486.707854,
                        "test": [
                          1.733518071
                        ]
                      },
                      {
                        "iteration": 631,
                        "learn": [
                          1.282187961
                        ],
                        "passed_time": 833.6434598,
                        "remaining_time": 485.4126475,
                        "test": [
                          1.73342026
                        ]
                      },
                      {
                        "iteration": 632,
                        "learn": [
                          1.281774533
                        ],
                        "passed_time": 834.8008886,
                        "remaining_time": 483.9998833,
                        "test": [
                          1.733388738
                        ]
                      },
                      {
                        "iteration": 633,
                        "learn": [
                          1.281372824
                        ],
                        "passed_time": 835.9808314,
                        "remaining_time": 482.6009216,
                        "test": [
                          1.733350694
                        ]
                      },
                      {
                        "iteration": 634,
                        "learn": [
                          1.280782552
                        ],
                        "passed_time": 837.182864,
                        "remaining_time": 481.215347,
                        "test": [
                          1.733413546
                        ]
                      },
                      {
                        "iteration": 635,
                        "learn": [
                          1.279927128
                        ],
                        "passed_time": 838.4091144,
                        "remaining_time": 479.8442101,
                        "test": [
                          1.733042956
                        ]
                      },
                      {
                        "iteration": 636,
                        "learn": [
                          1.279877961
                        ],
                        "passed_time": 839.4807428,
                        "remaining_time": 478.3854154,
                        "test": [
                          1.733070066
                        ]
                      },
                      {
                        "iteration": 637,
                        "learn": [
                          1.279257586
                        ],
                        "passed_time": 840.6307697,
                        "remaining_time": 476.9723176,
                        "test": [
                          1.733041583
                        ]
                      },
                      {
                        "iteration": 638,
                        "learn": [
                          1.278592119
                        ],
                        "passed_time": 841.881987,
                        "remaining_time": 475.6172102,
                        "test": [
                          1.733049456
                        ]
                      },
                      {
                        "iteration": 639,
                        "learn": [
                          1.277706868
                        ],
                        "passed_time": 843.0952895,
                        "remaining_time": 474.2411003,
                        "test": [
                          1.732780422
                        ]
                      },
                      {
                        "iteration": 640,
                        "learn": [
                          1.277085384
                        ],
                        "passed_time": 844.3042452,
                        "remaining_time": 472.863064,
                        "test": [
                          1.73281207
                        ]
                      },
                      {
                        "iteration": 641,
                        "learn": [
                          1.276416841
                        ],
                        "passed_time": 845.4996181,
                        "remaining_time": 471.4779802,
                        "test": [
                          1.733306275
                        ]
                      },
                      {
                        "iteration": 642,
                        "learn": [
                          1.275961913
                        ],
                        "passed_time": 846.666134,
                        "remaining_time": 470.0774647,
                        "test": [
                          1.733511544
                        ]
                      },
                      {
                        "iteration": 643,
                        "learn": [
                          1.275298608
                        ],
                        "passed_time": 847.8684875,
                        "remaining_time": 468.6974869,
                        "test": [
                          1.733391115
                        ]
                      },
                      {
                        "iteration": 644,
                        "learn": [
                          1.274833687
                        ],
                        "passed_time": 849.0135192,
                        "remaining_time": 467.2865106,
                        "test": [
                          1.733320814
                        ]
                      },
                      {
                        "iteration": 645,
                        "learn": [
                          1.27409472
                        ],
                        "passed_time": 850.2091794,
                        "remaining_time": 465.9041014,
                        "test": [
                          1.733301748
                        ]
                      },
                      {
                        "iteration": 646,
                        "learn": [
                          1.273202257
                        ],
                        "passed_time": 851.4336227,
                        "remaining_time": 464.5379734,
                        "test": [
                          1.733400175
                        ]
                      },
                      {
                        "iteration": 647,
                        "learn": [
                          1.272448691
                        ],
                        "passed_time": 852.6626381,
                        "remaining_time": 463.1747664,
                        "test": [
                          1.733651202
                        ]
                      },
                      {
                        "iteration": 648,
                        "learn": [
                          1.271789729
                        ],
                        "passed_time": 853.9109188,
                        "remaining_time": 461.8223922,
                        "test": [
                          1.733333145
                        ]
                      },
                      {
                        "iteration": 649,
                        "learn": [
                          1.271072085
                        ],
                        "passed_time": 855.0809264,
                        "remaining_time": 460.4281911,
                        "test": [
                          1.733374792
                        ]
                      },
                      {
                        "iteration": 650,
                        "learn": [
                          1.27030131
                        ],
                        "passed_time": 856.312322,
                        "remaining_time": 459.0675889,
                        "test": [
                          1.733299704
                        ]
                      },
                      {
                        "iteration": 651,
                        "learn": [
                          1.26972445
                        ],
                        "passed_time": 857.4527473,
                        "remaining_time": 457.6588283,
                        "test": [
                          1.733428097
                        ]
                      },
                      {
                        "iteration": 652,
                        "learn": [
                          1.269175533
                        ],
                        "passed_time": 858.6624742,
                        "remaining_time": 456.287716,
                        "test": [
                          1.733348874
                        ]
                      },
                      {
                        "iteration": 653,
                        "learn": [
                          1.268079914
                        ],
                        "passed_time": 859.8841844,
                        "remaining_time": 454.923437,
                        "test": [
                          1.733193948
                        ]
                      },
                      {
                        "iteration": 654,
                        "learn": [
                          1.267432795
                        ],
                        "passed_time": 861.1290364,
                        "remaining_time": 453.5717825,
                        "test": [
                          1.733536515
                        ]
                      },
                      {
                        "iteration": 655,
                        "learn": [
                          1.266936408
                        ],
                        "passed_time": 862.3255477,
                        "remaining_time": 452.1951043,
                        "test": [
                          1.733353071
                        ]
                      },
                      {
                        "iteration": 656,
                        "learn": [
                          1.26642801
                        ],
                        "passed_time": 863.4712963,
                        "remaining_time": 450.7924728,
                        "test": [
                          1.733502162
                        ]
                      },
                      {
                        "iteration": 657,
                        "learn": [
                          1.265655418
                        ],
                        "passed_time": 864.7306058,
                        "remaining_time": 449.4496462,
                        "test": [
                          1.733547152
                        ]
                      },
                      {
                        "iteration": 658,
                        "learn": [
                          1.265023493
                        ],
                        "passed_time": 865.9821001,
                        "remaining_time": 448.103029,
                        "test": [
                          1.733665242
                        ]
                      },
                      {
                        "iteration": 659,
                        "learn": [
                          1.264396648
                        ],
                        "passed_time": 867.2109231,
                        "remaining_time": 446.745021,
                        "test": [
                          1.733640295
                        ]
                      },
                      {
                        "iteration": 660,
                        "learn": [
                          1.26377087
                        ],
                        "passed_time": 868.4192491,
                        "remaining_time": 445.3768917,
                        "test": [
                          1.733679814
                        ]
                      },
                      {
                        "iteration": 661,
                        "learn": [
                          1.263263157
                        ],
                        "passed_time": 869.5638256,
                        "remaining_time": 443.9766964,
                        "test": [
                          1.733579032
                        ]
                      },
                      {
                        "iteration": 662,
                        "learn": [
                          1.262950764
                        ],
                        "passed_time": 870.6784564,
                        "remaining_time": 442.562051,
                        "test": [
                          1.733571914
                        ]
                      },
                      {
                        "iteration": 663,
                        "learn": [
                          1.262255334
                        ],
                        "passed_time": 871.830692,
                        "remaining_time": 441.1673381,
                        "test": [
                          1.733854815
                        ]
                      },
                      {
                        "iteration": 664,
                        "learn": [
                          1.261658815
                        ],
                        "passed_time": 872.993971,
                        "remaining_time": 439.7789177,
                        "test": [
                          1.733982223
                        ]
                      },
                      {
                        "iteration": 665,
                        "learn": [
                          1.261044744
                        ],
                        "passed_time": 874.2355286,
                        "remaining_time": 438.4304303,
                        "test": [
                          1.73389555
                        ]
                      },
                      {
                        "iteration": 666,
                        "learn": [
                          1.260381483
                        ],
                        "passed_time": 875.4861294,
                        "remaining_time": 437.0867783,
                        "test": [
                          1.733866256
                        ]
                      },
                      {
                        "iteration": 667,
                        "learn": [
                          1.259648141
                        ],
                        "passed_time": 876.7512331,
                        "remaining_time": 435.7506128,
                        "test": [
                          1.733854018
                        ]
                      },
                      {
                        "iteration": 668,
                        "learn": [
                          1.259273066
                        ],
                        "passed_time": 877.9234835,
                        "remaining_time": 434.368719,
                        "test": [
                          1.733891348
                        ]
                      },
                      {
                        "iteration": 669,
                        "learn": [
                          1.258487426
                        ],
                        "passed_time": 879.1242674,
                        "remaining_time": 433.0015049,
                        "test": [
                          1.734131939
                        ]
                      },
                      {
                        "iteration": 670,
                        "learn": [
                          1.257678561
                        ],
                        "passed_time": 880.3098634,
                        "remaining_time": 431.6273399,
                        "test": [
                          1.733991132
                        ]
                      },
                      {
                        "iteration": 671,
                        "learn": [
                          1.25704828
                        ],
                        "passed_time": 881.5247369,
                        "remaining_time": 430.2680263,
                        "test": [
                          1.734063124
                        ]
                      },
                      {
                        "iteration": 672,
                        "learn": [
                          1.256412842
                        ],
                        "passed_time": 882.7811928,
                        "remaining_time": 428.9293463,
                        "test": [
                          1.73392422
                        ]
                      },
                      {
                        "iteration": 673,
                        "learn": [
                          1.256364996
                        ],
                        "passed_time": 883.8350971,
                        "remaining_time": 427.4929401,
                        "test": [
                          1.733969789
                        ]
                      },
                      {
                        "iteration": 674,
                        "learn": [
                          1.255811034
                        ],
                        "passed_time": 885.062761,
                        "remaining_time": 426.1413294,
                        "test": [
                          1.73382259
                        ]
                      },
                      {
                        "iteration": 675,
                        "learn": [
                          1.255725093
                        ],
                        "passed_time": 886.1821798,
                        "remaining_time": 424.7382045,
                        "test": [
                          1.733816359
                        ]
                      },
                      {
                        "iteration": 676,
                        "learn": [
                          1.255471871
                        ],
                        "passed_time": 887.3452812,
                        "remaining_time": 423.356759,
                        "test": [
                          1.733803675
                        ]
                      },
                      {
                        "iteration": 677,
                        "learn": [
                          1.255396345
                        ],
                        "passed_time": 888.4169284,
                        "remaining_time": 421.9325235,
                        "test": [
                          1.733885684
                        ]
                      },
                      {
                        "iteration": 678,
                        "learn": [
                          1.254688027
                        ],
                        "passed_time": 889.6948251,
                        "remaining_time": 420.6068319,
                        "test": [
                          1.733648948
                        ]
                      },
                      {
                        "iteration": 679,
                        "learn": [
                          1.253946267
                        ],
                        "passed_time": 890.9544333,
                        "remaining_time": 419.2726745,
                        "test": [
                          1.733708121
                        ]
                      },
                      {
                        "iteration": 680,
                        "learn": [
                          1.253367592
                        ],
                        "passed_time": 892.1210605,
                        "remaining_time": 417.895181,
                        "test": [
                          1.73365159
                        ]
                      },
                      {
                        "iteration": 681,
                        "learn": [
                          1.252403294
                        ],
                        "passed_time": 893.4049788,
                        "remaining_time": 416.572996,
                        "test": [
                          1.733445119
                        ]
                      },
                      {
                        "iteration": 682,
                        "learn": [
                          1.251843254
                        ],
                        "passed_time": 894.5998155,
                        "remaining_time": 415.2095776,
                        "test": [
                          1.733385597
                        ]
                      },
                      {
                        "iteration": 683,
                        "learn": [
                          1.251169632
                        ],
                        "passed_time": 895.8112126,
                        "remaining_time": 413.8543029,
                        "test": [
                          1.733641545
                        ]
                      },
                      {
                        "iteration": 684,
                        "learn": [
                          1.250468964
                        ],
                        "passed_time": 897.0435879,
                        "remaining_time": 412.5090952,
                        "test": [
                          1.733812868
                        ]
                      },
                      {
                        "iteration": 685,
                        "learn": [
                          1.249824333
                        ],
                        "passed_time": 898.3321726,
                        "remaining_time": 411.1899449,
                        "test": [
                          1.733864537
                        ]
                      },
                      {
                        "iteration": 686,
                        "learn": [
                          1.249266029
                        ],
                        "passed_time": 899.5416834,
                        "remaining_time": 409.8348572,
                        "test": [
                          1.734277145
                        ]
                      },
                      {
                        "iteration": 687,
                        "learn": [
                          1.248690733
                        ],
                        "passed_time": 900.7233254,
                        "remaining_time": 408.4675545,
                        "test": [
                          1.734270367
                        ]
                      },
                      {
                        "iteration": 688,
                        "learn": [
                          1.248141385
                        ],
                        "passed_time": 901.9017244,
                        "remaining_time": 407.099327,
                        "test": [
                          1.734394975
                        ]
                      },
                      {
                        "iteration": 689,
                        "learn": [
                          1.24756417
                        ],
                        "passed_time": 903.0875355,
                        "remaining_time": 405.7349797,
                        "test": [
                          1.734259885
                        ]
                      },
                      {
                        "iteration": 690,
                        "learn": [
                          1.246806253
                        ],
                        "passed_time": 904.3305396,
                        "remaining_time": 404.3967247,
                        "test": [
                          1.734337912
                        ]
                      },
                      {
                        "iteration": 691,
                        "learn": [
                          1.246416035
                        ],
                        "passed_time": 905.543651,
                        "remaining_time": 403.04544,
                        "test": [
                          1.734388684
                        ]
                      },
                      {
                        "iteration": 692,
                        "learn": [
                          1.245786084
                        ],
                        "passed_time": 906.6885375,
                        "remaining_time": 401.6643305,
                        "test": [
                          1.734627205
                        ]
                      },
                      {
                        "iteration": 693,
                        "learn": [
                          1.245188387
                        ],
                        "passed_time": 907.8516938,
                        "remaining_time": 400.2919572,
                        "test": [
                          1.734876683
                        ]
                      },
                      {
                        "iteration": 694,
                        "learn": [
                          1.244483264
                        ],
                        "passed_time": 909.0784077,
                        "remaining_time": 398.9480782,
                        "test": [
                          1.735096391
                        ]
                      },
                      {
                        "iteration": 695,
                        "learn": [
                          1.243982654
                        ],
                        "passed_time": 910.2394247,
                        "remaining_time": 397.5758407,
                        "test": [
                          1.735118923
                        ]
                      },
                      {
                        "iteration": 696,
                        "learn": [
                          1.243259212
                        ],
                        "passed_time": 911.465553,
                        "remaining_time": 396.2325144,
                        "test": [
                          1.735308085
                        ]
                      },
                      {
                        "iteration": 697,
                        "learn": [
                          1.242459536
                        ],
                        "passed_time": 912.9193319,
                        "remaining_time": 394.9880204,
                        "test": [
                          1.735318532
                        ]
                      },
                      {
                        "iteration": 698,
                        "learn": [
                          1.241806054
                        ],
                        "passed_time": 914.1218263,
                        "remaining_time": 393.6347206,
                        "test": [
                          1.735376588
                        ]
                      },
                      {
                        "iteration": 699,
                        "learn": [
                          1.240993581
                        ],
                        "passed_time": 915.375616,
                        "remaining_time": 392.3038354,
                        "test": [
                          1.735412174
                        ]
                      },
                      {
                        "iteration": 700,
                        "learn": [
                          1.240377687
                        ],
                        "passed_time": 916.6443764,
                        "remaining_time": 390.9795557,
                        "test": [
                          1.735508851
                        ]
                      },
                      {
                        "iteration": 701,
                        "learn": [
                          1.239821487
                        ],
                        "passed_time": 917.835758,
                        "remaining_time": 389.6225867,
                        "test": [
                          1.735781341
                        ]
                      },
                      {
                        "iteration": 702,
                        "learn": [
                          1.23943323
                        ],
                        "passed_time": 919.0429639,
                        "remaining_time": 388.2727742,
                        "test": [
                          1.735888186
                        ]
                      },
                      {
                        "iteration": 703,
                        "learn": [
                          1.239150058
                        ],
                        "passed_time": 920.1676697,
                        "remaining_time": 386.8886793,
                        "test": [
                          1.735749858
                        ]
                      },
                      {
                        "iteration": 704,
                        "learn": [
                          1.238589969
                        ],
                        "passed_time": 921.3629075,
                        "remaining_time": 385.5348337,
                        "test": [
                          1.735978808
                        ]
                      },
                      {
                        "iteration": 705,
                        "learn": [
                          1.237813187
                        ],
                        "passed_time": 922.5690742,
                        "remaining_time": 384.1859884,
                        "test": [
                          1.735716304
                        ]
                      },
                      {
                        "iteration": 706,
                        "learn": [
                          1.236971668
                        ],
                        "passed_time": 923.8643259,
                        "remaining_time": 382.874466,
                        "test": [
                          1.735855312
                        ]
                      },
                      {
                        "iteration": 707,
                        "learn": [
                          1.236452402
                        ],
                        "passed_time": 925.0329648,
                        "remaining_time": 381.5107708,
                        "test": [
                          1.735685121
                        ]
                      },
                      {
                        "iteration": 708,
                        "learn": [
                          1.236187189
                        ],
                        "passed_time": 926.1731907,
                        "remaining_time": 380.135964,
                        "test": [
                          1.735685648
                        ]
                      },
                      {
                        "iteration": 709,
                        "learn": [
                          1.235716309
                        ],
                        "passed_time": 927.4620613,
                        "remaining_time": 378.8225321,
                        "test": [
                          1.735752483
                        ]
                      },
                      {
                        "iteration": 710,
                        "learn": [
                          1.235231197
                        ],
                        "passed_time": 928.6249665,
                        "remaining_time": 377.4579681,
                        "test": [
                          1.735792333
                        ]
                      },
                      {
                        "iteration": 711,
                        "learn": [
                          1.234516597
                        ],
                        "passed_time": 929.7971211,
                        "remaining_time": 376.0977119,
                        "test": [
                          1.735918367
                        ]
                      },
                      {
                        "iteration": 712,
                        "learn": [
                          1.23446268
                        ],
                        "passed_time": 930.8698045,
                        "remaining_time": 374.6979437,
                        "test": [
                          1.735965805
                        ]
                      },
                      {
                        "iteration": 713,
                        "learn": [
                          1.23386397
                        ],
                        "passed_time": 932.0716258,
                        "remaining_time": 373.3508193,
                        "test": [
                          1.736027354
                        ]
                      },
                      {
                        "iteration": 714,
                        "learn": [
                          1.233184842
                        ],
                        "passed_time": 933.2078113,
                        "remaining_time": 371.9779388,
                        "test": [
                          1.735962074
                        ]
                      },
                      {
                        "iteration": 715,
                        "learn": [
                          1.232711806
                        ],
                        "passed_time": 934.4241682,
                        "remaining_time": 370.6375192,
                        "test": [
                          1.736037958
                        ]
                      },
                      {
                        "iteration": 716,
                        "learn": [
                          1.232174082
                        ],
                        "passed_time": 935.6880985,
                        "remaining_time": 369.316223,
                        "test": [
                          1.735896451
                        ]
                      },
                      {
                        "iteration": 717,
                        "learn": [
                          1.231889497
                        ],
                        "passed_time": 936.8625375,
                        "remaining_time": 367.9599381,
                        "test": [
                          1.735913489
                        ]
                      },
                      {
                        "iteration": 718,
                        "learn": [
                          1.23123487
                        ],
                        "passed_time": 938.0879636,
                        "remaining_time": 366.6240859,
                        "test": [
                          1.736337481
                        ]
                      },
                      {
                        "iteration": 719,
                        "learn": [
                          1.230459297
                        ],
                        "passed_time": 939.3615644,
                        "remaining_time": 365.307275,
                        "test": [
                          1.736623455
                        ]
                      },
                      {
                        "iteration": 720,
                        "learn": [
                          1.229934438
                        ],
                        "passed_time": 940.5813162,
                        "remaining_time": 363.9697465,
                        "test": [
                          1.736371415
                        ]
                      },
                      {
                        "iteration": 721,
                        "learn": [
                          1.229471648
                        ],
                        "passed_time": 941.7139415,
                        "remaining_time": 362.5989969,
                        "test": [
                          1.736457166
                        ]
                      },
                      {
                        "iteration": 722,
                        "learn": [
                          1.229135603
                        ],
                        "passed_time": 942.8454003,
                        "remaining_time": 361.228459,
                        "test": [
                          1.736607069
                        ]
                      },
                      {
                        "iteration": 723,
                        "learn": [
                          1.228807355
                        ],
                        "passed_time": 944.0305429,
                        "remaining_time": 359.8790467,
                        "test": [
                          1.73659255
                        ]
                      },
                      {
                        "iteration": 724,
                        "learn": [
                          1.228102342
                        ],
                        "passed_time": 945.3063604,
                        "remaining_time": 358.5644815,
                        "test": [
                          1.736697738
                        ]
                      },
                      {
                        "iteration": 725,
                        "learn": [
                          1.227393455
                        ],
                        "passed_time": 946.5286093,
                        "remaining_time": 357.2298057,
                        "test": [
                          1.736681677
                        ]
                      },
                      {
                        "iteration": 726,
                        "learn": [
                          1.226755557
                        ],
                        "passed_time": 947.7156762,
                        "remaining_time": 355.8822278,
                        "test": [
                          1.736807751
                        ]
                      },
                      {
                        "iteration": 727,
                        "learn": [
                          1.226143724
                        ],
                        "passed_time": 948.9586957,
                        "remaining_time": 354.5559962,
                        "test": [
                          1.737027068
                        ]
                      },
                      {
                        "iteration": 728,
                        "learn": [
                          1.225704459
                        ],
                        "passed_time": 950.1087076,
                        "remaining_time": 353.195418,
                        "test": [
                          1.737322086
                        ]
                      },
                      {
                        "iteration": 729,
                        "learn": [
                          1.225090494
                        ],
                        "passed_time": 951.2954756,
                        "remaining_time": 351.8490115,
                        "test": [
                          1.73727254
                        ]
                      },
                      {
                        "iteration": 730,
                        "learn": [
                          1.224201208
                        ],
                        "passed_time": 952.5459293,
                        "remaining_time": 350.5264774,
                        "test": [
                          1.737341786
                        ]
                      },
                      {
                        "iteration": 731,
                        "learn": [
                          1.223584362
                        ],
                        "passed_time": 953.8070502,
                        "remaining_time": 349.2080457,
                        "test": [
                          1.737419368
                        ]
                      },
                      {
                        "iteration": 732,
                        "learn": [
                          1.222983786
                        ],
                        "passed_time": 954.9836689,
                        "remaining_time": 347.8589899,
                        "test": [
                          1.737113677
                        ]
                      },
                      {
                        "iteration": 733,
                        "learn": [
                          1.222290199
                        ],
                        "passed_time": 956.2305581,
                        "remaining_time": 346.5358698,
                        "test": [
                          1.736913495
                        ]
                      },
                      {
                        "iteration": 734,
                        "learn": [
                          1.221734485
                        ],
                        "passed_time": 957.3838213,
                        "remaining_time": 345.1792009,
                        "test": [
                          1.736928956
                        ]
                      },
                      {
                        "iteration": 735,
                        "learn": [
                          1.221148363
                        ],
                        "passed_time": 958.7571927,
                        "remaining_time": 343.9020365,
                        "test": [
                          1.736983986
                        ]
                      },
                      {
                        "iteration": 736,
                        "learn": [
                          1.220822584
                        ],
                        "passed_time": 959.882495,
                        "remaining_time": 342.5360871,
                        "test": [
                          1.736928258
                        ]
                      },
                      {
                        "iteration": 737,
                        "learn": [
                          1.220217005
                        ],
                        "passed_time": 961.0421144,
                        "remaining_time": 341.1829729,
                        "test": [
                          1.737081829
                        ]
                      },
                      {
                        "iteration": 738,
                        "learn": [
                          1.219483923
                        ],
                        "passed_time": 962.2263246,
                        "remaining_time": 339.8390673,
                        "test": [
                          1.736717501
                        ]
                      },
                      {
                        "iteration": 739,
                        "learn": [
                          1.218877989
                        ],
                        "passed_time": 963.4345372,
                        "remaining_time": 338.5040266,
                        "test": [
                          1.736960567
                        ]
                      },
                      {
                        "iteration": 740,
                        "learn": [
                          1.218143273
                        ],
                        "passed_time": 964.6106145,
                        "remaining_time": 337.158096,
                        "test": [
                          1.736989433
                        ]
                      },
                      {
                        "iteration": 741,
                        "learn": [
                          1.217243882
                        ],
                        "passed_time": 965.8566813,
                        "remaining_time": 335.8369593,
                        "test": [
                          1.737064043
                        ]
                      },
                      {
                        "iteration": 742,
                        "learn": [
                          1.216558323
                        ],
                        "passed_time": 967.0823693,
                        "remaining_time": 334.5089756,
                        "test": [
                          1.737233067
                        ]
                      },
                      {
                        "iteration": 743,
                        "learn": [
                          1.216203079
                        ],
                        "passed_time": 968.2085849,
                        "remaining_time": 333.14704,
                        "test": [
                          1.737173155
                        ]
                      },
                      {
                        "iteration": 744,
                        "learn": [
                          1.215782829
                        ],
                        "passed_time": 969.3578642,
                        "remaining_time": 331.7936314,
                        "test": [
                          1.737353384
                        ]
                      },
                      {
                        "iteration": 745,
                        "learn": [
                          1.21548398
                        ],
                        "passed_time": 970.4835259,
                        "remaining_time": 330.4327286,
                        "test": [
                          1.737257696
                        ]
                      },
                      {
                        "iteration": 746,
                        "learn": [
                          1.215065064
                        ],
                        "passed_time": 971.6491319,
                        "remaining_time": 329.0859844,
                        "test": [
                          1.737271735
                        ]
                      },
                      {
                        "iteration": 747,
                        "learn": [
                          1.21468533
                        ],
                        "passed_time": 972.8175697,
                        "remaining_time": 327.7406786,
                        "test": [
                          1.737309347
                        ]
                      },
                      {
                        "iteration": 748,
                        "learn": [
                          1.213875984
                        ],
                        "passed_time": 974.0725142,
                        "remaining_time": 326.4248345,
                        "test": [
                          1.737384552
                        ]
                      },
                      {
                        "iteration": 749,
                        "learn": [
                          1.213290158
                        ],
                        "passed_time": 975.3159212,
                        "remaining_time": 325.1053071,
                        "test": [
                          1.737403369
                        ]
                      },
                      {
                        "iteration": 750,
                        "learn": [
                          1.212752802
                        ],
                        "passed_time": 976.4901107,
                        "remaining_time": 323.7630327,
                        "test": [
                          1.737261639
                        ]
                      },
                      {
                        "iteration": 751,
                        "learn": [
                          1.212063749
                        ],
                        "passed_time": 977.6854086,
                        "remaining_time": 322.4281667,
                        "test": [
                          1.737401048
                        ]
                      },
                      {
                        "iteration": 752,
                        "learn": [
                          1.211564077
                        ],
                        "passed_time": 978.9227267,
                        "remaining_time": 321.1074548,
                        "test": [
                          1.737323995
                        ]
                      },
                      {
                        "iteration": 753,
                        "learn": [
                          1.210845846
                        ],
                        "passed_time": 980.1064996,
                        "remaining_time": 319.7694946,
                        "test": [
                          1.737127422
                        ]
                      },
                      {
                        "iteration": 754,
                        "learn": [
                          1.210146841
                        ],
                        "passed_time": 981.3501639,
                        "remaining_time": 318.4513777,
                        "test": [
                          1.737345331
                        ]
                      },
                      {
                        "iteration": 755,
                        "learn": [
                          1.209625463
                        ],
                        "passed_time": 982.5748141,
                        "remaining_time": 317.127321,
                        "test": [
                          1.737380182
                        ]
                      },
                      {
                        "iteration": 756,
                        "learn": [
                          1.209571847
                        ],
                        "passed_time": 983.6520967,
                        "remaining_time": 315.7562213,
                        "test": [
                          1.737428885
                        ]
                      },
                      {
                        "iteration": 757,
                        "learn": [
                          1.209096134
                        ],
                        "passed_time": 984.8922122,
                        "remaining_time": 314.4378831,
                        "test": [
                          1.737618809
                        ]
                      },
                      {
                        "iteration": 758,
                        "learn": [
                          1.208465075
                        ],
                        "passed_time": 986.0697163,
                        "remaining_time": 313.0998704,
                        "test": [
                          1.737578243
                        ]
                      },
                      {
                        "iteration": 759,
                        "learn": [
                          1.207951463
                        ],
                        "passed_time": 987.3470761,
                        "remaining_time": 311.7938135,
                        "test": [
                          1.737578689
                        ]
                      },
                      {
                        "iteration": 760,
                        "learn": [
                          1.207237733
                        ],
                        "passed_time": 988.5782225,
                        "remaining_time": 310.4733182,
                        "test": [
                          1.737843884
                        ]
                      },
                      {
                        "iteration": 761,
                        "learn": [
                          1.206695065
                        ],
                        "passed_time": 989.7704772,
                        "remaining_time": 309.1409102,
                        "test": [
                          1.737830473
                        ]
                      },
                      {
                        "iteration": 762,
                        "learn": [
                          1.206649114
                        ],
                        "passed_time": 990.8500848,
                        "remaining_time": 307.7738795,
                        "test": [
                          1.737875837
                        ]
                      },
                      {
                        "iteration": 763,
                        "learn": [
                          1.206156453
                        ],
                        "passed_time": 992.0220419,
                        "remaining_time": 306.4361281,
                        "test": [
                          1.738113727
                        ]
                      },
                      {
                        "iteration": 764,
                        "learn": [
                          1.205546057
                        ],
                        "passed_time": 993.4411033,
                        "remaining_time": 305.174718,
                        "test": [
                          1.738154902
                        ]
                      },
                      {
                        "iteration": 765,
                        "learn": [
                          1.205149961
                        ],
                        "passed_time": 994.6404801,
                        "remaining_time": 303.8457863,
                        "test": [
                          1.738096603
                        ]
                      },
                      {
                        "iteration": 766,
                        "learn": [
                          1.204652645
                        ],
                        "passed_time": 995.8151484,
                        "remaining_time": 302.5096865,
                        "test": [
                          1.738141124
                        ]
                      },
                      {
                        "iteration": 767,
                        "learn": [
                          1.203962489
                        ],
                        "passed_time": 996.9749626,
                        "remaining_time": 301.16952,
                        "test": [
                          1.738136169
                        ]
                      },
                      {
                        "iteration": 768,
                        "learn": [
                          1.203324873
                        ],
                        "passed_time": 998.1861018,
                        "remaining_time": 299.8452399,
                        "test": [
                          1.738456687
                        ]
                      },
                      {
                        "iteration": 769,
                        "learn": [
                          1.202803702
                        ],
                        "passed_time": 999.3690862,
                        "remaining_time": 298.5128439,
                        "test": [
                          1.738547574
                        ]
                      },
                      {
                        "iteration": 770,
                        "learn": [
                          1.202350018
                        ],
                        "passed_time": 1000.524835,
                        "remaining_time": 297.1727461,
                        "test": [
                          1.738690979
                        ]
                      },
                      {
                        "iteration": 771,
                        "learn": [
                          1.201689044
                        ],
                        "passed_time": 1001.767998,
                        "remaining_time": 295.8589424,
                        "test": [
                          1.738738811
                        ]
                      },
                      {
                        "iteration": 772,
                        "learn": [
                          1.200965444
                        ],
                        "passed_time": 1002.965279,
                        "remaining_time": 294.5318477,
                        "test": [
                          1.738660712
                        ]
                      },
                      {
                        "iteration": 773,
                        "learn": [
                          1.20054784
                        ],
                        "passed_time": 1004.098896,
                        "remaining_time": 293.1864993,
                        "test": [
                          1.738765871
                        ]
                      },
                      {
                        "iteration": 774,
                        "learn": [
                          1.200081712
                        ],
                        "passed_time": 1005.267162,
                        "remaining_time": 291.8517567,
                        "test": [
                          1.738617958
                        ]
                      },
                      {
                        "iteration": 775,
                        "learn": [
                          1.19942847
                        ],
                        "passed_time": 1006.488127,
                        "remaining_time": 290.5326552,
                        "test": [
                          1.738471741
                        ]
                      },
                      {
                        "iteration": 776,
                        "learn": [
                          1.199099885
                        ],
                        "passed_time": 1007.602532,
                        "remaining_time": 289.1832234,
                        "test": [
                          1.738628707
                        ]
                      },
                      {
                        "iteration": 777,
                        "learn": [
                          1.198687692
                        ],
                        "passed_time": 1008.805052,
                        "remaining_time": 287.8595392,
                        "test": [
                          1.738596863
                        ]
                      },
                      {
                        "iteration": 778,
                        "learn": [
                          1.198015429
                        ],
                        "passed_time": 1010.066711,
                        "remaining_time": 286.5529438,
                        "test": [
                          1.738365988
                        ]
                      },
                      {
                        "iteration": 779,
                        "learn": [
                          1.197713052
                        ],
                        "passed_time": 1011.195094,
                        "remaining_time": 285.2088727,
                        "test": [
                          1.738449138
                        ]
                      },
                      {
                        "iteration": 780,
                        "learn": [
                          1.197055578
                        ],
                        "passed_time": 1012.440958,
                        "remaining_time": 283.8982969,
                        "test": [
                          1.73858624
                        ]
                      },
                      {
                        "iteration": 781,
                        "learn": [
                          1.196475992
                        ],
                        "passed_time": 1013.638155,
                        "remaining_time": 282.5743193,
                        "test": [
                          1.738517783
                        ]
                      },
                      {
                        "iteration": 782,
                        "learn": [
                          1.195681467
                        ],
                        "passed_time": 1014.912679,
                        "remaining_time": 281.2720962,
                        "test": [
                          1.738586884
                        ]
                      },
                      {
                        "iteration": 783,
                        "learn": [
                          1.195150478
                        ],
                        "passed_time": 1016.196823,
                        "remaining_time": 279.9725941,
                        "test": [
                          1.738776479
                        ]
                      },
                      {
                        "iteration": 784,
                        "learn": [
                          1.194760299
                        ],
                        "passed_time": 1017.35161,
                        "remaining_time": 278.637702,
                        "test": [
                          1.73879786
                        ]
                      },
                      {
                        "iteration": 785,
                        "learn": [
                          1.194522623
                        ],
                        "passed_time": 1018.460791,
                        "remaining_time": 277.2908516,
                        "test": [
                          1.738812303
                        ]
                      },
                      {
                        "iteration": 786,
                        "learn": [
                          1.193918588
                        ],
                        "passed_time": 1019.662146,
                        "remaining_time": 275.9695515,
                        "test": [
                          1.73888809
                        ]
                      },
                      {
                        "iteration": 787,
                        "learn": [
                          1.193103345
                        ],
                        "passed_time": 1020.896058,
                        "remaining_time": 274.6573152,
                        "test": [
                          1.738799038
                        ]
                      },
                      {
                        "iteration": 788,
                        "learn": [
                          1.192589428
                        ],
                        "passed_time": 1022.070773,
                        "remaining_time": 273.3294462,
                        "test": [
                          1.738330917
                        ]
                      },
                      {
                        "iteration": 789,
                        "learn": [
                          1.192160218
                        ],
                        "passed_time": 1023.209821,
                        "remaining_time": 271.9924841,
                        "test": [
                          1.738340928
                        ]
                      },
                      {
                        "iteration": 790,
                        "learn": [
                          1.191598277
                        ],
                        "passed_time": 1024.53409,
                        "remaining_time": 270.7049618,
                        "test": [
                          1.738427037
                        ]
                      },
                      {
                        "iteration": 791,
                        "learn": [
                          1.1910116
                        ],
                        "passed_time": 1025.785013,
                        "remaining_time": 269.3980841,
                        "test": [
                          1.738344016
                        ]
                      },
                      {
                        "iteration": 792,
                        "learn": [
                          1.190582738
                        ],
                        "passed_time": 1027.034578,
                        "remaining_time": 268.0909933,
                        "test": [
                          1.738174259
                        ]
                      },
                      {
                        "iteration": 793,
                        "learn": [
                          1.190029449
                        ],
                        "passed_time": 1028.219451,
                        "remaining_time": 266.767263,
                        "test": [
                          1.738284209
                        ]
                      },
                      {
                        "iteration": 794,
                        "learn": [
                          1.189410512
                        ],
                        "passed_time": 1029.440728,
                        "remaining_time": 265.4532695,
                        "test": [
                          1.738523872
                        ]
                      },
                      {
                        "iteration": 795,
                        "learn": [
                          1.188937248
                        ],
                        "passed_time": 1030.582822,
                        "remaining_time": 264.1192156,
                        "test": [
                          1.738585356
                        ]
                      },
                      {
                        "iteration": 796,
                        "learn": [
                          1.188535534
                        ],
                        "passed_time": 1031.779647,
                        "remaining_time": 262.7995839,
                        "test": [
                          1.738739649
                        ]
                      },
                      {
                        "iteration": 797,
                        "learn": [
                          1.187832685
                        ],
                        "passed_time": 1033.021545,
                        "remaining_time": 261.4916692,
                        "test": [
                          1.73871328
                        ]
                      },
                      {
                        "iteration": 798,
                        "learn": [
                          1.187508487
                        ],
                        "passed_time": 1034.158203,
                        "remaining_time": 260.1574453,
                        "test": [
                          1.738600342
                        ]
                      },
                      {
                        "iteration": 799,
                        "learn": [
                          1.186915327
                        ],
                        "passed_time": 1035.358855,
                        "remaining_time": 258.8397137,
                        "test": [
                          1.738743552
                        ]
                      },
                      {
                        "iteration": 800,
                        "learn": [
                          1.186371881
                        ],
                        "passed_time": 1036.565665,
                        "remaining_time": 257.5238045,
                        "test": [
                          1.738740488
                        ]
                      },
                      {
                        "iteration": 801,
                        "learn": [
                          1.185849437
                        ],
                        "passed_time": 1037.738509,
                        "remaining_time": 256.1997815,
                        "test": [
                          1.738551776
                        ]
                      },
                      {
                        "iteration": 802,
                        "learn": [
                          1.185161675
                        ],
                        "passed_time": 1038.938651,
                        "remaining_time": 254.8828321,
                        "test": [
                          1.738469976
                        ]
                      },
                      {
                        "iteration": 803,
                        "learn": [
                          1.184858225
                        ],
                        "passed_time": 1040.099661,
                        "remaining_time": 253.5566338,
                        "test": [
                          1.738478093
                        ]
                      },
                      {
                        "iteration": 804,
                        "learn": [
                          1.18406208
                        ],
                        "passed_time": 1041.372263,
                        "remaining_time": 252.2578774,
                        "test": [
                          1.738462704
                        ]
                      },
                      {
                        "iteration": 805,
                        "learn": [
                          1.183568084
                        ],
                        "passed_time": 1042.553154,
                        "remaining_time": 250.9371116,
                        "test": [
                          1.738366848
                        ]
                      },
                      {
                        "iteration": 806,
                        "learn": [
                          1.18311348
                        ],
                        "passed_time": 1043.736481,
                        "remaining_time": 249.6172749,
                        "test": [
                          1.73837538
                        ]
                      },
                      {
                        "iteration": 807,
                        "learn": [
                          1.182725907
                        ],
                        "passed_time": 1044.896305,
                        "remaining_time": 248.2921914,
                        "test": [
                          1.738331587
                        ]
                      },
                      {
                        "iteration": 808,
                        "learn": [
                          1.182269404
                        ],
                        "passed_time": 1046.642995,
                        "remaining_time": 247.1060716,
                        "test": [
                          1.738363722
                        ]
                      },
                      {
                        "iteration": 809,
                        "learn": [
                          1.181737845
                        ],
                        "passed_time": 1048.618921,
                        "remaining_time": 245.9723394,
                        "test": [
                          1.738369256
                        ]
                      },
                      {
                        "iteration": 810,
                        "learn": [
                          1.181535152
                        ],
                        "passed_time": 1050.264881,
                        "remaining_time": 244.7596332,
                        "test": [
                          1.738437628
                        ]
                      },
                      {
                        "iteration": 811,
                        "learn": [
                          1.181132872
                        ],
                        "passed_time": 1051.523027,
                        "remaining_time": 243.4560703,
                        "test": [
                          1.738149033
                        ]
                      },
                      {
                        "iteration": 812,
                        "learn": [
                          1.180381165
                        ],
                        "passed_time": 1052.767041,
                        "remaining_time": 242.1493686,
                        "test": [
                          1.738145396
                        ]
                      },
                      {
                        "iteration": 813,
                        "learn": [
                          1.179643522
                        ],
                        "passed_time": 1053.99287,
                        "remaining_time": 240.8386656,
                        "test": [
                          1.73826201
                        ]
                      },
                      {
                        "iteration": 814,
                        "learn": [
                          1.179205009
                        ],
                        "passed_time": 1055.176032,
                        "remaining_time": 239.5184858,
                        "test": [
                          1.738382666
                        ]
                      },
                      {
                        "iteration": 815,
                        "learn": [
                          1.178759904
                        ],
                        "passed_time": 1056.34216,
                        "remaining_time": 238.1948007,
                        "test": [
                          1.738412614
                        ]
                      },
                      {
                        "iteration": 816,
                        "learn": [
                          1.178068269
                        ],
                        "passed_time": 1057.557852,
                        "remaining_time": 236.8826034,
                        "test": [
                          1.738466471
                        ]
                      },
                      {
                        "iteration": 817,
                        "learn": [
                          1.177580618
                        ],
                        "passed_time": 1058.80546,
                        "remaining_time": 235.577743,
                        "test": [
                          1.738452079
                        ]
                      },
                      {
                        "iteration": 818,
                        "learn": [
                          1.176871206
                        ],
                        "passed_time": 1060.043801,
                        "remaining_time": 234.2709744,
                        "test": [
                          1.738626244
                        ]
                      },
                      {
                        "iteration": 819,
                        "learn": [
                          1.176210307
                        ],
                        "passed_time": 1061.240338,
                        "remaining_time": 232.9551961,
                        "test": [
                          1.7387541
                        ]
                      },
                      {
                        "iteration": 820,
                        "learn": [
                          1.175733542
                        ],
                        "passed_time": 1062.413599,
                        "remaining_time": 231.6346337,
                        "test": [
                          1.738648942
                        ]
                      },
                      {
                        "iteration": 821,
                        "learn": [
                          1.175162642
                        ],
                        "passed_time": 1063.555873,
                        "remaining_time": 230.3077196,
                        "test": [
                          1.738692455
                        ]
                      },
                      {
                        "iteration": 822,
                        "learn": [
                          1.174188232
                        ],
                        "passed_time": 1064.833748,
                        "remaining_time": 229.0104173,
                        "test": [
                          1.738522835
                        ]
                      },
                      {
                        "iteration": 823,
                        "learn": [
                          1.173671666
                        ],
                        "passed_time": 1066.038692,
                        "remaining_time": 227.6975848,
                        "test": [
                          1.73840314
                        ]
                      },
                      {
                        "iteration": 824,
                        "learn": [
                          1.173289491
                        ],
                        "passed_time": 1067.218911,
                        "remaining_time": 226.379769,
                        "test": [
                          1.738464824
                        ]
                      },
                      {
                        "iteration": 825,
                        "learn": [
                          1.172549247
                        ],
                        "passed_time": 1068.471781,
                        "remaining_time": 225.0775906,
                        "test": [
                          1.7384167
                        ]
                      },
                      {
                        "iteration": 826,
                        "learn": [
                          1.171817105
                        ],
                        "passed_time": 1069.730159,
                        "remaining_time": 223.7766838,
                        "test": [
                          1.738281417
                        ]
                      },
                      {
                        "iteration": 827,
                        "learn": [
                          1.171128968
                        ],
                        "passed_time": 1070.94384,
                        "remaining_time": 222.4665949,
                        "test": [
                          1.738324357
                        ]
                      },
                      {
                        "iteration": 828,
                        "learn": [
                          1.170618645
                        ],
                        "passed_time": 1072.145046,
                        "remaining_time": 221.1541651,
                        "test": [
                          1.738126098
                        ]
                      },
                      {
                        "iteration": 829,
                        "learn": [
                          1.16989094
                        ],
                        "passed_time": 1073.375235,
                        "remaining_time": 219.8479397,
                        "test": [
                          1.738518477
                        ]
                      },
                      {
                        "iteration": 830,
                        "learn": [
                          1.169707686
                        ],
                        "passed_time": 1074.542884,
                        "remaining_time": 218.5291786,
                        "test": [
                          1.738552882
                        ]
                      },
                      {
                        "iteration": 831,
                        "learn": [
                          1.169204774
                        ],
                        "passed_time": 1075.733345,
                        "remaining_time": 217.2153869,
                        "test": [
                          1.738631578
                        ]
                      },
                      {
                        "iteration": 832,
                        "learn": [
                          1.168612114
                        ],
                        "passed_time": 1076.90073,
                        "remaining_time": 215.8972652,
                        "test": [
                          1.738484282
                        ]
                      },
                      {
                        "iteration": 833,
                        "learn": [
                          1.167689864
                        ],
                        "passed_time": 1078.223994,
                        "remaining_time": 214.6105312,
                        "test": [
                          1.738540902
                        ]
                      },
                      {
                        "iteration": 834,
                        "learn": [
                          1.167328356
                        ],
                        "passed_time": 1079.465724,
                        "remaining_time": 213.3075981,
                        "test": [
                          1.738544153
                        ]
                      },
                      {
                        "iteration": 835,
                        "learn": [
                          1.166982011
                        ],
                        "passed_time": 1080.633959,
                        "remaining_time": 211.9903939,
                        "test": [
                          1.73840044
                        ]
                      },
                      {
                        "iteration": 836,
                        "learn": [
                          1.166292881
                        ],
                        "passed_time": 1081.901826,
                        "remaining_time": 210.6929482,
                        "test": [
                          1.738400685
                        ]
                      },
                      {
                        "iteration": 837,
                        "learn": [
                          1.165853522
                        ],
                        "passed_time": 1083.128959,
                        "remaining_time": 209.3876985,
                        "test": [
                          1.738440724
                        ]
                      },
                      {
                        "iteration": 838,
                        "learn": [
                          1.165132736
                        ],
                        "passed_time": 1084.423438,
                        "remaining_time": 208.0955583,
                        "test": [
                          1.738349099
                        ]
                      },
                      {
                        "iteration": 839,
                        "learn": [
                          1.164837696
                        ],
                        "passed_time": 1085.568209,
                        "remaining_time": 206.7748969,
                        "test": [
                          1.738240624
                        ]
                      },
                      {
                        "iteration": 840,
                        "learn": [
                          1.164473759
                        ],
                        "passed_time": 1086.791983,
                        "remaining_time": 205.4695901,
                        "test": [
                          1.738094692
                        ]
                      },
                      {
                        "iteration": 841,
                        "learn": [
                          1.164320707
                        ],
                        "passed_time": 1087.911343,
                        "remaining_time": 204.1448838,
                        "test": [
                          1.737919419
                        ]
                      },
                      {
                        "iteration": 842,
                        "learn": [
                          1.163768687
                        ],
                        "passed_time": 1089.133834,
                        "remaining_time": 202.8398717,
                        "test": [
                          1.737869736
                        ]
                      },
                      {
                        "iteration": 843,
                        "learn": [
                          1.163003136
                        ],
                        "passed_time": 1090.37624,
                        "remaining_time": 201.5387363,
                        "test": [
                          1.737783692
                        ]
                      },
                      {
                        "iteration": 844,
                        "learn": [
                          1.162966881
                        ],
                        "passed_time": 1091.459859,
                        "remaining_time": 200.2086131,
                        "test": [
                          1.737799577
                        ]
                      },
                      {
                        "iteration": 845,
                        "learn": [
                          1.162418591
                        ],
                        "passed_time": 1092.645037,
                        "remaining_time": 198.89756,
                        "test": [
                          1.737952919
                        ]
                      },
                      {
                        "iteration": 846,
                        "learn": [
                          1.161964012
                        ],
                        "passed_time": 1093.895386,
                        "remaining_time": 197.5985762,
                        "test": [
                          1.738026526
                        ]
                      },
                      {
                        "iteration": 847,
                        "learn": [
                          1.161923113
                        ],
                        "passed_time": 1094.974062,
                        "remaining_time": 196.2689356,
                        "test": [
                          1.738063094
                        ]
                      },
                      {
                        "iteration": 848,
                        "learn": [
                          1.161443543
                        ],
                        "passed_time": 1096.192444,
                        "remaining_time": 194.9647339,
                        "test": [
                          1.737897024
                        ]
                      },
                      {
                        "iteration": 849,
                        "learn": [
                          1.161013373
                        ],
                        "passed_time": 1097.408514,
                        "remaining_time": 193.6603259,
                        "test": [
                          1.737745703
                        ]
                      },
                      {
                        "iteration": 850,
                        "learn": [
                          1.160445446
                        ],
                        "passed_time": 1098.594423,
                        "remaining_time": 192.3508449,
                        "test": [
                          1.737964362
                        ]
                      },
                      {
                        "iteration": 851,
                        "learn": [
                          1.159885669
                        ],
                        "passed_time": 1099.828816,
                        "remaining_time": 191.050076,
                        "test": [
                          1.737855996
                        ]
                      },
                      {
                        "iteration": 852,
                        "learn": [
                          1.159496364
                        ],
                        "passed_time": 1101.035719,
                        "remaining_time": 189.7447253,
                        "test": [
                          1.738037921
                        ]
                      },
                      {
                        "iteration": 853,
                        "learn": [
                          1.158853777
                        ],
                        "passed_time": 1102.257213,
                        "remaining_time": 188.4420996,
                        "test": [
                          1.737883486
                        ]
                      },
                      {
                        "iteration": 854,
                        "learn": [
                          1.158220954
                        ],
                        "passed_time": 1103.464621,
                        "remaining_time": 187.1372749,
                        "test": [
                          1.738028594
                        ]
                      },
                      {
                        "iteration": 855,
                        "learn": [
                          1.157603123
                        ],
                        "passed_time": 1104.762613,
                        "remaining_time": 185.8479162,
                        "test": [
                          1.738141506
                        ]
                      },
                      {
                        "iteration": 856,
                        "learn": [
                          1.15690285
                        ],
                        "passed_time": 1106.015027,
                        "remaining_time": 184.5509322,
                        "test": [
                          1.738164172
                        ]
                      },
                      {
                        "iteration": 857,
                        "learn": [
                          1.156476796
                        ],
                        "passed_time": 1107.198209,
                        "remaining_time": 183.242594,
                        "test": [
                          1.73808228
                        ]
                      },
                      {
                        "iteration": 858,
                        "learn": [
                          1.156128817
                        ],
                        "passed_time": 1108.363778,
                        "remaining_time": 181.9316562,
                        "test": [
                          1.738217431
                        ]
                      },
                      {
                        "iteration": 859,
                        "learn": [
                          1.155508612
                        ],
                        "passed_time": 1109.647196,
                        "remaining_time": 180.6402413,
                        "test": [
                          1.738015568
                        ]
                      },
                      {
                        "iteration": 860,
                        "learn": [
                          1.155470195
                        ],
                        "passed_time": 1110.753528,
                        "remaining_time": 179.320256,
                        "test": [
                          1.738072976
                        ]
                      },
                      {
                        "iteration": 861,
                        "learn": [
                          1.155429829
                        ],
                        "passed_time": 1111.844674,
                        "remaining_time": 177.9983353,
                        "test": [
                          1.738119458
                        ]
                      },
                      {
                        "iteration": 862,
                        "learn": [
                          1.15494032
                        ],
                        "passed_time": 1113.12752,
                        "remaining_time": 176.7073815,
                        "test": [
                          1.738136161
                        ]
                      },
                      {
                        "iteration": 863,
                        "learn": [
                          1.154301803
                        ],
                        "passed_time": 1114.347961,
                        "remaining_time": 175.4066235,
                        "test": [
                          1.738493078
                        ]
                      },
                      {
                        "iteration": 864,
                        "learn": [
                          1.154264393
                        ],
                        "passed_time": 1115.429108,
                        "remaining_time": 174.0843116,
                        "test": [
                          1.738549741
                        ]
                      },
                      {
                        "iteration": 865,
                        "learn": [
                          1.153567074
                        ],
                        "passed_time": 1116.681312,
                        "remaining_time": 172.7890251,
                        "test": [
                          1.738716698
                        ]
                      },
                      {
                        "iteration": 866,
                        "learn": [
                          1.153359773
                        ],
                        "passed_time": 1117.80259,
                        "remaining_time": 171.4737537,
                        "test": [
                          1.738752938
                        ]
                      },
                      {
                        "iteration": 867,
                        "learn": [
                          1.152895411
                        ],
                        "passed_time": 1119.036828,
                        "remaining_time": 170.1761075,
                        "test": [
                          1.73860937
                        ]
                      },
                      {
                        "iteration": 868,
                        "learn": [
                          1.15246203
                        ],
                        "passed_time": 1120.222806,
                        "remaining_time": 168.8713321,
                        "test": [
                          1.738541831
                        ]
                      },
                      {
                        "iteration": 869,
                        "learn": [
                          1.151757667
                        ],
                        "passed_time": 1121.498887,
                        "remaining_time": 167.5802934,
                        "test": [
                          1.738567787
                        ]
                      },
                      {
                        "iteration": 870,
                        "learn": [
                          1.151411295
                        ],
                        "passed_time": 1122.641433,
                        "remaining_time": 166.2695119,
                        "test": [
                          1.738443611
                        ]
                      },
                      {
                        "iteration": 871,
                        "learn": [
                          1.150554755
                        ],
                        "passed_time": 1123.967398,
                        "remaining_time": 164.9860401,
                        "test": [
                          1.738477921
                        ]
                      },
                      {
                        "iteration": 872,
                        "learn": [
                          1.150383592
                        ],
                        "passed_time": 1125.087816,
                        "remaining_time": 163.6725689,
                        "test": [
                          1.738554148
                        ]
                      },
                      {
                        "iteration": 873,
                        "learn": [
                          1.149789859
                        ],
                        "passed_time": 1126.274835,
                        "remaining_time": 162.369141,
                        "test": [
                          1.738653365
                        ]
                      },
                      {
                        "iteration": 874,
                        "learn": [
                          1.149752756
                        ],
                        "passed_time": 1127.351519,
                        "remaining_time": 161.050217,
                        "test": [
                          1.738666513
                        ]
                      },
                      {
                        "iteration": 875,
                        "learn": [
                          1.149478176
                        ],
                        "passed_time": 1128.497387,
                        "remaining_time": 159.7416393,
                        "test": [
                          1.73875663
                        ]
                      },
                      {
                        "iteration": 876,
                        "learn": [
                          1.149445369
                        ],
                        "passed_time": 1129.60563,
                        "remaining_time": 158.4281556,
                        "test": [
                          1.738828336
                        ]
                      },
                      {
                        "iteration": 877,
                        "learn": [
                          1.148791266
                        ],
                        "passed_time": 1130.84904,
                        "remaining_time": 157.1339212,
                        "test": [
                          1.738860274
                        ]
                      },
                      {
                        "iteration": 878,
                        "learn": [
                          1.148283061
                        ],
                        "passed_time": 1132.071551,
                        "remaining_time": 155.8369257,
                        "test": [
                          1.739027388
                        ]
                      },
                      {
                        "iteration": 879,
                        "learn": [
                          1.147777803
                        ],
                        "passed_time": 1133.259564,
                        "remaining_time": 154.535395,
                        "test": [
                          1.738793681
                        ]
                      },
                      {
                        "iteration": 880,
                        "learn": [
                          1.147217808
                        ],
                        "passed_time": 1134.479188,
                        "remaining_time": 153.238392,
                        "test": [
                          1.738687679
                        ]
                      },
                      {
                        "iteration": 881,
                        "learn": [
                          1.146821784
                        ],
                        "passed_time": 1135.656512,
                        "remaining_time": 151.9359053,
                        "test": [
                          1.738803249
                        ]
                      },
                      {
                        "iteration": 882,
                        "learn": [
                          1.146767584
                        ],
                        "passed_time": 1136.704751,
                        "remaining_time": 150.6165978,
                        "test": [
                          1.738847258
                        ]
                      },
                      {
                        "iteration": 883,
                        "learn": [
                          1.146178432
                        ],
                        "passed_time": 1137.928142,
                        "remaining_time": 149.3208874,
                        "test": [
                          1.738919924
                        ]
                      },
                      {
                        "iteration": 884,
                        "learn": [
                          1.145339895
                        ],
                        "passed_time": 1139.207614,
                        "remaining_time": 148.0326277,
                        "test": [
                          1.738799805
                        ]
                      },
                      {
                        "iteration": 885,
                        "learn": [
                          1.1449929
                        ],
                        "passed_time": 1140.39775,
                        "remaining_time": 146.7328933,
                        "test": [
                          1.739110079
                        ]
                      },
                      {
                        "iteration": 886,
                        "learn": [
                          1.144523867
                        ],
                        "passed_time": 1141.57266,
                        "remaining_time": 145.4314663,
                        "test": [
                          1.739373332
                        ]
                      },
                      {
                        "iteration": 887,
                        "learn": [
                          1.144193641
                        ],
                        "passed_time": 1142.68383,
                        "remaining_time": 144.1222848,
                        "test": [
                          1.739526312
                        ]
                      },
                      {
                        "iteration": 888,
                        "learn": [
                          1.143460638
                        ],
                        "passed_time": 1143.898262,
                        "remaining_time": 142.8264422,
                        "test": [
                          1.739728344
                        ]
                      },
                      {
                        "iteration": 889,
                        "learn": [
                          1.142939853
                        ],
                        "passed_time": 1145.070541,
                        "remaining_time": 141.5255725,
                        "test": [
                          1.739715598
                        ]
                      },
                      {
                        "iteration": 890,
                        "learn": [
                          1.142641143
                        ],
                        "passed_time": 1146.195074,
                        "remaining_time": 140.2191505,
                        "test": [
                          1.739532999
                        ]
                      },
                      {
                        "iteration": 891,
                        "learn": [
                          1.142609094
                        ],
                        "passed_time": 1147.284987,
                        "remaining_time": 138.9089446,
                        "test": [
                          1.739532636
                        ]
                      },
                      {
                        "iteration": 892,
                        "learn": [
                          1.14255013
                        ],
                        "passed_time": 1148.391834,
                        "remaining_time": 137.6012611,
                        "test": [
                          1.739499526
                        ]
                      },
                      {
                        "iteration": 893,
                        "learn": [
                          1.141951444
                        ],
                        "passed_time": 1149.656088,
                        "remaining_time": 136.3126905,
                        "test": [
                          1.739555815
                        ]
                      },
                      {
                        "iteration": 894,
                        "learn": [
                          1.141448449
                        ],
                        "passed_time": 1150.933718,
                        "remaining_time": 135.0257435,
                        "test": [
                          1.739294203
                        ]
                      },
                      {
                        "iteration": 895,
                        "learn": [
                          1.140891237
                        ],
                        "passed_time": 1152.141983,
                        "remaining_time": 133.7307659,
                        "test": [
                          1.739305367
                        ]
                      },
                      {
                        "iteration": 896,
                        "learn": [
                          1.140246276
                        ],
                        "passed_time": 1153.388741,
                        "remaining_time": 132.4404018,
                        "test": [
                          1.739220915
                        ]
                      },
                      {
                        "iteration": 897,
                        "learn": [
                          1.139625461
                        ],
                        "passed_time": 1154.630254,
                        "remaining_time": 131.1495389,
                        "test": [
                          1.739183763
                        ]
                      },
                      {
                        "iteration": 898,
                        "learn": [
                          1.139062454
                        ],
                        "passed_time": 1155.865842,
                        "remaining_time": 129.8581202,
                        "test": [
                          1.739222222
                        ]
                      },
                      {
                        "iteration": 899,
                        "learn": [
                          1.138523389
                        ],
                        "passed_time": 1157.060714,
                        "remaining_time": 128.5623015,
                        "test": [
                          1.739228937
                        ]
                      },
                      {
                        "iteration": 900,
                        "learn": [
                          1.137988145
                        ],
                        "passed_time": 1158.300691,
                        "remaining_time": 127.2716631,
                        "test": [
                          1.739053484
                        ]
                      },
                      {
                        "iteration": 901,
                        "learn": [
                          1.137951971
                        ],
                        "passed_time": 1159.389979,
                        "remaining_time": 125.9647649,
                        "test": [
                          1.739069889
                        ]
                      },
                      {
                        "iteration": 902,
                        "learn": [
                          1.137770005
                        ],
                        "passed_time": 1160.545146,
                        "remaining_time": 124.6654254,
                        "test": [
                          1.73913518
                        ]
                      },
                      {
                        "iteration": 903,
                        "learn": [
                          1.137211069
                        ],
                        "passed_time": 1161.760625,
                        "remaining_time": 123.3728097,
                        "test": [
                          1.739236141
                        ]
                      },
                      {
                        "iteration": 904,
                        "learn": [
                          1.136815539
                        ],
                        "passed_time": 1162.946814,
                        "remaining_time": 122.0772899,
                        "test": [
                          1.739140927
                        ]
                      },
                      {
                        "iteration": 905,
                        "learn": [
                          1.136312333
                        ],
                        "passed_time": 1164.154391,
                        "remaining_time": 120.7842305,
                        "test": [
                          1.739505966
                        ]
                      },
                      {
                        "iteration": 906,
                        "learn": [
                          1.135775957
                        ],
                        "passed_time": 1165.492949,
                        "remaining_time": 119.5047897,
                        "test": [
                          1.739309949
                        ]
                      },
                      {
                        "iteration": 907,
                        "learn": [
                          1.135081771
                        ],
                        "passed_time": 1166.735331,
                        "remaining_time": 118.215474,
                        "test": [
                          1.739339532
                        ]
                      },
                      {
                        "iteration": 908,
                        "learn": [
                          1.134511137
                        ],
                        "passed_time": 1167.938119,
                        "remaining_time": 116.9222979,
                        "test": [
                          1.739603092
                        ]
                      },
                      {
                        "iteration": 909,
                        "learn": [
                          1.133723971
                        ],
                        "passed_time": 1169.229424,
                        "remaining_time": 115.6380749,
                        "test": [
                          1.739805679
                        ]
                      },
                      {
                        "iteration": 910,
                        "learn": [
                          1.133133041
                        ],
                        "passed_time": 1170.432714,
                        "remaining_time": 114.3452377,
                        "test": [
                          1.739586264
                        ]
                      },
                      {
                        "iteration": 911,
                        "learn": [
                          1.132814097
                        ],
                        "passed_time": 1171.622472,
                        "remaining_time": 113.0512911,
                        "test": [
                          1.739791406
                        ]
                      },
                      {
                        "iteration": 912,
                        "learn": [
                          1.132779057
                        ],
                        "passed_time": 1172.705512,
                        "remaining_time": 111.7474037,
                        "test": [
                          1.739835317
                        ]
                      },
                      {
                        "iteration": 913,
                        "learn": [
                          1.132242456
                        ],
                        "passed_time": 1173.935124,
                        "remaining_time": 110.4577907,
                        "test": [
                          1.739827254
                        ]
                      },
                      {
                        "iteration": 914,
                        "learn": [
                          1.131787379
                        ],
                        "passed_time": 1175.158223,
                        "remaining_time": 109.1677038,
                        "test": [
                          1.739904366
                        ]
                      },
                      {
                        "iteration": 915,
                        "learn": [
                          1.131358423
                        ],
                        "passed_time": 1176.333147,
                        "remaining_time": 107.8733454,
                        "test": [
                          1.740106998
                        ]
                      },
                      {
                        "iteration": 916,
                        "learn": [
                          1.130782348
                        ],
                        "passed_time": 1177.549111,
                        "remaining_time": 106.5829621,
                        "test": [
                          1.740141638
                        ]
                      },
                      {
                        "iteration": 917,
                        "learn": [
                          1.130747563
                        ],
                        "passed_time": 1178.647314,
                        "remaining_time": 105.2822219,
                        "test": [
                          1.740194231
                        ]
                      },
                      {
                        "iteration": 918,
                        "learn": [
                          1.130242843
                        ],
                        "passed_time": 1179.834037,
                        "remaining_time": 103.9897247,
                        "test": [
                          1.740390548
                        ]
                      },
                      {
                        "iteration": 919,
                        "learn": [
                          1.129696625
                        ],
                        "passed_time": 1181.072633,
                        "remaining_time": 102.7019681,
                        "test": [
                          1.740441968
                        ]
                      },
                      {
                        "iteration": 920,
                        "learn": [
                          1.128887789
                        ],
                        "passed_time": 1182.318658,
                        "remaining_time": 101.4149555,
                        "test": [
                          1.740457548
                        ]
                      },
                      {
                        "iteration": 921,
                        "learn": [
                          1.128517094
                        ],
                        "passed_time": 1183.473403,
                        "remaining_time": 100.1203096,
                        "test": [
                          1.740551139
                        ]
                      },
                      {
                        "iteration": 922,
                        "learn": [
                          1.127695021
                        ],
                        "passed_time": 1184.742516,
                        "remaining_time": 98.83550785,
                        "test": [
                          1.74068413
                        ]
                      },
                      {
                        "iteration": 923,
                        "learn": [
                          1.127069921
                        ],
                        "passed_time": 1185.985315,
                        "remaining_time": 97.54857567,
                        "test": [
                          1.740707119
                        ]
                      },
                      {
                        "iteration": 924,
                        "learn": [
                          1.126535553
                        ],
                        "passed_time": 1187.219421,
                        "remaining_time": 96.2610341,
                        "test": [
                          1.740942806
                        ]
                      },
                      {
                        "iteration": 925,
                        "learn": [
                          1.125918704
                        ],
                        "passed_time": 1188.388952,
                        "remaining_time": 94.96844754,
                        "test": [
                          1.741056367
                        ]
                      },
                      {
                        "iteration": 926,
                        "learn": [
                          1.125417291
                        ],
                        "passed_time": 1189.668905,
                        "remaining_time": 93.68482204,
                        "test": [
                          1.74107032
                        ]
                      },
                      {
                        "iteration": 927,
                        "learn": [
                          1.124780176
                        ],
                        "passed_time": 1190.9443,
                        "remaining_time": 92.40085087,
                        "test": [
                          1.741096682
                        ]
                      },
                      {
                        "iteration": 928,
                        "learn": [
                          1.124416926
                        ],
                        "passed_time": 1192.136942,
                        "remaining_time": 91.11057363,
                        "test": [
                          1.740916097
                        ]
                      },
                      {
                        "iteration": 929,
                        "learn": [
                          1.123920207
                        ],
                        "passed_time": 1193.347468,
                        "remaining_time": 89.8218524,
                        "test": [
                          1.740815857
                        ]
                      },
                      {
                        "iteration": 930,
                        "learn": [
                          1.12338818
                        ],
                        "passed_time": 1194.543101,
                        "remaining_time": 88.53219547,
                        "test": [
                          1.74093999
                        ]
                      },
                      {
                        "iteration": 931,
                        "learn": [
                          1.122654548
                        ],
                        "passed_time": 1195.764394,
                        "remaining_time": 87.24461243,
                        "test": [
                          1.740980537
                        ]
                      },
                      {
                        "iteration": 932,
                        "learn": [
                          1.122285232
                        ],
                        "passed_time": 1196.992038,
                        "remaining_time": 85.95762756,
                        "test": [
                          1.741160434
                        ]
                      },
                      {
                        "iteration": 933,
                        "learn": [
                          1.12225395
                        ],
                        "passed_time": 1198.077305,
                        "remaining_time": 84.66070894,
                        "test": [
                          1.741224647
                        ]
                      },
                      {
                        "iteration": 934,
                        "learn": [
                          1.121628809
                        ],
                        "passed_time": 1199.344885,
                        "remaining_time": 83.37691716,
                        "test": [
                          1.741486878
                        ]
                      },
                      {
                        "iteration": 935,
                        "learn": [
                          1.121224209
                        ],
                        "passed_time": 1200.524917,
                        "remaining_time": 82.0871738,
                        "test": [
                          1.741409195
                        ]
                      },
                      {
                        "iteration": 936,
                        "learn": [
                          1.120800849
                        ],
                        "passed_time": 1201.700977,
                        "remaining_time": 80.7973976,
                        "test": [
                          1.74107771
                        ]
                      },
                      {
                        "iteration": 937,
                        "learn": [
                          1.1203721
                        ],
                        "passed_time": 1202.897962,
                        "remaining_time": 79.50924693,
                        "test": [
                          1.74102183
                        ]
                      },
                      {
                        "iteration": 938,
                        "learn": [
                          1.11981032
                        ],
                        "passed_time": 1204.12401,
                        "remaining_time": 78.22317849,
                        "test": [
                          1.741247187
                        ]
                      },
                      {
                        "iteration": 939,
                        "learn": [
                          1.119495982
                        ],
                        "passed_time": 1205.319181,
                        "remaining_time": 76.93526687,
                        "test": [
                          1.74136197
                        ]
                      },
                      {
                        "iteration": 940,
                        "learn": [
                          1.119082231
                        ],
                        "passed_time": 1206.492749,
                        "remaining_time": 75.64619788,
                        "test": [
                          1.741491238
                        ]
                      },
                      {
                        "iteration": 941,
                        "learn": [
                          1.11858056
                        ],
                        "passed_time": 1207.72003,
                        "remaining_time": 74.36068122,
                        "test": [
                          1.741557615
                        ]
                      },
                      {
                        "iteration": 942,
                        "learn": [
                          1.117990505
                        ],
                        "passed_time": 1208.995786,
                        "remaining_time": 73.07821827,
                        "test": [
                          1.741520888
                        ]
                      },
                      {
                        "iteration": 943,
                        "learn": [
                          1.117377479
                        ],
                        "passed_time": 1210.216679,
                        "remaining_time": 71.79251484,
                        "test": [
                          1.742015104
                        ]
                      },
                      {
                        "iteration": 944,
                        "learn": [
                          1.117118517
                        ],
                        "passed_time": 1211.418184,
                        "remaining_time": 70.50582022,
                        "test": [
                          1.742101223
                        ]
                      },
                      {
                        "iteration": 945,
                        "learn": [
                          1.116757887
                        ],
                        "passed_time": 1212.579556,
                        "remaining_time": 69.2170148,
                        "test": [
                          1.741817113
                        ]
                      },
                      {
                        "iteration": 946,
                        "learn": [
                          1.116349266
                        ],
                        "passed_time": 1213.779676,
                        "remaining_time": 67.93064711,
                        "test": [
                          1.741882604
                        ]
                      },
                      {
                        "iteration": 947,
                        "learn": [
                          1.115829311
                        ],
                        "passed_time": 1215.02453,
                        "remaining_time": 66.64691516,
                        "test": [
                          1.742094449
                        ]
                      },
                      {
                        "iteration": 948,
                        "learn": [
                          1.115418438
                        ],
                        "passed_time": 1216.221957,
                        "remaining_time": 65.36071632,
                        "test": [
                          1.742098288
                        ]
                      },
                      {
                        "iteration": 949,
                        "learn": [
                          1.114979472
                        ],
                        "passed_time": 1217.385209,
                        "remaining_time": 64.07290574,
                        "test": [
                          1.742025057
                        ]
                      },
                      {
                        "iteration": 950,
                        "learn": [
                          1.114620223
                        ],
                        "passed_time": 1218.569762,
                        "remaining_time": 62.78645464,
                        "test": [
                          1.742001593
                        ]
                      },
                      {
                        "iteration": 951,
                        "learn": [
                          1.114030681
                        ],
                        "passed_time": 1219.769719,
                        "remaining_time": 61.50099425,
                        "test": [
                          1.741888848
                        ]
                      },
                      {
                        "iteration": 952,
                        "learn": [
                          1.113707543
                        ],
                        "passed_time": 1220.943492,
                        "remaining_time": 60.21442195,
                        "test": [
                          1.741689217
                        ]
                      },
                      {
                        "iteration": 953,
                        "learn": [
                          1.113134699
                        ],
                        "passed_time": 1222.243982,
                        "remaining_time": 58.93419621,
                        "test": [
                          1.741811913
                        ]
                      },
                      {
                        "iteration": 954,
                        "learn": [
                          1.112600348
                        ],
                        "passed_time": 1223.440467,
                        "remaining_time": 57.64902724,
                        "test": [
                          1.741931313
                        ]
                      },
                      {
                        "iteration": 955,
                        "learn": [
                          1.112280597
                        ],
                        "passed_time": 1224.641704,
                        "remaining_time": 56.36426254,
                        "test": [
                          1.741832598
                        ]
                      },
                      {
                        "iteration": 956,
                        "learn": [
                          1.111572341
                        ],
                        "passed_time": 1225.974862,
                        "remaining_time": 55.08559984,
                        "test": [
                          1.742071316
                        ]
                      },
                      {
                        "iteration": 957,
                        "learn": [
                          1.111139479
                        ],
                        "passed_time": 1227.227337,
                        "remaining_time": 53.80328616,
                        "test": [
                          1.742001644
                        ]
                      },
                      {
                        "iteration": 958,
                        "learn": [
                          1.11050292
                        ],
                        "passed_time": 1228.491859,
                        "remaining_time": 52.52154977,
                        "test": [
                          1.741810723
                        ]
                      },
                      {
                        "iteration": 959,
                        "learn": [
                          1.110039888
                        ],
                        "passed_time": 1229.784424,
                        "remaining_time": 51.24101768,
                        "test": [
                          1.742008778
                        ]
                      },
                      {
                        "iteration": 960,
                        "learn": [
                          1.109379244
                        ],
                        "passed_time": 1231.048248,
                        "remaining_time": 49.95929414,
                        "test": [
                          1.741977036
                        ]
                      },
                      {
                        "iteration": 961,
                        "learn": [
                          1.108793334
                        ],
                        "passed_time": 1232.276069,
                        "remaining_time": 48.67618567,
                        "test": [
                          1.742133759
                        ]
                      },
                      {
                        "iteration": 962,
                        "learn": [
                          1.108359586
                        ],
                        "passed_time": 1233.511672,
                        "remaining_time": 47.39349101,
                        "test": [
                          1.742028884
                        ]
                      },
                      {
                        "iteration": 963,
                        "learn": [
                          1.107951267
                        ],
                        "passed_time": 1234.716781,
                        "remaining_time": 46.10975531,
                        "test": [
                          1.741982139
                        ]
                      },
                      {
                        "iteration": 964,
                        "learn": [
                          1.107399735
                        ],
                        "passed_time": 1235.984593,
                        "remaining_time": 44.82845673,
                        "test": [
                          1.741909898
                        ]
                      },
                      {
                        "iteration": 965,
                        "learn": [
                          1.107098086
                        ],
                        "passed_time": 1237.146402,
                        "remaining_time": 43.54345513,
                        "test": [
                          1.742154321
                        ]
                      },
                      {
                        "iteration": 966,
                        "learn": [
                          1.106497364
                        ],
                        "passed_time": 1238.417325,
                        "remaining_time": 42.26243198,
                        "test": [
                          1.742310973
                        ]
                      },
                      {
                        "iteration": 967,
                        "learn": [
                          1.106029399
                        ],
                        "passed_time": 1239.613278,
                        "remaining_time": 40.97895133,
                        "test": [
                          1.742395459
                        ]
                      },
                      {
                        "iteration": 968,
                        "learn": [
                          1.10566097
                        ],
                        "passed_time": 1240.768187,
                        "remaining_time": 39.6943383,
                        "test": [
                          1.74251403
                        ]
                      },
                      {
                        "iteration": 969,
                        "learn": [
                          1.105018196
                        ],
                        "passed_time": 1242.128214,
                        "remaining_time": 38.41633652,
                        "test": [
                          1.742539264
                        ]
                      },
                      {
                        "iteration": 970,
                        "learn": [
                          1.104518984
                        ],
                        "passed_time": 1243.359072,
                        "remaining_time": 37.13430803,
                        "test": [
                          1.742444452
                        ]
                      },
                      {
                        "iteration": 971,
                        "learn": [
                          1.104488933
                        ],
                        "passed_time": 1244.469117,
                        "remaining_time": 35.84890462,
                        "test": [
                          1.7424619
                        ]
                      },
                      {
                        "iteration": 972,
                        "learn": [
                          1.103785024
                        ],
                        "passed_time": 1245.746308,
                        "remaining_time": 34.56849981,
                        "test": [
                          1.74237099
                        ]
                      },
                      {
                        "iteration": 973,
                        "learn": [
                          1.10312599
                        ],
                        "passed_time": 1247.001496,
                        "remaining_time": 33.28751426,
                        "test": [
                          1.742369926
                        ]
                      },
                      {
                        "iteration": 974,
                        "learn": [
                          1.102742095
                        ],
                        "passed_time": 1248.149604,
                        "remaining_time": 32.003836,
                        "test": [
                          1.742433569
                        ]
                      },
                      {
                        "iteration": 975,
                        "learn": [
                          1.102242267
                        ],
                        "passed_time": 1249.315827,
                        "remaining_time": 30.72088098,
                        "test": [
                          1.742367156
                        ]
                      },
                      {
                        "iteration": 976,
                        "learn": [
                          1.10178761
                        ],
                        "passed_time": 1250.551035,
                        "remaining_time": 29.43978896,
                        "test": [
                          1.742458225
                        ]
                      },
                      {
                        "iteration": 977,
                        "learn": [
                          1.101285699
                        ],
                        "passed_time": 1251.708592,
                        "remaining_time": 28.15704399,
                        "test": [
                          1.742482962
                        ]
                      },
                      {
                        "iteration": 978,
                        "learn": [
                          1.100774665
                        ],
                        "passed_time": 1252.916949,
                        "remaining_time": 26.87564445,
                        "test": [
                          1.742427794
                        ]
                      },
                      {
                        "iteration": 979,
                        "learn": [
                          1.10014279
                        ],
                        "passed_time": 1254.140637,
                        "remaining_time": 25.59470688,
                        "test": [
                          1.742516248
                        ]
                      },
                      {
                        "iteration": 980,
                        "learn": [
                          1.099747082
                        ],
                        "passed_time": 1255.342259,
                        "remaining_time": 24.31345864,
                        "test": [
                          1.742366716
                        ]
                      },
                      {
                        "iteration": 981,
                        "learn": [
                          1.099286583
                        ],
                        "passed_time": 1256.540914,
                        "remaining_time": 23.03231818,
                        "test": [
                          1.742262439
                        ]
                      },
                      {
                        "iteration": 982,
                        "learn": [
                          1.098718625
                        ],
                        "passed_time": 1257.773065,
                        "remaining_time": 21.75192483,
                        "test": [
                          1.742252636
                        ]
                      },
                      {
                        "iteration": 983,
                        "learn": [
                          1.098197284
                        ],
                        "passed_time": 1259.052388,
                        "remaining_time": 20.47239655,
                        "test": [
                          1.742318144
                        ]
                      },
                      {
                        "iteration": 984,
                        "learn": [
                          1.097525484
                        ],
                        "passed_time": 1260.276093,
                        "remaining_time": 19.19202172,
                        "test": [
                          1.742228994
                        ]
                      },
                      {
                        "iteration": 985,
                        "learn": [
                          1.096929402
                        ],
                        "passed_time": 1261.512886,
                        "remaining_time": 17.91194767,
                        "test": [
                          1.742497601
                        ]
                      },
                      {
                        "iteration": 986,
                        "learn": [
                          1.09636282
                        ],
                        "passed_time": 1262.76485,
                        "remaining_time": 16.63216114,
                        "test": [
                          1.742441151
                        ]
                      },
                      {
                        "iteration": 987,
                        "learn": [
                          1.096004378
                        ],
                        "passed_time": 1263.969539,
                        "remaining_time": 15.35185674,
                        "test": [
                          1.742550362
                        ]
                      },
                      {
                        "iteration": 988,
                        "learn": [
                          1.09536711
                        ],
                        "passed_time": 1265.190172,
                        "remaining_time": 14.0718826,
                        "test": [
                          1.742299817
                        ]
                      },
                      {
                        "iteration": 989,
                        "learn": [
                          1.094880698
                        ],
                        "passed_time": 1266.33136,
                        "remaining_time": 12.79122586,
                        "test": [
                          1.742500382
                        ]
                      },
                      {
                        "iteration": 990,
                        "learn": [
                          1.094394868
                        ],
                        "passed_time": 1267.678004,
                        "remaining_time": 11.51271648,
                        "test": [
                          1.74247344
                        ]
                      },
                      {
                        "iteration": 991,
                        "learn": [
                          1.093861052
                        ],
                        "passed_time": 1268.887351,
                        "remaining_time": 10.23296251,
                        "test": [
                          1.742799448
                        ]
                      },
                      {
                        "iteration": 992,
                        "learn": [
                          1.093095775
                        ],
                        "passed_time": 1270.175525,
                        "remaining_time": 8.953906017,
                        "test": [
                          1.742772006
                        ]
                      },
                      {
                        "iteration": 993,
                        "learn": [
                          1.092436456
                        ],
                        "passed_time": 1271.355337,
                        "remaining_time": 7.674177086,
                        "test": [
                          1.743040474
                        ]
                      },
                      {
                        "iteration": 994,
                        "learn": [
                          1.091849732
                        ],
                        "passed_time": 1272.561877,
                        "remaining_time": 6.394783303,
                        "test": [
                          1.743064399
                        ]
                      },
                      {
                        "iteration": 995,
                        "learn": [
                          1.091521005
                        ],
                        "passed_time": 1273.708921,
                        "remaining_time": 5.115296873,
                        "test": [
                          1.743076399
                        ]
                      },
                      {
                        "iteration": 996,
                        "learn": [
                          1.090767058
                        ],
                        "passed_time": 1274.989121,
                        "remaining_time": 3.836476792,
                        "test": [
                          1.743074303
                        ]
                      },
                      {
                        "iteration": 997,
                        "learn": [
                          1.090239722
                        ],
                        "passed_time": 1276.227228,
                        "remaining_time": 2.557569595,
                        "test": [
                          1.743134681
                        ]
                      },
                      {
                        "iteration": 998,
                        "learn": [
                          1.089936006
                        ],
                        "passed_time": 1277.4082,
                        "remaining_time": 1.278686887,
                        "test": [
                          1.743176534
                        ]
                      },
                      {
                        "iteration": 999,
                        "learn": [
                          1.089538255
                        ],
                        "passed_time": 1278.622003,
                        "remaining_time": 0,
                        "test": [
                          1.743185485
                        ]
                      }
                    ],
                    "meta": {
                      "iteration_count": 1000,
                      "launch_mode": "Train",
                      "learn_metrics": [
                        {
                          "best_value": "Min",
                          "name": "RMSE"
                        }
                      ],
                      "learn_sets": [
                        "learn"
                      ],
                      "name": "experiment",
                      "parameters": "",
                      "test_metrics": [
                        {
                          "best_value": "Min",
                          "name": "RMSE"
                        }
                      ],
                      "test_sets": [
                        "test"
                      ]
                    }
                  },
                  "passed_iterations": 999,
                  "total_iterations": 1000
                },
                "name": "catboost_info",
                "path": "catboost_info"
              }
            },
            "layout": "IPY_MODEL_a46ef408fc534740a936421255d28494"
          }
        },
        "adf02cd82f144e048e902423034af67a": {
          "model_module": "catboost-widget",
          "model_module_version": "^1.0.0",
          "model_name": "CatboostWidgetModel",
          "state": {
            "_dom_classes": [],
            "_model_module": "catboost-widget",
            "_model_module_version": "^1.0.0",
            "_model_name": "CatboostWidgetModel",
            "_view_count": null,
            "_view_module": "catboost-widget",
            "_view_module_version": "^1.0.0",
            "_view_name": "CatboostWidgetView",
            "data": {
              "catboost_info": {
                "content": {
                  "data": {
                    "iterations": [
                      {
                        "iteration": 0,
                        "learn": [
                          1.947863373
                        ],
                        "passed_time": 0.0652923338,
                        "remaining_time": 12.99317443,
                        "test": [
                          1.96486253
                        ]
                      },
                      {
                        "iteration": 1,
                        "learn": [
                          1.922862526
                        ],
                        "passed_time": 0.1176102049,
                        "remaining_time": 11.64341028,
                        "test": [
                          1.937736062
                        ]
                      },
                      {
                        "iteration": 2,
                        "learn": [
                          1.901571386
                        ],
                        "passed_time": 0.1669273972,
                        "remaining_time": 10.96156575,
                        "test": [
                          1.914513054
                        ]
                      },
                      {
                        "iteration": 3,
                        "learn": [
                          1.882086807
                        ],
                        "passed_time": 0.2195308892,
                        "remaining_time": 10.75701357,
                        "test": [
                          1.892952071
                        ]
                      },
                      {
                        "iteration": 4,
                        "learn": [
                          1.864642931
                        ],
                        "passed_time": 0.2708498791,
                        "remaining_time": 10.56314528,
                        "test": [
                          1.873968908
                        ]
                      },
                      {
                        "iteration": 5,
                        "learn": [
                          1.850783564
                        ],
                        "passed_time": 0.3239284394,
                        "remaining_time": 10.47368621,
                        "test": [
                          1.858974666
                        ]
                      },
                      {
                        "iteration": 6,
                        "learn": [
                          1.838989232
                        ],
                        "passed_time": 0.3767034499,
                        "remaining_time": 10.38625226,
                        "test": [
                          1.846470191
                        ]
                      },
                      {
                        "iteration": 7,
                        "learn": [
                          1.828822167
                        ],
                        "passed_time": 0.4274041456,
                        "remaining_time": 10.25769949,
                        "test": [
                          1.836164018
                        ]
                      },
                      {
                        "iteration": 8,
                        "learn": [
                          1.819244315
                        ],
                        "passed_time": 0.5068030032,
                        "remaining_time": 10.75548596,
                        "test": [
                          1.8262633
                        ]
                      },
                      {
                        "iteration": 9,
                        "learn": [
                          1.810540468
                        ],
                        "passed_time": 0.5591622294,
                        "remaining_time": 10.62408236,
                        "test": [
                          1.817718803
                        ]
                      },
                      {
                        "iteration": 10,
                        "learn": [
                          1.803805711
                        ],
                        "passed_time": 0.6133781002,
                        "remaining_time": 10.53895099,
                        "test": [
                          1.809564861
                        ]
                      },
                      {
                        "iteration": 11,
                        "learn": [
                          1.797289447
                        ],
                        "passed_time": 0.680281876,
                        "remaining_time": 10.65774939,
                        "test": [
                          1.803913735
                        ]
                      },
                      {
                        "iteration": 12,
                        "learn": [
                          1.791449903
                        ],
                        "passed_time": 0.7513840671,
                        "remaining_time": 10.80837081,
                        "test": [
                          1.798265953
                        ]
                      },
                      {
                        "iteration": 13,
                        "learn": [
                          1.78605573
                        ],
                        "passed_time": 0.8069992035,
                        "remaining_time": 10.72156085,
                        "test": [
                          1.794018131
                        ]
                      },
                      {
                        "iteration": 14,
                        "learn": [
                          1.781155665
                        ],
                        "passed_time": 0.8669912828,
                        "remaining_time": 10.69289249,
                        "test": [
                          1.78921221
                        ]
                      },
                      {
                        "iteration": 15,
                        "learn": [
                          1.776237362
                        ],
                        "passed_time": 0.9198374891,
                        "remaining_time": 10.57813112,
                        "test": [
                          1.785116407
                        ]
                      },
                      {
                        "iteration": 16,
                        "learn": [
                          1.772095481
                        ],
                        "passed_time": 0.9705899455,
                        "remaining_time": 10.4481153,
                        "test": [
                          1.781060409
                        ]
                      },
                      {
                        "iteration": 17,
                        "learn": [
                          1.768694601
                        ],
                        "passed_time": 1.021015017,
                        "remaining_time": 10.32359628,
                        "test": [
                          1.778658069
                        ]
                      },
                      {
                        "iteration": 18,
                        "learn": [
                          1.76541821
                        ],
                        "passed_time": 1.075359427,
                        "remaining_time": 10.24421349,
                        "test": [
                          1.776585129
                        ]
                      },
                      {
                        "iteration": 19,
                        "learn": [
                          1.761946663
                        ],
                        "passed_time": 1.127502539,
                        "remaining_time": 10.14752285,
                        "test": [
                          1.774191531
                        ]
                      },
                      {
                        "iteration": 20,
                        "learn": [
                          1.75907231
                        ],
                        "passed_time": 1.18066267,
                        "remaining_time": 10.06374371,
                        "test": [
                          1.771739219
                        ]
                      },
                      {
                        "iteration": 21,
                        "learn": [
                          1.756715201
                        ],
                        "passed_time": 1.228646826,
                        "remaining_time": 9.940869773,
                        "test": [
                          1.770645374
                        ]
                      },
                      {
                        "iteration": 22,
                        "learn": [
                          1.754327064
                        ],
                        "passed_time": 1.275464922,
                        "remaining_time": 9.815534399,
                        "test": [
                          1.769399192
                        ]
                      },
                      {
                        "iteration": 23,
                        "learn": [
                          1.751727869
                        ],
                        "passed_time": 1.326566915,
                        "remaining_time": 9.728157379,
                        "test": [
                          1.768244629
                        ]
                      },
                      {
                        "iteration": 24,
                        "learn": [
                          1.749275423
                        ],
                        "passed_time": 1.376737916,
                        "remaining_time": 9.637165412,
                        "test": [
                          1.766854147
                        ]
                      },
                      {
                        "iteration": 25,
                        "learn": [
                          1.746737332
                        ],
                        "passed_time": 1.428381996,
                        "remaining_time": 9.559171821,
                        "test": [
                          1.765314112
                        ]
                      },
                      {
                        "iteration": 26,
                        "learn": [
                          1.74413224
                        ],
                        "passed_time": 1.476489897,
                        "remaining_time": 9.460472306,
                        "test": [
                          1.764022777
                        ]
                      },
                      {
                        "iteration": 27,
                        "learn": [
                          1.741590202
                        ],
                        "passed_time": 1.52758565,
                        "remaining_time": 9.383740423,
                        "test": [
                          1.762497516
                        ]
                      },
                      {
                        "iteration": 28,
                        "learn": [
                          1.739658939
                        ],
                        "passed_time": 1.576714438,
                        "remaining_time": 9.297178235,
                        "test": [
                          1.761909447
                        ]
                      },
                      {
                        "iteration": 29,
                        "learn": [
                          1.737577719
                        ],
                        "passed_time": 1.626930331,
                        "remaining_time": 9.219271876,
                        "test": [
                          1.760812618
                        ]
                      },
                      {
                        "iteration": 30,
                        "learn": [
                          1.735690366
                        ],
                        "passed_time": 1.68743193,
                        "remaining_time": 9.199225686,
                        "test": [
                          1.759534776
                        ]
                      },
                      {
                        "iteration": 31,
                        "learn": [
                          1.734253504
                        ],
                        "passed_time": 1.740275195,
                        "remaining_time": 9.136444775,
                        "test": [
                          1.759054155
                        ]
                      },
                      {
                        "iteration": 32,
                        "learn": [
                          1.732427693
                        ],
                        "passed_time": 1.792200111,
                        "remaining_time": 9.069618742,
                        "test": [
                          1.75762652
                        ]
                      },
                      {
                        "iteration": 33,
                        "learn": [
                          1.730692793
                        ],
                        "passed_time": 1.848113098,
                        "remaining_time": 9.02314042,
                        "test": [
                          1.756961736
                        ]
                      },
                      {
                        "iteration": 34,
                        "learn": [
                          1.728820117
                        ],
                        "passed_time": 1.902370905,
                        "remaining_time": 8.968319982,
                        "test": [
                          1.756204353
                        ]
                      },
                      {
                        "iteration": 35,
                        "learn": [
                          1.727592328
                        ],
                        "passed_time": 1.95331028,
                        "remaining_time": 8.898413496,
                        "test": [
                          1.754868973
                        ]
                      },
                      {
                        "iteration": 36,
                        "learn": [
                          1.72559405
                        ],
                        "passed_time": 2.004005837,
                        "remaining_time": 8.828458146,
                        "test": [
                          1.754423621
                        ]
                      },
                      {
                        "iteration": 37,
                        "learn": [
                          1.723977681
                        ],
                        "passed_time": 2.053668735,
                        "remaining_time": 8.755114082,
                        "test": [
                          1.754520931
                        ]
                      },
                      {
                        "iteration": 38,
                        "learn": [
                          1.722356802
                        ],
                        "passed_time": 2.105039258,
                        "remaining_time": 8.690033859,
                        "test": [
                          1.75403039
                        ]
                      },
                      {
                        "iteration": 39,
                        "learn": [
                          1.721025904
                        ],
                        "passed_time": 2.158871315,
                        "remaining_time": 8.635485262,
                        "test": [
                          1.753849846
                        ]
                      },
                      {
                        "iteration": 40,
                        "learn": [
                          1.719578157
                        ],
                        "passed_time": 2.209158662,
                        "remaining_time": 8.567225056,
                        "test": [
                          1.753422325
                        ]
                      },
                      {
                        "iteration": 41,
                        "learn": [
                          1.717899971
                        ],
                        "passed_time": 2.257781184,
                        "remaining_time": 8.493557786,
                        "test": [
                          1.752646782
                        ]
                      },
                      {
                        "iteration": 42,
                        "learn": [
                          1.71642178
                        ],
                        "passed_time": 2.311459947,
                        "remaining_time": 8.439516552,
                        "test": [
                          1.75248839
                        ]
                      },
                      {
                        "iteration": 43,
                        "learn": [
                          1.715106808
                        ],
                        "passed_time": 2.363054344,
                        "remaining_time": 8.378101763,
                        "test": [
                          1.75178053
                        ]
                      },
                      {
                        "iteration": 44,
                        "learn": [
                          1.713674346
                        ],
                        "passed_time": 2.413228379,
                        "remaining_time": 8.312231084,
                        "test": [
                          1.750975972
                        ]
                      },
                      {
                        "iteration": 45,
                        "learn": [
                          1.712109723
                        ],
                        "passed_time": 2.464053489,
                        "remaining_time": 8.24922255,
                        "test": [
                          1.750114258
                        ]
                      },
                      {
                        "iteration": 46,
                        "learn": [
                          1.710522008
                        ],
                        "passed_time": 2.51262919,
                        "remaining_time": 8.179409915,
                        "test": [
                          1.749158242
                        ]
                      },
                      {
                        "iteration": 47,
                        "learn": [
                          1.709463336
                        ],
                        "passed_time": 2.561138654,
                        "remaining_time": 8.110272405,
                        "test": [
                          1.748933291
                        ]
                      },
                      {
                        "iteration": 48,
                        "learn": [
                          1.708621173
                        ],
                        "passed_time": 2.612001246,
                        "remaining_time": 8.04922833,
                        "test": [
                          1.748441061
                        ]
                      },
                      {
                        "iteration": 49,
                        "learn": [
                          1.707188056
                        ],
                        "passed_time": 2.667950309,
                        "remaining_time": 8.003850928,
                        "test": [
                          1.748296898
                        ]
                      },
                      {
                        "iteration": 50,
                        "learn": [
                          1.70582368
                        ],
                        "passed_time": 2.727590699,
                        "remaining_time": 7.968843414,
                        "test": [
                          1.747367001
                        ]
                      },
                      {
                        "iteration": 51,
                        "learn": [
                          1.705000895
                        ],
                        "passed_time": 2.795482754,
                        "remaining_time": 7.956373991,
                        "test": [
                          1.747098064
                        ]
                      },
                      {
                        "iteration": 52,
                        "learn": [
                          1.703256717
                        ],
                        "passed_time": 2.858531714,
                        "remaining_time": 7.928380414,
                        "test": [
                          1.746037953
                        ]
                      },
                      {
                        "iteration": 53,
                        "learn": [
                          1.70200956
                        ],
                        "passed_time": 2.910657588,
                        "remaining_time": 7.8695557,
                        "test": [
                          1.745022498
                        ]
                      },
                      {
                        "iteration": 54,
                        "learn": [
                          1.700562
                        ],
                        "passed_time": 2.960772596,
                        "remaining_time": 7.805673208,
                        "test": [
                          1.744821174
                        ]
                      },
                      {
                        "iteration": 55,
                        "learn": [
                          1.699670616
                        ],
                        "passed_time": 3.011113384,
                        "remaining_time": 7.742862986,
                        "test": [
                          1.744436273
                        ]
                      },
                      {
                        "iteration": 56,
                        "learn": [
                          1.698344945
                        ],
                        "passed_time": 3.063064099,
                        "remaining_time": 7.684529231,
                        "test": [
                          1.743829343
                        ]
                      },
                      {
                        "iteration": 57,
                        "learn": [
                          1.697109962
                        ],
                        "passed_time": 3.111677067,
                        "remaining_time": 7.618243854,
                        "test": [
                          1.743496252
                        ]
                      },
                      {
                        "iteration": 58,
                        "learn": [
                          1.696255792
                        ],
                        "passed_time": 3.161692761,
                        "remaining_time": 7.555909819,
                        "test": [
                          1.743013922
                        ]
                      },
                      {
                        "iteration": 59,
                        "learn": [
                          1.694514538
                        ],
                        "passed_time": 3.215022308,
                        "remaining_time": 7.501718718,
                        "test": [
                          1.742854921
                        ]
                      },
                      {
                        "iteration": 60,
                        "learn": [
                          1.69309282
                        ],
                        "passed_time": 3.266514037,
                        "remaining_time": 7.443368052,
                        "test": [
                          1.742687053
                        ]
                      },
                      {
                        "iteration": 61,
                        "learn": [
                          1.691830235
                        ],
                        "passed_time": 3.316697114,
                        "remaining_time": 7.382325833,
                        "test": [
                          1.742396946
                        ]
                      },
                      {
                        "iteration": 62,
                        "learn": [
                          1.690889842
                        ],
                        "passed_time": 3.373753542,
                        "remaining_time": 7.336575163,
                        "test": [
                          1.742308655
                        ]
                      },
                      {
                        "iteration": 63,
                        "learn": [
                          1.690158667
                        ],
                        "passed_time": 3.4236725,
                        "remaining_time": 7.275304063,
                        "test": [
                          1.742230147
                        ]
                      },
                      {
                        "iteration": 64,
                        "learn": [
                          1.688955511
                        ],
                        "passed_time": 3.472593456,
                        "remaining_time": 7.212309486,
                        "test": [
                          1.742096249
                        ]
                      },
                      {
                        "iteration": 65,
                        "learn": [
                          1.687858012
                        ],
                        "passed_time": 3.522050836,
                        "remaining_time": 7.150830485,
                        "test": [
                          1.741809422
                        ]
                      },
                      {
                        "iteration": 66,
                        "learn": [
                          1.686604187
                        ],
                        "passed_time": 3.570294403,
                        "remaining_time": 7.08730083,
                        "test": [
                          1.74195718
                        ]
                      },
                      {
                        "iteration": 67,
                        "learn": [
                          1.68601291
                        ],
                        "passed_time": 3.619332398,
                        "remaining_time": 7.02576289,
                        "test": [
                          1.742105515
                        ]
                      },
                      {
                        "iteration": 68,
                        "learn": [
                          1.684754534
                        ],
                        "passed_time": 3.669090965,
                        "remaining_time": 6.965955311,
                        "test": [
                          1.741433886
                        ]
                      },
                      {
                        "iteration": 69,
                        "learn": [
                          1.683771078
                        ],
                        "passed_time": 3.729655732,
                        "remaining_time": 6.926503501,
                        "test": [
                          1.74129198
                        ]
                      },
                      {
                        "iteration": 70,
                        "learn": [
                          1.681880012
                        ],
                        "passed_time": 3.783127996,
                        "remaining_time": 6.873570584,
                        "test": [
                          1.741004864
                        ]
                      },
                      {
                        "iteration": 71,
                        "learn": [
                          1.680915397
                        ],
                        "passed_time": 3.843490745,
                        "remaining_time": 6.832872436,
                        "test": [
                          1.741046507
                        ]
                      },
                      {
                        "iteration": 72,
                        "learn": [
                          1.679678753
                        ],
                        "passed_time": 3.894919054,
                        "remaining_time": 6.776092052,
                        "test": [
                          1.74093408
                        ]
                      },
                      {
                        "iteration": 73,
                        "learn": [
                          1.678499792
                        ],
                        "passed_time": 3.94695753,
                        "remaining_time": 6.720495254,
                        "test": [
                          1.740917967
                        ]
                      },
                      {
                        "iteration": 74,
                        "learn": [
                          1.677779932
                        ],
                        "passed_time": 3.997277472,
                        "remaining_time": 6.66212912,
                        "test": [
                          1.740942016
                        ]
                      },
                      {
                        "iteration": 75,
                        "learn": [
                          1.676916057
                        ],
                        "passed_time": 4.046455897,
                        "remaining_time": 6.602112253,
                        "test": [
                          1.740877983
                        ]
                      },
                      {
                        "iteration": 76,
                        "learn": [
                          1.675575494
                        ],
                        "passed_time": 4.099227236,
                        "remaining_time": 6.548116235,
                        "test": [
                          1.740735219
                        ]
                      },
                      {
                        "iteration": 77,
                        "learn": [
                          1.674576599
                        ],
                        "passed_time": 4.149709729,
                        "remaining_time": 6.490571627,
                        "test": [
                          1.740488329
                        ]
                      },
                      {
                        "iteration": 78,
                        "learn": [
                          1.673420195
                        ],
                        "passed_time": 4.204100559,
                        "remaining_time": 6.439191995,
                        "test": [
                          1.740496549
                        ]
                      },
                      {
                        "iteration": 79,
                        "learn": [
                          1.672493956
                        ],
                        "passed_time": 4.252531408,
                        "remaining_time": 6.378797112,
                        "test": [
                          1.740417226
                        ]
                      },
                      {
                        "iteration": 80,
                        "learn": [
                          1.671402026
                        ],
                        "passed_time": 4.30985618,
                        "remaining_time": 6.331764018,
                        "test": [
                          1.740276172
                        ]
                      },
                      {
                        "iteration": 81,
                        "learn": [
                          1.670602721
                        ],
                        "passed_time": 4.359723962,
                        "remaining_time": 6.273749116,
                        "test": [
                          1.740384273
                        ]
                      },
                      {
                        "iteration": 82,
                        "learn": [
                          1.669798062
                        ],
                        "passed_time": 4.407165077,
                        "remaining_time": 6.212509808,
                        "test": [
                          1.739966899
                        ]
                      },
                      {
                        "iteration": 83,
                        "learn": [
                          1.668930414
                        ],
                        "passed_time": 4.455218664,
                        "remaining_time": 6.152444822,
                        "test": [
                          1.73975932
                        ]
                      },
                      {
                        "iteration": 84,
                        "learn": [
                          1.6676273
                        ],
                        "passed_time": 4.507627294,
                        "remaining_time": 6.098554575,
                        "test": [
                          1.739689133
                        ]
                      },
                      {
                        "iteration": 85,
                        "learn": [
                          1.667154703
                        ],
                        "passed_time": 4.555178728,
                        "remaining_time": 6.038260175,
                        "test": [
                          1.739437202
                        ]
                      },
                      {
                        "iteration": 86,
                        "learn": [
                          1.66634694
                        ],
                        "passed_time": 4.606601409,
                        "remaining_time": 5.983286887,
                        "test": [
                          1.739505307
                        ]
                      },
                      {
                        "iteration": 87,
                        "learn": [
                          1.664992125
                        ],
                        "passed_time": 4.656512041,
                        "remaining_time": 5.92646987,
                        "test": [
                          1.738939607
                        ]
                      },
                      {
                        "iteration": 88,
                        "learn": [
                          1.663919949
                        ],
                        "passed_time": 4.709281783,
                        "remaining_time": 5.873373909,
                        "test": [
                          1.738281339
                        ]
                      },
                      {
                        "iteration": 89,
                        "learn": [
                          1.663363834
                        ],
                        "passed_time": 4.768682652,
                        "remaining_time": 5.828389908,
                        "test": [
                          1.738408506
                        ]
                      },
                      {
                        "iteration": 90,
                        "learn": [
                          1.663250714
                        ],
                        "passed_time": 4.819143002,
                        "remaining_time": 5.77238008,
                        "test": [
                          1.738402623
                        ]
                      },
                      {
                        "iteration": 91,
                        "learn": [
                          1.662473405
                        ],
                        "passed_time": 4.87371199,
                        "remaining_time": 5.721314076,
                        "test": [
                          1.738615501
                        ]
                      },
                      {
                        "iteration": 92,
                        "learn": [
                          1.661529531
                        ],
                        "passed_time": 4.923059588,
                        "remaining_time": 5.664165332,
                        "test": [
                          1.73821709
                        ]
                      },
                      {
                        "iteration": 93,
                        "learn": [
                          1.660625034
                        ],
                        "passed_time": 4.972718079,
                        "remaining_time": 5.607533153,
                        "test": [
                          1.738170938
                        ]
                      },
                      {
                        "iteration": 94,
                        "learn": [
                          1.659689506
                        ],
                        "passed_time": 5.066908139,
                        "remaining_time": 5.600266891,
                        "test": [
                          1.738037151
                        ]
                      },
                      {
                        "iteration": 95,
                        "learn": [
                          1.65841946
                        ],
                        "passed_time": 5.13452164,
                        "remaining_time": 5.562398443,
                        "test": [
                          1.737998426
                        ]
                      },
                      {
                        "iteration": 96,
                        "learn": [
                          1.657013441
                        ],
                        "passed_time": 5.188307958,
                        "remaining_time": 5.509234223,
                        "test": [
                          1.737807085
                        ]
                      },
                      {
                        "iteration": 97,
                        "learn": [
                          1.656627754
                        ],
                        "passed_time": 5.237321915,
                        "remaining_time": 5.451090157,
                        "test": [
                          1.737591658
                        ]
                      },
                      {
                        "iteration": 98,
                        "learn": [
                          1.655907773
                        ],
                        "passed_time": 5.286879553,
                        "remaining_time": 5.393685201,
                        "test": [
                          1.737744902
                        ]
                      },
                      {
                        "iteration": 99,
                        "learn": [
                          1.655806604
                        ],
                        "passed_time": 5.332085294,
                        "remaining_time": 5.332085294,
                        "test": [
                          1.7377667
                        ]
                      },
                      {
                        "iteration": 100,
                        "learn": [
                          1.654295236
                        ],
                        "passed_time": 5.384895567,
                        "remaining_time": 5.278263972,
                        "test": [
                          1.737244126
                        ]
                      },
                      {
                        "iteration": 101,
                        "learn": [
                          1.653571981
                        ],
                        "passed_time": 5.434713264,
                        "remaining_time": 5.221587253,
                        "test": [
                          1.736953261
                        ]
                      },
                      {
                        "iteration": 102,
                        "learn": [
                          1.65217235
                        ],
                        "passed_time": 5.486161898,
                        "remaining_time": 5.166579652,
                        "test": [
                          1.736791638
                        ]
                      },
                      {
                        "iteration": 103,
                        "learn": [
                          1.650693241
                        ],
                        "passed_time": 5.5367084,
                        "remaining_time": 5.110807754,
                        "test": [
                          1.736192245
                        ]
                      },
                      {
                        "iteration": 104,
                        "learn": [
                          1.64979454
                        ],
                        "passed_time": 5.585415498,
                        "remaining_time": 5.053471165,
                        "test": [
                          1.736244061
                        ]
                      },
                      {
                        "iteration": 105,
                        "learn": [
                          1.64913191
                        ],
                        "passed_time": 5.633756805,
                        "remaining_time": 4.995973016,
                        "test": [
                          1.736290252
                        ]
                      },
                      {
                        "iteration": 106,
                        "learn": [
                          1.648874455
                        ],
                        "passed_time": 5.679287548,
                        "remaining_time": 4.936203196,
                        "test": [
                          1.736355971
                        ]
                      },
                      {
                        "iteration": 107,
                        "learn": [
                          1.648628904
                        ],
                        "passed_time": 5.736082016,
                        "remaining_time": 4.886292087,
                        "test": [
                          1.736387591
                        ]
                      },
                      {
                        "iteration": 108,
                        "learn": [
                          1.64819514
                        ],
                        "passed_time": 5.790905156,
                        "remaining_time": 4.834608891,
                        "test": [
                          1.736223381
                        ]
                      },
                      {
                        "iteration": 109,
                        "learn": [
                          1.647180086
                        ],
                        "passed_time": 5.861943008,
                        "remaining_time": 4.796135189,
                        "test": [
                          1.736496984
                        ]
                      },
                      {
                        "iteration": 110,
                        "learn": [
                          1.645913202
                        ],
                        "passed_time": 5.920524222,
                        "remaining_time": 4.747086989,
                        "test": [
                          1.735901251
                        ]
                      },
                      {
                        "iteration": 111,
                        "learn": [
                          1.644934678
                        ],
                        "passed_time": 5.970550205,
                        "remaining_time": 4.69114659,
                        "test": [
                          1.735577253
                        ]
                      },
                      {
                        "iteration": 112,
                        "learn": [
                          1.644732555
                        ],
                        "passed_time": 6.015160607,
                        "remaining_time": 4.631141353,
                        "test": [
                          1.735630229
                        ]
                      },
                      {
                        "iteration": 113,
                        "learn": [
                          1.64374915
                        ],
                        "passed_time": 6.063131009,
                        "remaining_time": 4.573940937,
                        "test": [
                          1.735956108
                        ]
                      },
                      {
                        "iteration": 114,
                        "learn": [
                          1.641905294
                        ],
                        "passed_time": 6.113363317,
                        "remaining_time": 4.518572886,
                        "test": [
                          1.735749012
                        ]
                      },
                      {
                        "iteration": 115,
                        "learn": [
                          1.640635526
                        ],
                        "passed_time": 6.164616612,
                        "remaining_time": 4.464032719,
                        "test": [
                          1.735817639
                        ]
                      },
                      {
                        "iteration": 116,
                        "learn": [
                          1.639334276
                        ],
                        "passed_time": 6.214281649,
                        "remaining_time": 4.408422024,
                        "test": [
                          1.73603053
                        ]
                      },
                      {
                        "iteration": 117,
                        "learn": [
                          1.637562623
                        ],
                        "passed_time": 6.26639636,
                        "remaining_time": 4.35461442,
                        "test": [
                          1.73595881
                        ]
                      },
                      {
                        "iteration": 118,
                        "learn": [
                          1.636355122
                        ],
                        "passed_time": 6.316739656,
                        "remaining_time": 4.299629514,
                        "test": [
                          1.735747858
                        ]
                      },
                      {
                        "iteration": 119,
                        "learn": [
                          1.635047965
                        ],
                        "passed_time": 6.367089674,
                        "remaining_time": 4.244726449,
                        "test": [
                          1.735546688
                        ]
                      },
                      {
                        "iteration": 120,
                        "learn": [
                          1.633775835
                        ],
                        "passed_time": 6.417456428,
                        "remaining_time": 4.189909569,
                        "test": [
                          1.736013802
                        ]
                      },
                      {
                        "iteration": 121,
                        "learn": [
                          1.632565233
                        ],
                        "passed_time": 6.467282661,
                        "remaining_time": 4.134820062,
                        "test": [
                          1.736437196
                        ]
                      },
                      {
                        "iteration": 122,
                        "learn": [
                          1.63097802
                        ],
                        "passed_time": 6.520398188,
                        "remaining_time": 4.081875289,
                        "test": [
                          1.736383069
                        ]
                      },
                      {
                        "iteration": 123,
                        "learn": [
                          1.630068605
                        ],
                        "passed_time": 6.571669941,
                        "remaining_time": 4.027797706,
                        "test": [
                          1.736491484
                        ]
                      },
                      {
                        "iteration": 124,
                        "learn": [
                          1.629847094
                        ],
                        "passed_time": 6.617343674,
                        "remaining_time": 3.970406204,
                        "test": [
                          1.736524175
                        ]
                      },
                      {
                        "iteration": 125,
                        "learn": [
                          1.628545355
                        ],
                        "passed_time": 6.667211728,
                        "remaining_time": 3.915664031,
                        "test": [
                          1.736689936
                        ]
                      },
                      {
                        "iteration": 126,
                        "learn": [
                          1.628061676
                        ],
                        "passed_time": 6.729269316,
                        "remaining_time": 3.868005198,
                        "test": [
                          1.736325507
                        ]
                      },
                      {
                        "iteration": 127,
                        "learn": [
                          1.627072296
                        ],
                        "passed_time": 6.82119643,
                        "remaining_time": 3.836922992,
                        "test": [
                          1.736605507
                        ]
                      },
                      {
                        "iteration": 128,
                        "learn": [
                          1.625992513
                        ],
                        "passed_time": 6.950830018,
                        "remaining_time": 3.82565063,
                        "test": [
                          1.736170296
                        ]
                      },
                      {
                        "iteration": 129,
                        "learn": [
                          1.624518758
                        ],
                        "passed_time": 7.084354748,
                        "remaining_time": 3.814652557,
                        "test": [
                          1.735459541
                        ]
                      },
                      {
                        "iteration": 130,
                        "learn": [
                          1.62409399
                        ],
                        "passed_time": 7.180176937,
                        "remaining_time": 3.781925257,
                        "test": [
                          1.7357482
                        ]
                      },
                      {
                        "iteration": 131,
                        "learn": [
                          1.623090833
                        ],
                        "passed_time": 7.282352384,
                        "remaining_time": 3.751514865,
                        "test": [
                          1.735880043
                        ]
                      },
                      {
                        "iteration": 132,
                        "learn": [
                          1.621875193
                        ],
                        "passed_time": 7.414388528,
                        "remaining_time": 3.735067905,
                        "test": [
                          1.735700688
                        ]
                      },
                      {
                        "iteration": 133,
                        "learn": [
                          1.62064886
                        ],
                        "passed_time": 7.547282073,
                        "remaining_time": 3.717318036,
                        "test": [
                          1.735811356
                        ]
                      },
                      {
                        "iteration": 134,
                        "learn": [
                          1.619689459
                        ],
                        "passed_time": 7.691696057,
                        "remaining_time": 3.703409213,
                        "test": [
                          1.735761239
                        ]
                      },
                      {
                        "iteration": 135,
                        "learn": [
                          1.618523944
                        ],
                        "passed_time": 7.816526695,
                        "remaining_time": 3.678365503,
                        "test": [
                          1.735428679
                        ]
                      },
                      {
                        "iteration": 136,
                        "learn": [
                          1.617168481
                        ],
                        "passed_time": 7.959556663,
                        "remaining_time": 3.660234086,
                        "test": [
                          1.735555143
                        ]
                      },
                      {
                        "iteration": 137,
                        "learn": [
                          1.615939034
                        ],
                        "passed_time": 8.068484525,
                        "remaining_time": 3.624971308,
                        "test": [
                          1.736043426
                        ]
                      },
                      {
                        "iteration": 138,
                        "learn": [
                          1.615782419
                        ],
                        "passed_time": 8.159402347,
                        "remaining_time": 3.580744915,
                        "test": [
                          1.736082747
                        ]
                      },
                      {
                        "iteration": 139,
                        "learn": [
                          1.614877919
                        ],
                        "passed_time": 8.273116335,
                        "remaining_time": 3.545621287,
                        "test": [
                          1.735967154
                        ]
                      },
                      {
                        "iteration": 140,
                        "learn": [
                          1.613380408
                        ],
                        "passed_time": 8.377528695,
                        "remaining_time": 3.505490731,
                        "test": [
                          1.735201391
                        ]
                      },
                      {
                        "iteration": 141,
                        "learn": [
                          1.611711389
                        ],
                        "passed_time": 8.484278286,
                        "remaining_time": 3.465409441,
                        "test": [
                          1.736054805
                        ]
                      },
                      {
                        "iteration": 142,
                        "learn": [
                          1.610470613
                        ],
                        "passed_time": 8.581762698,
                        "remaining_time": 3.420702614,
                        "test": [
                          1.736078222
                        ]
                      },
                      {
                        "iteration": 143,
                        "learn": [
                          1.60959825
                        ],
                        "passed_time": 8.631250907,
                        "remaining_time": 3.356597575,
                        "test": [
                          1.735842871
                        ]
                      },
                      {
                        "iteration": 144,
                        "learn": [
                          1.608259651
                        ],
                        "passed_time": 8.681291453,
                        "remaining_time": 3.292903655,
                        "test": [
                          1.735608538
                        ]
                      },
                      {
                        "iteration": 145,
                        "learn": [
                          1.608152371
                        ],
                        "passed_time": 8.725605713,
                        "remaining_time": 3.227278826,
                        "test": [
                          1.73565422
                        ]
                      },
                      {
                        "iteration": 146,
                        "learn": [
                          1.606896679
                        ],
                        "passed_time": 8.779466135,
                        "remaining_time": 3.165385749,
                        "test": [
                          1.735613971
                        ]
                      },
                      {
                        "iteration": 147,
                        "learn": [
                          1.605608051
                        ],
                        "passed_time": 8.847543488,
                        "remaining_time": 3.108596361,
                        "test": [
                          1.735908169
                        ]
                      },
                      {
                        "iteration": 148,
                        "learn": [
                          1.604188859
                        ],
                        "passed_time": 8.903211214,
                        "remaining_time": 3.047407865,
                        "test": [
                          1.73576221
                        ]
                      },
                      {
                        "iteration": 149,
                        "learn": [
                          1.603320766
                        ],
                        "passed_time": 8.968269993,
                        "remaining_time": 2.989423331,
                        "test": [
                          1.735697279
                        ]
                      },
                      {
                        "iteration": 150,
                        "learn": [
                          1.602067886
                        ],
                        "passed_time": 9.017926098,
                        "remaining_time": 2.926346879,
                        "test": [
                          1.735300985
                        ]
                      },
                      {
                        "iteration": 151,
                        "learn": [
                          1.600765281
                        ],
                        "passed_time": 9.071757461,
                        "remaining_time": 2.864765514,
                        "test": [
                          1.735461449
                        ]
                      },
                      {
                        "iteration": 152,
                        "learn": [
                          1.599826249
                        ],
                        "passed_time": 9.1225028,
                        "remaining_time": 2.802337461,
                        "test": [
                          1.735506523
                        ]
                      },
                      {
                        "iteration": 153,
                        "learn": [
                          1.598804948
                        ],
                        "passed_time": 9.170768283,
                        "remaining_time": 2.739320396,
                        "test": [
                          1.735507556
                        ]
                      },
                      {
                        "iteration": 154,
                        "learn": [
                          1.597727758
                        ],
                        "passed_time": 9.218796211,
                        "remaining_time": 2.676424706,
                        "test": [
                          1.735831982
                        ]
                      },
                      {
                        "iteration": 155,
                        "learn": [
                          1.596657341
                        ],
                        "passed_time": 9.269018755,
                        "remaining_time": 2.614338623,
                        "test": [
                          1.735939904
                        ]
                      },
                      {
                        "iteration": 156,
                        "learn": [
                          1.596569849
                        ],
                        "passed_time": 9.313148787,
                        "remaining_time": 2.550735018,
                        "test": [
                          1.735961115
                        ]
                      },
                      {
                        "iteration": 157,
                        "learn": [
                          1.595075222
                        ],
                        "passed_time": 9.363673116,
                        "remaining_time": 2.489077664,
                        "test": [
                          1.73584597
                        ]
                      },
                      {
                        "iteration": 158,
                        "learn": [
                          1.593878624
                        ],
                        "passed_time": 9.413279824,
                        "remaining_time": 2.427323728,
                        "test": [
                          1.735784727
                        ]
                      },
                      {
                        "iteration": 159,
                        "learn": [
                          1.593796893
                        ],
                        "passed_time": 9.457532833,
                        "remaining_time": 2.364383208,
                        "test": [
                          1.735806367
                        ]
                      },
                      {
                        "iteration": 160,
                        "learn": [
                          1.592750896
                        ],
                        "passed_time": 9.507847705,
                        "remaining_time": 2.303143233,
                        "test": [
                          1.735940684
                        ]
                      },
                      {
                        "iteration": 161,
                        "learn": [
                          1.591311367
                        ],
                        "passed_time": 9.556660685,
                        "remaining_time": 2.24168584,
                        "test": [
                          1.735922707
                        ]
                      },
                      {
                        "iteration": 162,
                        "learn": [
                          1.590262198
                        ],
                        "passed_time": 9.60793459,
                        "remaining_time": 2.180942208,
                        "test": [
                          1.735712165
                        ]
                      },
                      {
                        "iteration": 163,
                        "learn": [
                          1.589171973
                        ],
                        "passed_time": 9.656698454,
                        "remaining_time": 2.119763075,
                        "test": [
                          1.735817009
                        ]
                      },
                      {
                        "iteration": 164,
                        "learn": [
                          1.587900545
                        ],
                        "passed_time": 9.718705997,
                        "remaining_time": 2.061543696,
                        "test": [
                          1.736308007
                        ]
                      },
                      {
                        "iteration": 165,
                        "learn": [
                          1.586691559
                        ],
                        "passed_time": 9.768254501,
                        "remaining_time": 2.000726826,
                        "test": [
                          1.736437011
                        ]
                      },
                      {
                        "iteration": 166,
                        "learn": [
                          1.585585642
                        ],
                        "passed_time": 9.817678711,
                        "remaining_time": 1.940020344,
                        "test": [
                          1.736561599
                        ]
                      },
                      {
                        "iteration": 167,
                        "learn": [
                          1.58506522
                        ],
                        "passed_time": 9.877782572,
                        "remaining_time": 1.881482395,
                        "test": [
                          1.736453828
                        ]
                      },
                      {
                        "iteration": 168,
                        "learn": [
                          1.58401585
                        ],
                        "passed_time": 9.938901567,
                        "remaining_time": 1.823112122,
                        "test": [
                          1.736466055
                        ]
                      },
                      {
                        "iteration": 169,
                        "learn": [
                          1.583876663
                        ],
                        "passed_time": 9.984706813,
                        "remaining_time": 1.762007085,
                        "test": [
                          1.736540631
                        ]
                      },
                      {
                        "iteration": 170,
                        "learn": [
                          1.58231397
                        ],
                        "passed_time": 10.03688241,
                        "remaining_time": 1.702161344,
                        "test": [
                          1.735767848
                        ]
                      },
                      {
                        "iteration": 171,
                        "learn": [
                          1.581286818
                        ],
                        "passed_time": 10.08758036,
                        "remaining_time": 1.642164244,
                        "test": [
                          1.735922845
                        ]
                      },
                      {
                        "iteration": 172,
                        "learn": [
                          1.580277325
                        ],
                        "passed_time": 10.13526536,
                        "remaining_time": 1.58180442,
                        "test": [
                          1.736027637
                        ]
                      },
                      {
                        "iteration": 173,
                        "learn": [
                          1.579624924
                        ],
                        "passed_time": 10.18309845,
                        "remaining_time": 1.521612412,
                        "test": [
                          1.735889099
                        ]
                      },
                      {
                        "iteration": 174,
                        "learn": [
                          1.579041238
                        ],
                        "passed_time": 10.22988865,
                        "remaining_time": 1.461412664,
                        "test": [
                          1.735673842
                        ]
                      },
                      {
                        "iteration": 175,
                        "learn": [
                          1.577594569
                        ],
                        "passed_time": 10.28393106,
                        "remaining_time": 1.402354236,
                        "test": [
                          1.735423973
                        ]
                      },
                      {
                        "iteration": 176,
                        "learn": [
                          1.576205816
                        ],
                        "passed_time": 10.33641085,
                        "remaining_time": 1.343149432,
                        "test": [
                          1.735111928
                        ]
                      },
                      {
                        "iteration": 177,
                        "learn": [
                          1.575340037
                        ],
                        "passed_time": 10.38520506,
                        "remaining_time": 1.283564671,
                        "test": [
                          1.735306041
                        ]
                      },
                      {
                        "iteration": 178,
                        "learn": [
                          1.574500405
                        ],
                        "passed_time": 10.43464547,
                        "remaining_time": 1.224176284,
                        "test": [
                          1.735481444
                        ]
                      },
                      {
                        "iteration": 179,
                        "learn": [
                          1.573177785
                        ],
                        "passed_time": 10.48534505,
                        "remaining_time": 1.165038339,
                        "test": [
                          1.735621249
                        ]
                      },
                      {
                        "iteration": 180,
                        "learn": [
                          1.571983768
                        ],
                        "passed_time": 10.54160399,
                        "remaining_time": 1.106577214,
                        "test": [
                          1.735314252
                        ]
                      },
                      {
                        "iteration": 181,
                        "learn": [
                          1.570585411
                        ],
                        "passed_time": 10.59346227,
                        "remaining_time": 1.04770506,
                        "test": [
                          1.735257467
                        ]
                      },
                      {
                        "iteration": 182,
                        "learn": [
                          1.569732723
                        ],
                        "passed_time": 10.65474501,
                        "remaining_time": 0.9897850559,
                        "test": [
                          1.734991003
                        ]
                      },
                      {
                        "iteration": 183,
                        "learn": [
                          1.568352332
                        ],
                        "passed_time": 10.70382649,
                        "remaining_time": 0.930767521,
                        "test": [
                          1.734896909
                        ]
                      },
                      {
                        "iteration": 184,
                        "learn": [
                          1.568274236
                        ],
                        "passed_time": 10.74939533,
                        "remaining_time": 0.8715725945,
                        "test": [
                          1.734918794
                        ]
                      },
                      {
                        "iteration": 185,
                        "learn": [
                          1.567014202
                        ],
                        "passed_time": 10.80120659,
                        "remaining_time": 0.8129940444,
                        "test": [
                          1.734673511
                        ]
                      },
                      {
                        "iteration": 186,
                        "learn": [
                          1.565993526
                        ],
                        "passed_time": 10.85342754,
                        "remaining_time": 0.7545163532,
                        "test": [
                          1.734736868
                        ]
                      },
                      {
                        "iteration": 187,
                        "learn": [
                          1.565274875
                        ],
                        "passed_time": 10.90862528,
                        "remaining_time": 0.6962952305,
                        "test": [
                          1.734812437
                        ]
                      },
                      {
                        "iteration": 188,
                        "learn": [
                          1.56520159
                        ],
                        "passed_time": 10.96710643,
                        "remaining_time": 0.6382971997,
                        "test": [
                          1.734834469
                        ]
                      },
                      {
                        "iteration": 189,
                        "learn": [
                          1.564056733
                        ],
                        "passed_time": 11.01723538,
                        "remaining_time": 0.5798544938,
                        "test": [
                          1.73452938
                        ]
                      },
                      {
                        "iteration": 190,
                        "learn": [
                          1.562899754
                        ],
                        "passed_time": 11.06951393,
                        "remaining_time": 0.521600133,
                        "test": [
                          1.734331286
                        ]
                      },
                      {
                        "iteration": 191,
                        "learn": [
                          1.561786289
                        ],
                        "passed_time": 11.1203512,
                        "remaining_time": 0.4633479666,
                        "test": [
                          1.734168065
                        ]
                      },
                      {
                        "iteration": 192,
                        "learn": [
                          1.560938848
                        ],
                        "passed_time": 11.17265922,
                        "remaining_time": 0.4052259819,
                        "test": [
                          1.734198544
                        ]
                      },
                      {
                        "iteration": 193,
                        "learn": [
                          1.559966926
                        ],
                        "passed_time": 11.22698885,
                        "remaining_time": 0.3472264594,
                        "test": [
                          1.734690379
                        ]
                      },
                      {
                        "iteration": 194,
                        "learn": [
                          1.558954733
                        ],
                        "passed_time": 11.29436314,
                        "remaining_time": 0.2895990549,
                        "test": [
                          1.735046394
                        ]
                      },
                      {
                        "iteration": 195,
                        "learn": [
                          1.557991069
                        ],
                        "passed_time": 11.34330879,
                        "remaining_time": 0.2314960979,
                        "test": [
                          1.735218399
                        ]
                      },
                      {
                        "iteration": 196,
                        "learn": [
                          1.556651518
                        ],
                        "passed_time": 11.39623166,
                        "remaining_time": 0.173546675,
                        "test": [
                          1.73514343
                        ]
                      },
                      {
                        "iteration": 197,
                        "learn": [
                          1.555693059
                        ],
                        "passed_time": 11.46159067,
                        "remaining_time": 0.1157736431,
                        "test": [
                          1.734840056
                        ]
                      },
                      {
                        "iteration": 198,
                        "learn": [
                          1.554819949
                        ],
                        "passed_time": 11.51052871,
                        "remaining_time": 0.05784185282,
                        "test": [
                          1.734767812
                        ]
                      },
                      {
                        "iteration": 199,
                        "learn": [
                          1.553634086
                        ],
                        "passed_time": 11.56362263,
                        "remaining_time": 0,
                        "test": [
                          1.734616162
                        ]
                      }
                    ],
                    "meta": {
                      "iteration_count": 200,
                      "launch_mode": "Train",
                      "learn_metrics": [
                        {
                          "best_value": "Min",
                          "name": "RMSE"
                        }
                      ],
                      "learn_sets": [
                        "learn"
                      ],
                      "name": "experiment",
                      "parameters": "",
                      "test_metrics": [
                        {
                          "best_value": "Min",
                          "name": "RMSE"
                        }
                      ],
                      "test_sets": [
                        "test"
                      ]
                    }
                  },
                  "passed_iterations": 199,
                  "total_iterations": 200
                },
                "name": "catboost_info",
                "path": "catboost_info"
              }
            },
            "layout": "IPY_MODEL_cb6bfba386e54daaa452118b28daa9ae"
          }
        },
        "ef403a13406443a4bb68317d337bc1eb": {
          "model_module": "catboost-widget",
          "model_module_version": "^1.0.0",
          "model_name": "CatboostWidgetModel",
          "state": {
            "_dom_classes": [],
            "_model_module": "catboost-widget",
            "_model_module_version": "^1.0.0",
            "_model_name": "CatboostWidgetModel",
            "_view_count": null,
            "_view_module": "catboost-widget",
            "_view_module_version": "^1.0.0",
            "_view_name": "CatboostWidgetView",
            "data": {
              "catboost_info": {
                "content": {
                  "data": {
                    "iterations": [
                      {
                        "iteration": 0,
                        "learn": [
                          1.417074259
                        ],
                        "passed_time": 0.06677392834,
                        "remaining_time": 13.28801174,
                        "test": [
                          1.427279716
                        ]
                      },
                      {
                        "iteration": 1,
                        "learn": [
                          1.395906452
                        ],
                        "passed_time": 0.1197530145,
                        "remaining_time": 11.85554843,
                        "test": [
                          1.404918328
                        ]
                      },
                      {
                        "iteration": 2,
                        "learn": [
                          1.378326861
                        ],
                        "passed_time": 0.1739653443,
                        "remaining_time": 11.42372427,
                        "test": [
                          1.386468867
                        ]
                      },
                      {
                        "iteration": 3,
                        "learn": [
                          1.36178118
                        ],
                        "passed_time": 0.2304929634,
                        "remaining_time": 11.29415521,
                        "test": [
                          1.368435402
                        ]
                      },
                      {
                        "iteration": 4,
                        "learn": [
                          1.34893559
                        ],
                        "passed_time": 0.2841308921,
                        "remaining_time": 11.08110479,
                        "test": [
                          1.354390556
                        ]
                      },
                      {
                        "iteration": 5,
                        "learn": [
                          1.338098368
                        ],
                        "passed_time": 0.3378338532,
                        "remaining_time": 10.92329459,
                        "test": [
                          1.3420551
                        ]
                      },
                      {
                        "iteration": 6,
                        "learn": [
                          1.327549953
                        ],
                        "passed_time": 0.391269847,
                        "remaining_time": 10.78786864,
                        "test": [
                          1.330323602
                        ]
                      },
                      {
                        "iteration": 7,
                        "learn": [
                          1.318963054
                        ],
                        "passed_time": 0.4497014497,
                        "remaining_time": 10.79283479,
                        "test": [
                          1.322283405
                        ]
                      },
                      {
                        "iteration": 8,
                        "learn": [
                          1.311675429
                        ],
                        "passed_time": 0.5002181896,
                        "remaining_time": 10.61574158,
                        "test": [
                          1.314316102
                        ]
                      },
                      {
                        "iteration": 9,
                        "learn": [
                          1.30546339
                        ],
                        "passed_time": 0.5526519812,
                        "remaining_time": 10.50038764,
                        "test": [
                          1.307089203
                        ]
                      },
                      {
                        "iteration": 10,
                        "learn": [
                          1.29787152
                        ],
                        "passed_time": 0.6092699025,
                        "remaining_time": 10.46836469,
                        "test": [
                          1.300542682
                        ]
                      },
                      {
                        "iteration": 11,
                        "learn": [
                          1.292745574
                        ],
                        "passed_time": 0.6638792525,
                        "remaining_time": 10.40077496,
                        "test": [
                          1.295348608
                        ]
                      },
                      {
                        "iteration": 12,
                        "learn": [
                          1.28759352
                        ],
                        "passed_time": 0.7170775028,
                        "remaining_time": 10.31488408,
                        "test": [
                          1.290609238
                        ]
                      },
                      {
                        "iteration": 13,
                        "learn": [
                          1.282922088
                        ],
                        "passed_time": 0.7696628311,
                        "remaining_time": 10.22552047,
                        "test": [
                          1.285436119
                        ]
                      },
                      {
                        "iteration": 14,
                        "learn": [
                          1.278829561
                        ],
                        "passed_time": 0.8302227605,
                        "remaining_time": 10.23941405,
                        "test": [
                          1.281453798
                        ]
                      },
                      {
                        "iteration": 15,
                        "learn": [
                          1.275148831
                        ],
                        "passed_time": 0.8978300405,
                        "remaining_time": 10.32504547,
                        "test": [
                          1.278520593
                        ]
                      },
                      {
                        "iteration": 16,
                        "learn": [
                          1.271949936
                        ],
                        "passed_time": 0.9486634542,
                        "remaining_time": 10.21208307,
                        "test": [
                          1.276069743
                        ]
                      },
                      {
                        "iteration": 17,
                        "learn": [
                          1.268974176
                        ],
                        "passed_time": 1.002327357,
                        "remaining_time": 10.13464328,
                        "test": [
                          1.273469931
                        ]
                      },
                      {
                        "iteration": 18,
                        "learn": [
                          1.265482914
                        ],
                        "passed_time": 1.056327475,
                        "remaining_time": 10.0629091,
                        "test": [
                          1.271196805
                        ]
                      },
                      {
                        "iteration": 19,
                        "learn": [
                          1.263180097
                        ],
                        "passed_time": 1.109773247,
                        "remaining_time": 9.987959225,
                        "test": [
                          1.26989465
                        ]
                      },
                      {
                        "iteration": 20,
                        "learn": [
                          1.260676517
                        ],
                        "passed_time": 1.162372927,
                        "remaining_time": 9.907845422,
                        "test": [
                          1.268836715
                        ]
                      },
                      {
                        "iteration": 21,
                        "learn": [
                          1.258374148
                        ],
                        "passed_time": 1.212864576,
                        "remaining_time": 9.813177027,
                        "test": [
                          1.267061355
                        ]
                      },
                      {
                        "iteration": 22,
                        "learn": [
                          1.256524373
                        ],
                        "passed_time": 1.266976533,
                        "remaining_time": 9.750210714,
                        "test": [
                          1.26518785
                        ]
                      },
                      {
                        "iteration": 23,
                        "learn": [
                          1.25413847
                        ],
                        "passed_time": 1.31808214,
                        "remaining_time": 9.665935691,
                        "test": [
                          1.263076384
                        ]
                      },
                      {
                        "iteration": 24,
                        "learn": [
                          1.252030194
                        ],
                        "passed_time": 1.370419371,
                        "remaining_time": 9.592935598,
                        "test": [
                          1.261539319
                        ]
                      },
                      {
                        "iteration": 25,
                        "learn": [
                          1.249855233
                        ],
                        "passed_time": 1.421720929,
                        "remaining_time": 9.514593909,
                        "test": [
                          1.259942719
                        ]
                      },
                      {
                        "iteration": 26,
                        "learn": [
                          1.247631654
                        ],
                        "passed_time": 1.477282005,
                        "remaining_time": 9.465547661,
                        "test": [
                          1.259545519
                        ]
                      },
                      {
                        "iteration": 27,
                        "learn": [
                          1.246099212
                        ],
                        "passed_time": 1.527887071,
                        "remaining_time": 9.385592009,
                        "test": [
                          1.258775401
                        ]
                      },
                      {
                        "iteration": 28,
                        "learn": [
                          1.244689382
                        ],
                        "passed_time": 1.575773837,
                        "remaining_time": 9.291631936,
                        "test": [
                          1.258056526
                        ]
                      },
                      {
                        "iteration": 29,
                        "learn": [
                          1.242477691
                        ],
                        "passed_time": 1.628480708,
                        "remaining_time": 9.228057345,
                        "test": [
                          1.25672987
                        ]
                      },
                      {
                        "iteration": 30,
                        "learn": [
                          1.241297583
                        ],
                        "passed_time": 1.701519606,
                        "remaining_time": 9.276026242,
                        "test": [
                          1.25654273
                        ]
                      },
                      {
                        "iteration": 31,
                        "learn": [
                          1.239609441
                        ],
                        "passed_time": 1.753785749,
                        "remaining_time": 9.207375183,
                        "test": [
                          1.255609036
                        ]
                      },
                      {
                        "iteration": 32,
                        "learn": [
                          1.23807627
                        ],
                        "passed_time": 1.809970129,
                        "remaining_time": 9.159545802,
                        "test": [
                          1.254614895
                        ]
                      },
                      {
                        "iteration": 33,
                        "learn": [
                          1.236542339
                        ],
                        "passed_time": 1.865225853,
                        "remaining_time": 9.106690928,
                        "test": [
                          1.254031708
                        ]
                      },
                      {
                        "iteration": 34,
                        "learn": [
                          1.235317079
                        ],
                        "passed_time": 1.930562544,
                        "remaining_time": 9.101223421,
                        "test": [
                          1.253027632
                        ]
                      },
                      {
                        "iteration": 35,
                        "learn": [
                          1.233995253
                        ],
                        "passed_time": 1.980220262,
                        "remaining_time": 9.021003416,
                        "test": [
                          1.252535381
                        ]
                      },
                      {
                        "iteration": 36,
                        "learn": [
                          1.232506396
                        ],
                        "passed_time": 2.034051555,
                        "remaining_time": 8.960821717,
                        "test": [
                          1.251785598
                        ]
                      },
                      {
                        "iteration": 37,
                        "learn": [
                          1.231292524
                        ],
                        "passed_time": 2.084655911,
                        "remaining_time": 8.887217303,
                        "test": [
                          1.250934935
                        ]
                      },
                      {
                        "iteration": 38,
                        "learn": [
                          1.230191768
                        ],
                        "passed_time": 2.137503399,
                        "remaining_time": 8.824052495,
                        "test": [
                          1.250883867
                        ]
                      },
                      {
                        "iteration": 39,
                        "learn": [
                          1.2291485
                        ],
                        "passed_time": 2.187722097,
                        "remaining_time": 8.750888389,
                        "test": [
                          1.250663847
                        ]
                      },
                      {
                        "iteration": 40,
                        "learn": [
                          1.227832987
                        ],
                        "passed_time": 2.254723183,
                        "remaining_time": 8.74392649,
                        "test": [
                          1.250444637
                        ]
                      },
                      {
                        "iteration": 41,
                        "learn": [
                          1.226986995
                        ],
                        "passed_time": 2.308335436,
                        "remaining_time": 8.683738069,
                        "test": [
                          1.249917088
                        ]
                      },
                      {
                        "iteration": 42,
                        "learn": [
                          1.225835028
                        ],
                        "passed_time": 2.361039187,
                        "remaining_time": 8.620538427,
                        "test": [
                          1.249060076
                        ]
                      },
                      {
                        "iteration": 43,
                        "learn": [
                          1.224872587
                        ],
                        "passed_time": 2.412329952,
                        "remaining_time": 8.552806192,
                        "test": [
                          1.248801074
                        ]
                      },
                      {
                        "iteration": 44,
                        "learn": [
                          1.223966231
                        ],
                        "passed_time": 2.463587931,
                        "remaining_time": 8.485691764,
                        "test": [
                          1.248292028
                        ]
                      },
                      {
                        "iteration": 45,
                        "learn": [
                          1.22276778
                        ],
                        "passed_time": 2.514868299,
                        "remaining_time": 8.419341696,
                        "test": [
                          1.247332684
                        ]
                      },
                      {
                        "iteration": 46,
                        "learn": [
                          1.221705231
                        ],
                        "passed_time": 2.565960888,
                        "remaining_time": 8.353021614,
                        "test": [
                          1.247097817
                        ]
                      },
                      {
                        "iteration": 47,
                        "learn": [
                          1.220766099
                        ],
                        "passed_time": 2.619820195,
                        "remaining_time": 8.296097285,
                        "test": [
                          1.247118562
                        ]
                      },
                      {
                        "iteration": 48,
                        "learn": [
                          1.219578294
                        ],
                        "passed_time": 2.668329718,
                        "remaining_time": 8.222811989,
                        "test": [
                          1.246832787
                        ]
                      },
                      {
                        "iteration": 49,
                        "learn": [
                          1.218650572
                        ],
                        "passed_time": 2.719996935,
                        "remaining_time": 8.159990804,
                        "test": [
                          1.246739282
                        ]
                      },
                      {
                        "iteration": 50,
                        "learn": [
                          1.217607336
                        ],
                        "passed_time": 2.771912933,
                        "remaining_time": 8.098333863,
                        "test": [
                          1.246353439
                        ]
                      },
                      {
                        "iteration": 51,
                        "learn": [
                          1.216480413
                        ],
                        "passed_time": 2.857211056,
                        "remaining_time": 8.132062236,
                        "test": [
                          1.246175604
                        ]
                      },
                      {
                        "iteration": 52,
                        "learn": [
                          1.21549292
                        ],
                        "passed_time": 2.912443993,
                        "remaining_time": 8.077910698,
                        "test": [
                          1.245987507
                        ]
                      },
                      {
                        "iteration": 53,
                        "learn": [
                          1.214556126
                        ],
                        "passed_time": 2.970403897,
                        "remaining_time": 8.031092018,
                        "test": [
                          1.245633756
                        ]
                      },
                      {
                        "iteration": 54,
                        "learn": [
                          1.213107608
                        ],
                        "passed_time": 3.020730815,
                        "remaining_time": 7.963744875,
                        "test": [
                          1.246302944
                        ]
                      },
                      {
                        "iteration": 55,
                        "learn": [
                          1.212259726
                        ],
                        "passed_time": 3.071710575,
                        "remaining_time": 7.898684334,
                        "test": [
                          1.246260153
                        ]
                      },
                      {
                        "iteration": 56,
                        "learn": [
                          1.211277438
                        ],
                        "passed_time": 3.125063423,
                        "remaining_time": 7.840071394,
                        "test": [
                          1.245923385
                        ]
                      },
                      {
                        "iteration": 57,
                        "learn": [
                          1.210588562
                        ],
                        "passed_time": 3.177778224,
                        "remaining_time": 7.780077722,
                        "test": [
                          1.245944055
                        ]
                      },
                      {
                        "iteration": 58,
                        "learn": [
                          1.209719995
                        ],
                        "passed_time": 3.227045504,
                        "remaining_time": 7.712091797,
                        "test": [
                          1.24599167
                        ]
                      },
                      {
                        "iteration": 59,
                        "learn": [
                          1.208807868
                        ],
                        "passed_time": 3.278062909,
                        "remaining_time": 7.648813455,
                        "test": [
                          1.245831591
                        ]
                      },
                      {
                        "iteration": 60,
                        "learn": [
                          1.207788327
                        ],
                        "passed_time": 3.328669436,
                        "remaining_time": 7.585000847,
                        "test": [
                          1.24532009
                        ]
                      },
                      {
                        "iteration": 61,
                        "learn": [
                          1.206903225
                        ],
                        "passed_time": 3.383947592,
                        "remaining_time": 7.532012383,
                        "test": [
                          1.245175765
                        ]
                      },
                      {
                        "iteration": 62,
                        "learn": [
                          1.205991998
                        ],
                        "passed_time": 3.434961982,
                        "remaining_time": 7.469679232,
                        "test": [
                          1.245257305
                        ]
                      },
                      {
                        "iteration": 63,
                        "learn": [
                          1.205164415
                        ],
                        "passed_time": 3.485414705,
                        "remaining_time": 7.406506249,
                        "test": [
                          1.245603498
                        ]
                      },
                      {
                        "iteration": 64,
                        "learn": [
                          1.204582752
                        ],
                        "passed_time": 3.53734109,
                        "remaining_time": 7.34678534,
                        "test": [
                          1.245214032
                        ]
                      },
                      {
                        "iteration": 65,
                        "learn": [
                          1.203244201
                        ],
                        "passed_time": 3.588344374,
                        "remaining_time": 7.285426456,
                        "test": [
                          1.245392485
                        ]
                      },
                      {
                        "iteration": 66,
                        "learn": [
                          1.202318347
                        ],
                        "passed_time": 3.641157761,
                        "remaining_time": 7.227969883,
                        "test": [
                          1.245120542
                        ]
                      },
                      {
                        "iteration": 67,
                        "learn": [
                          1.201275576
                        ],
                        "passed_time": 3.691743585,
                        "remaining_time": 7.166325783,
                        "test": [
                          1.244563588
                        ]
                      },
                      {
                        "iteration": 68,
                        "learn": [
                          1.200851821
                        ],
                        "passed_time": 3.746280656,
                        "remaining_time": 7.112503854,
                        "test": [
                          1.244814322
                        ]
                      },
                      {
                        "iteration": 69,
                        "learn": [
                          1.199984107
                        ],
                        "passed_time": 3.797662603,
                        "remaining_time": 7.052801976,
                        "test": [
                          1.244538563
                        ]
                      },
                      {
                        "iteration": 70,
                        "learn": [
                          1.199380546
                        ],
                        "passed_time": 3.856120919,
                        "remaining_time": 7.006191529,
                        "test": [
                          1.244494143
                        ]
                      },
                      {
                        "iteration": 71,
                        "learn": [
                          1.198169324
                        ],
                        "passed_time": 3.911029056,
                        "remaining_time": 6.952940544,
                        "test": [
                          1.243892548
                        ]
                      },
                      {
                        "iteration": 72,
                        "learn": [
                          1.196940851
                        ],
                        "passed_time": 3.974221525,
                        "remaining_time": 6.914056626,
                        "test": [
                          1.243296878
                        ]
                      },
                      {
                        "iteration": 73,
                        "learn": [
                          1.195550389
                        ],
                        "passed_time": 4.024242885,
                        "remaining_time": 6.852089236,
                        "test": [
                          1.243158589
                        ]
                      },
                      {
                        "iteration": 74,
                        "learn": [
                          1.194765071
                        ],
                        "passed_time": 4.077450972,
                        "remaining_time": 6.79575162,
                        "test": [
                          1.243234337
                        ]
                      },
                      {
                        "iteration": 75,
                        "learn": [
                          1.194178647
                        ],
                        "passed_time": 4.126620414,
                        "remaining_time": 6.732906992,
                        "test": [
                          1.24335109
                        ]
                      },
                      {
                        "iteration": 76,
                        "learn": [
                          1.193643576
                        ],
                        "passed_time": 4.175431957,
                        "remaining_time": 6.669845854,
                        "test": [
                          1.243294282
                        ]
                      },
                      {
                        "iteration": 77,
                        "learn": [
                          1.193052008
                        ],
                        "passed_time": 4.224097936,
                        "remaining_time": 6.606922413,
                        "test": [
                          1.243189318
                        ]
                      },
                      {
                        "iteration": 78,
                        "learn": [
                          1.192601785
                        ],
                        "passed_time": 4.27229244,
                        "remaining_time": 6.543637789,
                        "test": [
                          1.243112037
                        ]
                      },
                      {
                        "iteration": 79,
                        "learn": [
                          1.191763674
                        ],
                        "passed_time": 4.336920936,
                        "remaining_time": 6.505381405,
                        "test": [
                          1.243244232
                        ]
                      },
                      {
                        "iteration": 80,
                        "learn": [
                          1.190608313
                        ],
                        "passed_time": 4.389596945,
                        "remaining_time": 6.448914031,
                        "test": [
                          1.242765853
                        ]
                      },
                      {
                        "iteration": 81,
                        "learn": [
                          1.189660014
                        ],
                        "passed_time": 4.440646989,
                        "remaining_time": 6.390199325,
                        "test": [
                          1.242548767
                        ]
                      },
                      {
                        "iteration": 82,
                        "learn": [
                          1.188848831
                        ],
                        "passed_time": 4.490114833,
                        "remaining_time": 6.329438982,
                        "test": [
                          1.242542846
                        ]
                      },
                      {
                        "iteration": 83,
                        "learn": [
                          1.187963474
                        ],
                        "passed_time": 4.540017624,
                        "remaining_time": 6.269548147,
                        "test": [
                          1.241964306
                        ]
                      },
                      {
                        "iteration": 84,
                        "learn": [
                          1.18679003
                        ],
                        "passed_time": 4.589940527,
                        "remaining_time": 6.209919536,
                        "test": [
                          1.241878044
                        ]
                      },
                      {
                        "iteration": 85,
                        "learn": [
                          1.185843405
                        ],
                        "passed_time": 4.655817266,
                        "remaining_time": 6.171664748,
                        "test": [
                          1.241768426
                        ]
                      },
                      {
                        "iteration": 86,
                        "learn": [
                          1.185073767
                        ],
                        "passed_time": 4.709752431,
                        "remaining_time": 6.117264652,
                        "test": [
                          1.241558498
                        ]
                      },
                      {
                        "iteration": 87,
                        "learn": [
                          1.18423977
                        ],
                        "passed_time": 4.761952995,
                        "remaining_time": 6.060667448,
                        "test": [
                          1.240869005
                        ]
                      },
                      {
                        "iteration": 88,
                        "learn": [
                          1.183485796
                        ],
                        "passed_time": 4.819925503,
                        "remaining_time": 6.011367762,
                        "test": [
                          1.24035296
                        ]
                      },
                      {
                        "iteration": 89,
                        "learn": [
                          1.182765582
                        ],
                        "passed_time": 4.871612977,
                        "remaining_time": 5.954193638,
                        "test": [
                          1.23994588
                        ]
                      },
                      {
                        "iteration": 90,
                        "learn": [
                          1.181998904
                        ],
                        "passed_time": 4.919935565,
                        "remaining_time": 5.893109633,
                        "test": [
                          1.239699183
                        ]
                      },
                      {
                        "iteration": 91,
                        "learn": [
                          1.181268518
                        ],
                        "passed_time": 4.979306775,
                        "remaining_time": 5.84527317,
                        "test": [
                          1.239657883
                        ]
                      },
                      {
                        "iteration": 92,
                        "learn": [
                          1.180281186
                        ],
                        "passed_time": 5.032069015,
                        "remaining_time": 5.789584781,
                        "test": [
                          1.239181667
                        ]
                      },
                      {
                        "iteration": 93,
                        "learn": [
                          1.179716057
                        ],
                        "passed_time": 5.095411198,
                        "remaining_time": 5.745889223,
                        "test": [
                          1.239247456
                        ]
                      },
                      {
                        "iteration": 94,
                        "learn": [
                          1.179136264
                        ],
                        "passed_time": 5.145618844,
                        "remaining_time": 5.687262933,
                        "test": [
                          1.239043629
                        ]
                      },
                      {
                        "iteration": 95,
                        "learn": [
                          1.178579024
                        ],
                        "passed_time": 5.198444943,
                        "remaining_time": 5.631648688,
                        "test": [
                          1.238915374
                        ]
                      },
                      {
                        "iteration": 96,
                        "learn": [
                          1.177940037
                        ],
                        "passed_time": 5.254080948,
                        "remaining_time": 5.579075646,
                        "test": [
                          1.239013452
                        ]
                      },
                      {
                        "iteration": 97,
                        "learn": [
                          1.177291459
                        ],
                        "passed_time": 5.30580843,
                        "remaining_time": 5.522372039,
                        "test": [
                          1.238942326
                        ]
                      },
                      {
                        "iteration": 98,
                        "learn": [
                          1.176264546
                        ],
                        "passed_time": 5.357943938,
                        "remaining_time": 5.46618523,
                        "test": [
                          1.238567045
                        ]
                      },
                      {
                        "iteration": 99,
                        "learn": [
                          1.175501288
                        ],
                        "passed_time": 5.418254588,
                        "remaining_time": 5.418254588,
                        "test": [
                          1.238589391
                        ]
                      },
                      {
                        "iteration": 100,
                        "learn": [
                          1.174888292
                        ],
                        "passed_time": 5.470810103,
                        "remaining_time": 5.362477229,
                        "test": [
                          1.238641019
                        ]
                      },
                      {
                        "iteration": 101,
                        "learn": [
                          1.174188377
                        ],
                        "passed_time": 5.520838082,
                        "remaining_time": 5.304334628,
                        "test": [
                          1.238957381
                        ]
                      },
                      {
                        "iteration": 102,
                        "learn": [
                          1.172973778
                        ],
                        "passed_time": 5.5725661,
                        "remaining_time": 5.247950599,
                        "test": [
                          1.239186859
                        ]
                      },
                      {
                        "iteration": 103,
                        "learn": [
                          1.172335072
                        ],
                        "passed_time": 5.626227199,
                        "remaining_time": 5.193440491,
                        "test": [
                          1.239157601
                        ]
                      },
                      {
                        "iteration": 104,
                        "learn": [
                          1.171157119
                        ],
                        "passed_time": 5.677249633,
                        "remaining_time": 5.136559192,
                        "test": [
                          1.238910694
                        ]
                      },
                      {
                        "iteration": 105,
                        "learn": [
                          1.169958462
                        ],
                        "passed_time": 5.73133127,
                        "remaining_time": 5.082501315,
                        "test": [
                          1.238144979
                        ]
                      },
                      {
                        "iteration": 106,
                        "learn": [
                          1.168999321
                        ],
                        "passed_time": 5.782067625,
                        "remaining_time": 5.025535413,
                        "test": [
                          1.237970405
                        ]
                      },
                      {
                        "iteration": 107,
                        "learn": [
                          1.168144414
                        ],
                        "passed_time": 5.845847508,
                        "remaining_time": 4.979796025,
                        "test": [
                          1.238224921
                        ]
                      },
                      {
                        "iteration": 108,
                        "learn": [
                          1.16717817
                        ],
                        "passed_time": 5.897241073,
                        "remaining_time": 4.923384749,
                        "test": [
                          1.238742052
                        ]
                      },
                      {
                        "iteration": 109,
                        "learn": [
                          1.166721714
                        ],
                        "passed_time": 5.945594829,
                        "remaining_time": 4.864577587,
                        "test": [
                          1.238611359
                        ]
                      },
                      {
                        "iteration": 110,
                        "learn": [
                          1.165873095
                        ],
                        "passed_time": 6.004121483,
                        "remaining_time": 4.814115423,
                        "test": [
                          1.238592518
                        ]
                      },
                      {
                        "iteration": 111,
                        "learn": [
                          1.165246875
                        ],
                        "passed_time": 6.055414117,
                        "remaining_time": 4.757825378,
                        "test": [
                          1.2385679
                        ]
                      },
                      {
                        "iteration": 112,
                        "learn": [
                          1.16451804
                        ],
                        "passed_time": 6.105597985,
                        "remaining_time": 4.70077013,
                        "test": [
                          1.238199792
                        ]
                      },
                      {
                        "iteration": 113,
                        "learn": [
                          1.16361813
                        ],
                        "passed_time": 6.168528625,
                        "remaining_time": 4.653451419,
                        "test": [
                          1.237920556
                        ]
                      },
                      {
                        "iteration": 114,
                        "learn": [
                          1.162766215
                        ],
                        "passed_time": 6.222393177,
                        "remaining_time": 4.599160174,
                        "test": [
                          1.237669021
                        ]
                      },
                      {
                        "iteration": 115,
                        "learn": [
                          1.162060474
                        ],
                        "passed_time": 6.269251824,
                        "remaining_time": 4.539803045,
                        "test": [
                          1.237619774
                        ]
                      },
                      {
                        "iteration": 116,
                        "learn": [
                          1.161430501
                        ],
                        "passed_time": 6.318065597,
                        "remaining_time": 4.482046534,
                        "test": [
                          1.238162281
                        ]
                      },
                      {
                        "iteration": 117,
                        "learn": [
                          1.160792157
                        ],
                        "passed_time": 6.364148255,
                        "remaining_time": 4.422543702,
                        "test": [
                          1.238040044
                        ]
                      },
                      {
                        "iteration": 118,
                        "learn": [
                          1.159796789
                        ],
                        "passed_time": 6.415911464,
                        "remaining_time": 4.367133013,
                        "test": [
                          1.238045595
                        ]
                      },
                      {
                        "iteration": 119,
                        "learn": [
                          1.158801451
                        ],
                        "passed_time": 6.465965251,
                        "remaining_time": 4.3106435,
                        "test": [
                          1.238292255
                        ]
                      },
                      {
                        "iteration": 120,
                        "learn": [
                          1.157769826
                        ],
                        "passed_time": 6.514644155,
                        "remaining_time": 4.253362713,
                        "test": [
                          1.23832182
                        ]
                      },
                      {
                        "iteration": 121,
                        "learn": [
                          1.15696826
                        ],
                        "passed_time": 6.564626642,
                        "remaining_time": 4.197056378,
                        "test": [
                          1.238138114
                        ]
                      },
                      {
                        "iteration": 122,
                        "learn": [
                          1.156395853
                        ],
                        "passed_time": 6.613154313,
                        "remaining_time": 4.139942131,
                        "test": [
                          1.237989473
                        ]
                      },
                      {
                        "iteration": 123,
                        "learn": [
                          1.155604401
                        ],
                        "passed_time": 6.670623703,
                        "remaining_time": 4.088446786,
                        "test": [
                          1.237807655
                        ]
                      },
                      {
                        "iteration": 124,
                        "learn": [
                          1.155037162
                        ],
                        "passed_time": 6.719344015,
                        "remaining_time": 4.031606409,
                        "test": [
                          1.237572626
                        ]
                      },
                      {
                        "iteration": 125,
                        "learn": [
                          1.154036148
                        ],
                        "passed_time": 6.772178749,
                        "remaining_time": 3.977311329,
                        "test": [
                          1.237113207
                        ]
                      },
                      {
                        "iteration": 126,
                        "learn": [
                          1.153227057
                        ],
                        "passed_time": 6.830631404,
                        "remaining_time": 3.926268445,
                        "test": [
                          1.236838022
                        ]
                      },
                      {
                        "iteration": 127,
                        "learn": [
                          1.152354146
                        ],
                        "passed_time": 6.889381586,
                        "remaining_time": 3.875277142,
                        "test": [
                          1.236623063
                        ]
                      },
                      {
                        "iteration": 128,
                        "learn": [
                          1.151353089
                        ],
                        "passed_time": 6.940550388,
                        "remaining_time": 3.819992849,
                        "test": [
                          1.236190347
                        ]
                      },
                      {
                        "iteration": 129,
                        "learn": [
                          1.150842301
                        ],
                        "passed_time": 6.988399494,
                        "remaining_time": 3.762984343,
                        "test": [
                          1.236234722
                        ]
                      },
                      {
                        "iteration": 130,
                        "learn": [
                          1.150150704
                        ],
                        "passed_time": 7.049305019,
                        "remaining_time": 3.71299272,
                        "test": [
                          1.236150256
                        ]
                      },
                      {
                        "iteration": 131,
                        "learn": [
                          1.149198896
                        ],
                        "passed_time": 7.099350671,
                        "remaining_time": 3.657241255,
                        "test": [
                          1.235987108
                        ]
                      },
                      {
                        "iteration": 132,
                        "learn": [
                          1.148636921
                        ],
                        "passed_time": 7.147252227,
                        "remaining_time": 3.600495483,
                        "test": [
                          1.235758965
                        ]
                      },
                      {
                        "iteration": 133,
                        "learn": [
                          1.147870366
                        ],
                        "passed_time": 7.198247125,
                        "remaining_time": 3.5454053,
                        "test": [
                          1.235656148
                        ]
                      },
                      {
                        "iteration": 134,
                        "learn": [
                          1.14728571
                        ],
                        "passed_time": 7.244745245,
                        "remaining_time": 3.488210674,
                        "test": [
                          1.235724212
                        ]
                      },
                      {
                        "iteration": 135,
                        "learn": [
                          1.146018333
                        ],
                        "passed_time": 7.303459177,
                        "remaining_time": 3.436921966,
                        "test": [
                          1.234933088
                        ]
                      },
                      {
                        "iteration": 136,
                        "learn": [
                          1.14551702
                        ],
                        "passed_time": 7.351465125,
                        "remaining_time": 3.380600751,
                        "test": [
                          1.234702194
                        ]
                      },
                      {
                        "iteration": 137,
                        "learn": [
                          1.14479742
                        ],
                        "passed_time": 7.402974969,
                        "remaining_time": 3.325974261,
                        "test": [
                          1.234679379
                        ]
                      },
                      {
                        "iteration": 138,
                        "learn": [
                          1.143996441
                        ],
                        "passed_time": 7.45419269,
                        "remaining_time": 3.271264418,
                        "test": [
                          1.234967639
                        ]
                      },
                      {
                        "iteration": 139,
                        "learn": [
                          1.143408158
                        ],
                        "passed_time": 7.503792011,
                        "remaining_time": 3.215910862,
                        "test": [
                          1.23477921
                        ]
                      },
                      {
                        "iteration": 140,
                        "learn": [
                          1.142251927
                        ],
                        "passed_time": 7.550906879,
                        "remaining_time": 3.159599332,
                        "test": [
                          1.234317211
                        ]
                      },
                      {
                        "iteration": 141,
                        "learn": [
                          1.141437952
                        ],
                        "passed_time": 7.601752754,
                        "remaining_time": 3.104941266,
                        "test": [
                          1.234426203
                        ]
                      },
                      {
                        "iteration": 142,
                        "learn": [
                          1.140624095
                        ],
                        "passed_time": 7.653695776,
                        "remaining_time": 3.050773841,
                        "test": [
                          1.234126991
                        ]
                      },
                      {
                        "iteration": 143,
                        "learn": [
                          1.139980272
                        ],
                        "passed_time": 7.702014903,
                        "remaining_time": 2.995228018,
                        "test": [
                          1.234137502
                        ]
                      },
                      {
                        "iteration": 144,
                        "learn": [
                          1.139310449
                        ],
                        "passed_time": 7.749415661,
                        "remaining_time": 2.939433527,
                        "test": [
                          1.234343473
                        ]
                      },
                      {
                        "iteration": 145,
                        "learn": [
                          1.138392879
                        ],
                        "passed_time": 7.799894667,
                        "remaining_time": 2.884892548,
                        "test": [
                          1.234887536
                        ]
                      },
                      {
                        "iteration": 146,
                        "learn": [
                          1.13760739
                        ],
                        "passed_time": 7.860627436,
                        "remaining_time": 2.83410377,
                        "test": [
                          1.23508849
                        ]
                      },
                      {
                        "iteration": 147,
                        "learn": [
                          1.136965238
                        ],
                        "passed_time": 7.919948163,
                        "remaining_time": 2.78268449,
                        "test": [
                          1.23515585
                        ]
                      },
                      {
                        "iteration": 148,
                        "learn": [
                          1.136084296
                        ],
                        "passed_time": 7.973114046,
                        "remaining_time": 2.729052459,
                        "test": [
                          1.234722697
                        ]
                      },
                      {
                        "iteration": 149,
                        "learn": [
                          1.135595287
                        ],
                        "passed_time": 8.019726919,
                        "remaining_time": 2.673242306,
                        "test": [
                          1.23452161
                        ]
                      },
                      {
                        "iteration": 150,
                        "learn": [
                          1.134626976
                        ],
                        "passed_time": 8.08150539,
                        "remaining_time": 2.622475259,
                        "test": [
                          1.235268398
                        ]
                      },
                      {
                        "iteration": 151,
                        "learn": [
                          1.133770752
                        ],
                        "passed_time": 8.131641004,
                        "remaining_time": 2.567886633,
                        "test": [
                          1.23524022
                        ]
                      },
                      {
                        "iteration": 152,
                        "learn": [
                          1.133054739
                        ],
                        "passed_time": 8.181176221,
                        "remaining_time": 2.51317178,
                        "test": [
                          1.235598641
                        ]
                      },
                      {
                        "iteration": 153,
                        "learn": [
                          1.132124602
                        ],
                        "passed_time": 8.234775871,
                        "remaining_time": 2.459738247,
                        "test": [
                          1.235243005
                        ]
                      },
                      {
                        "iteration": 154,
                        "learn": [
                          1.131228567
                        ],
                        "passed_time": 8.287979955,
                        "remaining_time": 2.406187729,
                        "test": [
                          1.235416002
                        ]
                      },
                      {
                        "iteration": 155,
                        "learn": [
                          1.130622742
                        ],
                        "passed_time": 8.335291336,
                        "remaining_time": 2.350979608,
                        "test": [
                          1.235419447
                        ]
                      },
                      {
                        "iteration": 156,
                        "learn": [
                          1.13006194
                        ],
                        "passed_time": 8.385377857,
                        "remaining_time": 2.296632152,
                        "test": [
                          1.235397528
                        ]
                      },
                      {
                        "iteration": 157,
                        "learn": [
                          1.129312584
                        ],
                        "passed_time": 8.436537275,
                        "remaining_time": 2.242623833,
                        "test": [
                          1.2353499
                        ]
                      },
                      {
                        "iteration": 158,
                        "learn": [
                          1.128439823
                        ],
                        "passed_time": 8.486792826,
                        "remaining_time": 2.188418276,
                        "test": [
                          1.235755636
                        ]
                      },
                      {
                        "iteration": 159,
                        "learn": [
                          1.12774742
                        ],
                        "passed_time": 8.537261491,
                        "remaining_time": 2.134315373,
                        "test": [
                          1.23553518
                        ]
                      },
                      {
                        "iteration": 160,
                        "learn": [
                          1.127138271
                        ],
                        "passed_time": 8.586480245,
                        "remaining_time": 2.079954842,
                        "test": [
                          1.235781029
                        ]
                      },
                      {
                        "iteration": 161,
                        "learn": [
                          1.126583748
                        ],
                        "passed_time": 8.635888393,
                        "remaining_time": 2.025702216,
                        "test": [
                          1.235627246
                        ]
                      },
                      {
                        "iteration": 162,
                        "learn": [
                          1.125952013
                        ],
                        "passed_time": 8.686617355,
                        "remaining_time": 1.971808847,
                        "test": [
                          1.235440309
                        ]
                      },
                      {
                        "iteration": 163,
                        "learn": [
                          1.125022171
                        ],
                        "passed_time": 8.737291086,
                        "remaining_time": 1.917941946,
                        "test": [
                          1.235543695
                        ]
                      },
                      {
                        "iteration": 164,
                        "learn": [
                          1.124363847
                        ],
                        "passed_time": 8.787982721,
                        "remaining_time": 1.864117547,
                        "test": [
                          1.23567675
                        ]
                      },
                      {
                        "iteration": 165,
                        "learn": [
                          1.123807078
                        ],
                        "passed_time": 8.835896901,
                        "remaining_time": 1.809762016,
                        "test": [
                          1.235532285
                        ]
                      },
                      {
                        "iteration": 166,
                        "learn": [
                          1.123230989
                        ],
                        "passed_time": 8.90819342,
                        "remaining_time": 1.760301694,
                        "test": [
                          1.235736588
                        ]
                      },
                      {
                        "iteration": 167,
                        "learn": [
                          1.122187268
                        ],
                        "passed_time": 8.962843001,
                        "remaining_time": 1.707208191,
                        "test": [
                          1.235677623
                        ]
                      },
                      {
                        "iteration": 168,
                        "learn": [
                          1.121712432
                        ],
                        "passed_time": 9.012158054,
                        "remaining_time": 1.65311775,
                        "test": [
                          1.235493544
                        ]
                      },
                      {
                        "iteration": 169,
                        "learn": [
                          1.120983378
                        ],
                        "passed_time": 9.06980258,
                        "remaining_time": 1.600553397,
                        "test": [
                          1.235649604
                        ]
                      },
                      {
                        "iteration": 170,
                        "learn": [
                          1.120207509
                        ],
                        "passed_time": 9.129164824,
                        "remaining_time": 1.548220935,
                        "test": [
                          1.235640656
                        ]
                      },
                      {
                        "iteration": 171,
                        "learn": [
                          1.119390248
                        ],
                        "passed_time": 9.177811185,
                        "remaining_time": 1.494062286,
                        "test": [
                          1.235689988
                        ]
                      },
                      {
                        "iteration": 172,
                        "learn": [
                          1.118497256
                        ],
                        "passed_time": 9.228097407,
                        "remaining_time": 1.440223295,
                        "test": [
                          1.235605263
                        ]
                      },
                      {
                        "iteration": 173,
                        "learn": [
                          1.117768069
                        ],
                        "passed_time": 9.277325003,
                        "remaining_time": 1.386266954,
                        "test": [
                          1.235464892
                        ]
                      },
                      {
                        "iteration": 174,
                        "learn": [
                          1.116871323
                        ],
                        "passed_time": 9.333217765,
                        "remaining_time": 1.333316824,
                        "test": [
                          1.235568628
                        ]
                      },
                      {
                        "iteration": 175,
                        "learn": [
                          1.116126847
                        ],
                        "passed_time": 9.388354516,
                        "remaining_time": 1.280230161,
                        "test": [
                          1.235173639
                        ]
                      },
                      {
                        "iteration": 176,
                        "learn": [
                          1.115242097
                        ],
                        "passed_time": 9.440959815,
                        "remaining_time": 1.226791388,
                        "test": [
                          1.234918361
                        ]
                      },
                      {
                        "iteration": 177,
                        "learn": [
                          1.114998391
                        ],
                        "passed_time": 9.489642866,
                        "remaining_time": 1.172877208,
                        "test": [
                          1.235102278
                        ]
                      },
                      {
                        "iteration": 178,
                        "learn": [
                          1.114466926
                        ],
                        "passed_time": 9.53871455,
                        "remaining_time": 1.11906707,
                        "test": [
                          1.235329457
                        ]
                      },
                      {
                        "iteration": 179,
                        "learn": [
                          1.113872617
                        ],
                        "passed_time": 9.593131916,
                        "remaining_time": 1.065903546,
                        "test": [
                          1.235328682
                        ]
                      },
                      {
                        "iteration": 180,
                        "learn": [
                          1.113064193
                        ],
                        "passed_time": 9.644403804,
                        "remaining_time": 1.012395979,
                        "test": [
                          1.234992562
                        ]
                      },
                      {
                        "iteration": 181,
                        "learn": [
                          1.112362543
                        ],
                        "passed_time": 9.69573024,
                        "remaining_time": 0.9589183754,
                        "test": [
                          1.234961633
                        ]
                      },
                      {
                        "iteration": 182,
                        "learn": [
                          1.111694784
                        ],
                        "passed_time": 9.743564016,
                        "remaining_time": 0.9051398266,
                        "test": [
                          1.234840591
                        ]
                      },
                      {
                        "iteration": 183,
                        "learn": [
                          1.111290144
                        ],
                        "passed_time": 9.792286292,
                        "remaining_time": 0.8515031558,
                        "test": [
                          1.234794737
                        ]
                      },
                      {
                        "iteration": 184,
                        "learn": [
                          1.110390469
                        ],
                        "passed_time": 9.845044301,
                        "remaining_time": 0.7982468352,
                        "test": [
                          1.234656326
                        ]
                      },
                      {
                        "iteration": 185,
                        "learn": [
                          1.10984374
                        ],
                        "passed_time": 9.902249359,
                        "remaining_time": 0.7453305969,
                        "test": [
                          1.234854889
                        ]
                      },
                      {
                        "iteration": 186,
                        "learn": [
                          1.109357297
                        ],
                        "passed_time": 9.96511228,
                        "remaining_time": 0.6927618163,
                        "test": [
                          1.235069558
                        ]
                      },
                      {
                        "iteration": 187,
                        "learn": [
                          1.108835688
                        ],
                        "passed_time": 10.01740452,
                        "remaining_time": 0.6394087992,
                        "test": [
                          1.235144334
                        ]
                      },
                      {
                        "iteration": 188,
                        "learn": [
                          1.108407381
                        ],
                        "passed_time": 10.06547762,
                        "remaining_time": 0.5858214489,
                        "test": [
                          1.235187049
                        ]
                      },
                      {
                        "iteration": 189,
                        "learn": [
                          1.10750915
                        ],
                        "passed_time": 10.12587638,
                        "remaining_time": 0.5329408621,
                        "test": [
                          1.235442832
                        ]
                      },
                      {
                        "iteration": 190,
                        "learn": [
                          1.107005464
                        ],
                        "passed_time": 10.17330906,
                        "remaining_time": 0.4793705838,
                        "test": [
                          1.235232747
                        ]
                      },
                      {
                        "iteration": 191,
                        "learn": [
                          1.106201995
                        ],
                        "passed_time": 10.22386483,
                        "remaining_time": 0.4259943681,
                        "test": [
                          1.235303401
                        ]
                      },
                      {
                        "iteration": 192,
                        "learn": [
                          1.105452842
                        ],
                        "passed_time": 10.27518067,
                        "remaining_time": 0.3726749465,
                        "test": [
                          1.235356082
                        ]
                      },
                      {
                        "iteration": 193,
                        "learn": [
                          1.104775828
                        ],
                        "passed_time": 10.32853365,
                        "remaining_time": 0.3194391851,
                        "test": [
                          1.235697037
                        ]
                      },
                      {
                        "iteration": 194,
                        "learn": [
                          1.103935239
                        ],
                        "passed_time": 10.37869199,
                        "remaining_time": 0.2661203074,
                        "test": [
                          1.235396019
                        ]
                      },
                      {
                        "iteration": 195,
                        "learn": [
                          1.103240462
                        ],
                        "passed_time": 10.43035499,
                        "remaining_time": 0.2128643875,
                        "test": [
                          1.235442521
                        ]
                      },
                      {
                        "iteration": 196,
                        "learn": [
                          1.102437208
                        ],
                        "passed_time": 10.48169438,
                        "remaining_time": 0.1596197114,
                        "test": [
                          1.235632647
                        ]
                      },
                      {
                        "iteration": 197,
                        "learn": [
                          1.102057021
                        ],
                        "passed_time": 10.53227515,
                        "remaining_time": 0.1063866176,
                        "test": [
                          1.235669299
                        ]
                      },
                      {
                        "iteration": 198,
                        "learn": [
                          1.101524441
                        ],
                        "passed_time": 10.58622685,
                        "remaining_time": 0.05319711983,
                        "test": [
                          1.23594384
                        ]
                      },
                      {
                        "iteration": 199,
                        "learn": [
                          1.101049038
                        ],
                        "passed_time": 10.63509177,
                        "remaining_time": 0,
                        "test": [
                          1.236065452
                        ]
                      }
                    ],
                    "meta": {
                      "iteration_count": 200,
                      "launch_mode": "Train",
                      "learn_metrics": [
                        {
                          "best_value": "Min",
                          "name": "MAE"
                        }
                      ],
                      "learn_sets": [
                        "learn"
                      ],
                      "name": "experiment",
                      "parameters": "",
                      "test_metrics": [
                        {
                          "best_value": "Min",
                          "name": "MAE"
                        }
                      ],
                      "test_sets": [
                        "test"
                      ]
                    }
                  },
                  "passed_iterations": 199,
                  "total_iterations": 200
                },
                "name": "catboost_info",
                "path": "catboost_info"
              }
            },
            "layout": "IPY_MODEL_4b22dcec328745a899a02651640019d2"
          }
        }
      }
    }
  },
  "nbformat": 4,
  "nbformat_minor": 0
}